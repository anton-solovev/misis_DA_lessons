{
  "nbformat": 4,
  "nbformat_minor": 0,
  "metadata": {
    "kernelspec": {
      "display_name": "Python 3",
      "language": "python",
      "name": "python3"
    },
    "language_info": {
      "codemirror_mode": {
        "name": "ipython",
        "version": 3
      },
      "file_extension": ".py",
      "mimetype": "text/x-python",
      "name": "python",
      "nbconvert_exporter": "python",
      "pygments_lexer": "ipython3",
      "version": "3.7.4"
    },
    "colab": {
      "name": "Копия блокнота \"Datacamp_day№1.ipynb\"",
      "provenance": []
    }
  },
  "cells": [
    {
      "cell_type": "markdown",
      "metadata": {
        "id": "zgabFHuEisY1"
      },
      "source": [
        "## Занятие 1. "
      ]
    },
    {
      "cell_type": "code",
      "metadata": {
        "id": "GmmnaeJWisY3"
      },
      "source": [
        "import pandas as pd\n",
        "import numpy as np\n",
        "import math\n",
        "imp "
      ],
      "execution_count": null,
      "outputs": []
    },
    {
      "cell_type": "code",
      "metadata": {
        "id": "ftAharGmisY4"
      },
      "source": [
        " kickstarter = pd.read_csv('kickstarter.csv') "
      ],
      "execution_count": null,
      "outputs": []
    },
    {
      "cell_type": "code",
      "metadata": {
        "id": "soniKF9HobjS",
        "colab": {
          "base_uri": "https://localhost:8080/",
          "height": 934
        },
        "outputId": "598ce232-d03e-413b-df6b-ee827fcd915d"
      },
      "source": [
        " kickstarter"
      ],
      "execution_count": null,
      "outputs": [
        {
          "output_type": "execute_result",
          "data": {
            "text/html": [
              "<div>\n",
              "<style scoped>\n",
              "    .dataframe tbody tr th:only-of-type {\n",
              "        vertical-align: middle;\n",
              "    }\n",
              "\n",
              "    .dataframe tbody tr th {\n",
              "        vertical-align: top;\n",
              "    }\n",
              "\n",
              "    .dataframe thead th {\n",
              "        text-align: right;\n",
              "    }\n",
              "</style>\n",
              "<table border=\"1\" class=\"dataframe\">\n",
              "  <thead>\n",
              "    <tr style=\"text-align: right;\">\n",
              "      <th></th>\n",
              "      <th>Unnamed: 0</th>\n",
              "      <th>ID</th>\n",
              "      <th>name</th>\n",
              "      <th>category</th>\n",
              "      <th>main_category</th>\n",
              "      <th>currency</th>\n",
              "      <th>deadline</th>\n",
              "      <th>goal</th>\n",
              "      <th>launched</th>\n",
              "      <th>pledged</th>\n",
              "      <th>state</th>\n",
              "      <th>backers</th>\n",
              "      <th>country</th>\n",
              "      <th>usd pledged</th>\n",
              "      <th>usd_pledged_real</th>\n",
              "      <th>usd_goal_real</th>\n",
              "      <th>Unnamed</th>\n",
              "    </tr>\n",
              "  </thead>\n",
              "  <tbody>\n",
              "    <tr>\n",
              "      <th>0</th>\n",
              "      <td>0</td>\n",
              "      <td>1000002330</td>\n",
              "      <td>The Songs of Adelaide &amp; Abullah</td>\n",
              "      <td>Poetry</td>\n",
              "      <td>Publishing</td>\n",
              "      <td>GBP</td>\n",
              "      <td>2015-10-09</td>\n",
              "      <td>1000.0</td>\n",
              "      <td>2015-08-11 12:12:28</td>\n",
              "      <td>0.0</td>\n",
              "      <td>failed</td>\n",
              "      <td>0.0</td>\n",
              "      <td>GB</td>\n",
              "      <td>0.0</td>\n",
              "      <td>0.0</td>\n",
              "      <td>1533.95</td>\n",
              "      <td>1000002330</td>\n",
              "    </tr>\n",
              "    <tr>\n",
              "      <th>1</th>\n",
              "      <td>1</td>\n",
              "      <td>1000003930</td>\n",
              "      <td>Greeting From Earth: ZGAC Arts Capsule For ET</td>\n",
              "      <td>Narrative Film</td>\n",
              "      <td>Film &amp; Video</td>\n",
              "      <td>USD</td>\n",
              "      <td>2017-11-01</td>\n",
              "      <td>30000.0</td>\n",
              "      <td>2017-09-02 04:43:57</td>\n",
              "      <td>2421.0</td>\n",
              "      <td>failed</td>\n",
              "      <td>15.0</td>\n",
              "      <td>US</td>\n",
              "      <td>100.0</td>\n",
              "      <td>2421.0</td>\n",
              "      <td>30000.00</td>\n",
              "      <td>1000003930</td>\n",
              "    </tr>\n",
              "    <tr>\n",
              "      <th>2</th>\n",
              "      <td>2</td>\n",
              "      <td>1000004038</td>\n",
              "      <td>Where is Hank?</td>\n",
              "      <td>Narrative Film</td>\n",
              "      <td>Film &amp; Video</td>\n",
              "      <td>NaN</td>\n",
              "      <td>2013-02-26</td>\n",
              "      <td>45000.0</td>\n",
              "      <td>2013-01-12 00:20:50</td>\n",
              "      <td>220.0</td>\n",
              "      <td>failed</td>\n",
              "      <td>3.0</td>\n",
              "      <td>US</td>\n",
              "      <td>220.0</td>\n",
              "      <td>220.0</td>\n",
              "      <td>45000.00</td>\n",
              "      <td>1000004038</td>\n",
              "    </tr>\n",
              "    <tr>\n",
              "      <th>3</th>\n",
              "      <td>3</td>\n",
              "      <td>1000007540</td>\n",
              "      <td>ToshiCapital Rekordz Needs Help to Complete Album</td>\n",
              "      <td>Music</td>\n",
              "      <td>Music</td>\n",
              "      <td>USD</td>\n",
              "      <td>2012-04-16</td>\n",
              "      <td>5000.0</td>\n",
              "      <td>2012-03-17 03:24:11</td>\n",
              "      <td>1.0</td>\n",
              "      <td>failed</td>\n",
              "      <td>1.0</td>\n",
              "      <td>US</td>\n",
              "      <td>1.0</td>\n",
              "      <td>1.0</td>\n",
              "      <td>5000.00</td>\n",
              "      <td>1000007540</td>\n",
              "    </tr>\n",
              "    <tr>\n",
              "      <th>4</th>\n",
              "      <td>4</td>\n",
              "      <td>1000011046</td>\n",
              "      <td>Community Film Project: The Art of Neighborhoo...</td>\n",
              "      <td>Film &amp; Video</td>\n",
              "      <td>Film &amp; Video</td>\n",
              "      <td>USD</td>\n",
              "      <td>2015-08-29</td>\n",
              "      <td>19500.0</td>\n",
              "      <td>2015-07-04 08:35:03</td>\n",
              "      <td>1283.0</td>\n",
              "      <td>canceled</td>\n",
              "      <td>14.0</td>\n",
              "      <td>US</td>\n",
              "      <td>1283.0</td>\n",
              "      <td>1283.0</td>\n",
              "      <td>19500.00</td>\n",
              "      <td>1000011046</td>\n",
              "    </tr>\n",
              "    <tr>\n",
              "      <th>...</th>\n",
              "      <td>...</td>\n",
              "      <td>...</td>\n",
              "      <td>...</td>\n",
              "      <td>...</td>\n",
              "      <td>...</td>\n",
              "      <td>...</td>\n",
              "      <td>...</td>\n",
              "      <td>...</td>\n",
              "      <td>...</td>\n",
              "      <td>...</td>\n",
              "      <td>...</td>\n",
              "      <td>...</td>\n",
              "      <td>...</td>\n",
              "      <td>...</td>\n",
              "      <td>...</td>\n",
              "      <td>...</td>\n",
              "      <td>...</td>\n",
              "    </tr>\n",
              "    <tr>\n",
              "      <th>378656</th>\n",
              "      <td>378656</td>\n",
              "      <td>999976400</td>\n",
              "      <td>ChknTruk Nationwide Charity Drive 2014 (Canceled)</td>\n",
              "      <td>Documentary</td>\n",
              "      <td>Film &amp; Video</td>\n",
              "      <td>USD</td>\n",
              "      <td>2014-10-17</td>\n",
              "      <td>50000.0</td>\n",
              "      <td>2014-09-17 02:35:30</td>\n",
              "      <td>25.0</td>\n",
              "      <td>canceled</td>\n",
              "      <td>1.0</td>\n",
              "      <td>US</td>\n",
              "      <td>25.0</td>\n",
              "      <td>25.0</td>\n",
              "      <td>50000.00</td>\n",
              "      <td>999976400</td>\n",
              "    </tr>\n",
              "    <tr>\n",
              "      <th>378657</th>\n",
              "      <td>378657</td>\n",
              "      <td>999977640</td>\n",
              "      <td>The Tribe</td>\n",
              "      <td>Narrative Film</td>\n",
              "      <td>Film &amp; Video</td>\n",
              "      <td>USD</td>\n",
              "      <td>2011-07-19</td>\n",
              "      <td>1500.0</td>\n",
              "      <td>2011-06-22 03:35:14</td>\n",
              "      <td>155.0</td>\n",
              "      <td>failed</td>\n",
              "      <td>5.0</td>\n",
              "      <td>US</td>\n",
              "      <td>155.0</td>\n",
              "      <td>155.0</td>\n",
              "      <td>1500.00</td>\n",
              "      <td>999977640</td>\n",
              "    </tr>\n",
              "    <tr>\n",
              "      <th>378658</th>\n",
              "      <td>378658</td>\n",
              "      <td>999986353</td>\n",
              "      <td>Walls of Remedy- New lesbian Romantic Comedy f...</td>\n",
              "      <td>Narrative Film</td>\n",
              "      <td>Film &amp; Video</td>\n",
              "      <td>NaN</td>\n",
              "      <td>2010-08-16</td>\n",
              "      <td>15000.0</td>\n",
              "      <td>2010-07-01 19:40:30</td>\n",
              "      <td>20.0</td>\n",
              "      <td>failed</td>\n",
              "      <td>1.0</td>\n",
              "      <td>US</td>\n",
              "      <td>20.0</td>\n",
              "      <td>20.0</td>\n",
              "      <td>15000.00</td>\n",
              "      <td>999986353</td>\n",
              "    </tr>\n",
              "    <tr>\n",
              "      <th>378659</th>\n",
              "      <td>378659</td>\n",
              "      <td>999987933</td>\n",
              "      <td>BioDefense Education Kit</td>\n",
              "      <td>Technology</td>\n",
              "      <td>Technology</td>\n",
              "      <td>USD</td>\n",
              "      <td>2016-02-13</td>\n",
              "      <td>15000.0</td>\n",
              "      <td>2016-01-13 18:13:53</td>\n",
              "      <td>200.0</td>\n",
              "      <td>failed</td>\n",
              "      <td>6.0</td>\n",
              "      <td>US</td>\n",
              "      <td>200.0</td>\n",
              "      <td>200.0</td>\n",
              "      <td>15000.00</td>\n",
              "      <td>999987933</td>\n",
              "    </tr>\n",
              "    <tr>\n",
              "      <th>378660</th>\n",
              "      <td>378660</td>\n",
              "      <td>999988282</td>\n",
              "      <td>Nou Renmen Ayiti!  We Love Haiti!</td>\n",
              "      <td>Performance Art</td>\n",
              "      <td>Art</td>\n",
              "      <td>USD</td>\n",
              "      <td>2011-08-16</td>\n",
              "      <td>2000.0</td>\n",
              "      <td>2011-07-19 09:07:47</td>\n",
              "      <td>524.0</td>\n",
              "      <td>failed</td>\n",
              "      <td>17.0</td>\n",
              "      <td>US</td>\n",
              "      <td>524.0</td>\n",
              "      <td>524.0</td>\n",
              "      <td>2000.00</td>\n",
              "      <td>999988282</td>\n",
              "    </tr>\n",
              "  </tbody>\n",
              "</table>\n",
              "<p>378661 rows × 17 columns</p>\n",
              "</div>"
            ],
            "text/plain": [
              "        Unnamed: 0          ID  ... usd_goal_real     Unnamed\n",
              "0                0  1000002330  ...       1533.95  1000002330\n",
              "1                1  1000003930  ...      30000.00  1000003930\n",
              "2                2  1000004038  ...      45000.00  1000004038\n",
              "3                3  1000007540  ...       5000.00  1000007540\n",
              "4                4  1000011046  ...      19500.00  1000011046\n",
              "...            ...         ...  ...           ...         ...\n",
              "378656      378656   999976400  ...      50000.00   999976400\n",
              "378657      378657   999977640  ...       1500.00   999977640\n",
              "378658      378658   999986353  ...      15000.00   999986353\n",
              "378659      378659   999987933  ...      15000.00   999987933\n",
              "378660      378660   999988282  ...       2000.00   999988282\n",
              "\n",
              "[378661 rows x 17 columns]"
            ]
          },
          "metadata": {
            "tags": []
          },
          "execution_count": 3
        }
      ]
    },
    {
      "cell_type": "markdown",
      "metadata": {
        "id": "1spJP24SisY5"
      },
      "source": [
        "### Какие у нас данные"
      ]
    },
    {
      "cell_type": "markdown",
      "metadata": {
        "id": "l_v-n-KAisY5"
      },
      "source": [
        "- `Country` - страна проекта\n",
        "- `Currency` - валюта проекта\n",
        "- `ID` - идентификатор проекта\n",
        "- `Launched` - дата и время регистрации проекта\n",
        "- `Main Category` - основная категория проекта\n",
        "- `State` - статус проекта\n",
        "- `Backers` - количество спонсоров проекта\n",
        "- `Goal` - сколько нужно собрать проекту, финансовая цель\n",
        "- `Pledged` - собрано, в лоцальной валюте\n",
        "- `Usd Pledged` - собрано в доллара США"
      ]
    },
    {
      "cell_type": "markdown",
      "metadata": {
        "id": "CRedZfJJisY5"
      },
      "source": [
        "## Первичная работа с данными"
      ]
    },
    {
      "cell_type": "code",
      "metadata": {
        "id": "pd6u0eNtrWll",
        "colab": {
          "base_uri": "https://localhost:8080/"
        },
        "outputId": "622745db-88a6-4c95-b26d-89b1fa90e7e4"
      },
      "source": [
        "kickstarter.shape"
      ],
      "execution_count": null,
      "outputs": [
        {
          "output_type": "execute_result",
          "data": {
            "text/plain": [
              "(378661, 17)"
            ]
          },
          "metadata": {
            "tags": []
          },
          "execution_count": 4
        }
      ]
    },
    {
      "cell_type": "code",
      "metadata": {
        "id": "atuQIi9erfMw",
        "colab": {
          "base_uri": "https://localhost:8080/"
        },
        "outputId": "8cf39b44-c9ea-4184-d77b-e5fda65185e7"
      },
      "source": [
        "kickstarter.shape[0]"
      ],
      "execution_count": null,
      "outputs": [
        {
          "output_type": "execute_result",
          "data": {
            "text/plain": [
              "378661"
            ]
          },
          "metadata": {
            "tags": []
          },
          "execution_count": 5
        }
      ]
    },
    {
      "cell_type": "code",
      "metadata": {
        "id": "nFPsr-gLrmcJ",
        "colab": {
          "base_uri": "https://localhost:8080/"
        },
        "outputId": "2fc52b29-d8f8-4663-ae00-a0b5d824913d"
      },
      "source": [
        "len(kickstarter)"
      ],
      "execution_count": null,
      "outputs": [
        {
          "output_type": "execute_result",
          "data": {
            "text/plain": [
              "378661"
            ]
          },
          "metadata": {
            "tags": []
          },
          "execution_count": 6
        }
      ]
    },
    {
      "cell_type": "markdown",
      "metadata": {
        "id": "NxU_IAqeisY6"
      },
      "source": [
        "### Вывод содержимого "
      ]
    },
    {
      "cell_type": "markdown",
      "metadata": {
        "id": "YNzZJoLnisY6"
      },
      "source": [
        "<img src='http://dl4.joxi.net/drive/2020/12/02/0043/4024/2834360/60/837287f7b6.jpg'>"
      ]
    },
    {
      "cell_type": "code",
      "metadata": {
        "id": "MPZaY573isY6",
        "colab": {
          "base_uri": "https://localhost:8080/",
          "height": 480
        },
        "outputId": "95b4f51e-8277-49ab-bf20-3f88c1af86c3"
      },
      "source": [
        "kickstarter.head(5)"
      ],
      "execution_count": null,
      "outputs": [
        {
          "output_type": "execute_result",
          "data": {
            "text/html": [
              "<div>\n",
              "<style scoped>\n",
              "    .dataframe tbody tr th:only-of-type {\n",
              "        vertical-align: middle;\n",
              "    }\n",
              "\n",
              "    .dataframe tbody tr th {\n",
              "        vertical-align: top;\n",
              "    }\n",
              "\n",
              "    .dataframe thead th {\n",
              "        text-align: right;\n",
              "    }\n",
              "</style>\n",
              "<table border=\"1\" class=\"dataframe\">\n",
              "  <thead>\n",
              "    <tr style=\"text-align: right;\">\n",
              "      <th></th>\n",
              "      <th>Unnamed: 0</th>\n",
              "      <th>ID</th>\n",
              "      <th>name</th>\n",
              "      <th>category</th>\n",
              "      <th>main_category</th>\n",
              "      <th>currency</th>\n",
              "      <th>deadline</th>\n",
              "      <th>goal</th>\n",
              "      <th>launched</th>\n",
              "      <th>pledged</th>\n",
              "      <th>state</th>\n",
              "      <th>backers</th>\n",
              "      <th>country</th>\n",
              "      <th>usd pledged</th>\n",
              "      <th>usd_pledged_real</th>\n",
              "      <th>usd_goal_real</th>\n",
              "      <th>Unnamed</th>\n",
              "    </tr>\n",
              "  </thead>\n",
              "  <tbody>\n",
              "    <tr>\n",
              "      <th>0</th>\n",
              "      <td>0</td>\n",
              "      <td>1000002330</td>\n",
              "      <td>The Songs of Adelaide &amp; Abullah</td>\n",
              "      <td>Poetry</td>\n",
              "      <td>Publishing</td>\n",
              "      <td>GBP</td>\n",
              "      <td>2015-10-09</td>\n",
              "      <td>1000.0</td>\n",
              "      <td>2015-08-11 12:12:28</td>\n",
              "      <td>0.0</td>\n",
              "      <td>failed</td>\n",
              "      <td>0.0</td>\n",
              "      <td>GB</td>\n",
              "      <td>0.0</td>\n",
              "      <td>0.0</td>\n",
              "      <td>1533.95</td>\n",
              "      <td>1000002330</td>\n",
              "    </tr>\n",
              "    <tr>\n",
              "      <th>1</th>\n",
              "      <td>1</td>\n",
              "      <td>1000003930</td>\n",
              "      <td>Greeting From Earth: ZGAC Arts Capsule For ET</td>\n",
              "      <td>Narrative Film</td>\n",
              "      <td>Film &amp; Video</td>\n",
              "      <td>USD</td>\n",
              "      <td>2017-11-01</td>\n",
              "      <td>30000.0</td>\n",
              "      <td>2017-09-02 04:43:57</td>\n",
              "      <td>2421.0</td>\n",
              "      <td>failed</td>\n",
              "      <td>15.0</td>\n",
              "      <td>US</td>\n",
              "      <td>100.0</td>\n",
              "      <td>2421.0</td>\n",
              "      <td>30000.00</td>\n",
              "      <td>1000003930</td>\n",
              "    </tr>\n",
              "    <tr>\n",
              "      <th>2</th>\n",
              "      <td>2</td>\n",
              "      <td>1000004038</td>\n",
              "      <td>Where is Hank?</td>\n",
              "      <td>Narrative Film</td>\n",
              "      <td>Film &amp; Video</td>\n",
              "      <td>NaN</td>\n",
              "      <td>2013-02-26</td>\n",
              "      <td>45000.0</td>\n",
              "      <td>2013-01-12 00:20:50</td>\n",
              "      <td>220.0</td>\n",
              "      <td>failed</td>\n",
              "      <td>3.0</td>\n",
              "      <td>US</td>\n",
              "      <td>220.0</td>\n",
              "      <td>220.0</td>\n",
              "      <td>45000.00</td>\n",
              "      <td>1000004038</td>\n",
              "    </tr>\n",
              "    <tr>\n",
              "      <th>3</th>\n",
              "      <td>3</td>\n",
              "      <td>1000007540</td>\n",
              "      <td>ToshiCapital Rekordz Needs Help to Complete Album</td>\n",
              "      <td>Music</td>\n",
              "      <td>Music</td>\n",
              "      <td>USD</td>\n",
              "      <td>2012-04-16</td>\n",
              "      <td>5000.0</td>\n",
              "      <td>2012-03-17 03:24:11</td>\n",
              "      <td>1.0</td>\n",
              "      <td>failed</td>\n",
              "      <td>1.0</td>\n",
              "      <td>US</td>\n",
              "      <td>1.0</td>\n",
              "      <td>1.0</td>\n",
              "      <td>5000.00</td>\n",
              "      <td>1000007540</td>\n",
              "    </tr>\n",
              "    <tr>\n",
              "      <th>4</th>\n",
              "      <td>4</td>\n",
              "      <td>1000011046</td>\n",
              "      <td>Community Film Project: The Art of Neighborhoo...</td>\n",
              "      <td>Film &amp; Video</td>\n",
              "      <td>Film &amp; Video</td>\n",
              "      <td>USD</td>\n",
              "      <td>2015-08-29</td>\n",
              "      <td>19500.0</td>\n",
              "      <td>2015-07-04 08:35:03</td>\n",
              "      <td>1283.0</td>\n",
              "      <td>canceled</td>\n",
              "      <td>14.0</td>\n",
              "      <td>US</td>\n",
              "      <td>1283.0</td>\n",
              "      <td>1283.0</td>\n",
              "      <td>19500.00</td>\n",
              "      <td>1000011046</td>\n",
              "    </tr>\n",
              "  </tbody>\n",
              "</table>\n",
              "</div>"
            ],
            "text/plain": [
              "   Unnamed: 0          ID  ... usd_goal_real     Unnamed\n",
              "0           0  1000002330  ...       1533.95  1000002330\n",
              "1           1  1000003930  ...      30000.00  1000003930\n",
              "2           2  1000004038  ...      45000.00  1000004038\n",
              "3           3  1000007540  ...       5000.00  1000007540\n",
              "4           4  1000011046  ...      19500.00  1000011046\n",
              "\n",
              "[5 rows x 17 columns]"
            ]
          },
          "metadata": {
            "tags": []
          },
          "execution_count": 7
        }
      ]
    },
    {
      "cell_type": "code",
      "metadata": {
        "id": "oHjZ2CZkisY6",
        "colab": {
          "base_uri": "https://localhost:8080/",
          "height": 840
        },
        "outputId": "5b811cd2-93c8-4f46-ba71-9bc617ae882f"
      },
      "source": [
        "kickstarter.tail(10)"
      ],
      "execution_count": null,
      "outputs": [
        {
          "output_type": "execute_result",
          "data": {
            "text/html": [
              "<div>\n",
              "<style scoped>\n",
              "    .dataframe tbody tr th:only-of-type {\n",
              "        vertical-align: middle;\n",
              "    }\n",
              "\n",
              "    .dataframe tbody tr th {\n",
              "        vertical-align: top;\n",
              "    }\n",
              "\n",
              "    .dataframe thead th {\n",
              "        text-align: right;\n",
              "    }\n",
              "</style>\n",
              "<table border=\"1\" class=\"dataframe\">\n",
              "  <thead>\n",
              "    <tr style=\"text-align: right;\">\n",
              "      <th></th>\n",
              "      <th>Unnamed: 0</th>\n",
              "      <th>ID</th>\n",
              "      <th>name</th>\n",
              "      <th>category</th>\n",
              "      <th>main_category</th>\n",
              "      <th>currency</th>\n",
              "      <th>deadline</th>\n",
              "      <th>goal</th>\n",
              "      <th>launched</th>\n",
              "      <th>pledged</th>\n",
              "      <th>state</th>\n",
              "      <th>backers</th>\n",
              "      <th>country</th>\n",
              "      <th>usd pledged</th>\n",
              "      <th>usd_pledged_real</th>\n",
              "      <th>usd_goal_real</th>\n",
              "      <th>Unnamed</th>\n",
              "    </tr>\n",
              "  </thead>\n",
              "  <tbody>\n",
              "    <tr>\n",
              "      <th>378651</th>\n",
              "      <td>378651</td>\n",
              "      <td>999969812</td>\n",
              "      <td>AT THE BEACH</td>\n",
              "      <td>Classical Music</td>\n",
              "      <td>Music</td>\n",
              "      <td>CAD</td>\n",
              "      <td>2014-03-22</td>\n",
              "      <td>5000.0</td>\n",
              "      <td>2014-02-20 01:00:16</td>\n",
              "      <td>5501.0</td>\n",
              "      <td>successful</td>\n",
              "      <td>78.0</td>\n",
              "      <td>CA</td>\n",
              "      <td>5019.92</td>\n",
              "      <td>4983.69</td>\n",
              "      <td>4529.81</td>\n",
              "      <td>999969812</td>\n",
              "    </tr>\n",
              "    <tr>\n",
              "      <th>378652</th>\n",
              "      <td>378652</td>\n",
              "      <td>999971898</td>\n",
              "      <td>Beach Wrestling Documentary</td>\n",
              "      <td>Documentary</td>\n",
              "      <td>Film &amp; Video</td>\n",
              "      <td>NOK</td>\n",
              "      <td>2015-04-28</td>\n",
              "      <td>20000.0</td>\n",
              "      <td>2015-03-29 21:30:33</td>\n",
              "      <td>21500.0</td>\n",
              "      <td>successful</td>\n",
              "      <td>36.0</td>\n",
              "      <td>NO</td>\n",
              "      <td>2698.97</td>\n",
              "      <td>2875.83</td>\n",
              "      <td>2675.19</td>\n",
              "      <td>999971898</td>\n",
              "    </tr>\n",
              "    <tr>\n",
              "      <th>378653</th>\n",
              "      <td>378653</td>\n",
              "      <td>999972264</td>\n",
              "      <td>Islanda</td>\n",
              "      <td>Documentary</td>\n",
              "      <td>Film &amp; Video</td>\n",
              "      <td>USD</td>\n",
              "      <td>2012-03-16</td>\n",
              "      <td>1700.0</td>\n",
              "      <td>2012-02-15 04:31:10</td>\n",
              "      <td>25.0</td>\n",
              "      <td>failed</td>\n",
              "      <td>1.0</td>\n",
              "      <td>US</td>\n",
              "      <td>25.00</td>\n",
              "      <td>25.00</td>\n",
              "      <td>1700.00</td>\n",
              "      <td>999972264</td>\n",
              "    </tr>\n",
              "    <tr>\n",
              "      <th>378654</th>\n",
              "      <td>378654</td>\n",
              "      <td>999975836</td>\n",
              "      <td>Homemade fresh dog food, Cleveland OH</td>\n",
              "      <td>Small Batch</td>\n",
              "      <td>Food</td>\n",
              "      <td>USD</td>\n",
              "      <td>2017-04-19</td>\n",
              "      <td>6500.0</td>\n",
              "      <td>2017-03-20 22:08:22</td>\n",
              "      <td>154.0</td>\n",
              "      <td>failed</td>\n",
              "      <td>4.0</td>\n",
              "      <td>US</td>\n",
              "      <td>0.00</td>\n",
              "      <td>154.00</td>\n",
              "      <td>6500.00</td>\n",
              "      <td>999975836</td>\n",
              "    </tr>\n",
              "    <tr>\n",
              "      <th>378655</th>\n",
              "      <td>378655</td>\n",
              "      <td>999976312</td>\n",
              "      <td>Angela's Poetry (Canceled)</td>\n",
              "      <td>Poetry</td>\n",
              "      <td>Publishing</td>\n",
              "      <td>CAD</td>\n",
              "      <td>2014-09-20</td>\n",
              "      <td>5500.0</td>\n",
              "      <td>2014-08-06 03:46:07</td>\n",
              "      <td>0.0</td>\n",
              "      <td>canceled</td>\n",
              "      <td>0.0</td>\n",
              "      <td>CA</td>\n",
              "      <td>0.00</td>\n",
              "      <td>0.00</td>\n",
              "      <td>4949.60</td>\n",
              "      <td>999976312</td>\n",
              "    </tr>\n",
              "    <tr>\n",
              "      <th>378656</th>\n",
              "      <td>378656</td>\n",
              "      <td>999976400</td>\n",
              "      <td>ChknTruk Nationwide Charity Drive 2014 (Canceled)</td>\n",
              "      <td>Documentary</td>\n",
              "      <td>Film &amp; Video</td>\n",
              "      <td>USD</td>\n",
              "      <td>2014-10-17</td>\n",
              "      <td>50000.0</td>\n",
              "      <td>2014-09-17 02:35:30</td>\n",
              "      <td>25.0</td>\n",
              "      <td>canceled</td>\n",
              "      <td>1.0</td>\n",
              "      <td>US</td>\n",
              "      <td>25.00</td>\n",
              "      <td>25.00</td>\n",
              "      <td>50000.00</td>\n",
              "      <td>999976400</td>\n",
              "    </tr>\n",
              "    <tr>\n",
              "      <th>378657</th>\n",
              "      <td>378657</td>\n",
              "      <td>999977640</td>\n",
              "      <td>The Tribe</td>\n",
              "      <td>Narrative Film</td>\n",
              "      <td>Film &amp; Video</td>\n",
              "      <td>USD</td>\n",
              "      <td>2011-07-19</td>\n",
              "      <td>1500.0</td>\n",
              "      <td>2011-06-22 03:35:14</td>\n",
              "      <td>155.0</td>\n",
              "      <td>failed</td>\n",
              "      <td>5.0</td>\n",
              "      <td>US</td>\n",
              "      <td>155.00</td>\n",
              "      <td>155.00</td>\n",
              "      <td>1500.00</td>\n",
              "      <td>999977640</td>\n",
              "    </tr>\n",
              "    <tr>\n",
              "      <th>378658</th>\n",
              "      <td>378658</td>\n",
              "      <td>999986353</td>\n",
              "      <td>Walls of Remedy- New lesbian Romantic Comedy f...</td>\n",
              "      <td>Narrative Film</td>\n",
              "      <td>Film &amp; Video</td>\n",
              "      <td>NaN</td>\n",
              "      <td>2010-08-16</td>\n",
              "      <td>15000.0</td>\n",
              "      <td>2010-07-01 19:40:30</td>\n",
              "      <td>20.0</td>\n",
              "      <td>failed</td>\n",
              "      <td>1.0</td>\n",
              "      <td>US</td>\n",
              "      <td>20.00</td>\n",
              "      <td>20.00</td>\n",
              "      <td>15000.00</td>\n",
              "      <td>999986353</td>\n",
              "    </tr>\n",
              "    <tr>\n",
              "      <th>378659</th>\n",
              "      <td>378659</td>\n",
              "      <td>999987933</td>\n",
              "      <td>BioDefense Education Kit</td>\n",
              "      <td>Technology</td>\n",
              "      <td>Technology</td>\n",
              "      <td>USD</td>\n",
              "      <td>2016-02-13</td>\n",
              "      <td>15000.0</td>\n",
              "      <td>2016-01-13 18:13:53</td>\n",
              "      <td>200.0</td>\n",
              "      <td>failed</td>\n",
              "      <td>6.0</td>\n",
              "      <td>US</td>\n",
              "      <td>200.00</td>\n",
              "      <td>200.00</td>\n",
              "      <td>15000.00</td>\n",
              "      <td>999987933</td>\n",
              "    </tr>\n",
              "    <tr>\n",
              "      <th>378660</th>\n",
              "      <td>378660</td>\n",
              "      <td>999988282</td>\n",
              "      <td>Nou Renmen Ayiti!  We Love Haiti!</td>\n",
              "      <td>Performance Art</td>\n",
              "      <td>Art</td>\n",
              "      <td>USD</td>\n",
              "      <td>2011-08-16</td>\n",
              "      <td>2000.0</td>\n",
              "      <td>2011-07-19 09:07:47</td>\n",
              "      <td>524.0</td>\n",
              "      <td>failed</td>\n",
              "      <td>17.0</td>\n",
              "      <td>US</td>\n",
              "      <td>524.00</td>\n",
              "      <td>524.00</td>\n",
              "      <td>2000.00</td>\n",
              "      <td>999988282</td>\n",
              "    </tr>\n",
              "  </tbody>\n",
              "</table>\n",
              "</div>"
            ],
            "text/plain": [
              "        Unnamed: 0         ID  ... usd_goal_real    Unnamed\n",
              "378651      378651  999969812  ...       4529.81  999969812\n",
              "378652      378652  999971898  ...       2675.19  999971898\n",
              "378653      378653  999972264  ...       1700.00  999972264\n",
              "378654      378654  999975836  ...       6500.00  999975836\n",
              "378655      378655  999976312  ...       4949.60  999976312\n",
              "378656      378656  999976400  ...      50000.00  999976400\n",
              "378657      378657  999977640  ...       1500.00  999977640\n",
              "378658      378658  999986353  ...      15000.00  999986353\n",
              "378659      378659  999987933  ...      15000.00  999987933\n",
              "378660      378660  999988282  ...       2000.00  999988282\n",
              "\n",
              "[10 rows x 17 columns]"
            ]
          },
          "metadata": {
            "tags": []
          },
          "execution_count": 8
        }
      ]
    },
    {
      "cell_type": "code",
      "metadata": {
        "id": "yDfdXvnnisY7",
        "colab": {
          "base_uri": "https://localhost:8080/",
          "height": 446
        },
        "outputId": "66f75e46-997e-4624-e3c0-8ca00756f44d"
      },
      "source": [
        "kickstarter.sample(5)\n"
      ],
      "execution_count": null,
      "outputs": [
        {
          "output_type": "execute_result",
          "data": {
            "text/html": [
              "<div>\n",
              "<style scoped>\n",
              "    .dataframe tbody tr th:only-of-type {\n",
              "        vertical-align: middle;\n",
              "    }\n",
              "\n",
              "    .dataframe tbody tr th {\n",
              "        vertical-align: top;\n",
              "    }\n",
              "\n",
              "    .dataframe thead th {\n",
              "        text-align: right;\n",
              "    }\n",
              "</style>\n",
              "<table border=\"1\" class=\"dataframe\">\n",
              "  <thead>\n",
              "    <tr style=\"text-align: right;\">\n",
              "      <th></th>\n",
              "      <th>Unnamed: 0</th>\n",
              "      <th>ID</th>\n",
              "      <th>name</th>\n",
              "      <th>category</th>\n",
              "      <th>main_category</th>\n",
              "      <th>currency</th>\n",
              "      <th>deadline</th>\n",
              "      <th>goal</th>\n",
              "      <th>launched</th>\n",
              "      <th>pledged</th>\n",
              "      <th>state</th>\n",
              "      <th>backers</th>\n",
              "      <th>country</th>\n",
              "      <th>usd pledged</th>\n",
              "      <th>usd_pledged_real</th>\n",
              "      <th>usd_goal_real</th>\n",
              "      <th>Unnamed</th>\n",
              "    </tr>\n",
              "  </thead>\n",
              "  <tbody>\n",
              "    <tr>\n",
              "      <th>229310</th>\n",
              "      <td>229310</td>\n",
              "      <td>235866088</td>\n",
              "      <td>Création de bijoux sur mesure - 3D Printing Je...</td>\n",
              "      <td>Jewelry</td>\n",
              "      <td>Fashion</td>\n",
              "      <td>EUR</td>\n",
              "      <td>2016-02-26</td>\n",
              "      <td>20000.0</td>\n",
              "      <td>2016-01-27 14:30:36</td>\n",
              "      <td>567.0</td>\n",
              "      <td>failed</td>\n",
              "      <td>6.0</td>\n",
              "      <td>FR</td>\n",
              "      <td>614.96</td>\n",
              "      <td>624.04</td>\n",
              "      <td>22011.89</td>\n",
              "      <td>235866088</td>\n",
              "    </tr>\n",
              "    <tr>\n",
              "      <th>31744</th>\n",
              "      <td>31744</td>\n",
              "      <td>1161316539</td>\n",
              "      <td>Terracottapotta Pot stand, indoor/ outdoor pla...</td>\n",
              "      <td>Woodworking</td>\n",
              "      <td>Crafts</td>\n",
              "      <td>AUD</td>\n",
              "      <td>2016-05-19</td>\n",
              "      <td>5000.0</td>\n",
              "      <td>2016-04-26 11:57:06</td>\n",
              "      <td>2.0</td>\n",
              "      <td>failed</td>\n",
              "      <td>2.0</td>\n",
              "      <td>AU</td>\n",
              "      <td>1.54</td>\n",
              "      <td>1.45</td>\n",
              "      <td>3614.54</td>\n",
              "      <td>1161316539</td>\n",
              "    </tr>\n",
              "    <tr>\n",
              "      <th>142662</th>\n",
              "      <td>142662</td>\n",
              "      <td>1724974102</td>\n",
              "      <td>The Sylvan Song</td>\n",
              "      <td>Fiction</td>\n",
              "      <td>Publishing</td>\n",
              "      <td>NaN</td>\n",
              "      <td>2016-11-21</td>\n",
              "      <td>5000.0</td>\n",
              "      <td>2016-10-22 14:38:05</td>\n",
              "      <td>2835.0</td>\n",
              "      <td>failed</td>\n",
              "      <td>29.0</td>\n",
              "      <td>CA</td>\n",
              "      <td>192.76</td>\n",
              "      <td>2101.40</td>\n",
              "      <td>3706.17</td>\n",
              "      <td>1724974102</td>\n",
              "    </tr>\n",
              "    <tr>\n",
              "      <th>373448</th>\n",
              "      <td>373448</td>\n",
              "      <td>972935487</td>\n",
              "      <td>Bucket Assist</td>\n",
              "      <td>Web</td>\n",
              "      <td>Technology</td>\n",
              "      <td>GBP</td>\n",
              "      <td>2016-12-06</td>\n",
              "      <td>12000.0</td>\n",
              "      <td>2016-11-06 20:56:00</td>\n",
              "      <td>1097.0</td>\n",
              "      <td>failed</td>\n",
              "      <td>7.0</td>\n",
              "      <td>GB</td>\n",
              "      <td>122.68</td>\n",
              "      <td>1380.03</td>\n",
              "      <td>15096.05</td>\n",
              "      <td>972935487</td>\n",
              "    </tr>\n",
              "    <tr>\n",
              "      <th>161063</th>\n",
              "      <td>161063</td>\n",
              "      <td>1819242635</td>\n",
              "      <td>Solar System at a Date - Posters</td>\n",
              "      <td>Product Design</td>\n",
              "      <td>Design</td>\n",
              "      <td>GBP</td>\n",
              "      <td>2017-08-29</td>\n",
              "      <td>1000.0</td>\n",
              "      <td>2017-07-26 23:41:35</td>\n",
              "      <td>3516.0</td>\n",
              "      <td>successful</td>\n",
              "      <td>97.0</td>\n",
              "      <td>GB</td>\n",
              "      <td>1376.03</td>\n",
              "      <td>4551.81</td>\n",
              "      <td>1294.60</td>\n",
              "      <td>1819242635</td>\n",
              "    </tr>\n",
              "  </tbody>\n",
              "</table>\n",
              "</div>"
            ],
            "text/plain": [
              "        Unnamed: 0          ID  ... usd_goal_real     Unnamed\n",
              "229310      229310   235866088  ...      22011.89   235866088\n",
              "31744        31744  1161316539  ...       3614.54  1161316539\n",
              "142662      142662  1724974102  ...       3706.17  1724974102\n",
              "373448      373448   972935487  ...      15096.05   972935487\n",
              "161063      161063  1819242635  ...       1294.60  1819242635\n",
              "\n",
              "[5 rows x 17 columns]"
            ]
          },
          "metadata": {
            "tags": []
          },
          "execution_count": 9
        }
      ]
    },
    {
      "cell_type": "code",
      "metadata": {
        "id": "189A3EwSisY7",
        "colab": {
          "base_uri": "https://localhost:8080/"
        },
        "outputId": "9ffa9222-e158-4f1f-f966-299a61c3514b"
      },
      "source": [
        "kickstarter.columns"
      ],
      "execution_count": null,
      "outputs": [
        {
          "output_type": "execute_result",
          "data": {
            "text/plain": [
              "Index(['Unnamed: 0', 'ID', 'name', 'category', 'main_category', 'currency',\n",
              "       'deadline', 'goal', 'launched', 'pledged', 'state', 'backers',\n",
              "       'country', 'usd pledged', 'usd_pledged_real', 'usd_goal_real',\n",
              "       'Unnamed'],\n",
              "      dtype='object')"
            ]
          },
          "metadata": {
            "tags": []
          },
          "execution_count": 10
        }
      ]
    },
    {
      "cell_type": "code",
      "metadata": {
        "id": "v9eNNbqVs0W0",
        "colab": {
          "base_uri": "https://localhost:8080/"
        },
        "outputId": "ab3b0f44-ee58-48b4-e3fb-79982f760499"
      },
      "source": [
        "kickstarter['name']"
      ],
      "execution_count": null,
      "outputs": [
        {
          "output_type": "execute_result",
          "data": {
            "text/plain": [
              "0                           The Songs of Adelaide & Abullah\n",
              "1             Greeting From Earth: ZGAC Arts Capsule For ET\n",
              "2                                            Where is Hank?\n",
              "3         ToshiCapital Rekordz Needs Help to Complete Album\n",
              "4         Community Film Project: The Art of Neighborhoo...\n",
              "                                ...                        \n",
              "378656    ChknTruk Nationwide Charity Drive 2014 (Canceled)\n",
              "378657                                            The Tribe\n",
              "378658    Walls of Remedy- New lesbian Romantic Comedy f...\n",
              "378659                             BioDefense Education Kit\n",
              "378660                    Nou Renmen Ayiti!  We Love Haiti!\n",
              "Name: name, Length: 378661, dtype: object"
            ]
          },
          "metadata": {
            "tags": []
          },
          "execution_count": 11
        }
      ]
    },
    {
      "cell_type": "markdown",
      "metadata": {
        "id": "lhBOrc70isY7"
      },
      "source": [
        "<img src='https://bookdata.readthedocs.io/en/latest/_images/base_01_pandas_5_0.png'>"
      ]
    },
    {
      "cell_type": "code",
      "metadata": {
        "id": "593xiGWHtCAK",
        "colab": {
          "base_uri": "https://localhost:8080/",
          "height": 417
        },
        "outputId": "eaf38467-6486-4f59-8406-f80828a08469"
      },
      "source": [
        "kickstarter[['name','main_category']]"
      ],
      "execution_count": null,
      "outputs": [
        {
          "output_type": "execute_result",
          "data": {
            "text/html": [
              "<div>\n",
              "<style scoped>\n",
              "    .dataframe tbody tr th:only-of-type {\n",
              "        vertical-align: middle;\n",
              "    }\n",
              "\n",
              "    .dataframe tbody tr th {\n",
              "        vertical-align: top;\n",
              "    }\n",
              "\n",
              "    .dataframe thead th {\n",
              "        text-align: right;\n",
              "    }\n",
              "</style>\n",
              "<table border=\"1\" class=\"dataframe\">\n",
              "  <thead>\n",
              "    <tr style=\"text-align: right;\">\n",
              "      <th></th>\n",
              "      <th>name</th>\n",
              "      <th>main_category</th>\n",
              "    </tr>\n",
              "  </thead>\n",
              "  <tbody>\n",
              "    <tr>\n",
              "      <th>0</th>\n",
              "      <td>The Songs of Adelaide &amp; Abullah</td>\n",
              "      <td>Publishing</td>\n",
              "    </tr>\n",
              "    <tr>\n",
              "      <th>1</th>\n",
              "      <td>Greeting From Earth: ZGAC Arts Capsule For ET</td>\n",
              "      <td>Film &amp; Video</td>\n",
              "    </tr>\n",
              "    <tr>\n",
              "      <th>2</th>\n",
              "      <td>Where is Hank?</td>\n",
              "      <td>Film &amp; Video</td>\n",
              "    </tr>\n",
              "    <tr>\n",
              "      <th>3</th>\n",
              "      <td>ToshiCapital Rekordz Needs Help to Complete Album</td>\n",
              "      <td>Music</td>\n",
              "    </tr>\n",
              "    <tr>\n",
              "      <th>4</th>\n",
              "      <td>Community Film Project: The Art of Neighborhoo...</td>\n",
              "      <td>Film &amp; Video</td>\n",
              "    </tr>\n",
              "    <tr>\n",
              "      <th>...</th>\n",
              "      <td>...</td>\n",
              "      <td>...</td>\n",
              "    </tr>\n",
              "    <tr>\n",
              "      <th>378656</th>\n",
              "      <td>ChknTruk Nationwide Charity Drive 2014 (Canceled)</td>\n",
              "      <td>Film &amp; Video</td>\n",
              "    </tr>\n",
              "    <tr>\n",
              "      <th>378657</th>\n",
              "      <td>The Tribe</td>\n",
              "      <td>Film &amp; Video</td>\n",
              "    </tr>\n",
              "    <tr>\n",
              "      <th>378658</th>\n",
              "      <td>Walls of Remedy- New lesbian Romantic Comedy f...</td>\n",
              "      <td>Film &amp; Video</td>\n",
              "    </tr>\n",
              "    <tr>\n",
              "      <th>378659</th>\n",
              "      <td>BioDefense Education Kit</td>\n",
              "      <td>Technology</td>\n",
              "    </tr>\n",
              "    <tr>\n",
              "      <th>378660</th>\n",
              "      <td>Nou Renmen Ayiti!  We Love Haiti!</td>\n",
              "      <td>Art</td>\n",
              "    </tr>\n",
              "  </tbody>\n",
              "</table>\n",
              "<p>378661 rows × 2 columns</p>\n",
              "</div>"
            ],
            "text/plain": [
              "                                                     name main_category\n",
              "0                         The Songs of Adelaide & Abullah    Publishing\n",
              "1           Greeting From Earth: ZGAC Arts Capsule For ET  Film & Video\n",
              "2                                          Where is Hank?  Film & Video\n",
              "3       ToshiCapital Rekordz Needs Help to Complete Album         Music\n",
              "4       Community Film Project: The Art of Neighborhoo...  Film & Video\n",
              "...                                                   ...           ...\n",
              "378656  ChknTruk Nationwide Charity Drive 2014 (Canceled)  Film & Video\n",
              "378657                                          The Tribe  Film & Video\n",
              "378658  Walls of Remedy- New lesbian Romantic Comedy f...  Film & Video\n",
              "378659                           BioDefense Education Kit    Technology\n",
              "378660                  Nou Renmen Ayiti!  We Love Haiti!           Art\n",
              "\n",
              "[378661 rows x 2 columns]"
            ]
          },
          "metadata": {
            "tags": []
          },
          "execution_count": 12
        }
      ]
    },
    {
      "cell_type": "code",
      "metadata": {
        "id": "gMdBdOwLulEX",
        "colab": {
          "base_uri": "https://localhost:8080/"
        },
        "outputId": "e03e5bf0-1efc-445f-941f-cd60b9a412fb"
      },
      "source": [
        "kickstarter.name"
      ],
      "execution_count": null,
      "outputs": [
        {
          "output_type": "execute_result",
          "data": {
            "text/plain": [
              "0                           The Songs of Adelaide & Abullah\n",
              "1             Greeting From Earth: ZGAC Arts Capsule For ET\n",
              "2                                            Where is Hank?\n",
              "3         ToshiCapital Rekordz Needs Help to Complete Album\n",
              "4         Community Film Project: The Art of Neighborhoo...\n",
              "                                ...                        \n",
              "378656    ChknTruk Nationwide Charity Drive 2014 (Canceled)\n",
              "378657                                            The Tribe\n",
              "378658    Walls of Remedy- New lesbian Romantic Comedy f...\n",
              "378659                             BioDefense Education Kit\n",
              "378660                    Nou Renmen Ayiti!  We Love Haiti!\n",
              "Name: name, Length: 378661, dtype: object"
            ]
          },
          "metadata": {
            "tags": []
          },
          "execution_count": 13
        }
      ]
    },
    {
      "cell_type": "markdown",
      "metadata": {
        "id": "3ysoOxKRisY7"
      },
      "source": [
        "### Вывод информации и некоторых описательных статистик"
      ]
    },
    {
      "cell_type": "code",
      "metadata": {
        "id": "j7AsIR5visY7",
        "colab": {
          "base_uri": "https://localhost:8080/"
        },
        "outputId": "783cbd48-8ddb-48d5-8872-34fc0ad5a065"
      },
      "source": [
        " kickstarter['main_category'].unique()"
      ],
      "execution_count": null,
      "outputs": [
        {
          "output_type": "execute_result",
          "data": {
            "text/plain": [
              "array(['Publishing', 'Film & Video', 'Music', 'Food', 'Design', 'Crafts',\n",
              "       'Games', 'Comics', 'Fashion', 'Theater', 'Art', 'Photography',\n",
              "       'Technology', 'Dance', 'Journalism'], dtype=object)"
            ]
          },
          "metadata": {
            "tags": []
          },
          "execution_count": 14
        }
      ]
    },
    {
      "cell_type": "code",
      "metadata": {
        "id": "5qHPkcEYtjlz",
        "colab": {
          "base_uri": "https://localhost:8080/"
        },
        "outputId": "777f02e2-f155-4c4b-bc3e-7a188e44ae31"
      },
      "source": [
        " kickstarter['country'].unique()"
      ],
      "execution_count": null,
      "outputs": [
        {
          "output_type": "execute_result",
          "data": {
            "text/plain": [
              "array(['GB', 'US', 'CA', 'AU', 'NO', 'IT', 'DE', 'IE', 'MX', 'ES', 'N,0\"',\n",
              "       'SE', 'FR', 'NL', 'NZ', 'CH', 'AT', 'DK', 'BE', 'HK', 'LU', 'SG',\n",
              "       'JP'], dtype=object)"
            ]
          },
          "metadata": {
            "tags": []
          },
          "execution_count": 15
        }
      ]
    },
    {
      "cell_type": "code",
      "metadata": {
        "id": "U4vM9p0btnX6",
        "colab": {
          "base_uri": "https://localhost:8080/"
        },
        "outputId": "602c61b1-d5a7-46a8-afcd-f0597acf5bf1"
      },
      "source": [
        "len( kickstarter['country'].unique())"
      ],
      "execution_count": null,
      "outputs": [
        {
          "output_type": "execute_result",
          "data": {
            "text/plain": [
              "23"
            ]
          },
          "metadata": {
            "tags": []
          },
          "execution_count": 16
        }
      ]
    },
    {
      "cell_type": "code",
      "metadata": {
        "id": "FuCdzC48isY8",
        "colab": {
          "base_uri": "https://localhost:8080/"
        },
        "outputId": "2d27c4cb-0481-461f-a231-486fff4062af"
      },
      "source": [
        " kickstarter['main_category'].value_counts()"
      ],
      "execution_count": null,
      "outputs": [
        {
          "output_type": "execute_result",
          "data": {
            "text/plain": [
              "Film & Video    63585\n",
              "Music           51918\n",
              "Publishing      39874\n",
              "Games           35231\n",
              "Technology      32569\n",
              "Design          30070\n",
              "Art             28153\n",
              "Food            24602\n",
              "Fashion         22816\n",
              "Theater         10913\n",
              "Comics          10819\n",
              "Photography     10779\n",
              "Crafts           8809\n",
              "Journalism       4755\n",
              "Dance            3768\n",
              "Name: main_category, dtype: int64"
            ]
          },
          "metadata": {
            "tags": []
          },
          "execution_count": 17
        }
      ]
    },
    {
      "cell_type": "code",
      "metadata": {
        "id": "CWWGz36OuJok",
        "colab": {
          "base_uri": "https://localhost:8080/"
        },
        "outputId": "8fe20d69-2901-43c4-e102-a7efdd64c13f"
      },
      "source": [
        " kickstarter['main_category'].value_counts(normalize=True)*100"
      ],
      "execution_count": null,
      "outputs": [
        {
          "output_type": "execute_result",
          "data": {
            "text/plain": [
              "Film & Video    16.792065\n",
              "Music           13.710945\n",
              "Publishing      10.530263\n",
              "Games            9.304101\n",
              "Technology       8.601097\n",
              "Design           7.941140\n",
              "Art              7.434882\n",
              "Food             6.497104\n",
              "Fashion          6.025442\n",
              "Theater          2.881997\n",
              "Comics           2.857173\n",
              "Photography      2.846610\n",
              "Crafts           2.326355\n",
              "Journalism       1.255741\n",
              "Dance            0.995085\n",
              "Name: main_category, dtype: float64"
            ]
          },
          "metadata": {
            "tags": []
          },
          "execution_count": 18
        }
      ]
    },
    {
      "cell_type": "code",
      "metadata": {
        "id": "M0Hbcpk5isY8",
        "colab": {
          "base_uri": "https://localhost:8080/"
        },
        "outputId": "6d4de75b-0f48-4f7b-c835-850650b0d777"
      },
      "source": [
        " kickstarter.info()"
      ],
      "execution_count": null,
      "outputs": [
        {
          "output_type": "stream",
          "text": [
            "<class 'pandas.core.frame.DataFrame'>\n",
            "RangeIndex: 378661 entries, 0 to 378660\n",
            "Data columns (total 17 columns):\n",
            " #   Column            Non-Null Count   Dtype  \n",
            "---  ------            --------------   -----  \n",
            " 0   Unnamed: 0        378661 non-null  int64  \n",
            " 1   ID                378661 non-null  int64  \n",
            " 2   name              378657 non-null  object \n",
            " 3   category          378661 non-null  object \n",
            " 4   main_category     378661 non-null  object \n",
            " 5   currency          359728 non-null  object \n",
            " 6   deadline          378661 non-null  object \n",
            " 7   goal              378661 non-null  float64\n",
            " 8   launched          378661 non-null  object \n",
            " 9   pledged           378661 non-null  float64\n",
            " 10  state             378661 non-null  object \n",
            " 11  backers           378472 non-null  float64\n",
            " 12  country           378661 non-null  object \n",
            " 13  usd pledged       374864 non-null  float64\n",
            " 14  usd_pledged_real  378661 non-null  float64\n",
            " 15  usd_goal_real     378661 non-null  float64\n",
            " 16  Unnamed           378661 non-null  int64  \n",
            "dtypes: float64(6), int64(3), object(8)\n",
            "memory usage: 49.1+ MB\n"
          ],
          "name": "stdout"
        }
      ]
    },
    {
      "cell_type": "code",
      "metadata": {
        "id": "gimeDz9risY8",
        "colab": {
          "base_uri": "https://localhost:8080/"
        },
        "outputId": "4b4cc780-b524-471c-f1fb-0cd4b8060c0f"
      },
      "source": [
        "kickstarter['goal'].describe()"
      ],
      "execution_count": null,
      "outputs": [
        {
          "output_type": "execute_result",
          "data": {
            "text/plain": [
              "count    3.786610e+05\n",
              "mean     4.908079e+04\n",
              "std      1.183391e+06\n",
              "min      1.000000e-02\n",
              "25%      2.000000e+03\n",
              "50%      5.200000e+03\n",
              "75%      1.600000e+04\n",
              "max      1.000000e+08\n",
              "Name: goal, dtype: float64"
            ]
          },
          "metadata": {
            "tags": []
          },
          "execution_count": 20
        }
      ]
    },
    {
      "cell_type": "code",
      "metadata": {
        "id": "1xA95mkAisY8",
        "colab": {
          "base_uri": "https://localhost:8080/",
          "height": 315
        },
        "outputId": "5f1e913e-ba59-4ffe-891f-9f4edbfb7f72"
      },
      "source": [
        " kickstarter.describe()"
      ],
      "execution_count": null,
      "outputs": [
        {
          "output_type": "execute_result",
          "data": {
            "text/html": [
              "<div>\n",
              "<style scoped>\n",
              "    .dataframe tbody tr th:only-of-type {\n",
              "        vertical-align: middle;\n",
              "    }\n",
              "\n",
              "    .dataframe tbody tr th {\n",
              "        vertical-align: top;\n",
              "    }\n",
              "\n",
              "    .dataframe thead th {\n",
              "        text-align: right;\n",
              "    }\n",
              "</style>\n",
              "<table border=\"1\" class=\"dataframe\">\n",
              "  <thead>\n",
              "    <tr style=\"text-align: right;\">\n",
              "      <th></th>\n",
              "      <th>Unnamed: 0</th>\n",
              "      <th>ID</th>\n",
              "      <th>goal</th>\n",
              "      <th>pledged</th>\n",
              "      <th>backers</th>\n",
              "      <th>usd pledged</th>\n",
              "      <th>usd_pledged_real</th>\n",
              "      <th>usd_goal_real</th>\n",
              "      <th>Unnamed</th>\n",
              "    </tr>\n",
              "  </thead>\n",
              "  <tbody>\n",
              "    <tr>\n",
              "      <th>count</th>\n",
              "      <td>378661.000000</td>\n",
              "      <td>3.786610e+05</td>\n",
              "      <td>3.786610e+05</td>\n",
              "      <td>3.786610e+05</td>\n",
              "      <td>378472.000000</td>\n",
              "      <td>3.748640e+05</td>\n",
              "      <td>3.786610e+05</td>\n",
              "      <td>3.786610e+05</td>\n",
              "      <td>3.786610e+05</td>\n",
              "    </tr>\n",
              "    <tr>\n",
              "      <th>mean</th>\n",
              "      <td>189330.000000</td>\n",
              "      <td>1.074731e+09</td>\n",
              "      <td>4.908079e+04</td>\n",
              "      <td>9.682979e+03</td>\n",
              "      <td>105.638689</td>\n",
              "      <td>7.036729e+03</td>\n",
              "      <td>9.058924e+03</td>\n",
              "      <td>4.545440e+04</td>\n",
              "      <td>1.074731e+09</td>\n",
              "    </tr>\n",
              "    <tr>\n",
              "      <th>std</th>\n",
              "      <td>109310.159478</td>\n",
              "      <td>6.190862e+08</td>\n",
              "      <td>1.183391e+06</td>\n",
              "      <td>9.563601e+04</td>\n",
              "      <td>907.404675</td>\n",
              "      <td>7.863975e+04</td>\n",
              "      <td>9.097334e+04</td>\n",
              "      <td>1.152950e+06</td>\n",
              "      <td>6.190862e+08</td>\n",
              "    </tr>\n",
              "    <tr>\n",
              "      <th>min</th>\n",
              "      <td>0.000000</td>\n",
              "      <td>5.971000e+03</td>\n",
              "      <td>1.000000e-02</td>\n",
              "      <td>0.000000e+00</td>\n",
              "      <td>0.000000</td>\n",
              "      <td>0.000000e+00</td>\n",
              "      <td>0.000000e+00</td>\n",
              "      <td>1.000000e-02</td>\n",
              "      <td>5.971000e+03</td>\n",
              "    </tr>\n",
              "    <tr>\n",
              "      <th>25%</th>\n",
              "      <td>94665.000000</td>\n",
              "      <td>5.382635e+08</td>\n",
              "      <td>2.000000e+03</td>\n",
              "      <td>3.000000e+01</td>\n",
              "      <td>2.000000</td>\n",
              "      <td>1.698000e+01</td>\n",
              "      <td>3.100000e+01</td>\n",
              "      <td>2.000000e+03</td>\n",
              "      <td>5.382635e+08</td>\n",
              "    </tr>\n",
              "    <tr>\n",
              "      <th>50%</th>\n",
              "      <td>189330.000000</td>\n",
              "      <td>1.075276e+09</td>\n",
              "      <td>5.200000e+03</td>\n",
              "      <td>6.200000e+02</td>\n",
              "      <td>12.000000</td>\n",
              "      <td>3.947200e+02</td>\n",
              "      <td>6.243300e+02</td>\n",
              "      <td>5.500000e+03</td>\n",
              "      <td>1.075276e+09</td>\n",
              "    </tr>\n",
              "    <tr>\n",
              "      <th>75%</th>\n",
              "      <td>283995.000000</td>\n",
              "      <td>1.610149e+09</td>\n",
              "      <td>1.600000e+04</td>\n",
              "      <td>4.076000e+03</td>\n",
              "      <td>56.000000</td>\n",
              "      <td>3.034090e+03</td>\n",
              "      <td>4.050000e+03</td>\n",
              "      <td>1.550000e+04</td>\n",
              "      <td>1.610149e+09</td>\n",
              "    </tr>\n",
              "    <tr>\n",
              "      <th>max</th>\n",
              "      <td>378660.000000</td>\n",
              "      <td>2.147476e+09</td>\n",
              "      <td>1.000000e+08</td>\n",
              "      <td>2.033899e+07</td>\n",
              "      <td>219382.000000</td>\n",
              "      <td>2.033899e+07</td>\n",
              "      <td>2.033899e+07</td>\n",
              "      <td>1.663614e+08</td>\n",
              "      <td>2.147476e+09</td>\n",
              "    </tr>\n",
              "  </tbody>\n",
              "</table>\n",
              "</div>"
            ],
            "text/plain": [
              "          Unnamed: 0            ID  ...  usd_goal_real       Unnamed\n",
              "count  378661.000000  3.786610e+05  ...   3.786610e+05  3.786610e+05\n",
              "mean   189330.000000  1.074731e+09  ...   4.545440e+04  1.074731e+09\n",
              "std    109310.159478  6.190862e+08  ...   1.152950e+06  6.190862e+08\n",
              "min         0.000000  5.971000e+03  ...   1.000000e-02  5.971000e+03\n",
              "25%     94665.000000  5.382635e+08  ...   2.000000e+03  5.382635e+08\n",
              "50%    189330.000000  1.075276e+09  ...   5.500000e+03  1.075276e+09\n",
              "75%    283995.000000  1.610149e+09  ...   1.550000e+04  1.610149e+09\n",
              "max    378660.000000  2.147476e+09  ...   1.663614e+08  2.147476e+09\n",
              "\n",
              "[8 rows x 9 columns]"
            ]
          },
          "metadata": {
            "tags": []
          },
          "execution_count": 21
        }
      ]
    },
    {
      "cell_type": "code",
      "metadata": {
        "id": "P4EIuJI-isY8",
        "colab": {
          "base_uri": "https://localhost:8080/"
        },
        "outputId": "66862b55-1141-4d27-97e1-2ba313b828a1"
      },
      "source": [
        "kickstarter['main_category'].describe()"
      ],
      "execution_count": null,
      "outputs": [
        {
          "output_type": "execute_result",
          "data": {
            "text/plain": [
              "count           378661\n",
              "unique              15\n",
              "top       Film & Video\n",
              "freq             63585\n",
              "Name: main_category, dtype: object"
            ]
          },
          "metadata": {
            "tags": []
          },
          "execution_count": 22
        }
      ]
    },
    {
      "cell_type": "code",
      "metadata": {
        "id": "-AgDEXRPisY9"
      },
      "source": [
        " "
      ],
      "execution_count": null,
      "outputs": []
    },
    {
      "cell_type": "code",
      "metadata": {
        "id": "RbUVHFKXisY9"
      },
      "source": [
        " "
      ],
      "execution_count": null,
      "outputs": []
    },
    {
      "cell_type": "code",
      "metadata": {
        "id": "KOtRWE8FisY9"
      },
      "source": [
        " "
      ],
      "execution_count": null,
      "outputs": []
    },
    {
      "cell_type": "markdown",
      "metadata": {
        "id": "qItmn-abisY9"
      },
      "source": [
        "### Срезы данных"
      ]
    },
    {
      "cell_type": "code",
      "metadata": {
        "id": "RU-372K6isY9",
        "colab": {
          "base_uri": "https://localhost:8080/",
          "height": 497
        },
        "outputId": "b5dd16f4-0b87-4ca1-ae18-13734bdb712d"
      },
      "source": [
        "kickstarter.iloc[10:15]"
      ],
      "execution_count": null,
      "outputs": [
        {
          "output_type": "execute_result",
          "data": {
            "text/html": [
              "<div>\n",
              "<style scoped>\n",
              "    .dataframe tbody tr th:only-of-type {\n",
              "        vertical-align: middle;\n",
              "    }\n",
              "\n",
              "    .dataframe tbody tr th {\n",
              "        vertical-align: top;\n",
              "    }\n",
              "\n",
              "    .dataframe thead th {\n",
              "        text-align: right;\n",
              "    }\n",
              "</style>\n",
              "<table border=\"1\" class=\"dataframe\">\n",
              "  <thead>\n",
              "    <tr style=\"text-align: right;\">\n",
              "      <th></th>\n",
              "      <th>Unnamed: 0</th>\n",
              "      <th>ID</th>\n",
              "      <th>name</th>\n",
              "      <th>category</th>\n",
              "      <th>main_category</th>\n",
              "      <th>currency</th>\n",
              "      <th>deadline</th>\n",
              "      <th>goal</th>\n",
              "      <th>launched</th>\n",
              "      <th>pledged</th>\n",
              "      <th>state</th>\n",
              "      <th>backers</th>\n",
              "      <th>country</th>\n",
              "      <th>usd pledged</th>\n",
              "      <th>usd_pledged_real</th>\n",
              "      <th>usd_goal_real</th>\n",
              "      <th>Unnamed</th>\n",
              "    </tr>\n",
              "  </thead>\n",
              "  <tbody>\n",
              "    <tr>\n",
              "      <th>10</th>\n",
              "      <td>10</td>\n",
              "      <td>100004721</td>\n",
              "      <td>Of Jesus and Madmen</td>\n",
              "      <td>Nonfiction</td>\n",
              "      <td>Publishing</td>\n",
              "      <td>CAD</td>\n",
              "      <td>2013-10-09</td>\n",
              "      <td>2500.0</td>\n",
              "      <td>2013-09-09 18:19:37</td>\n",
              "      <td>0.0</td>\n",
              "      <td>failed</td>\n",
              "      <td>0.0</td>\n",
              "      <td>CA</td>\n",
              "      <td>0.00</td>\n",
              "      <td>0.00</td>\n",
              "      <td>2406.39</td>\n",
              "      <td>100004721</td>\n",
              "    </tr>\n",
              "    <tr>\n",
              "      <th>11</th>\n",
              "      <td>11</td>\n",
              "      <td>100005484</td>\n",
              "      <td>Lisa Lim New CD!</td>\n",
              "      <td>Indie Rock</td>\n",
              "      <td>Music</td>\n",
              "      <td>USD</td>\n",
              "      <td>2013-04-08</td>\n",
              "      <td>12500.0</td>\n",
              "      <td>2013-03-09 06:42:58</td>\n",
              "      <td>12700.0</td>\n",
              "      <td>successful</td>\n",
              "      <td>100.0</td>\n",
              "      <td>US</td>\n",
              "      <td>12700.00</td>\n",
              "      <td>12700.00</td>\n",
              "      <td>12500.00</td>\n",
              "      <td>100005484</td>\n",
              "    </tr>\n",
              "    <tr>\n",
              "      <th>12</th>\n",
              "      <td>12</td>\n",
              "      <td>1000055792</td>\n",
              "      <td>The Cottage Market</td>\n",
              "      <td>Crafts</td>\n",
              "      <td>Crafts</td>\n",
              "      <td>USD</td>\n",
              "      <td>2014-10-02</td>\n",
              "      <td>5000.0</td>\n",
              "      <td>2014-09-02 17:11:50</td>\n",
              "      <td>0.0</td>\n",
              "      <td>failed</td>\n",
              "      <td>0.0</td>\n",
              "      <td>US</td>\n",
              "      <td>0.00</td>\n",
              "      <td>0.00</td>\n",
              "      <td>5000.00</td>\n",
              "      <td>1000055792</td>\n",
              "    </tr>\n",
              "    <tr>\n",
              "      <th>13</th>\n",
              "      <td>13</td>\n",
              "      <td>1000056157</td>\n",
              "      <td>G-Spot Place for Gamers to connect with eachot...</td>\n",
              "      <td>Games</td>\n",
              "      <td>Games</td>\n",
              "      <td>USD</td>\n",
              "      <td>2016-03-25</td>\n",
              "      <td>200000.0</td>\n",
              "      <td>2016-02-09 23:01:12</td>\n",
              "      <td>0.0</td>\n",
              "      <td>failed</td>\n",
              "      <td>0.0</td>\n",
              "      <td>US</td>\n",
              "      <td>0.00</td>\n",
              "      <td>0.00</td>\n",
              "      <td>200000.00</td>\n",
              "      <td>1000056157</td>\n",
              "    </tr>\n",
              "    <tr>\n",
              "      <th>14</th>\n",
              "      <td>14</td>\n",
              "      <td>1000057089</td>\n",
              "      <td>Tombstone: Old West tabletop game and miniatur...</td>\n",
              "      <td>Tabletop Games</td>\n",
              "      <td>Games</td>\n",
              "      <td>GBP</td>\n",
              "      <td>2017-05-03</td>\n",
              "      <td>5000.0</td>\n",
              "      <td>2017-04-05 19:44:18</td>\n",
              "      <td>94175.0</td>\n",
              "      <td>successful</td>\n",
              "      <td>761.0</td>\n",
              "      <td>GB</td>\n",
              "      <td>57763.78</td>\n",
              "      <td>121857.33</td>\n",
              "      <td>6469.73</td>\n",
              "      <td>1000057089</td>\n",
              "    </tr>\n",
              "  </tbody>\n",
              "</table>\n",
              "</div>"
            ],
            "text/plain": [
              "    Unnamed: 0          ID  ... usd_goal_real     Unnamed\n",
              "10          10   100004721  ...       2406.39   100004721\n",
              "11          11   100005484  ...      12500.00   100005484\n",
              "12          12  1000055792  ...       5000.00  1000055792\n",
              "13          13  1000056157  ...     200000.00  1000056157\n",
              "14          14  1000057089  ...       6469.73  1000057089\n",
              "\n",
              "[5 rows x 17 columns]"
            ]
          },
          "metadata": {
            "tags": []
          },
          "execution_count": 23
        }
      ]
    },
    {
      "cell_type": "code",
      "metadata": {
        "id": "4PFpi882isY9",
        "colab": {
          "base_uri": "https://localhost:8080/",
          "height": 480
        },
        "outputId": "35c4c6a2-7986-493e-ca9b-523e07792be5"
      },
      "source": [
        "kickstarter.iloc[10:20:2]"
      ],
      "execution_count": null,
      "outputs": [
        {
          "output_type": "execute_result",
          "data": {
            "text/html": [
              "<div>\n",
              "<style scoped>\n",
              "    .dataframe tbody tr th:only-of-type {\n",
              "        vertical-align: middle;\n",
              "    }\n",
              "\n",
              "    .dataframe tbody tr th {\n",
              "        vertical-align: top;\n",
              "    }\n",
              "\n",
              "    .dataframe thead th {\n",
              "        text-align: right;\n",
              "    }\n",
              "</style>\n",
              "<table border=\"1\" class=\"dataframe\">\n",
              "  <thead>\n",
              "    <tr style=\"text-align: right;\">\n",
              "      <th></th>\n",
              "      <th>Unnamed: 0</th>\n",
              "      <th>ID</th>\n",
              "      <th>name</th>\n",
              "      <th>category</th>\n",
              "      <th>main_category</th>\n",
              "      <th>currency</th>\n",
              "      <th>deadline</th>\n",
              "      <th>goal</th>\n",
              "      <th>launched</th>\n",
              "      <th>pledged</th>\n",
              "      <th>state</th>\n",
              "      <th>backers</th>\n",
              "      <th>country</th>\n",
              "      <th>usd pledged</th>\n",
              "      <th>usd_pledged_real</th>\n",
              "      <th>usd_goal_real</th>\n",
              "      <th>Unnamed</th>\n",
              "    </tr>\n",
              "  </thead>\n",
              "  <tbody>\n",
              "    <tr>\n",
              "      <th>10</th>\n",
              "      <td>10</td>\n",
              "      <td>100004721</td>\n",
              "      <td>Of Jesus and Madmen</td>\n",
              "      <td>Nonfiction</td>\n",
              "      <td>Publishing</td>\n",
              "      <td>CAD</td>\n",
              "      <td>2013-10-09</td>\n",
              "      <td>2500.0</td>\n",
              "      <td>2013-09-09 18:19:37</td>\n",
              "      <td>0.0</td>\n",
              "      <td>failed</td>\n",
              "      <td>0.0</td>\n",
              "      <td>CA</td>\n",
              "      <td>0.00</td>\n",
              "      <td>0.00</td>\n",
              "      <td>2406.39</td>\n",
              "      <td>100004721</td>\n",
              "    </tr>\n",
              "    <tr>\n",
              "      <th>12</th>\n",
              "      <td>12</td>\n",
              "      <td>1000055792</td>\n",
              "      <td>The Cottage Market</td>\n",
              "      <td>Crafts</td>\n",
              "      <td>Crafts</td>\n",
              "      <td>USD</td>\n",
              "      <td>2014-10-02</td>\n",
              "      <td>5000.0</td>\n",
              "      <td>2014-09-02 17:11:50</td>\n",
              "      <td>0.0</td>\n",
              "      <td>failed</td>\n",
              "      <td>0.0</td>\n",
              "      <td>US</td>\n",
              "      <td>0.00</td>\n",
              "      <td>0.00</td>\n",
              "      <td>5000.00</td>\n",
              "      <td>1000055792</td>\n",
              "    </tr>\n",
              "    <tr>\n",
              "      <th>14</th>\n",
              "      <td>14</td>\n",
              "      <td>1000057089</td>\n",
              "      <td>Tombstone: Old West tabletop game and miniatur...</td>\n",
              "      <td>Tabletop Games</td>\n",
              "      <td>Games</td>\n",
              "      <td>GBP</td>\n",
              "      <td>2017-05-03</td>\n",
              "      <td>5000.0</td>\n",
              "      <td>2017-04-05 19:44:18</td>\n",
              "      <td>94175.0</td>\n",
              "      <td>successful</td>\n",
              "      <td>761.0</td>\n",
              "      <td>GB</td>\n",
              "      <td>57763.78</td>\n",
              "      <td>121857.33</td>\n",
              "      <td>6469.73</td>\n",
              "      <td>1000057089</td>\n",
              "    </tr>\n",
              "    <tr>\n",
              "      <th>16</th>\n",
              "      <td>16</td>\n",
              "      <td>1000064918</td>\n",
              "      <td>The Beard</td>\n",
              "      <td>Comic Books</td>\n",
              "      <td>Comics</td>\n",
              "      <td>USD</td>\n",
              "      <td>2014-11-08</td>\n",
              "      <td>1500.0</td>\n",
              "      <td>2014-10-09 22:27:52</td>\n",
              "      <td>395.0</td>\n",
              "      <td>failed</td>\n",
              "      <td>16.0</td>\n",
              "      <td>US</td>\n",
              "      <td>395.00</td>\n",
              "      <td>395.00</td>\n",
              "      <td>1500.00</td>\n",
              "      <td>1000064918</td>\n",
              "    </tr>\n",
              "    <tr>\n",
              "      <th>18</th>\n",
              "      <td>18</td>\n",
              "      <td>1000070642</td>\n",
              "      <td>Mike Corey's Darkness &amp; Light Album</td>\n",
              "      <td>Music</td>\n",
              "      <td>Music</td>\n",
              "      <td>NaN</td>\n",
              "      <td>2012-08-17</td>\n",
              "      <td>250.0</td>\n",
              "      <td>2012-08-02 14:11:32</td>\n",
              "      <td>250.0</td>\n",
              "      <td>successful</td>\n",
              "      <td>7.0</td>\n",
              "      <td>US</td>\n",
              "      <td>250.00</td>\n",
              "      <td>250.00</td>\n",
              "      <td>250.00</td>\n",
              "      <td>1000070642</td>\n",
              "    </tr>\n",
              "  </tbody>\n",
              "</table>\n",
              "</div>"
            ],
            "text/plain": [
              "    Unnamed: 0          ID  ... usd_goal_real     Unnamed\n",
              "10          10   100004721  ...       2406.39   100004721\n",
              "12          12  1000055792  ...       5000.00  1000055792\n",
              "14          14  1000057089  ...       6469.73  1000057089\n",
              "16          16  1000064918  ...       1500.00  1000064918\n",
              "18          18  1000070642  ...        250.00  1000070642\n",
              "\n",
              "[5 rows x 17 columns]"
            ]
          },
          "metadata": {
            "tags": []
          },
          "execution_count": 24
        }
      ]
    },
    {
      "cell_type": "code",
      "metadata": {
        "id": "Wk7TcDNEisY9",
        "colab": {
          "base_uri": "https://localhost:8080/",
          "height": 806
        },
        "outputId": "da32b954-2c6e-41bb-f68d-de8919f58f0d"
      },
      "source": [
        "kickstarter.iloc[100:90:-1]"
      ],
      "execution_count": null,
      "outputs": [
        {
          "output_type": "execute_result",
          "data": {
            "text/html": [
              "<div>\n",
              "<style scoped>\n",
              "    .dataframe tbody tr th:only-of-type {\n",
              "        vertical-align: middle;\n",
              "    }\n",
              "\n",
              "    .dataframe tbody tr th {\n",
              "        vertical-align: top;\n",
              "    }\n",
              "\n",
              "    .dataframe thead th {\n",
              "        text-align: right;\n",
              "    }\n",
              "</style>\n",
              "<table border=\"1\" class=\"dataframe\">\n",
              "  <thead>\n",
              "    <tr style=\"text-align: right;\">\n",
              "      <th></th>\n",
              "      <th>Unnamed: 0</th>\n",
              "      <th>ID</th>\n",
              "      <th>name</th>\n",
              "      <th>category</th>\n",
              "      <th>main_category</th>\n",
              "      <th>currency</th>\n",
              "      <th>deadline</th>\n",
              "      <th>goal</th>\n",
              "      <th>launched</th>\n",
              "      <th>pledged</th>\n",
              "      <th>state</th>\n",
              "      <th>backers</th>\n",
              "      <th>country</th>\n",
              "      <th>usd pledged</th>\n",
              "      <th>usd_pledged_real</th>\n",
              "      <th>usd_goal_real</th>\n",
              "      <th>Unnamed</th>\n",
              "    </tr>\n",
              "  </thead>\n",
              "  <tbody>\n",
              "    <tr>\n",
              "      <th>100</th>\n",
              "      <td>100</td>\n",
              "      <td>1000405957</td>\n",
              "      <td>Just Another Reality Show: Season 3</td>\n",
              "      <td>Webseries</td>\n",
              "      <td>Film &amp; Video</td>\n",
              "      <td>USD</td>\n",
              "      <td>2014-05-11</td>\n",
              "      <td>500.0</td>\n",
              "      <td>2014-04-10 23:04:22</td>\n",
              "      <td>756.00</td>\n",
              "      <td>successful</td>\n",
              "      <td>8.0</td>\n",
              "      <td>US</td>\n",
              "      <td>756.00</td>\n",
              "      <td>756.00</td>\n",
              "      <td>500.00</td>\n",
              "      <td>1000405957</td>\n",
              "    </tr>\n",
              "    <tr>\n",
              "      <th>99</th>\n",
              "      <td>99</td>\n",
              "      <td>1000399155</td>\n",
              "      <td>New Lasagna</td>\n",
              "      <td>Restaurants</td>\n",
              "      <td>Food</td>\n",
              "      <td>USD</td>\n",
              "      <td>2014-10-17</td>\n",
              "      <td>5000.0</td>\n",
              "      <td>2014-08-18 11:13:15</td>\n",
              "      <td>0.00</td>\n",
              "      <td>failed</td>\n",
              "      <td>0.0</td>\n",
              "      <td>US</td>\n",
              "      <td>0.00</td>\n",
              "      <td>0.00</td>\n",
              "      <td>5000.00</td>\n",
              "      <td>1000399155</td>\n",
              "    </tr>\n",
              "    <tr>\n",
              "      <th>98</th>\n",
              "      <td>98</td>\n",
              "      <td>100039820</td>\n",
              "      <td>Best Spray Bottle Ever - SureShot</td>\n",
              "      <td>Gadgets</td>\n",
              "      <td>Technology</td>\n",
              "      <td>CAD</td>\n",
              "      <td>2015-03-07</td>\n",
              "      <td>25000.0</td>\n",
              "      <td>2015-02-05 16:57:21</td>\n",
              "      <td>3.00</td>\n",
              "      <td>failed</td>\n",
              "      <td>3.0</td>\n",
              "      <td>CA</td>\n",
              "      <td>2.41</td>\n",
              "      <td>2.36</td>\n",
              "      <td>19632.48</td>\n",
              "      <td>100039820</td>\n",
              "    </tr>\n",
              "    <tr>\n",
              "      <th>97</th>\n",
              "      <td>97</td>\n",
              "      <td>1000392220</td>\n",
              "      <td>The Girls Bathroom</td>\n",
              "      <td>Webseries</td>\n",
              "      <td>Film &amp; Video</td>\n",
              "      <td>USD</td>\n",
              "      <td>2011-07-31</td>\n",
              "      <td>2000.0</td>\n",
              "      <td>2011-07-06 16:35:45</td>\n",
              "      <td>2252.99</td>\n",
              "      <td>successful</td>\n",
              "      <td>45.0</td>\n",
              "      <td>US</td>\n",
              "      <td>2252.99</td>\n",
              "      <td>2252.99</td>\n",
              "      <td>2000.00</td>\n",
              "      <td>1000392220</td>\n",
              "    </tr>\n",
              "    <tr>\n",
              "      <th>96</th>\n",
              "      <td>96</td>\n",
              "      <td>1000389241</td>\n",
              "      <td>Bob Contemplates Ending It All</td>\n",
              "      <td>Shorts</td>\n",
              "      <td>Film &amp; Video</td>\n",
              "      <td>USD</td>\n",
              "      <td>2014-01-27</td>\n",
              "      <td>3000.0</td>\n",
              "      <td>2013-12-18 20:54:02</td>\n",
              "      <td>3755.00</td>\n",
              "      <td>successful</td>\n",
              "      <td>52.0</td>\n",
              "      <td>US</td>\n",
              "      <td>3755.00</td>\n",
              "      <td>3755.00</td>\n",
              "      <td>3000.00</td>\n",
              "      <td>1000389241</td>\n",
              "    </tr>\n",
              "    <tr>\n",
              "      <th>95</th>\n",
              "      <td>95</td>\n",
              "      <td>1000386601</td>\n",
              "      <td>Los Angeles International Student Film Festival</td>\n",
              "      <td>Film &amp; Video</td>\n",
              "      <td>Film &amp; Video</td>\n",
              "      <td>USD</td>\n",
              "      <td>2014-04-03</td>\n",
              "      <td>1500.0</td>\n",
              "      <td>2014-03-04 17:24:51</td>\n",
              "      <td>1932.99</td>\n",
              "      <td>successful</td>\n",
              "      <td>29.0</td>\n",
              "      <td>US</td>\n",
              "      <td>1932.99</td>\n",
              "      <td>1932.99</td>\n",
              "      <td>1500.00</td>\n",
              "      <td>1000386601</td>\n",
              "    </tr>\n",
              "    <tr>\n",
              "      <th>94</th>\n",
              "      <td>94</td>\n",
              "      <td>1000374001</td>\n",
              "      <td>The Dark Waters Project</td>\n",
              "      <td>Indie Rock</td>\n",
              "      <td>Music</td>\n",
              "      <td>USD</td>\n",
              "      <td>2013-04-07</td>\n",
              "      <td>10000.0</td>\n",
              "      <td>2013-02-20 01:48:42</td>\n",
              "      <td>10414.00</td>\n",
              "      <td>successful</td>\n",
              "      <td>113.0</td>\n",
              "      <td>US</td>\n",
              "      <td>10414.00</td>\n",
              "      <td>10414.00</td>\n",
              "      <td>10000.00</td>\n",
              "      <td>1000374001</td>\n",
              "    </tr>\n",
              "    <tr>\n",
              "      <th>93</th>\n",
              "      <td>93</td>\n",
              "      <td>10003650</td>\n",
              "      <td>Glyscian Debut Album Recording (Canceled)</td>\n",
              "      <td>Rock</td>\n",
              "      <td>Music</td>\n",
              "      <td>USD</td>\n",
              "      <td>2012-05-26</td>\n",
              "      <td>15000.0</td>\n",
              "      <td>2012-03-27 04:25:46</td>\n",
              "      <td>151.00</td>\n",
              "      <td>canceled</td>\n",
              "      <td>4.0</td>\n",
              "      <td>US</td>\n",
              "      <td>151.00</td>\n",
              "      <td>151.00</td>\n",
              "      <td>15000.00</td>\n",
              "      <td>10003650</td>\n",
              "    </tr>\n",
              "    <tr>\n",
              "      <th>92</th>\n",
              "      <td>92</td>\n",
              "      <td>1000354338</td>\n",
              "      <td>\"Little Shop of Horrors\" at the Browncoat Thea...</td>\n",
              "      <td>Theater</td>\n",
              "      <td>Theater</td>\n",
              "      <td>USD</td>\n",
              "      <td>2012-08-14</td>\n",
              "      <td>2000.0</td>\n",
              "      <td>2012-06-30 20:05:26</td>\n",
              "      <td>2075.00</td>\n",
              "      <td>successful</td>\n",
              "      <td>40.0</td>\n",
              "      <td>US</td>\n",
              "      <td>2075.00</td>\n",
              "      <td>2075.00</td>\n",
              "      <td>2000.00</td>\n",
              "      <td>1000354338</td>\n",
              "    </tr>\n",
              "    <tr>\n",
              "      <th>91</th>\n",
              "      <td>91</td>\n",
              "      <td>1000348776</td>\n",
              "      <td>P/O/V Comic and Literary Anthology</td>\n",
              "      <td>Comics</td>\n",
              "      <td>Comics</td>\n",
              "      <td>USD</td>\n",
              "      <td>2012-03-06</td>\n",
              "      <td>4289.0</td>\n",
              "      <td>2012-01-21 18:25:26</td>\n",
              "      <td>474.00</td>\n",
              "      <td>failed</td>\n",
              "      <td>14.0</td>\n",
              "      <td>US</td>\n",
              "      <td>474.00</td>\n",
              "      <td>474.00</td>\n",
              "      <td>4289.00</td>\n",
              "      <td>1000348776</td>\n",
              "    </tr>\n",
              "  </tbody>\n",
              "</table>\n",
              "</div>"
            ],
            "text/plain": [
              "     Unnamed: 0          ID  ... usd_goal_real     Unnamed\n",
              "100         100  1000405957  ...        500.00  1000405957\n",
              "99           99  1000399155  ...       5000.00  1000399155\n",
              "98           98   100039820  ...      19632.48   100039820\n",
              "97           97  1000392220  ...       2000.00  1000392220\n",
              "96           96  1000389241  ...       3000.00  1000389241\n",
              "95           95  1000386601  ...       1500.00  1000386601\n",
              "94           94  1000374001  ...      10000.00  1000374001\n",
              "93           93    10003650  ...      15000.00    10003650\n",
              "92           92  1000354338  ...       2000.00  1000354338\n",
              "91           91  1000348776  ...       4289.00  1000348776\n",
              "\n",
              "[10 rows x 17 columns]"
            ]
          },
          "metadata": {
            "tags": []
          },
          "execution_count": 25
        }
      ]
    },
    {
      "cell_type": "code",
      "metadata": {
        "id": "LvjD-1_uyDIu",
        "colab": {
          "base_uri": "https://localhost:8080/",
          "height": 203
        },
        "outputId": "34893eac-8043-46c5-bcd6-350ab0319a87"
      },
      "source": [
        "kickstarter.iloc[10:15,2:5]"
      ],
      "execution_count": null,
      "outputs": [
        {
          "output_type": "execute_result",
          "data": {
            "text/html": [
              "<div>\n",
              "<style scoped>\n",
              "    .dataframe tbody tr th:only-of-type {\n",
              "        vertical-align: middle;\n",
              "    }\n",
              "\n",
              "    .dataframe tbody tr th {\n",
              "        vertical-align: top;\n",
              "    }\n",
              "\n",
              "    .dataframe thead th {\n",
              "        text-align: right;\n",
              "    }\n",
              "</style>\n",
              "<table border=\"1\" class=\"dataframe\">\n",
              "  <thead>\n",
              "    <tr style=\"text-align: right;\">\n",
              "      <th></th>\n",
              "      <th>name</th>\n",
              "      <th>category</th>\n",
              "      <th>main_category</th>\n",
              "    </tr>\n",
              "  </thead>\n",
              "  <tbody>\n",
              "    <tr>\n",
              "      <th>10</th>\n",
              "      <td>Of Jesus and Madmen</td>\n",
              "      <td>Nonfiction</td>\n",
              "      <td>Publishing</td>\n",
              "    </tr>\n",
              "    <tr>\n",
              "      <th>11</th>\n",
              "      <td>Lisa Lim New CD!</td>\n",
              "      <td>Indie Rock</td>\n",
              "      <td>Music</td>\n",
              "    </tr>\n",
              "    <tr>\n",
              "      <th>12</th>\n",
              "      <td>The Cottage Market</td>\n",
              "      <td>Crafts</td>\n",
              "      <td>Crafts</td>\n",
              "    </tr>\n",
              "    <tr>\n",
              "      <th>13</th>\n",
              "      <td>G-Spot Place for Gamers to connect with eachot...</td>\n",
              "      <td>Games</td>\n",
              "      <td>Games</td>\n",
              "    </tr>\n",
              "    <tr>\n",
              "      <th>14</th>\n",
              "      <td>Tombstone: Old West tabletop game and miniatur...</td>\n",
              "      <td>Tabletop Games</td>\n",
              "      <td>Games</td>\n",
              "    </tr>\n",
              "  </tbody>\n",
              "</table>\n",
              "</div>"
            ],
            "text/plain": [
              "                                                 name  ... main_category\n",
              "10                                Of Jesus and Madmen  ...    Publishing\n",
              "11                                   Lisa Lim New CD!  ...         Music\n",
              "12                                 The Cottage Market  ...        Crafts\n",
              "13  G-Spot Place for Gamers to connect with eachot...  ...         Games\n",
              "14  Tombstone: Old West tabletop game and miniatur...  ...         Games\n",
              "\n",
              "[5 rows x 3 columns]"
            ]
          },
          "metadata": {
            "tags": []
          },
          "execution_count": 26
        }
      ]
    },
    {
      "cell_type": "code",
      "metadata": {
        "id": "UCPb8kJjySIF",
        "colab": {
          "base_uri": "https://localhost:8080/"
        },
        "outputId": "6f42627c-71b3-40c1-e095-8ea38c3599e4"
      },
      "source": [
        "kickstarter.loc[4:15,'name']"
      ],
      "execution_count": null,
      "outputs": [
        {
          "output_type": "execute_result",
          "data": {
            "text/plain": [
              "4     Community Film Project: The Art of Neighborhoo...\n",
              "5                                  Monarch Espresso Bar\n",
              "6     Support Solar Roasted Coffee & Green Energy!  ...\n",
              "7     Chaser Strips. Our Strips make Shots their B*tch!\n",
              "8     SPIN - Premium Retractable In-Ear Headphones w...\n",
              "9     STUDIO IN THE SKY - A Documentary Feature Film...\n",
              "10                                  Of Jesus and Madmen\n",
              "11                                     Lisa Lim New CD!\n",
              "12                                   The Cottage Market\n",
              "13    G-Spot Place for Gamers to connect with eachot...\n",
              "14    Tombstone: Old West tabletop game and miniatur...\n",
              "15                                       Survival Rings\n",
              "Name: name, dtype: object"
            ]
          },
          "metadata": {
            "tags": []
          },
          "execution_count": 27
        }
      ]
    },
    {
      "cell_type": "code",
      "metadata": {
        "id": "BdsXdM_DydIM",
        "colab": {
          "base_uri": "https://localhost:8080/",
          "height": 419
        },
        "outputId": "3ea92d65-8ac7-4a43-8dc4-238a36b01171"
      },
      "source": [
        "kickstarter.loc[4:15,['name','main_category']]"
      ],
      "execution_count": null,
      "outputs": [
        {
          "output_type": "execute_result",
          "data": {
            "text/html": [
              "<div>\n",
              "<style scoped>\n",
              "    .dataframe tbody tr th:only-of-type {\n",
              "        vertical-align: middle;\n",
              "    }\n",
              "\n",
              "    .dataframe tbody tr th {\n",
              "        vertical-align: top;\n",
              "    }\n",
              "\n",
              "    .dataframe thead th {\n",
              "        text-align: right;\n",
              "    }\n",
              "</style>\n",
              "<table border=\"1\" class=\"dataframe\">\n",
              "  <thead>\n",
              "    <tr style=\"text-align: right;\">\n",
              "      <th></th>\n",
              "      <th>name</th>\n",
              "      <th>main_category</th>\n",
              "    </tr>\n",
              "  </thead>\n",
              "  <tbody>\n",
              "    <tr>\n",
              "      <th>4</th>\n",
              "      <td>Community Film Project: The Art of Neighborhoo...</td>\n",
              "      <td>Film &amp; Video</td>\n",
              "    </tr>\n",
              "    <tr>\n",
              "      <th>5</th>\n",
              "      <td>Monarch Espresso Bar</td>\n",
              "      <td>Food</td>\n",
              "    </tr>\n",
              "    <tr>\n",
              "      <th>6</th>\n",
              "      <td>Support Solar Roasted Coffee &amp; Green Energy!  ...</td>\n",
              "      <td>Food</td>\n",
              "    </tr>\n",
              "    <tr>\n",
              "      <th>7</th>\n",
              "      <td>Chaser Strips. Our Strips make Shots their B*tch!</td>\n",
              "      <td>Food</td>\n",
              "    </tr>\n",
              "    <tr>\n",
              "      <th>8</th>\n",
              "      <td>SPIN - Premium Retractable In-Ear Headphones w...</td>\n",
              "      <td>Design</td>\n",
              "    </tr>\n",
              "    <tr>\n",
              "      <th>9</th>\n",
              "      <td>STUDIO IN THE SKY - A Documentary Feature Film...</td>\n",
              "      <td>Film &amp; Video</td>\n",
              "    </tr>\n",
              "    <tr>\n",
              "      <th>10</th>\n",
              "      <td>Of Jesus and Madmen</td>\n",
              "      <td>Publishing</td>\n",
              "    </tr>\n",
              "    <tr>\n",
              "      <th>11</th>\n",
              "      <td>Lisa Lim New CD!</td>\n",
              "      <td>Music</td>\n",
              "    </tr>\n",
              "    <tr>\n",
              "      <th>12</th>\n",
              "      <td>The Cottage Market</td>\n",
              "      <td>Crafts</td>\n",
              "    </tr>\n",
              "    <tr>\n",
              "      <th>13</th>\n",
              "      <td>G-Spot Place for Gamers to connect with eachot...</td>\n",
              "      <td>Games</td>\n",
              "    </tr>\n",
              "    <tr>\n",
              "      <th>14</th>\n",
              "      <td>Tombstone: Old West tabletop game and miniatur...</td>\n",
              "      <td>Games</td>\n",
              "    </tr>\n",
              "    <tr>\n",
              "      <th>15</th>\n",
              "      <td>Survival Rings</td>\n",
              "      <td>Design</td>\n",
              "    </tr>\n",
              "  </tbody>\n",
              "</table>\n",
              "</div>"
            ],
            "text/plain": [
              "                                                 name main_category\n",
              "4   Community Film Project: The Art of Neighborhoo...  Film & Video\n",
              "5                                Monarch Espresso Bar          Food\n",
              "6   Support Solar Roasted Coffee & Green Energy!  ...          Food\n",
              "7   Chaser Strips. Our Strips make Shots their B*tch!          Food\n",
              "8   SPIN - Premium Retractable In-Ear Headphones w...        Design\n",
              "9   STUDIO IN THE SKY - A Documentary Feature Film...  Film & Video\n",
              "10                                Of Jesus and Madmen    Publishing\n",
              "11                                   Lisa Lim New CD!         Music\n",
              "12                                 The Cottage Market        Crafts\n",
              "13  G-Spot Place for Gamers to connect with eachot...         Games\n",
              "14  Tombstone: Old West tabletop game and miniatur...         Games\n",
              "15                                     Survival Rings        Design"
            ]
          },
          "metadata": {
            "tags": []
          },
          "execution_count": 28
        }
      ]
    },
    {
      "cell_type": "code",
      "metadata": {
        "id": "Qwr1tRKRyoDL",
        "colab": {
          "base_uri": "https://localhost:8080/",
          "height": 797
        },
        "outputId": "fa740dae-6754-49d2-8f8a-9591be0d1485"
      },
      "source": [
        "kickstarter.loc[kickstarter['main_category']=='Games']"
      ],
      "execution_count": null,
      "outputs": [
        {
          "output_type": "execute_result",
          "data": {
            "text/html": [
              "<div>\n",
              "<style scoped>\n",
              "    .dataframe tbody tr th:only-of-type {\n",
              "        vertical-align: middle;\n",
              "    }\n",
              "\n",
              "    .dataframe tbody tr th {\n",
              "        vertical-align: top;\n",
              "    }\n",
              "\n",
              "    .dataframe thead th {\n",
              "        text-align: right;\n",
              "    }\n",
              "</style>\n",
              "<table border=\"1\" class=\"dataframe\">\n",
              "  <thead>\n",
              "    <tr style=\"text-align: right;\">\n",
              "      <th></th>\n",
              "      <th>Unnamed: 0</th>\n",
              "      <th>ID</th>\n",
              "      <th>name</th>\n",
              "      <th>category</th>\n",
              "      <th>main_category</th>\n",
              "      <th>currency</th>\n",
              "      <th>deadline</th>\n",
              "      <th>goal</th>\n",
              "      <th>launched</th>\n",
              "      <th>pledged</th>\n",
              "      <th>state</th>\n",
              "      <th>backers</th>\n",
              "      <th>country</th>\n",
              "      <th>usd pledged</th>\n",
              "      <th>usd_pledged_real</th>\n",
              "      <th>usd_goal_real</th>\n",
              "      <th>Unnamed</th>\n",
              "    </tr>\n",
              "  </thead>\n",
              "  <tbody>\n",
              "    <tr>\n",
              "      <th>13</th>\n",
              "      <td>13</td>\n",
              "      <td>1000056157</td>\n",
              "      <td>G-Spot Place for Gamers to connect with eachot...</td>\n",
              "      <td>Games</td>\n",
              "      <td>Games</td>\n",
              "      <td>USD</td>\n",
              "      <td>2016-03-25</td>\n",
              "      <td>200000.0</td>\n",
              "      <td>2016-02-09 23:01:12</td>\n",
              "      <td>0.0</td>\n",
              "      <td>failed</td>\n",
              "      <td>0.0</td>\n",
              "      <td>US</td>\n",
              "      <td>0.00</td>\n",
              "      <td>0.00</td>\n",
              "      <td>200000.00</td>\n",
              "      <td>1000056157</td>\n",
              "    </tr>\n",
              "    <tr>\n",
              "      <th>14</th>\n",
              "      <td>14</td>\n",
              "      <td>1000057089</td>\n",
              "      <td>Tombstone: Old West tabletop game and miniatur...</td>\n",
              "      <td>Tabletop Games</td>\n",
              "      <td>Games</td>\n",
              "      <td>GBP</td>\n",
              "      <td>2017-05-03</td>\n",
              "      <td>5000.0</td>\n",
              "      <td>2017-04-05 19:44:18</td>\n",
              "      <td>94175.0</td>\n",
              "      <td>successful</td>\n",
              "      <td>761.0</td>\n",
              "      <td>GB</td>\n",
              "      <td>57763.78</td>\n",
              "      <td>121857.33</td>\n",
              "      <td>6469.73</td>\n",
              "      <td>1000057089</td>\n",
              "    </tr>\n",
              "    <tr>\n",
              "      <th>43</th>\n",
              "      <td>43</td>\n",
              "      <td>1000170964</td>\n",
              "      <td>Penny Bingo Playing Card Game fun for the whol...</td>\n",
              "      <td>Tabletop Games</td>\n",
              "      <td>Games</td>\n",
              "      <td>USD</td>\n",
              "      <td>2017-03-27</td>\n",
              "      <td>1500.0</td>\n",
              "      <td>2017-03-02 04:01:43</td>\n",
              "      <td>856.0</td>\n",
              "      <td>failed</td>\n",
              "      <td>25.0</td>\n",
              "      <td>US</td>\n",
              "      <td>324.00</td>\n",
              "      <td>856.00</td>\n",
              "      <td>1500.00</td>\n",
              "      <td>1000170964</td>\n",
              "    </tr>\n",
              "    <tr>\n",
              "      <th>48</th>\n",
              "      <td>48</td>\n",
              "      <td>1000190427</td>\n",
              "      <td>Seas of Iron</td>\n",
              "      <td>Tabletop Games</td>\n",
              "      <td>Games</td>\n",
              "      <td>USD</td>\n",
              "      <td>2013-07-19</td>\n",
              "      <td>3000.0</td>\n",
              "      <td>2013-06-19 03:16:33</td>\n",
              "      <td>8105.0</td>\n",
              "      <td>successful</td>\n",
              "      <td>218.0</td>\n",
              "      <td>US</td>\n",
              "      <td>8105.00</td>\n",
              "      <td>8105.00</td>\n",
              "      <td>3000.00</td>\n",
              "      <td>1000190427</td>\n",
              "    </tr>\n",
              "    <tr>\n",
              "      <th>59</th>\n",
              "      <td>59</td>\n",
              "      <td>1000232288</td>\n",
              "      <td>Empires at Sea</td>\n",
              "      <td>Tabletop Games</td>\n",
              "      <td>Games</td>\n",
              "      <td>USD</td>\n",
              "      <td>2015-06-23</td>\n",
              "      <td>25000.0</td>\n",
              "      <td>2015-05-24 12:47:52</td>\n",
              "      <td>37199.0</td>\n",
              "      <td>successful</td>\n",
              "      <td>448.0</td>\n",
              "      <td>US</td>\n",
              "      <td>37199.00</td>\n",
              "      <td>37199.00</td>\n",
              "      <td>25000.00</td>\n",
              "      <td>1000232288</td>\n",
              "    </tr>\n",
              "    <tr>\n",
              "      <th>...</th>\n",
              "      <td>...</td>\n",
              "      <td>...</td>\n",
              "      <td>...</td>\n",
              "      <td>...</td>\n",
              "      <td>...</td>\n",
              "      <td>...</td>\n",
              "      <td>...</td>\n",
              "      <td>...</td>\n",
              "      <td>...</td>\n",
              "      <td>...</td>\n",
              "      <td>...</td>\n",
              "      <td>...</td>\n",
              "      <td>...</td>\n",
              "      <td>...</td>\n",
              "      <td>...</td>\n",
              "      <td>...</td>\n",
              "      <td>...</td>\n",
              "    </tr>\n",
              "    <tr>\n",
              "      <th>378587</th>\n",
              "      <td>378587</td>\n",
              "      <td>999618790</td>\n",
              "      <td>Cloud Game Hosting</td>\n",
              "      <td>Video Games</td>\n",
              "      <td>Games</td>\n",
              "      <td>AUD</td>\n",
              "      <td>2016-09-03</td>\n",
              "      <td>5000.0</td>\n",
              "      <td>2016-08-04 09:04:16</td>\n",
              "      <td>20.0</td>\n",
              "      <td>canceled</td>\n",
              "      <td>1.0</td>\n",
              "      <td>AU</td>\n",
              "      <td>0.00</td>\n",
              "      <td>15.19</td>\n",
              "      <td>3797.66</td>\n",
              "      <td>999618790</td>\n",
              "    </tr>\n",
              "    <tr>\n",
              "      <th>378592</th>\n",
              "      <td>378592</td>\n",
              "      <td>9996452</td>\n",
              "      <td>Onit Saves The World! Let's make this game one...</td>\n",
              "      <td>Video Games</td>\n",
              "      <td>Games</td>\n",
              "      <td>CAD</td>\n",
              "      <td>2013-10-25</td>\n",
              "      <td>375000.0</td>\n",
              "      <td>2013-09-25 22:13:27</td>\n",
              "      <td>556.0</td>\n",
              "      <td>failed</td>\n",
              "      <td>4.0</td>\n",
              "      <td>CA</td>\n",
              "      <td>540.53</td>\n",
              "      <td>532.67</td>\n",
              "      <td>359264.23</td>\n",
              "      <td>9996452</td>\n",
              "    </tr>\n",
              "    <tr>\n",
              "      <th>378631</th>\n",
              "      <td>378631</td>\n",
              "      <td>999832803</td>\n",
              "      <td>MONSTROCARDS- A Creative Drawing Game of Horri...</td>\n",
              "      <td>Playing Cards</td>\n",
              "      <td>Games</td>\n",
              "      <td>NaN</td>\n",
              "      <td>2014-10-03</td>\n",
              "      <td>10000.0</td>\n",
              "      <td>2014-09-03 19:53:50</td>\n",
              "      <td>13861.5</td>\n",
              "      <td>successful</td>\n",
              "      <td>413.0</td>\n",
              "      <td>US</td>\n",
              "      <td>13861.50</td>\n",
              "      <td>13861.50</td>\n",
              "      <td>10000.00</td>\n",
              "      <td>999832803</td>\n",
              "    </tr>\n",
              "    <tr>\n",
              "      <th>378642</th>\n",
              "      <td>378642</td>\n",
              "      <td>999929142</td>\n",
              "      <td>ÉPOUVANTAILS : 28mm Figurines de jeux pour KIN...</td>\n",
              "      <td>Tabletop Games</td>\n",
              "      <td>Games</td>\n",
              "      <td>EUR</td>\n",
              "      <td>2017-10-31</td>\n",
              "      <td>1000.0</td>\n",
              "      <td>2017-10-04 11:26:44</td>\n",
              "      <td>1246.0</td>\n",
              "      <td>successful</td>\n",
              "      <td>35.0</td>\n",
              "      <td>FR</td>\n",
              "      <td>66.72</td>\n",
              "      <td>1452.47</td>\n",
              "      <td>1165.70</td>\n",
              "      <td>999929142</td>\n",
              "    </tr>\n",
              "    <tr>\n",
              "      <th>378648</th>\n",
              "      <td>378648</td>\n",
              "      <td>999955533</td>\n",
              "      <td>Cards and Chit Network Season 2! (Canceled)</td>\n",
              "      <td>Tabletop Games</td>\n",
              "      <td>Games</td>\n",
              "      <td>USD</td>\n",
              "      <td>2016-02-23</td>\n",
              "      <td>500.0</td>\n",
              "      <td>2016-01-24 16:03:27</td>\n",
              "      <td>121.0</td>\n",
              "      <td>canceled</td>\n",
              "      <td>5.0</td>\n",
              "      <td>US</td>\n",
              "      <td>121.00</td>\n",
              "      <td>121.00</td>\n",
              "      <td>500.00</td>\n",
              "      <td>999955533</td>\n",
              "    </tr>\n",
              "  </tbody>\n",
              "</table>\n",
              "<p>35231 rows × 17 columns</p>\n",
              "</div>"
            ],
            "text/plain": [
              "        Unnamed: 0          ID  ... usd_goal_real     Unnamed\n",
              "13              13  1000056157  ...     200000.00  1000056157\n",
              "14              14  1000057089  ...       6469.73  1000057089\n",
              "43              43  1000170964  ...       1500.00  1000170964\n",
              "48              48  1000190427  ...       3000.00  1000190427\n",
              "59              59  1000232288  ...      25000.00  1000232288\n",
              "...            ...         ...  ...           ...         ...\n",
              "378587      378587   999618790  ...       3797.66   999618790\n",
              "378592      378592     9996452  ...     359264.23     9996452\n",
              "378631      378631   999832803  ...      10000.00   999832803\n",
              "378642      378642   999929142  ...       1165.70   999929142\n",
              "378648      378648   999955533  ...        500.00   999955533\n",
              "\n",
              "[35231 rows x 17 columns]"
            ]
          },
          "metadata": {
            "tags": []
          },
          "execution_count": 29
        }
      ]
    },
    {
      "cell_type": "code",
      "metadata": {
        "id": "Pksft5a2zEML",
        "colab": {
          "base_uri": "https://localhost:8080/"
        },
        "outputId": "860242de-f4cc-4012-a07a-59077796290d"
      },
      "source": [
        "kickstarter.loc[kickstarter['main_category']=='Games']['name']"
      ],
      "execution_count": null,
      "outputs": [
        {
          "output_type": "execute_result",
          "data": {
            "text/plain": [
              "13        G-Spot Place for Gamers to connect with eachot...\n",
              "14        Tombstone: Old West tabletop game and miniatur...\n",
              "43        Penny Bingo Playing Card Game fun for the whol...\n",
              "48                                             Seas of Iron\n",
              "59                                           Empires at Sea\n",
              "                                ...                        \n",
              "378587                                   Cloud Game Hosting\n",
              "378592    Onit Saves The World! Let's make this game one...\n",
              "378631    MONSTROCARDS- A Creative Drawing Game of Horri...\n",
              "378642    ÉPOUVANTAILS : 28mm Figurines de jeux pour KIN...\n",
              "378648          Cards and Chit Network Season 2! (Canceled)\n",
              "Name: name, Length: 35231, dtype: object"
            ]
          },
          "metadata": {
            "tags": []
          },
          "execution_count": 30
        }
      ]
    },
    {
      "cell_type": "code",
      "metadata": {
        "id": "Iq-iB3Gg7nKO",
        "colab": {
          "base_uri": "https://localhost:8080/",
          "height": 934
        },
        "outputId": "147ca31a-6c4d-4d29-8229-51bd4b90c348"
      },
      "source": [
        "kickstarter.loc[kickstarter['main_category']!='Games']"
      ],
      "execution_count": null,
      "outputs": [
        {
          "output_type": "execute_result",
          "data": {
            "text/html": [
              "<div>\n",
              "<style scoped>\n",
              "    .dataframe tbody tr th:only-of-type {\n",
              "        vertical-align: middle;\n",
              "    }\n",
              "\n",
              "    .dataframe tbody tr th {\n",
              "        vertical-align: top;\n",
              "    }\n",
              "\n",
              "    .dataframe thead th {\n",
              "        text-align: right;\n",
              "    }\n",
              "</style>\n",
              "<table border=\"1\" class=\"dataframe\">\n",
              "  <thead>\n",
              "    <tr style=\"text-align: right;\">\n",
              "      <th></th>\n",
              "      <th>Unnamed: 0</th>\n",
              "      <th>ID</th>\n",
              "      <th>name</th>\n",
              "      <th>category</th>\n",
              "      <th>main_category</th>\n",
              "      <th>currency</th>\n",
              "      <th>deadline</th>\n",
              "      <th>goal</th>\n",
              "      <th>launched</th>\n",
              "      <th>pledged</th>\n",
              "      <th>state</th>\n",
              "      <th>backers</th>\n",
              "      <th>country</th>\n",
              "      <th>usd pledged</th>\n",
              "      <th>usd_pledged_real</th>\n",
              "      <th>usd_goal_real</th>\n",
              "      <th>Unnamed</th>\n",
              "    </tr>\n",
              "  </thead>\n",
              "  <tbody>\n",
              "    <tr>\n",
              "      <th>0</th>\n",
              "      <td>0</td>\n",
              "      <td>1000002330</td>\n",
              "      <td>The Songs of Adelaide &amp; Abullah</td>\n",
              "      <td>Poetry</td>\n",
              "      <td>Publishing</td>\n",
              "      <td>GBP</td>\n",
              "      <td>2015-10-09</td>\n",
              "      <td>1000.0</td>\n",
              "      <td>2015-08-11 12:12:28</td>\n",
              "      <td>0.0</td>\n",
              "      <td>failed</td>\n",
              "      <td>0.0</td>\n",
              "      <td>GB</td>\n",
              "      <td>0.0</td>\n",
              "      <td>0.0</td>\n",
              "      <td>1533.95</td>\n",
              "      <td>1000002330</td>\n",
              "    </tr>\n",
              "    <tr>\n",
              "      <th>1</th>\n",
              "      <td>1</td>\n",
              "      <td>1000003930</td>\n",
              "      <td>Greeting From Earth: ZGAC Arts Capsule For ET</td>\n",
              "      <td>Narrative Film</td>\n",
              "      <td>Film &amp; Video</td>\n",
              "      <td>USD</td>\n",
              "      <td>2017-11-01</td>\n",
              "      <td>30000.0</td>\n",
              "      <td>2017-09-02 04:43:57</td>\n",
              "      <td>2421.0</td>\n",
              "      <td>failed</td>\n",
              "      <td>15.0</td>\n",
              "      <td>US</td>\n",
              "      <td>100.0</td>\n",
              "      <td>2421.0</td>\n",
              "      <td>30000.00</td>\n",
              "      <td>1000003930</td>\n",
              "    </tr>\n",
              "    <tr>\n",
              "      <th>2</th>\n",
              "      <td>2</td>\n",
              "      <td>1000004038</td>\n",
              "      <td>Where is Hank?</td>\n",
              "      <td>Narrative Film</td>\n",
              "      <td>Film &amp; Video</td>\n",
              "      <td>NaN</td>\n",
              "      <td>2013-02-26</td>\n",
              "      <td>45000.0</td>\n",
              "      <td>2013-01-12 00:20:50</td>\n",
              "      <td>220.0</td>\n",
              "      <td>failed</td>\n",
              "      <td>3.0</td>\n",
              "      <td>US</td>\n",
              "      <td>220.0</td>\n",
              "      <td>220.0</td>\n",
              "      <td>45000.00</td>\n",
              "      <td>1000004038</td>\n",
              "    </tr>\n",
              "    <tr>\n",
              "      <th>3</th>\n",
              "      <td>3</td>\n",
              "      <td>1000007540</td>\n",
              "      <td>ToshiCapital Rekordz Needs Help to Complete Album</td>\n",
              "      <td>Music</td>\n",
              "      <td>Music</td>\n",
              "      <td>USD</td>\n",
              "      <td>2012-04-16</td>\n",
              "      <td>5000.0</td>\n",
              "      <td>2012-03-17 03:24:11</td>\n",
              "      <td>1.0</td>\n",
              "      <td>failed</td>\n",
              "      <td>1.0</td>\n",
              "      <td>US</td>\n",
              "      <td>1.0</td>\n",
              "      <td>1.0</td>\n",
              "      <td>5000.00</td>\n",
              "      <td>1000007540</td>\n",
              "    </tr>\n",
              "    <tr>\n",
              "      <th>4</th>\n",
              "      <td>4</td>\n",
              "      <td>1000011046</td>\n",
              "      <td>Community Film Project: The Art of Neighborhoo...</td>\n",
              "      <td>Film &amp; Video</td>\n",
              "      <td>Film &amp; Video</td>\n",
              "      <td>USD</td>\n",
              "      <td>2015-08-29</td>\n",
              "      <td>19500.0</td>\n",
              "      <td>2015-07-04 08:35:03</td>\n",
              "      <td>1283.0</td>\n",
              "      <td>canceled</td>\n",
              "      <td>14.0</td>\n",
              "      <td>US</td>\n",
              "      <td>1283.0</td>\n",
              "      <td>1283.0</td>\n",
              "      <td>19500.00</td>\n",
              "      <td>1000011046</td>\n",
              "    </tr>\n",
              "    <tr>\n",
              "      <th>...</th>\n",
              "      <td>...</td>\n",
              "      <td>...</td>\n",
              "      <td>...</td>\n",
              "      <td>...</td>\n",
              "      <td>...</td>\n",
              "      <td>...</td>\n",
              "      <td>...</td>\n",
              "      <td>...</td>\n",
              "      <td>...</td>\n",
              "      <td>...</td>\n",
              "      <td>...</td>\n",
              "      <td>...</td>\n",
              "      <td>...</td>\n",
              "      <td>...</td>\n",
              "      <td>...</td>\n",
              "      <td>...</td>\n",
              "      <td>...</td>\n",
              "    </tr>\n",
              "    <tr>\n",
              "      <th>378656</th>\n",
              "      <td>378656</td>\n",
              "      <td>999976400</td>\n",
              "      <td>ChknTruk Nationwide Charity Drive 2014 (Canceled)</td>\n",
              "      <td>Documentary</td>\n",
              "      <td>Film &amp; Video</td>\n",
              "      <td>USD</td>\n",
              "      <td>2014-10-17</td>\n",
              "      <td>50000.0</td>\n",
              "      <td>2014-09-17 02:35:30</td>\n",
              "      <td>25.0</td>\n",
              "      <td>canceled</td>\n",
              "      <td>1.0</td>\n",
              "      <td>US</td>\n",
              "      <td>25.0</td>\n",
              "      <td>25.0</td>\n",
              "      <td>50000.00</td>\n",
              "      <td>999976400</td>\n",
              "    </tr>\n",
              "    <tr>\n",
              "      <th>378657</th>\n",
              "      <td>378657</td>\n",
              "      <td>999977640</td>\n",
              "      <td>The Tribe</td>\n",
              "      <td>Narrative Film</td>\n",
              "      <td>Film &amp; Video</td>\n",
              "      <td>USD</td>\n",
              "      <td>2011-07-19</td>\n",
              "      <td>1500.0</td>\n",
              "      <td>2011-06-22 03:35:14</td>\n",
              "      <td>155.0</td>\n",
              "      <td>failed</td>\n",
              "      <td>5.0</td>\n",
              "      <td>US</td>\n",
              "      <td>155.0</td>\n",
              "      <td>155.0</td>\n",
              "      <td>1500.00</td>\n",
              "      <td>999977640</td>\n",
              "    </tr>\n",
              "    <tr>\n",
              "      <th>378658</th>\n",
              "      <td>378658</td>\n",
              "      <td>999986353</td>\n",
              "      <td>Walls of Remedy- New lesbian Romantic Comedy f...</td>\n",
              "      <td>Narrative Film</td>\n",
              "      <td>Film &amp; Video</td>\n",
              "      <td>NaN</td>\n",
              "      <td>2010-08-16</td>\n",
              "      <td>15000.0</td>\n",
              "      <td>2010-07-01 19:40:30</td>\n",
              "      <td>20.0</td>\n",
              "      <td>failed</td>\n",
              "      <td>1.0</td>\n",
              "      <td>US</td>\n",
              "      <td>20.0</td>\n",
              "      <td>20.0</td>\n",
              "      <td>15000.00</td>\n",
              "      <td>999986353</td>\n",
              "    </tr>\n",
              "    <tr>\n",
              "      <th>378659</th>\n",
              "      <td>378659</td>\n",
              "      <td>999987933</td>\n",
              "      <td>BioDefense Education Kit</td>\n",
              "      <td>Technology</td>\n",
              "      <td>Technology</td>\n",
              "      <td>USD</td>\n",
              "      <td>2016-02-13</td>\n",
              "      <td>15000.0</td>\n",
              "      <td>2016-01-13 18:13:53</td>\n",
              "      <td>200.0</td>\n",
              "      <td>failed</td>\n",
              "      <td>6.0</td>\n",
              "      <td>US</td>\n",
              "      <td>200.0</td>\n",
              "      <td>200.0</td>\n",
              "      <td>15000.00</td>\n",
              "      <td>999987933</td>\n",
              "    </tr>\n",
              "    <tr>\n",
              "      <th>378660</th>\n",
              "      <td>378660</td>\n",
              "      <td>999988282</td>\n",
              "      <td>Nou Renmen Ayiti!  We Love Haiti!</td>\n",
              "      <td>Performance Art</td>\n",
              "      <td>Art</td>\n",
              "      <td>USD</td>\n",
              "      <td>2011-08-16</td>\n",
              "      <td>2000.0</td>\n",
              "      <td>2011-07-19 09:07:47</td>\n",
              "      <td>524.0</td>\n",
              "      <td>failed</td>\n",
              "      <td>17.0</td>\n",
              "      <td>US</td>\n",
              "      <td>524.0</td>\n",
              "      <td>524.0</td>\n",
              "      <td>2000.00</td>\n",
              "      <td>999988282</td>\n",
              "    </tr>\n",
              "  </tbody>\n",
              "</table>\n",
              "<p>343430 rows × 17 columns</p>\n",
              "</div>"
            ],
            "text/plain": [
              "        Unnamed: 0          ID  ... usd_goal_real     Unnamed\n",
              "0                0  1000002330  ...       1533.95  1000002330\n",
              "1                1  1000003930  ...      30000.00  1000003930\n",
              "2                2  1000004038  ...      45000.00  1000004038\n",
              "3                3  1000007540  ...       5000.00  1000007540\n",
              "4                4  1000011046  ...      19500.00  1000011046\n",
              "...            ...         ...  ...           ...         ...\n",
              "378656      378656   999976400  ...      50000.00   999976400\n",
              "378657      378657   999977640  ...       1500.00   999977640\n",
              "378658      378658   999986353  ...      15000.00   999986353\n",
              "378659      378659   999987933  ...      15000.00   999987933\n",
              "378660      378660   999988282  ...       2000.00   999988282\n",
              "\n",
              "[343430 rows x 17 columns]"
            ]
          },
          "metadata": {
            "tags": []
          },
          "execution_count": 31
        }
      ]
    },
    {
      "cell_type": "code",
      "metadata": {
        "id": "G428_EQ6zjqE",
        "colab": {
          "base_uri": "https://localhost:8080/"
        },
        "outputId": "5f7ee72c-b9a6-4580-c38d-2f7044c2beb3"
      },
      "source": [
        "kickstarter['main_category']=='Games'"
      ],
      "execution_count": null,
      "outputs": [
        {
          "output_type": "execute_result",
          "data": {
            "text/plain": [
              "0         False\n",
              "1         False\n",
              "2         False\n",
              "3         False\n",
              "4         False\n",
              "          ...  \n",
              "378656    False\n",
              "378657    False\n",
              "378658    False\n",
              "378659    False\n",
              "378660    False\n",
              "Name: main_category, Length: 378661, dtype: bool"
            ]
          },
          "metadata": {
            "tags": []
          },
          "execution_count": 32
        }
      ]
    },
    {
      "cell_type": "code",
      "metadata": {
        "id": "8SUksetKz63T",
        "colab": {
          "base_uri": "https://localhost:8080/",
          "height": 1000
        },
        "outputId": "4b5ad6e1-1cc3-4fc3-b90f-f9981e5148d0"
      },
      "source": [
        "kickstarter.loc[(kickstarter['main_category']=='Games') & (kickstarter['goal']>10000)]"
      ],
      "execution_count": null,
      "outputs": [
        {
          "output_type": "execute_result",
          "data": {
            "text/html": [
              "<div>\n",
              "<style scoped>\n",
              "    .dataframe tbody tr th:only-of-type {\n",
              "        vertical-align: middle;\n",
              "    }\n",
              "\n",
              "    .dataframe tbody tr th {\n",
              "        vertical-align: top;\n",
              "    }\n",
              "\n",
              "    .dataframe thead th {\n",
              "        text-align: right;\n",
              "    }\n",
              "</style>\n",
              "<table border=\"1\" class=\"dataframe\">\n",
              "  <thead>\n",
              "    <tr style=\"text-align: right;\">\n",
              "      <th></th>\n",
              "      <th>Unnamed: 0</th>\n",
              "      <th>ID</th>\n",
              "      <th>name</th>\n",
              "      <th>category</th>\n",
              "      <th>main_category</th>\n",
              "      <th>currency</th>\n",
              "      <th>deadline</th>\n",
              "      <th>goal</th>\n",
              "      <th>launched</th>\n",
              "      <th>pledged</th>\n",
              "      <th>state</th>\n",
              "      <th>backers</th>\n",
              "      <th>country</th>\n",
              "      <th>usd pledged</th>\n",
              "      <th>usd_pledged_real</th>\n",
              "      <th>usd_goal_real</th>\n",
              "      <th>Unnamed</th>\n",
              "    </tr>\n",
              "  </thead>\n",
              "  <tbody>\n",
              "    <tr>\n",
              "      <th>13</th>\n",
              "      <td>13</td>\n",
              "      <td>1000056157</td>\n",
              "      <td>G-Spot Place for Gamers to connect with eachot...</td>\n",
              "      <td>Games</td>\n",
              "      <td>Games</td>\n",
              "      <td>USD</td>\n",
              "      <td>2016-03-25</td>\n",
              "      <td>200000.0</td>\n",
              "      <td>2016-02-09 23:01:12</td>\n",
              "      <td>0.0</td>\n",
              "      <td>failed</td>\n",
              "      <td>0.0</td>\n",
              "      <td>US</td>\n",
              "      <td>0.00</td>\n",
              "      <td>0.00</td>\n",
              "      <td>200000.00</td>\n",
              "      <td>1000056157</td>\n",
              "    </tr>\n",
              "    <tr>\n",
              "      <th>59</th>\n",
              "      <td>59</td>\n",
              "      <td>1000232288</td>\n",
              "      <td>Empires at Sea</td>\n",
              "      <td>Tabletop Games</td>\n",
              "      <td>Games</td>\n",
              "      <td>USD</td>\n",
              "      <td>2015-06-23</td>\n",
              "      <td>25000.0</td>\n",
              "      <td>2015-05-24 12:47:52</td>\n",
              "      <td>37199.0</td>\n",
              "      <td>successful</td>\n",
              "      <td>448.0</td>\n",
              "      <td>US</td>\n",
              "      <td>37199.00</td>\n",
              "      <td>37199.00</td>\n",
              "      <td>25000.00</td>\n",
              "      <td>1000232288</td>\n",
              "    </tr>\n",
              "    <tr>\n",
              "      <th>73</th>\n",
              "      <td>73</td>\n",
              "      <td>1000278154</td>\n",
              "      <td>Loot and Recruit - A quirky, combative, deck b...</td>\n",
              "      <td>Tabletop Games</td>\n",
              "      <td>Games</td>\n",
              "      <td>USD</td>\n",
              "      <td>2015-04-10</td>\n",
              "      <td>13000.0</td>\n",
              "      <td>2015-03-10 13:19:18</td>\n",
              "      <td>2453.0</td>\n",
              "      <td>canceled</td>\n",
              "      <td>65.0</td>\n",
              "      <td>US</td>\n",
              "      <td>2453.00</td>\n",
              "      <td>2453.00</td>\n",
              "      <td>13000.00</td>\n",
              "      <td>1000278154</td>\n",
              "    </tr>\n",
              "    <tr>\n",
              "      <th>79</th>\n",
              "      <td>79</td>\n",
              "      <td>1000328150</td>\n",
              "      <td>Legacy of Svarog | a Unique 3D Action RPG and ...</td>\n",
              "      <td>Video Games</td>\n",
              "      <td>Games</td>\n",
              "      <td>USD</td>\n",
              "      <td>2015-10-30</td>\n",
              "      <td>50000.0</td>\n",
              "      <td>2015-08-31 06:33:31</td>\n",
              "      <td>1410.0</td>\n",
              "      <td>failed</td>\n",
              "      <td>38.0</td>\n",
              "      <td>US</td>\n",
              "      <td>1410.00</td>\n",
              "      <td>1410.00</td>\n",
              "      <td>50000.00</td>\n",
              "      <td>1000328150</td>\n",
              "    </tr>\n",
              "    <tr>\n",
              "      <th>81</th>\n",
              "      <td>81</td>\n",
              "      <td>1000331311</td>\n",
              "      <td>AWE - Antediluvian Wars: Extermination Tactica...</td>\n",
              "      <td>Tabletop Games</td>\n",
              "      <td>Games</td>\n",
              "      <td>USD</td>\n",
              "      <td>2014-08-31</td>\n",
              "      <td>13000.0</td>\n",
              "      <td>2014-08-01 00:02:17</td>\n",
              "      <td>1811.0</td>\n",
              "      <td>failed</td>\n",
              "      <td>34.0</td>\n",
              "      <td>US</td>\n",
              "      <td>1811.00</td>\n",
              "      <td>1811.00</td>\n",
              "      <td>13000.00</td>\n",
              "      <td>1000331311</td>\n",
              "    </tr>\n",
              "    <tr>\n",
              "      <th>...</th>\n",
              "      <td>...</td>\n",
              "      <td>...</td>\n",
              "      <td>...</td>\n",
              "      <td>...</td>\n",
              "      <td>...</td>\n",
              "      <td>...</td>\n",
              "      <td>...</td>\n",
              "      <td>...</td>\n",
              "      <td>...</td>\n",
              "      <td>...</td>\n",
              "      <td>...</td>\n",
              "      <td>...</td>\n",
              "      <td>...</td>\n",
              "      <td>...</td>\n",
              "      <td>...</td>\n",
              "      <td>...</td>\n",
              "      <td>...</td>\n",
              "    </tr>\n",
              "    <tr>\n",
              "      <th>378538</th>\n",
              "      <td>378538</td>\n",
              "      <td>999350480</td>\n",
              "      <td>Zombie Forge - The Game (Canceled)</td>\n",
              "      <td>Video Games</td>\n",
              "      <td>Games</td>\n",
              "      <td>USD</td>\n",
              "      <td>2014-08-10</td>\n",
              "      <td>900000.0</td>\n",
              "      <td>2014-07-04 06:17:30</td>\n",
              "      <td>80.0</td>\n",
              "      <td>canceled</td>\n",
              "      <td>1.0</td>\n",
              "      <td>US</td>\n",
              "      <td>80.00</td>\n",
              "      <td>80.00</td>\n",
              "      <td>900000.00</td>\n",
              "      <td>999350480</td>\n",
              "    </tr>\n",
              "    <tr>\n",
              "      <th>378546</th>\n",
              "      <td>378546</td>\n",
              "      <td>999402669</td>\n",
              "      <td>Canterbury</td>\n",
              "      <td>Tabletop Games</td>\n",
              "      <td>Games</td>\n",
              "      <td>USD</td>\n",
              "      <td>2013-06-02</td>\n",
              "      <td>50000.0</td>\n",
              "      <td>2013-05-01 05:41:04</td>\n",
              "      <td>58355.5</td>\n",
              "      <td>successful</td>\n",
              "      <td>709.0</td>\n",
              "      <td>US</td>\n",
              "      <td>58355.50</td>\n",
              "      <td>58355.50</td>\n",
              "      <td>50000.00</td>\n",
              "      <td>999402669</td>\n",
              "    </tr>\n",
              "    <tr>\n",
              "      <th>378549</th>\n",
              "      <td>378549</td>\n",
              "      <td>999414644</td>\n",
              "      <td>Ebenezer Scrooge's Eggnog Dash Tabletop Game</td>\n",
              "      <td>Tabletop Games</td>\n",
              "      <td>Games</td>\n",
              "      <td>USD</td>\n",
              "      <td>2013-03-21</td>\n",
              "      <td>33000.0</td>\n",
              "      <td>2013-02-19 20:54:32</td>\n",
              "      <td>7629.0</td>\n",
              "      <td>failed</td>\n",
              "      <td>46.0</td>\n",
              "      <td>US</td>\n",
              "      <td>7629.00</td>\n",
              "      <td>7629.00</td>\n",
              "      <td>33000.00</td>\n",
              "      <td>999414644</td>\n",
              "    </tr>\n",
              "    <tr>\n",
              "      <th>378563</th>\n",
              "      <td>378563</td>\n",
              "      <td>999484338</td>\n",
              "      <td>Warlords of Terra - BTCG</td>\n",
              "      <td>Video Games</td>\n",
              "      <td>Games</td>\n",
              "      <td>EUR</td>\n",
              "      <td>2015-12-22</td>\n",
              "      <td>15000.0</td>\n",
              "      <td>2015-11-22 10:14:49</td>\n",
              "      <td>3236.0</td>\n",
              "      <td>failed</td>\n",
              "      <td>51.0</td>\n",
              "      <td>ES</td>\n",
              "      <td>3445.41</td>\n",
              "      <td>3542.46</td>\n",
              "      <td>16420.54</td>\n",
              "      <td>999484338</td>\n",
              "    </tr>\n",
              "    <tr>\n",
              "      <th>378592</th>\n",
              "      <td>378592</td>\n",
              "      <td>9996452</td>\n",
              "      <td>Onit Saves The World! Let's make this game one...</td>\n",
              "      <td>Video Games</td>\n",
              "      <td>Games</td>\n",
              "      <td>CAD</td>\n",
              "      <td>2013-10-25</td>\n",
              "      <td>375000.0</td>\n",
              "      <td>2013-09-25 22:13:27</td>\n",
              "      <td>556.0</td>\n",
              "      <td>failed</td>\n",
              "      <td>4.0</td>\n",
              "      <td>CA</td>\n",
              "      <td>540.53</td>\n",
              "      <td>532.67</td>\n",
              "      <td>359264.23</td>\n",
              "      <td>9996452</td>\n",
              "    </tr>\n",
              "  </tbody>\n",
              "</table>\n",
              "<p>14059 rows × 17 columns</p>\n",
              "</div>"
            ],
            "text/plain": [
              "        Unnamed: 0          ID  ... usd_goal_real     Unnamed\n",
              "13              13  1000056157  ...     200000.00  1000056157\n",
              "59              59  1000232288  ...      25000.00  1000232288\n",
              "73              73  1000278154  ...      13000.00  1000278154\n",
              "79              79  1000328150  ...      50000.00  1000328150\n",
              "81              81  1000331311  ...      13000.00  1000331311\n",
              "...            ...         ...  ...           ...         ...\n",
              "378538      378538   999350480  ...     900000.00   999350480\n",
              "378546      378546   999402669  ...      50000.00   999402669\n",
              "378549      378549   999414644  ...      33000.00   999414644\n",
              "378563      378563   999484338  ...      16420.54   999484338\n",
              "378592      378592     9996452  ...     359264.23     9996452\n",
              "\n",
              "[14059 rows x 17 columns]"
            ]
          },
          "metadata": {
            "tags": []
          },
          "execution_count": 33
        }
      ]
    },
    {
      "cell_type": "code",
      "metadata": {
        "id": "kSseEizV0Opl",
        "colab": {
          "base_uri": "https://localhost:8080/",
          "height": 797
        },
        "outputId": "2e87ee6f-7ba9-442c-d1db-3bdd2c72cd07"
      },
      "source": [
        "kickstarter.query('main_category==\"Games\"')"
      ],
      "execution_count": null,
      "outputs": [
        {
          "output_type": "execute_result",
          "data": {
            "text/html": [
              "<div>\n",
              "<style scoped>\n",
              "    .dataframe tbody tr th:only-of-type {\n",
              "        vertical-align: middle;\n",
              "    }\n",
              "\n",
              "    .dataframe tbody tr th {\n",
              "        vertical-align: top;\n",
              "    }\n",
              "\n",
              "    .dataframe thead th {\n",
              "        text-align: right;\n",
              "    }\n",
              "</style>\n",
              "<table border=\"1\" class=\"dataframe\">\n",
              "  <thead>\n",
              "    <tr style=\"text-align: right;\">\n",
              "      <th></th>\n",
              "      <th>Unnamed: 0</th>\n",
              "      <th>ID</th>\n",
              "      <th>name</th>\n",
              "      <th>category</th>\n",
              "      <th>main_category</th>\n",
              "      <th>currency</th>\n",
              "      <th>deadline</th>\n",
              "      <th>goal</th>\n",
              "      <th>launched</th>\n",
              "      <th>pledged</th>\n",
              "      <th>state</th>\n",
              "      <th>backers</th>\n",
              "      <th>country</th>\n",
              "      <th>usd pledged</th>\n",
              "      <th>usd_pledged_real</th>\n",
              "      <th>usd_goal_real</th>\n",
              "      <th>Unnamed</th>\n",
              "    </tr>\n",
              "  </thead>\n",
              "  <tbody>\n",
              "    <tr>\n",
              "      <th>13</th>\n",
              "      <td>13</td>\n",
              "      <td>1000056157</td>\n",
              "      <td>G-Spot Place for Gamers to connect with eachot...</td>\n",
              "      <td>Games</td>\n",
              "      <td>Games</td>\n",
              "      <td>USD</td>\n",
              "      <td>2016-03-25</td>\n",
              "      <td>200000.0</td>\n",
              "      <td>2016-02-09 23:01:12</td>\n",
              "      <td>0.0</td>\n",
              "      <td>failed</td>\n",
              "      <td>0.0</td>\n",
              "      <td>US</td>\n",
              "      <td>0.00</td>\n",
              "      <td>0.00</td>\n",
              "      <td>200000.00</td>\n",
              "      <td>1000056157</td>\n",
              "    </tr>\n",
              "    <tr>\n",
              "      <th>14</th>\n",
              "      <td>14</td>\n",
              "      <td>1000057089</td>\n",
              "      <td>Tombstone: Old West tabletop game and miniatur...</td>\n",
              "      <td>Tabletop Games</td>\n",
              "      <td>Games</td>\n",
              "      <td>GBP</td>\n",
              "      <td>2017-05-03</td>\n",
              "      <td>5000.0</td>\n",
              "      <td>2017-04-05 19:44:18</td>\n",
              "      <td>94175.0</td>\n",
              "      <td>successful</td>\n",
              "      <td>761.0</td>\n",
              "      <td>GB</td>\n",
              "      <td>57763.78</td>\n",
              "      <td>121857.33</td>\n",
              "      <td>6469.73</td>\n",
              "      <td>1000057089</td>\n",
              "    </tr>\n",
              "    <tr>\n",
              "      <th>43</th>\n",
              "      <td>43</td>\n",
              "      <td>1000170964</td>\n",
              "      <td>Penny Bingo Playing Card Game fun for the whol...</td>\n",
              "      <td>Tabletop Games</td>\n",
              "      <td>Games</td>\n",
              "      <td>USD</td>\n",
              "      <td>2017-03-27</td>\n",
              "      <td>1500.0</td>\n",
              "      <td>2017-03-02 04:01:43</td>\n",
              "      <td>856.0</td>\n",
              "      <td>failed</td>\n",
              "      <td>25.0</td>\n",
              "      <td>US</td>\n",
              "      <td>324.00</td>\n",
              "      <td>856.00</td>\n",
              "      <td>1500.00</td>\n",
              "      <td>1000170964</td>\n",
              "    </tr>\n",
              "    <tr>\n",
              "      <th>48</th>\n",
              "      <td>48</td>\n",
              "      <td>1000190427</td>\n",
              "      <td>Seas of Iron</td>\n",
              "      <td>Tabletop Games</td>\n",
              "      <td>Games</td>\n",
              "      <td>USD</td>\n",
              "      <td>2013-07-19</td>\n",
              "      <td>3000.0</td>\n",
              "      <td>2013-06-19 03:16:33</td>\n",
              "      <td>8105.0</td>\n",
              "      <td>successful</td>\n",
              "      <td>218.0</td>\n",
              "      <td>US</td>\n",
              "      <td>8105.00</td>\n",
              "      <td>8105.00</td>\n",
              "      <td>3000.00</td>\n",
              "      <td>1000190427</td>\n",
              "    </tr>\n",
              "    <tr>\n",
              "      <th>59</th>\n",
              "      <td>59</td>\n",
              "      <td>1000232288</td>\n",
              "      <td>Empires at Sea</td>\n",
              "      <td>Tabletop Games</td>\n",
              "      <td>Games</td>\n",
              "      <td>USD</td>\n",
              "      <td>2015-06-23</td>\n",
              "      <td>25000.0</td>\n",
              "      <td>2015-05-24 12:47:52</td>\n",
              "      <td>37199.0</td>\n",
              "      <td>successful</td>\n",
              "      <td>448.0</td>\n",
              "      <td>US</td>\n",
              "      <td>37199.00</td>\n",
              "      <td>37199.00</td>\n",
              "      <td>25000.00</td>\n",
              "      <td>1000232288</td>\n",
              "    </tr>\n",
              "    <tr>\n",
              "      <th>...</th>\n",
              "      <td>...</td>\n",
              "      <td>...</td>\n",
              "      <td>...</td>\n",
              "      <td>...</td>\n",
              "      <td>...</td>\n",
              "      <td>...</td>\n",
              "      <td>...</td>\n",
              "      <td>...</td>\n",
              "      <td>...</td>\n",
              "      <td>...</td>\n",
              "      <td>...</td>\n",
              "      <td>...</td>\n",
              "      <td>...</td>\n",
              "      <td>...</td>\n",
              "      <td>...</td>\n",
              "      <td>...</td>\n",
              "      <td>...</td>\n",
              "    </tr>\n",
              "    <tr>\n",
              "      <th>378587</th>\n",
              "      <td>378587</td>\n",
              "      <td>999618790</td>\n",
              "      <td>Cloud Game Hosting</td>\n",
              "      <td>Video Games</td>\n",
              "      <td>Games</td>\n",
              "      <td>AUD</td>\n",
              "      <td>2016-09-03</td>\n",
              "      <td>5000.0</td>\n",
              "      <td>2016-08-04 09:04:16</td>\n",
              "      <td>20.0</td>\n",
              "      <td>canceled</td>\n",
              "      <td>1.0</td>\n",
              "      <td>AU</td>\n",
              "      <td>0.00</td>\n",
              "      <td>15.19</td>\n",
              "      <td>3797.66</td>\n",
              "      <td>999618790</td>\n",
              "    </tr>\n",
              "    <tr>\n",
              "      <th>378592</th>\n",
              "      <td>378592</td>\n",
              "      <td>9996452</td>\n",
              "      <td>Onit Saves The World! Let's make this game one...</td>\n",
              "      <td>Video Games</td>\n",
              "      <td>Games</td>\n",
              "      <td>CAD</td>\n",
              "      <td>2013-10-25</td>\n",
              "      <td>375000.0</td>\n",
              "      <td>2013-09-25 22:13:27</td>\n",
              "      <td>556.0</td>\n",
              "      <td>failed</td>\n",
              "      <td>4.0</td>\n",
              "      <td>CA</td>\n",
              "      <td>540.53</td>\n",
              "      <td>532.67</td>\n",
              "      <td>359264.23</td>\n",
              "      <td>9996452</td>\n",
              "    </tr>\n",
              "    <tr>\n",
              "      <th>378631</th>\n",
              "      <td>378631</td>\n",
              "      <td>999832803</td>\n",
              "      <td>MONSTROCARDS- A Creative Drawing Game of Horri...</td>\n",
              "      <td>Playing Cards</td>\n",
              "      <td>Games</td>\n",
              "      <td>NaN</td>\n",
              "      <td>2014-10-03</td>\n",
              "      <td>10000.0</td>\n",
              "      <td>2014-09-03 19:53:50</td>\n",
              "      <td>13861.5</td>\n",
              "      <td>successful</td>\n",
              "      <td>413.0</td>\n",
              "      <td>US</td>\n",
              "      <td>13861.50</td>\n",
              "      <td>13861.50</td>\n",
              "      <td>10000.00</td>\n",
              "      <td>999832803</td>\n",
              "    </tr>\n",
              "    <tr>\n",
              "      <th>378642</th>\n",
              "      <td>378642</td>\n",
              "      <td>999929142</td>\n",
              "      <td>ÉPOUVANTAILS : 28mm Figurines de jeux pour KIN...</td>\n",
              "      <td>Tabletop Games</td>\n",
              "      <td>Games</td>\n",
              "      <td>EUR</td>\n",
              "      <td>2017-10-31</td>\n",
              "      <td>1000.0</td>\n",
              "      <td>2017-10-04 11:26:44</td>\n",
              "      <td>1246.0</td>\n",
              "      <td>successful</td>\n",
              "      <td>35.0</td>\n",
              "      <td>FR</td>\n",
              "      <td>66.72</td>\n",
              "      <td>1452.47</td>\n",
              "      <td>1165.70</td>\n",
              "      <td>999929142</td>\n",
              "    </tr>\n",
              "    <tr>\n",
              "      <th>378648</th>\n",
              "      <td>378648</td>\n",
              "      <td>999955533</td>\n",
              "      <td>Cards and Chit Network Season 2! (Canceled)</td>\n",
              "      <td>Tabletop Games</td>\n",
              "      <td>Games</td>\n",
              "      <td>USD</td>\n",
              "      <td>2016-02-23</td>\n",
              "      <td>500.0</td>\n",
              "      <td>2016-01-24 16:03:27</td>\n",
              "      <td>121.0</td>\n",
              "      <td>canceled</td>\n",
              "      <td>5.0</td>\n",
              "      <td>US</td>\n",
              "      <td>121.00</td>\n",
              "      <td>121.00</td>\n",
              "      <td>500.00</td>\n",
              "      <td>999955533</td>\n",
              "    </tr>\n",
              "  </tbody>\n",
              "</table>\n",
              "<p>35231 rows × 17 columns</p>\n",
              "</div>"
            ],
            "text/plain": [
              "        Unnamed: 0          ID  ... usd_goal_real     Unnamed\n",
              "13              13  1000056157  ...     200000.00  1000056157\n",
              "14              14  1000057089  ...       6469.73  1000057089\n",
              "43              43  1000170964  ...       1500.00  1000170964\n",
              "48              48  1000190427  ...       3000.00  1000190427\n",
              "59              59  1000232288  ...      25000.00  1000232288\n",
              "...            ...         ...  ...           ...         ...\n",
              "378587      378587   999618790  ...       3797.66   999618790\n",
              "378592      378592     9996452  ...     359264.23     9996452\n",
              "378631      378631   999832803  ...      10000.00   999832803\n",
              "378642      378642   999929142  ...       1165.70   999929142\n",
              "378648      378648   999955533  ...        500.00   999955533\n",
              "\n",
              "[35231 rows x 17 columns]"
            ]
          },
          "metadata": {
            "tags": []
          },
          "execution_count": 34
        }
      ]
    },
    {
      "cell_type": "code",
      "metadata": {
        "id": "nj6JKPH40g6M",
        "colab": {
          "base_uri": "https://localhost:8080/",
          "height": 1000
        },
        "outputId": "d7b97954-7c91-47ca-ce63-7d36ac128075"
      },
      "source": [
        "kickstarter.query('main_category==\"Games\" and goal>10000')"
      ],
      "execution_count": null,
      "outputs": [
        {
          "output_type": "execute_result",
          "data": {
            "text/html": [
              "<div>\n",
              "<style scoped>\n",
              "    .dataframe tbody tr th:only-of-type {\n",
              "        vertical-align: middle;\n",
              "    }\n",
              "\n",
              "    .dataframe tbody tr th {\n",
              "        vertical-align: top;\n",
              "    }\n",
              "\n",
              "    .dataframe thead th {\n",
              "        text-align: right;\n",
              "    }\n",
              "</style>\n",
              "<table border=\"1\" class=\"dataframe\">\n",
              "  <thead>\n",
              "    <tr style=\"text-align: right;\">\n",
              "      <th></th>\n",
              "      <th>Unnamed: 0</th>\n",
              "      <th>ID</th>\n",
              "      <th>name</th>\n",
              "      <th>category</th>\n",
              "      <th>main_category</th>\n",
              "      <th>currency</th>\n",
              "      <th>deadline</th>\n",
              "      <th>goal</th>\n",
              "      <th>launched</th>\n",
              "      <th>pledged</th>\n",
              "      <th>state</th>\n",
              "      <th>backers</th>\n",
              "      <th>country</th>\n",
              "      <th>usd pledged</th>\n",
              "      <th>usd_pledged_real</th>\n",
              "      <th>usd_goal_real</th>\n",
              "      <th>Unnamed</th>\n",
              "    </tr>\n",
              "  </thead>\n",
              "  <tbody>\n",
              "    <tr>\n",
              "      <th>13</th>\n",
              "      <td>13</td>\n",
              "      <td>1000056157</td>\n",
              "      <td>G-Spot Place for Gamers to connect with eachot...</td>\n",
              "      <td>Games</td>\n",
              "      <td>Games</td>\n",
              "      <td>USD</td>\n",
              "      <td>2016-03-25</td>\n",
              "      <td>200000.0</td>\n",
              "      <td>2016-02-09 23:01:12</td>\n",
              "      <td>0.0</td>\n",
              "      <td>failed</td>\n",
              "      <td>0.0</td>\n",
              "      <td>US</td>\n",
              "      <td>0.00</td>\n",
              "      <td>0.00</td>\n",
              "      <td>200000.00</td>\n",
              "      <td>1000056157</td>\n",
              "    </tr>\n",
              "    <tr>\n",
              "      <th>59</th>\n",
              "      <td>59</td>\n",
              "      <td>1000232288</td>\n",
              "      <td>Empires at Sea</td>\n",
              "      <td>Tabletop Games</td>\n",
              "      <td>Games</td>\n",
              "      <td>USD</td>\n",
              "      <td>2015-06-23</td>\n",
              "      <td>25000.0</td>\n",
              "      <td>2015-05-24 12:47:52</td>\n",
              "      <td>37199.0</td>\n",
              "      <td>successful</td>\n",
              "      <td>448.0</td>\n",
              "      <td>US</td>\n",
              "      <td>37199.00</td>\n",
              "      <td>37199.00</td>\n",
              "      <td>25000.00</td>\n",
              "      <td>1000232288</td>\n",
              "    </tr>\n",
              "    <tr>\n",
              "      <th>73</th>\n",
              "      <td>73</td>\n",
              "      <td>1000278154</td>\n",
              "      <td>Loot and Recruit - A quirky, combative, deck b...</td>\n",
              "      <td>Tabletop Games</td>\n",
              "      <td>Games</td>\n",
              "      <td>USD</td>\n",
              "      <td>2015-04-10</td>\n",
              "      <td>13000.0</td>\n",
              "      <td>2015-03-10 13:19:18</td>\n",
              "      <td>2453.0</td>\n",
              "      <td>canceled</td>\n",
              "      <td>65.0</td>\n",
              "      <td>US</td>\n",
              "      <td>2453.00</td>\n",
              "      <td>2453.00</td>\n",
              "      <td>13000.00</td>\n",
              "      <td>1000278154</td>\n",
              "    </tr>\n",
              "    <tr>\n",
              "      <th>79</th>\n",
              "      <td>79</td>\n",
              "      <td>1000328150</td>\n",
              "      <td>Legacy of Svarog | a Unique 3D Action RPG and ...</td>\n",
              "      <td>Video Games</td>\n",
              "      <td>Games</td>\n",
              "      <td>USD</td>\n",
              "      <td>2015-10-30</td>\n",
              "      <td>50000.0</td>\n",
              "      <td>2015-08-31 06:33:31</td>\n",
              "      <td>1410.0</td>\n",
              "      <td>failed</td>\n",
              "      <td>38.0</td>\n",
              "      <td>US</td>\n",
              "      <td>1410.00</td>\n",
              "      <td>1410.00</td>\n",
              "      <td>50000.00</td>\n",
              "      <td>1000328150</td>\n",
              "    </tr>\n",
              "    <tr>\n",
              "      <th>81</th>\n",
              "      <td>81</td>\n",
              "      <td>1000331311</td>\n",
              "      <td>AWE - Antediluvian Wars: Extermination Tactica...</td>\n",
              "      <td>Tabletop Games</td>\n",
              "      <td>Games</td>\n",
              "      <td>USD</td>\n",
              "      <td>2014-08-31</td>\n",
              "      <td>13000.0</td>\n",
              "      <td>2014-08-01 00:02:17</td>\n",
              "      <td>1811.0</td>\n",
              "      <td>failed</td>\n",
              "      <td>34.0</td>\n",
              "      <td>US</td>\n",
              "      <td>1811.00</td>\n",
              "      <td>1811.00</td>\n",
              "      <td>13000.00</td>\n",
              "      <td>1000331311</td>\n",
              "    </tr>\n",
              "    <tr>\n",
              "      <th>...</th>\n",
              "      <td>...</td>\n",
              "      <td>...</td>\n",
              "      <td>...</td>\n",
              "      <td>...</td>\n",
              "      <td>...</td>\n",
              "      <td>...</td>\n",
              "      <td>...</td>\n",
              "      <td>...</td>\n",
              "      <td>...</td>\n",
              "      <td>...</td>\n",
              "      <td>...</td>\n",
              "      <td>...</td>\n",
              "      <td>...</td>\n",
              "      <td>...</td>\n",
              "      <td>...</td>\n",
              "      <td>...</td>\n",
              "      <td>...</td>\n",
              "    </tr>\n",
              "    <tr>\n",
              "      <th>378538</th>\n",
              "      <td>378538</td>\n",
              "      <td>999350480</td>\n",
              "      <td>Zombie Forge - The Game (Canceled)</td>\n",
              "      <td>Video Games</td>\n",
              "      <td>Games</td>\n",
              "      <td>USD</td>\n",
              "      <td>2014-08-10</td>\n",
              "      <td>900000.0</td>\n",
              "      <td>2014-07-04 06:17:30</td>\n",
              "      <td>80.0</td>\n",
              "      <td>canceled</td>\n",
              "      <td>1.0</td>\n",
              "      <td>US</td>\n",
              "      <td>80.00</td>\n",
              "      <td>80.00</td>\n",
              "      <td>900000.00</td>\n",
              "      <td>999350480</td>\n",
              "    </tr>\n",
              "    <tr>\n",
              "      <th>378546</th>\n",
              "      <td>378546</td>\n",
              "      <td>999402669</td>\n",
              "      <td>Canterbury</td>\n",
              "      <td>Tabletop Games</td>\n",
              "      <td>Games</td>\n",
              "      <td>USD</td>\n",
              "      <td>2013-06-02</td>\n",
              "      <td>50000.0</td>\n",
              "      <td>2013-05-01 05:41:04</td>\n",
              "      <td>58355.5</td>\n",
              "      <td>successful</td>\n",
              "      <td>709.0</td>\n",
              "      <td>US</td>\n",
              "      <td>58355.50</td>\n",
              "      <td>58355.50</td>\n",
              "      <td>50000.00</td>\n",
              "      <td>999402669</td>\n",
              "    </tr>\n",
              "    <tr>\n",
              "      <th>378549</th>\n",
              "      <td>378549</td>\n",
              "      <td>999414644</td>\n",
              "      <td>Ebenezer Scrooge's Eggnog Dash Tabletop Game</td>\n",
              "      <td>Tabletop Games</td>\n",
              "      <td>Games</td>\n",
              "      <td>USD</td>\n",
              "      <td>2013-03-21</td>\n",
              "      <td>33000.0</td>\n",
              "      <td>2013-02-19 20:54:32</td>\n",
              "      <td>7629.0</td>\n",
              "      <td>failed</td>\n",
              "      <td>46.0</td>\n",
              "      <td>US</td>\n",
              "      <td>7629.00</td>\n",
              "      <td>7629.00</td>\n",
              "      <td>33000.00</td>\n",
              "      <td>999414644</td>\n",
              "    </tr>\n",
              "    <tr>\n",
              "      <th>378563</th>\n",
              "      <td>378563</td>\n",
              "      <td>999484338</td>\n",
              "      <td>Warlords of Terra - BTCG</td>\n",
              "      <td>Video Games</td>\n",
              "      <td>Games</td>\n",
              "      <td>EUR</td>\n",
              "      <td>2015-12-22</td>\n",
              "      <td>15000.0</td>\n",
              "      <td>2015-11-22 10:14:49</td>\n",
              "      <td>3236.0</td>\n",
              "      <td>failed</td>\n",
              "      <td>51.0</td>\n",
              "      <td>ES</td>\n",
              "      <td>3445.41</td>\n",
              "      <td>3542.46</td>\n",
              "      <td>16420.54</td>\n",
              "      <td>999484338</td>\n",
              "    </tr>\n",
              "    <tr>\n",
              "      <th>378592</th>\n",
              "      <td>378592</td>\n",
              "      <td>9996452</td>\n",
              "      <td>Onit Saves The World! Let's make this game one...</td>\n",
              "      <td>Video Games</td>\n",
              "      <td>Games</td>\n",
              "      <td>CAD</td>\n",
              "      <td>2013-10-25</td>\n",
              "      <td>375000.0</td>\n",
              "      <td>2013-09-25 22:13:27</td>\n",
              "      <td>556.0</td>\n",
              "      <td>failed</td>\n",
              "      <td>4.0</td>\n",
              "      <td>CA</td>\n",
              "      <td>540.53</td>\n",
              "      <td>532.67</td>\n",
              "      <td>359264.23</td>\n",
              "      <td>9996452</td>\n",
              "    </tr>\n",
              "  </tbody>\n",
              "</table>\n",
              "<p>14059 rows × 17 columns</p>\n",
              "</div>"
            ],
            "text/plain": [
              "        Unnamed: 0          ID  ... usd_goal_real     Unnamed\n",
              "13              13  1000056157  ...     200000.00  1000056157\n",
              "59              59  1000232288  ...      25000.00  1000232288\n",
              "73              73  1000278154  ...      13000.00  1000278154\n",
              "79              79  1000328150  ...      50000.00  1000328150\n",
              "81              81  1000331311  ...      13000.00  1000331311\n",
              "...            ...         ...  ...           ...         ...\n",
              "378538      378538   999350480  ...     900000.00   999350480\n",
              "378546      378546   999402669  ...      50000.00   999402669\n",
              "378549      378549   999414644  ...      33000.00   999414644\n",
              "378563      378563   999484338  ...      16420.54   999484338\n",
              "378592      378592     9996452  ...     359264.23     9996452\n",
              "\n",
              "[14059 rows x 17 columns]"
            ]
          },
          "metadata": {
            "tags": []
          },
          "execution_count": 35
        }
      ]
    },
    {
      "cell_type": "code",
      "metadata": {
        "id": "yTfYFnyc73XH"
      },
      "source": [
        "slice_data = kickstarter.query('main_category==\"Games\" and goal>10000')"
      ],
      "execution_count": null,
      "outputs": []
    },
    {
      "cell_type": "code",
      "metadata": {
        "id": "CyK9LW6I78nG",
        "colab": {
          "base_uri": "https://localhost:8080/",
          "height": 1000
        },
        "outputId": "26b62f1f-1c27-43b5-841e-05b5d254a51f"
      },
      "source": [
        "slice_data"
      ],
      "execution_count": null,
      "outputs": [
        {
          "output_type": "execute_result",
          "data": {
            "text/html": [
              "<div>\n",
              "<style scoped>\n",
              "    .dataframe tbody tr th:only-of-type {\n",
              "        vertical-align: middle;\n",
              "    }\n",
              "\n",
              "    .dataframe tbody tr th {\n",
              "        vertical-align: top;\n",
              "    }\n",
              "\n",
              "    .dataframe thead th {\n",
              "        text-align: right;\n",
              "    }\n",
              "</style>\n",
              "<table border=\"1\" class=\"dataframe\">\n",
              "  <thead>\n",
              "    <tr style=\"text-align: right;\">\n",
              "      <th></th>\n",
              "      <th>Unnamed: 0</th>\n",
              "      <th>ID</th>\n",
              "      <th>name</th>\n",
              "      <th>category</th>\n",
              "      <th>main_category</th>\n",
              "      <th>currency</th>\n",
              "      <th>deadline</th>\n",
              "      <th>goal</th>\n",
              "      <th>launched</th>\n",
              "      <th>pledged</th>\n",
              "      <th>state</th>\n",
              "      <th>backers</th>\n",
              "      <th>country</th>\n",
              "      <th>usd pledged</th>\n",
              "      <th>usd_pledged_real</th>\n",
              "      <th>usd_goal_real</th>\n",
              "      <th>Unnamed</th>\n",
              "    </tr>\n",
              "  </thead>\n",
              "  <tbody>\n",
              "    <tr>\n",
              "      <th>13</th>\n",
              "      <td>13</td>\n",
              "      <td>1000056157</td>\n",
              "      <td>G-Spot Place for Gamers to connect with eachot...</td>\n",
              "      <td>Games</td>\n",
              "      <td>Games</td>\n",
              "      <td>USD</td>\n",
              "      <td>2016-03-25</td>\n",
              "      <td>200000.0</td>\n",
              "      <td>2016-02-09 23:01:12</td>\n",
              "      <td>0.0</td>\n",
              "      <td>failed</td>\n",
              "      <td>0.0</td>\n",
              "      <td>US</td>\n",
              "      <td>0.00</td>\n",
              "      <td>0.00</td>\n",
              "      <td>200000.00</td>\n",
              "      <td>1000056157</td>\n",
              "    </tr>\n",
              "    <tr>\n",
              "      <th>59</th>\n",
              "      <td>59</td>\n",
              "      <td>1000232288</td>\n",
              "      <td>Empires at Sea</td>\n",
              "      <td>Tabletop Games</td>\n",
              "      <td>Games</td>\n",
              "      <td>USD</td>\n",
              "      <td>2015-06-23</td>\n",
              "      <td>25000.0</td>\n",
              "      <td>2015-05-24 12:47:52</td>\n",
              "      <td>37199.0</td>\n",
              "      <td>successful</td>\n",
              "      <td>448.0</td>\n",
              "      <td>US</td>\n",
              "      <td>37199.00</td>\n",
              "      <td>37199.00</td>\n",
              "      <td>25000.00</td>\n",
              "      <td>1000232288</td>\n",
              "    </tr>\n",
              "    <tr>\n",
              "      <th>73</th>\n",
              "      <td>73</td>\n",
              "      <td>1000278154</td>\n",
              "      <td>Loot and Recruit - A quirky, combative, deck b...</td>\n",
              "      <td>Tabletop Games</td>\n",
              "      <td>Games</td>\n",
              "      <td>USD</td>\n",
              "      <td>2015-04-10</td>\n",
              "      <td>13000.0</td>\n",
              "      <td>2015-03-10 13:19:18</td>\n",
              "      <td>2453.0</td>\n",
              "      <td>canceled</td>\n",
              "      <td>65.0</td>\n",
              "      <td>US</td>\n",
              "      <td>2453.00</td>\n",
              "      <td>2453.00</td>\n",
              "      <td>13000.00</td>\n",
              "      <td>1000278154</td>\n",
              "    </tr>\n",
              "    <tr>\n",
              "      <th>79</th>\n",
              "      <td>79</td>\n",
              "      <td>1000328150</td>\n",
              "      <td>Legacy of Svarog | a Unique 3D Action RPG and ...</td>\n",
              "      <td>Video Games</td>\n",
              "      <td>Games</td>\n",
              "      <td>USD</td>\n",
              "      <td>2015-10-30</td>\n",
              "      <td>50000.0</td>\n",
              "      <td>2015-08-31 06:33:31</td>\n",
              "      <td>1410.0</td>\n",
              "      <td>failed</td>\n",
              "      <td>38.0</td>\n",
              "      <td>US</td>\n",
              "      <td>1410.00</td>\n",
              "      <td>1410.00</td>\n",
              "      <td>50000.00</td>\n",
              "      <td>1000328150</td>\n",
              "    </tr>\n",
              "    <tr>\n",
              "      <th>81</th>\n",
              "      <td>81</td>\n",
              "      <td>1000331311</td>\n",
              "      <td>AWE - Antediluvian Wars: Extermination Tactica...</td>\n",
              "      <td>Tabletop Games</td>\n",
              "      <td>Games</td>\n",
              "      <td>USD</td>\n",
              "      <td>2014-08-31</td>\n",
              "      <td>13000.0</td>\n",
              "      <td>2014-08-01 00:02:17</td>\n",
              "      <td>1811.0</td>\n",
              "      <td>failed</td>\n",
              "      <td>34.0</td>\n",
              "      <td>US</td>\n",
              "      <td>1811.00</td>\n",
              "      <td>1811.00</td>\n",
              "      <td>13000.00</td>\n",
              "      <td>1000331311</td>\n",
              "    </tr>\n",
              "    <tr>\n",
              "      <th>...</th>\n",
              "      <td>...</td>\n",
              "      <td>...</td>\n",
              "      <td>...</td>\n",
              "      <td>...</td>\n",
              "      <td>...</td>\n",
              "      <td>...</td>\n",
              "      <td>...</td>\n",
              "      <td>...</td>\n",
              "      <td>...</td>\n",
              "      <td>...</td>\n",
              "      <td>...</td>\n",
              "      <td>...</td>\n",
              "      <td>...</td>\n",
              "      <td>...</td>\n",
              "      <td>...</td>\n",
              "      <td>...</td>\n",
              "      <td>...</td>\n",
              "    </tr>\n",
              "    <tr>\n",
              "      <th>378538</th>\n",
              "      <td>378538</td>\n",
              "      <td>999350480</td>\n",
              "      <td>Zombie Forge - The Game (Canceled)</td>\n",
              "      <td>Video Games</td>\n",
              "      <td>Games</td>\n",
              "      <td>USD</td>\n",
              "      <td>2014-08-10</td>\n",
              "      <td>900000.0</td>\n",
              "      <td>2014-07-04 06:17:30</td>\n",
              "      <td>80.0</td>\n",
              "      <td>canceled</td>\n",
              "      <td>1.0</td>\n",
              "      <td>US</td>\n",
              "      <td>80.00</td>\n",
              "      <td>80.00</td>\n",
              "      <td>900000.00</td>\n",
              "      <td>999350480</td>\n",
              "    </tr>\n",
              "    <tr>\n",
              "      <th>378546</th>\n",
              "      <td>378546</td>\n",
              "      <td>999402669</td>\n",
              "      <td>Canterbury</td>\n",
              "      <td>Tabletop Games</td>\n",
              "      <td>Games</td>\n",
              "      <td>USD</td>\n",
              "      <td>2013-06-02</td>\n",
              "      <td>50000.0</td>\n",
              "      <td>2013-05-01 05:41:04</td>\n",
              "      <td>58355.5</td>\n",
              "      <td>successful</td>\n",
              "      <td>709.0</td>\n",
              "      <td>US</td>\n",
              "      <td>58355.50</td>\n",
              "      <td>58355.50</td>\n",
              "      <td>50000.00</td>\n",
              "      <td>999402669</td>\n",
              "    </tr>\n",
              "    <tr>\n",
              "      <th>378549</th>\n",
              "      <td>378549</td>\n",
              "      <td>999414644</td>\n",
              "      <td>Ebenezer Scrooge's Eggnog Dash Tabletop Game</td>\n",
              "      <td>Tabletop Games</td>\n",
              "      <td>Games</td>\n",
              "      <td>USD</td>\n",
              "      <td>2013-03-21</td>\n",
              "      <td>33000.0</td>\n",
              "      <td>2013-02-19 20:54:32</td>\n",
              "      <td>7629.0</td>\n",
              "      <td>failed</td>\n",
              "      <td>46.0</td>\n",
              "      <td>US</td>\n",
              "      <td>7629.00</td>\n",
              "      <td>7629.00</td>\n",
              "      <td>33000.00</td>\n",
              "      <td>999414644</td>\n",
              "    </tr>\n",
              "    <tr>\n",
              "      <th>378563</th>\n",
              "      <td>378563</td>\n",
              "      <td>999484338</td>\n",
              "      <td>Warlords of Terra - BTCG</td>\n",
              "      <td>Video Games</td>\n",
              "      <td>Games</td>\n",
              "      <td>EUR</td>\n",
              "      <td>2015-12-22</td>\n",
              "      <td>15000.0</td>\n",
              "      <td>2015-11-22 10:14:49</td>\n",
              "      <td>3236.0</td>\n",
              "      <td>failed</td>\n",
              "      <td>51.0</td>\n",
              "      <td>ES</td>\n",
              "      <td>3445.41</td>\n",
              "      <td>3542.46</td>\n",
              "      <td>16420.54</td>\n",
              "      <td>999484338</td>\n",
              "    </tr>\n",
              "    <tr>\n",
              "      <th>378592</th>\n",
              "      <td>378592</td>\n",
              "      <td>9996452</td>\n",
              "      <td>Onit Saves The World! Let's make this game one...</td>\n",
              "      <td>Video Games</td>\n",
              "      <td>Games</td>\n",
              "      <td>CAD</td>\n",
              "      <td>2013-10-25</td>\n",
              "      <td>375000.0</td>\n",
              "      <td>2013-09-25 22:13:27</td>\n",
              "      <td>556.0</td>\n",
              "      <td>failed</td>\n",
              "      <td>4.0</td>\n",
              "      <td>CA</td>\n",
              "      <td>540.53</td>\n",
              "      <td>532.67</td>\n",
              "      <td>359264.23</td>\n",
              "      <td>9996452</td>\n",
              "    </tr>\n",
              "  </tbody>\n",
              "</table>\n",
              "<p>14059 rows × 17 columns</p>\n",
              "</div>"
            ],
            "text/plain": [
              "        Unnamed: 0          ID  ... usd_goal_real     Unnamed\n",
              "13              13  1000056157  ...     200000.00  1000056157\n",
              "59              59  1000232288  ...      25000.00  1000232288\n",
              "73              73  1000278154  ...      13000.00  1000278154\n",
              "79              79  1000328150  ...      50000.00  1000328150\n",
              "81              81  1000331311  ...      13000.00  1000331311\n",
              "...            ...         ...  ...           ...         ...\n",
              "378538      378538   999350480  ...     900000.00   999350480\n",
              "378546      378546   999402669  ...      50000.00   999402669\n",
              "378549      378549   999414644  ...      33000.00   999414644\n",
              "378563      378563   999484338  ...      16420.54   999484338\n",
              "378592      378592     9996452  ...     359264.23     9996452\n",
              "\n",
              "[14059 rows x 17 columns]"
            ]
          },
          "metadata": {
            "tags": []
          },
          "execution_count": 37
        }
      ]
    },
    {
      "cell_type": "markdown",
      "metadata": {
        "id": "gxYVwmcHisY-"
      },
      "source": [
        "### Удаление и переименовывание столбцов"
      ]
    },
    {
      "cell_type": "code",
      "metadata": {
        "id": "UwHhEpHWisY-",
        "colab": {
          "base_uri": "https://localhost:8080/"
        },
        "outputId": "f5db36fe-5444-4335-aa6d-3012a1ecf79a"
      },
      "source": [
        " kickstarter.columns"
      ],
      "execution_count": null,
      "outputs": [
        {
          "output_type": "execute_result",
          "data": {
            "text/plain": [
              "Index(['Unnamed: 0', 'ID', 'name', 'category', 'main_category', 'currency',\n",
              "       'deadline', 'goal', 'launched', 'pledged', 'state', 'backers',\n",
              "       'country', 'usd pledged', 'usd_pledged_real', 'usd_goal_real',\n",
              "       'Unnamed'],\n",
              "      dtype='object')"
            ]
          },
          "metadata": {
            "tags": []
          },
          "execution_count": 38
        }
      ]
    },
    {
      "cell_type": "code",
      "metadata": {
        "scrolled": false,
        "id": "xmnJsrU2isY-"
      },
      "source": [
        " kickstarter = kickstarter.drop(columns=['ID','Unnamed: 0','Unnamed'])"
      ],
      "execution_count": null,
      "outputs": []
    },
    {
      "cell_type": "code",
      "metadata": {
        "id": "pTfsEjqAisY-",
        "colab": {
          "base_uri": "https://localhost:8080/",
          "height": 326
        },
        "outputId": "6b35459f-d114-4d9f-9b9d-c3595b2b2ea3"
      },
      "source": [
        ""
      ],
      "execution_count": null,
      "outputs": [
        {
          "output_type": "error",
          "ename": "KeyError",
          "evalue": "ignored",
          "traceback": [
            "\u001b[0;31m---------------------------------------------------------------------------\u001b[0m",
            "\u001b[0;31mKeyError\u001b[0m                                  Traceback (most recent call last)",
            "\u001b[0;32m<ipython-input-40-4ec64543a715>\u001b[0m in \u001b[0;36m<module>\u001b[0;34m()\u001b[0m\n\u001b[0;32m----> 1\u001b[0;31m \u001b[0mkickstarter\u001b[0m\u001b[0;34m.\u001b[0m\u001b[0mdrop\u001b[0m\u001b[0;34m(\u001b[0m\u001b[0mcolumns\u001b[0m\u001b[0;34m=\u001b[0m\u001b[0;34m[\u001b[0m\u001b[0;34m'ID'\u001b[0m\u001b[0;34m,\u001b[0m\u001b[0;34m'Unnamed: 0'\u001b[0m\u001b[0;34m,\u001b[0m\u001b[0;34m'Unnamed'\u001b[0m\u001b[0;34m]\u001b[0m\u001b[0;34m,\u001b[0m \u001b[0minplace\u001b[0m\u001b[0;34m=\u001b[0m\u001b[0;32mTrue\u001b[0m\u001b[0;34m)\u001b[0m\u001b[0;34m\u001b[0m\u001b[0;34m\u001b[0m\u001b[0m\n\u001b[0m",
            "\u001b[0;32m/usr/local/lib/python3.7/dist-packages/pandas/core/frame.py\u001b[0m in \u001b[0;36mdrop\u001b[0;34m(self, labels, axis, index, columns, level, inplace, errors)\u001b[0m\n\u001b[1;32m   4172\u001b[0m             \u001b[0mlevel\u001b[0m\u001b[0;34m=\u001b[0m\u001b[0mlevel\u001b[0m\u001b[0;34m,\u001b[0m\u001b[0;34m\u001b[0m\u001b[0;34m\u001b[0m\u001b[0m\n\u001b[1;32m   4173\u001b[0m             \u001b[0minplace\u001b[0m\u001b[0;34m=\u001b[0m\u001b[0minplace\u001b[0m\u001b[0;34m,\u001b[0m\u001b[0;34m\u001b[0m\u001b[0;34m\u001b[0m\u001b[0m\n\u001b[0;32m-> 4174\u001b[0;31m             \u001b[0merrors\u001b[0m\u001b[0;34m=\u001b[0m\u001b[0merrors\u001b[0m\u001b[0;34m,\u001b[0m\u001b[0;34m\u001b[0m\u001b[0;34m\u001b[0m\u001b[0m\n\u001b[0m\u001b[1;32m   4175\u001b[0m         )\n\u001b[1;32m   4176\u001b[0m \u001b[0;34m\u001b[0m\u001b[0m\n",
            "\u001b[0;32m/usr/local/lib/python3.7/dist-packages/pandas/core/generic.py\u001b[0m in \u001b[0;36mdrop\u001b[0;34m(self, labels, axis, index, columns, level, inplace, errors)\u001b[0m\n\u001b[1;32m   3887\u001b[0m         \u001b[0;32mfor\u001b[0m \u001b[0maxis\u001b[0m\u001b[0;34m,\u001b[0m \u001b[0mlabels\u001b[0m \u001b[0;32min\u001b[0m \u001b[0maxes\u001b[0m\u001b[0;34m.\u001b[0m\u001b[0mitems\u001b[0m\u001b[0;34m(\u001b[0m\u001b[0;34m)\u001b[0m\u001b[0;34m:\u001b[0m\u001b[0;34m\u001b[0m\u001b[0;34m\u001b[0m\u001b[0m\n\u001b[1;32m   3888\u001b[0m             \u001b[0;32mif\u001b[0m \u001b[0mlabels\u001b[0m \u001b[0;32mis\u001b[0m \u001b[0;32mnot\u001b[0m \u001b[0;32mNone\u001b[0m\u001b[0;34m:\u001b[0m\u001b[0;34m\u001b[0m\u001b[0;34m\u001b[0m\u001b[0m\n\u001b[0;32m-> 3889\u001b[0;31m                 \u001b[0mobj\u001b[0m \u001b[0;34m=\u001b[0m \u001b[0mobj\u001b[0m\u001b[0;34m.\u001b[0m\u001b[0m_drop_axis\u001b[0m\u001b[0;34m(\u001b[0m\u001b[0mlabels\u001b[0m\u001b[0;34m,\u001b[0m \u001b[0maxis\u001b[0m\u001b[0;34m,\u001b[0m \u001b[0mlevel\u001b[0m\u001b[0;34m=\u001b[0m\u001b[0mlevel\u001b[0m\u001b[0;34m,\u001b[0m \u001b[0merrors\u001b[0m\u001b[0;34m=\u001b[0m\u001b[0merrors\u001b[0m\u001b[0;34m)\u001b[0m\u001b[0;34m\u001b[0m\u001b[0;34m\u001b[0m\u001b[0m\n\u001b[0m\u001b[1;32m   3890\u001b[0m \u001b[0;34m\u001b[0m\u001b[0m\n\u001b[1;32m   3891\u001b[0m         \u001b[0;32mif\u001b[0m \u001b[0minplace\u001b[0m\u001b[0;34m:\u001b[0m\u001b[0;34m\u001b[0m\u001b[0;34m\u001b[0m\u001b[0m\n",
            "\u001b[0;32m/usr/local/lib/python3.7/dist-packages/pandas/core/generic.py\u001b[0m in \u001b[0;36m_drop_axis\u001b[0;34m(self, labels, axis, level, errors)\u001b[0m\n\u001b[1;32m   3921\u001b[0m                 \u001b[0mnew_axis\u001b[0m \u001b[0;34m=\u001b[0m \u001b[0maxis\u001b[0m\u001b[0;34m.\u001b[0m\u001b[0mdrop\u001b[0m\u001b[0;34m(\u001b[0m\u001b[0mlabels\u001b[0m\u001b[0;34m,\u001b[0m \u001b[0mlevel\u001b[0m\u001b[0;34m=\u001b[0m\u001b[0mlevel\u001b[0m\u001b[0;34m,\u001b[0m \u001b[0merrors\u001b[0m\u001b[0;34m=\u001b[0m\u001b[0merrors\u001b[0m\u001b[0;34m)\u001b[0m\u001b[0;34m\u001b[0m\u001b[0;34m\u001b[0m\u001b[0m\n\u001b[1;32m   3922\u001b[0m             \u001b[0;32melse\u001b[0m\u001b[0;34m:\u001b[0m\u001b[0;34m\u001b[0m\u001b[0;34m\u001b[0m\u001b[0m\n\u001b[0;32m-> 3923\u001b[0;31m                 \u001b[0mnew_axis\u001b[0m \u001b[0;34m=\u001b[0m \u001b[0maxis\u001b[0m\u001b[0;34m.\u001b[0m\u001b[0mdrop\u001b[0m\u001b[0;34m(\u001b[0m\u001b[0mlabels\u001b[0m\u001b[0;34m,\u001b[0m \u001b[0merrors\u001b[0m\u001b[0;34m=\u001b[0m\u001b[0merrors\u001b[0m\u001b[0;34m)\u001b[0m\u001b[0;34m\u001b[0m\u001b[0;34m\u001b[0m\u001b[0m\n\u001b[0m\u001b[1;32m   3924\u001b[0m             \u001b[0mresult\u001b[0m \u001b[0;34m=\u001b[0m \u001b[0mself\u001b[0m\u001b[0;34m.\u001b[0m\u001b[0mreindex\u001b[0m\u001b[0;34m(\u001b[0m\u001b[0;34m**\u001b[0m\u001b[0;34m{\u001b[0m\u001b[0maxis_name\u001b[0m\u001b[0;34m:\u001b[0m \u001b[0mnew_axis\u001b[0m\u001b[0;34m}\u001b[0m\u001b[0;34m)\u001b[0m\u001b[0;34m\u001b[0m\u001b[0;34m\u001b[0m\u001b[0m\n\u001b[1;32m   3925\u001b[0m \u001b[0;34m\u001b[0m\u001b[0m\n",
            "\u001b[0;32m/usr/local/lib/python3.7/dist-packages/pandas/core/indexes/base.py\u001b[0m in \u001b[0;36mdrop\u001b[0;34m(self, labels, errors)\u001b[0m\n\u001b[1;32m   5285\u001b[0m         \u001b[0;32mif\u001b[0m \u001b[0mmask\u001b[0m\u001b[0;34m.\u001b[0m\u001b[0many\u001b[0m\u001b[0;34m(\u001b[0m\u001b[0;34m)\u001b[0m\u001b[0;34m:\u001b[0m\u001b[0;34m\u001b[0m\u001b[0;34m\u001b[0m\u001b[0m\n\u001b[1;32m   5286\u001b[0m             \u001b[0;32mif\u001b[0m \u001b[0merrors\u001b[0m \u001b[0;34m!=\u001b[0m \u001b[0;34m\"ignore\"\u001b[0m\u001b[0;34m:\u001b[0m\u001b[0;34m\u001b[0m\u001b[0;34m\u001b[0m\u001b[0m\n\u001b[0;32m-> 5287\u001b[0;31m                 \u001b[0;32mraise\u001b[0m \u001b[0mKeyError\u001b[0m\u001b[0;34m(\u001b[0m\u001b[0;34mf\"{labels[mask]} not found in axis\"\u001b[0m\u001b[0;34m)\u001b[0m\u001b[0;34m\u001b[0m\u001b[0;34m\u001b[0m\u001b[0m\n\u001b[0m\u001b[1;32m   5288\u001b[0m             \u001b[0mindexer\u001b[0m \u001b[0;34m=\u001b[0m \u001b[0mindexer\u001b[0m\u001b[0;34m[\u001b[0m\u001b[0;34m~\u001b[0m\u001b[0mmask\u001b[0m\u001b[0;34m]\u001b[0m\u001b[0;34m\u001b[0m\u001b[0;34m\u001b[0m\u001b[0m\n\u001b[1;32m   5289\u001b[0m         \u001b[0;32mreturn\u001b[0m \u001b[0mself\u001b[0m\u001b[0;34m.\u001b[0m\u001b[0mdelete\u001b[0m\u001b[0;34m(\u001b[0m\u001b[0mindexer\u001b[0m\u001b[0;34m)\u001b[0m\u001b[0;34m\u001b[0m\u001b[0;34m\u001b[0m\u001b[0m\n",
            "\u001b[0;31mKeyError\u001b[0m: \"['ID' 'Unnamed: 0' 'Unnamed'] not found in axis\""
          ]
        }
      ]
    },
    {
      "cell_type": "code",
      "metadata": {
        "id": "rLJnMl4x1qzl",
        "colab": {
          "base_uri": "https://localhost:8080/"
        },
        "outputId": "10871edd-1b69-425a-8d7f-9401e8dff0c6"
      },
      "source": [
        "kickstarter.columns"
      ],
      "execution_count": null,
      "outputs": [
        {
          "output_type": "execute_result",
          "data": {
            "text/plain": [
              "Index(['name', 'category', 'main_category', 'currency', 'deadline', 'goal',\n",
              "       'launched', 'pledged', 'state', 'backers', 'country', 'usd pledged',\n",
              "       'usd_pledged_real', 'usd_goal_real'],\n",
              "      dtype='object')"
            ]
          },
          "metadata": {
            "tags": []
          },
          "execution_count": 41
        }
      ]
    },
    {
      "cell_type": "code",
      "metadata": {
        "id": "EVKvTtvE1vUF"
      },
      "source": [
        "kickstarter['new_column']  = 'vfewe'"
      ],
      "execution_count": null,
      "outputs": []
    },
    {
      "cell_type": "code",
      "metadata": {
        "id": "DopfIuSu6UgO"
      },
      "source": [
        "kickstarter.drop(columns='new_column', inplace=True)"
      ],
      "execution_count": null,
      "outputs": []
    },
    {
      "cell_type": "markdown",
      "metadata": {
        "id": "lK8gWB6_isY-"
      },
      "source": [
        "### Обработка пропусков и дубликатов"
      ]
    },
    {
      "cell_type": "code",
      "metadata": {
        "id": "9ptxCDhVisY-",
        "colab": {
          "base_uri": "https://localhost:8080/"
        },
        "outputId": "6061c249-dbb1-486d-85b1-65cb0319ce48"
      },
      "source": [
        " kickstarter.duplicated().sum()"
      ],
      "execution_count": null,
      "outputs": [
        {
          "output_type": "execute_result",
          "data": {
            "text/plain": [
              "0"
            ]
          },
          "metadata": {
            "tags": []
          },
          "execution_count": 44
        }
      ]
    },
    {
      "cell_type": "code",
      "metadata": {
        "id": "L8t3ih6W6wwo"
      },
      "source": [
        "data = pd.DataFrame([[1,2,3],[1,5,6],[1,2,3]],columns=['a','b','c'])"
      ],
      "execution_count": null,
      "outputs": []
    },
    {
      "cell_type": "code",
      "metadata": {
        "id": "jrA3QCc47CP2",
        "colab": {
          "base_uri": "https://localhost:8080/",
          "height": 141
        },
        "outputId": "2ff9e588-b93f-4144-bba1-48a1a547b309"
      },
      "source": [
        "data"
      ],
      "execution_count": null,
      "outputs": [
        {
          "output_type": "execute_result",
          "data": {
            "text/html": [
              "<div>\n",
              "<style scoped>\n",
              "    .dataframe tbody tr th:only-of-type {\n",
              "        vertical-align: middle;\n",
              "    }\n",
              "\n",
              "    .dataframe tbody tr th {\n",
              "        vertical-align: top;\n",
              "    }\n",
              "\n",
              "    .dataframe thead th {\n",
              "        text-align: right;\n",
              "    }\n",
              "</style>\n",
              "<table border=\"1\" class=\"dataframe\">\n",
              "  <thead>\n",
              "    <tr style=\"text-align: right;\">\n",
              "      <th></th>\n",
              "      <th>a</th>\n",
              "      <th>b</th>\n",
              "      <th>c</th>\n",
              "    </tr>\n",
              "  </thead>\n",
              "  <tbody>\n",
              "    <tr>\n",
              "      <th>0</th>\n",
              "      <td>1</td>\n",
              "      <td>2</td>\n",
              "      <td>3</td>\n",
              "    </tr>\n",
              "    <tr>\n",
              "      <th>1</th>\n",
              "      <td>1</td>\n",
              "      <td>5</td>\n",
              "      <td>6</td>\n",
              "    </tr>\n",
              "    <tr>\n",
              "      <th>2</th>\n",
              "      <td>1</td>\n",
              "      <td>2</td>\n",
              "      <td>3</td>\n",
              "    </tr>\n",
              "  </tbody>\n",
              "</table>\n",
              "</div>"
            ],
            "text/plain": [
              "   a  b  c\n",
              "0  1  2  3\n",
              "1  1  5  6\n",
              "2  1  2  3"
            ]
          },
          "metadata": {
            "tags": []
          },
          "execution_count": 46
        }
      ]
    },
    {
      "cell_type": "code",
      "metadata": {
        "id": "bpp0qggt67MV",
        "colab": {
          "base_uri": "https://localhost:8080/"
        },
        "outputId": "1d474700-76fb-48a4-d29d-4ca5bf9301a3"
      },
      "source": [
        "data.duplicated().sum()"
      ],
      "execution_count": null,
      "outputs": [
        {
          "output_type": "execute_result",
          "data": {
            "text/plain": [
              "1"
            ]
          },
          "metadata": {
            "tags": []
          },
          "execution_count": 47
        }
      ]
    },
    {
      "cell_type": "code",
      "metadata": {
        "id": "9bTbT7c67XYX",
        "colab": {
          "base_uri": "https://localhost:8080/"
        },
        "outputId": "f1ee944f-2341-498d-e0ad-c9183c23183a"
      },
      "source": [
        "print(data.duplicated())"
      ],
      "execution_count": null,
      "outputs": [
        {
          "output_type": "stream",
          "text": [
            "0    False\n",
            "1    False\n",
            "2     True\n",
            "dtype: bool\n"
          ],
          "name": "stdout"
        }
      ]
    },
    {
      "cell_type": "code",
      "metadata": {
        "id": "uz9d7Wa67ORf",
        "colab": {
          "base_uri": "https://localhost:8080/",
          "height": 79
        },
        "outputId": "812818b1-6b88-4610-f07a-71b6fa869a22"
      },
      "source": [
        "data.loc[data.duplicated()]"
      ],
      "execution_count": null,
      "outputs": [
        {
          "output_type": "execute_result",
          "data": {
            "text/html": [
              "<div>\n",
              "<style scoped>\n",
              "    .dataframe tbody tr th:only-of-type {\n",
              "        vertical-align: middle;\n",
              "    }\n",
              "\n",
              "    .dataframe tbody tr th {\n",
              "        vertical-align: top;\n",
              "    }\n",
              "\n",
              "    .dataframe thead th {\n",
              "        text-align: right;\n",
              "    }\n",
              "</style>\n",
              "<table border=\"1\" class=\"dataframe\">\n",
              "  <thead>\n",
              "    <tr style=\"text-align: right;\">\n",
              "      <th></th>\n",
              "      <th>a</th>\n",
              "      <th>b</th>\n",
              "      <th>c</th>\n",
              "    </tr>\n",
              "  </thead>\n",
              "  <tbody>\n",
              "    <tr>\n",
              "      <th>2</th>\n",
              "      <td>1</td>\n",
              "      <td>2</td>\n",
              "      <td>3</td>\n",
              "    </tr>\n",
              "  </tbody>\n",
              "</table>\n",
              "</div>"
            ],
            "text/plain": [
              "   a  b  c\n",
              "2  1  2  3"
            ]
          },
          "metadata": {
            "tags": []
          },
          "execution_count": 49
        }
      ]
    },
    {
      "cell_type": "code",
      "metadata": {
        "id": "LOl7ic2j7cy2",
        "colab": {
          "base_uri": "https://localhost:8080/",
          "height": 110
        },
        "outputId": "9354fa4e-97df-434f-8b5f-d6bac10169b5"
      },
      "source": [
        "data.loc[~data.duplicated()]"
      ],
      "execution_count": null,
      "outputs": [
        {
          "output_type": "execute_result",
          "data": {
            "text/html": [
              "<div>\n",
              "<style scoped>\n",
              "    .dataframe tbody tr th:only-of-type {\n",
              "        vertical-align: middle;\n",
              "    }\n",
              "\n",
              "    .dataframe tbody tr th {\n",
              "        vertical-align: top;\n",
              "    }\n",
              "\n",
              "    .dataframe thead th {\n",
              "        text-align: right;\n",
              "    }\n",
              "</style>\n",
              "<table border=\"1\" class=\"dataframe\">\n",
              "  <thead>\n",
              "    <tr style=\"text-align: right;\">\n",
              "      <th></th>\n",
              "      <th>a</th>\n",
              "      <th>b</th>\n",
              "      <th>c</th>\n",
              "    </tr>\n",
              "  </thead>\n",
              "  <tbody>\n",
              "    <tr>\n",
              "      <th>0</th>\n",
              "      <td>1</td>\n",
              "      <td>2</td>\n",
              "      <td>3</td>\n",
              "    </tr>\n",
              "    <tr>\n",
              "      <th>1</th>\n",
              "      <td>1</td>\n",
              "      <td>5</td>\n",
              "      <td>6</td>\n",
              "    </tr>\n",
              "  </tbody>\n",
              "</table>\n",
              "</div>"
            ],
            "text/plain": [
              "   a  b  c\n",
              "0  1  2  3\n",
              "1  1  5  6"
            ]
          },
          "metadata": {
            "tags": []
          },
          "execution_count": 50
        }
      ]
    },
    {
      "cell_type": "code",
      "metadata": {
        "id": "P4QA62z9isY_"
      },
      "source": [
        " data.drop_duplicates(inplace=True)\n"
      ],
      "execution_count": null,
      "outputs": []
    },
    {
      "cell_type": "code",
      "metadata": {
        "id": "BMO-HPym80cy",
        "colab": {
          "base_uri": "https://localhost:8080/",
          "height": 110
        },
        "outputId": "ec033caa-4b46-4d46-f3e2-a4986d7b4a0f"
      },
      "source": [
        " data"
      ],
      "execution_count": null,
      "outputs": [
        {
          "output_type": "execute_result",
          "data": {
            "text/html": [
              "<div>\n",
              "<style scoped>\n",
              "    .dataframe tbody tr th:only-of-type {\n",
              "        vertical-align: middle;\n",
              "    }\n",
              "\n",
              "    .dataframe tbody tr th {\n",
              "        vertical-align: top;\n",
              "    }\n",
              "\n",
              "    .dataframe thead th {\n",
              "        text-align: right;\n",
              "    }\n",
              "</style>\n",
              "<table border=\"1\" class=\"dataframe\">\n",
              "  <thead>\n",
              "    <tr style=\"text-align: right;\">\n",
              "      <th></th>\n",
              "      <th>a</th>\n",
              "      <th>b</th>\n",
              "      <th>c</th>\n",
              "    </tr>\n",
              "  </thead>\n",
              "  <tbody>\n",
              "    <tr>\n",
              "      <th>0</th>\n",
              "      <td>1</td>\n",
              "      <td>2</td>\n",
              "      <td>3</td>\n",
              "    </tr>\n",
              "    <tr>\n",
              "      <th>1</th>\n",
              "      <td>1</td>\n",
              "      <td>5</td>\n",
              "      <td>6</td>\n",
              "    </tr>\n",
              "  </tbody>\n",
              "</table>\n",
              "</div>"
            ],
            "text/plain": [
              "   a  b  c\n",
              "0  1  2  3\n",
              "1  1  5  6"
            ]
          },
          "metadata": {
            "tags": []
          },
          "execution_count": 52
        }
      ]
    },
    {
      "cell_type": "code",
      "metadata": {
        "id": "qkwexfaGisY_",
        "colab": {
          "base_uri": "https://localhost:8080/"
        },
        "outputId": "3531d05a-157f-414c-e50f-69f9b2b4c138"
      },
      "source": [
        "kickstarter.info() "
      ],
      "execution_count": null,
      "outputs": [
        {
          "output_type": "stream",
          "text": [
            "<class 'pandas.core.frame.DataFrame'>\n",
            "RangeIndex: 378661 entries, 0 to 378660\n",
            "Data columns (total 14 columns):\n",
            " #   Column            Non-Null Count   Dtype  \n",
            "---  ------            --------------   -----  \n",
            " 0   name              378657 non-null  object \n",
            " 1   category          378661 non-null  object \n",
            " 2   main_category     378661 non-null  object \n",
            " 3   currency          359728 non-null  object \n",
            " 4   deadline          378661 non-null  object \n",
            " 5   goal              378661 non-null  float64\n",
            " 6   launched          378661 non-null  object \n",
            " 7   pledged           378661 non-null  float64\n",
            " 8   state             378661 non-null  object \n",
            " 9   backers           378472 non-null  float64\n",
            " 10  country           378661 non-null  object \n",
            " 11  usd pledged       374864 non-null  float64\n",
            " 12  usd_pledged_real  378661 non-null  float64\n",
            " 13  usd_goal_real     378661 non-null  float64\n",
            "dtypes: float64(6), object(8)\n",
            "memory usage: 40.4+ MB\n"
          ],
          "name": "stdout"
        }
      ]
    },
    {
      "cell_type": "code",
      "metadata": {
        "id": "iR_KWJzeisY_",
        "colab": {
          "base_uri": "https://localhost:8080/"
        },
        "outputId": "46021801-15c4-4058-c901-775fb85663b6"
      },
      "source": [
        " kickstarter.isna().sum()"
      ],
      "execution_count": null,
      "outputs": [
        {
          "output_type": "execute_result",
          "data": {
            "text/plain": [
              "name                    4\n",
              "category                0\n",
              "main_category           0\n",
              "currency            18933\n",
              "deadline                0\n",
              "goal                    0\n",
              "launched                0\n",
              "pledged                 0\n",
              "state                   0\n",
              "backers               189\n",
              "country                 0\n",
              "usd pledged          3797\n",
              "usd_pledged_real        0\n",
              "usd_goal_real           0\n",
              "dtype: int64"
            ]
          },
          "metadata": {
            "tags": []
          },
          "execution_count": 54
        }
      ]
    },
    {
      "cell_type": "code",
      "metadata": {
        "id": "2aS3_5BT9g4Y",
        "colab": {
          "base_uri": "https://localhost:8080/",
          "height": 346
        },
        "outputId": "d0d1c2a6-4435-44d8-a358-7ce1015a2ba8"
      },
      "source": [
        "kickstarter.loc[kickstarter['name'].isna()]"
      ],
      "execution_count": null,
      "outputs": [
        {
          "output_type": "execute_result",
          "data": {
            "text/html": [
              "<div>\n",
              "<style scoped>\n",
              "    .dataframe tbody tr th:only-of-type {\n",
              "        vertical-align: middle;\n",
              "    }\n",
              "\n",
              "    .dataframe tbody tr th {\n",
              "        vertical-align: top;\n",
              "    }\n",
              "\n",
              "    .dataframe thead th {\n",
              "        text-align: right;\n",
              "    }\n",
              "</style>\n",
              "<table border=\"1\" class=\"dataframe\">\n",
              "  <thead>\n",
              "    <tr style=\"text-align: right;\">\n",
              "      <th></th>\n",
              "      <th>name</th>\n",
              "      <th>category</th>\n",
              "      <th>main_category</th>\n",
              "      <th>currency</th>\n",
              "      <th>deadline</th>\n",
              "      <th>goal</th>\n",
              "      <th>launched</th>\n",
              "      <th>pledged</th>\n",
              "      <th>state</th>\n",
              "      <th>backers</th>\n",
              "      <th>country</th>\n",
              "      <th>usd pledged</th>\n",
              "      <th>usd_pledged_real</th>\n",
              "      <th>usd_goal_real</th>\n",
              "    </tr>\n",
              "  </thead>\n",
              "  <tbody>\n",
              "    <tr>\n",
              "      <th>166851</th>\n",
              "      <td>NaN</td>\n",
              "      <td>Narrative Film</td>\n",
              "      <td>Film &amp; Video</td>\n",
              "      <td>USD</td>\n",
              "      <td>2012-02-29</td>\n",
              "      <td>200000.0</td>\n",
              "      <td>2012-01-01 12:35:31</td>\n",
              "      <td>100.0</td>\n",
              "      <td>failed</td>\n",
              "      <td>1.0</td>\n",
              "      <td>US</td>\n",
              "      <td>100.00</td>\n",
              "      <td>100.00</td>\n",
              "      <td>200000.00</td>\n",
              "    </tr>\n",
              "    <tr>\n",
              "      <th>307234</th>\n",
              "      <td>NaN</td>\n",
              "      <td>Video Games</td>\n",
              "      <td>Games</td>\n",
              "      <td>GBP</td>\n",
              "      <td>2013-01-06</td>\n",
              "      <td>2000.0</td>\n",
              "      <td>2012-12-19 23:57:48</td>\n",
              "      <td>196.0</td>\n",
              "      <td>failed</td>\n",
              "      <td>12.0</td>\n",
              "      <td>GB</td>\n",
              "      <td>317.73</td>\n",
              "      <td>316.05</td>\n",
              "      <td>3224.97</td>\n",
              "    </tr>\n",
              "    <tr>\n",
              "      <th>309991</th>\n",
              "      <td>NaN</td>\n",
              "      <td>Product Design</td>\n",
              "      <td>Design</td>\n",
              "      <td>USD</td>\n",
              "      <td>2016-07-18</td>\n",
              "      <td>2500.0</td>\n",
              "      <td>2016-06-18 05:01:47</td>\n",
              "      <td>0.0</td>\n",
              "      <td>suspended</td>\n",
              "      <td>0.0</td>\n",
              "      <td>US</td>\n",
              "      <td>0.00</td>\n",
              "      <td>0.00</td>\n",
              "      <td>2500.00</td>\n",
              "    </tr>\n",
              "    <tr>\n",
              "      <th>338931</th>\n",
              "      <td>NaN</td>\n",
              "      <td>Painting</td>\n",
              "      <td>Art</td>\n",
              "      <td>USD</td>\n",
              "      <td>2011-12-05</td>\n",
              "      <td>35000.0</td>\n",
              "      <td>2011-11-06 23:55:55</td>\n",
              "      <td>220.0</td>\n",
              "      <td>failed</td>\n",
              "      <td>5.0</td>\n",
              "      <td>US</td>\n",
              "      <td>220.00</td>\n",
              "      <td>220.00</td>\n",
              "      <td>35000.00</td>\n",
              "    </tr>\n",
              "  </tbody>\n",
              "</table>\n",
              "</div>"
            ],
            "text/plain": [
              "       name        category  ... usd_pledged_real usd_goal_real\n",
              "166851  NaN  Narrative Film  ...           100.00     200000.00\n",
              "307234  NaN     Video Games  ...           316.05       3224.97\n",
              "309991  NaN  Product Design  ...             0.00       2500.00\n",
              "338931  NaN        Painting  ...           220.00      35000.00\n",
              "\n",
              "[4 rows x 14 columns]"
            ]
          },
          "metadata": {
            "tags": []
          },
          "execution_count": 56
        }
      ]
    },
    {
      "cell_type": "code",
      "metadata": {
        "id": "3AgTVLnUisY_"
      },
      "source": [
        "kickstarter.dropna(subset=['name'],inplace=True)"
      ],
      "execution_count": null,
      "outputs": []
    },
    {
      "cell_type": "code",
      "metadata": {
        "id": "99fCrNp99w5X",
        "colab": {
          "base_uri": "https://localhost:8080/"
        },
        "outputId": "a71872ec-ffaa-443c-b9fe-e1eba951842b"
      },
      "source": [
        "kickstarter.isna().sum()"
      ],
      "execution_count": null,
      "outputs": [
        {
          "output_type": "execute_result",
          "data": {
            "text/plain": [
              "name                    0\n",
              "category                0\n",
              "main_category           0\n",
              "currency            18933\n",
              "deadline                0\n",
              "goal                    0\n",
              "launched                0\n",
              "pledged                 0\n",
              "state                   0\n",
              "backers               189\n",
              "country                 0\n",
              "usd pledged          3797\n",
              "usd_pledged_real        0\n",
              "usd_goal_real           0\n",
              "dtype: int64"
            ]
          },
          "metadata": {
            "tags": []
          },
          "execution_count": 62
        }
      ]
    },
    {
      "cell_type": "code",
      "metadata": {
        "id": "bFqAryIR8CWu"
      },
      "source": [
        "kickstarter.dropna(subset=['usd pledged'],inplace=True)"
      ],
      "execution_count": null,
      "outputs": []
    },
    {
      "cell_type": "code",
      "metadata": {
        "id": "M_EpTqis_-eJ"
      },
      "source": [
        "kickstarter.dropna(subset=['backers'],inplace=True)"
      ],
      "execution_count": null,
      "outputs": []
    },
    {
      "cell_type": "code",
      "metadata": {
        "id": "bclR6jxyADEo",
        "colab": {
          "base_uri": "https://localhost:8080/"
        },
        "outputId": "0328f0c7-7e0a-40a5-8b1a-6f3731808e79"
      },
      "source": [
        "kickstarter.isna().sum()"
      ],
      "execution_count": null,
      "outputs": [
        {
          "output_type": "execute_result",
          "data": {
            "text/plain": [
              "name                    0\n",
              "category                0\n",
              "main_category           0\n",
              "currency            18762\n",
              "deadline                0\n",
              "goal                    0\n",
              "launched                0\n",
              "pledged                 0\n",
              "state                   0\n",
              "backers                 0\n",
              "country                 0\n",
              "usd pledged             0\n",
              "usd_pledged_real        0\n",
              "usd_goal_real           0\n",
              "dtype: int64"
            ]
          },
          "metadata": {
            "tags": []
          },
          "execution_count": 65
        }
      ]
    },
    {
      "cell_type": "code",
      "metadata": {
        "id": "GEInicANAJdv"
      },
      "source": [
        "data = pd.DataFrame([[1,2, ],[1,6],[1,2,3]],columns=['a','b','c'])"
      ],
      "execution_count": null,
      "outputs": []
    },
    {
      "cell_type": "code",
      "metadata": {
        "id": "Ip7f0ZweANJA",
        "colab": {
          "base_uri": "https://localhost:8080/",
          "height": 141
        },
        "outputId": "7ca8cbd6-bfc7-40c3-bb59-d5733316d605"
      },
      "source": [
        "data"
      ],
      "execution_count": null,
      "outputs": [
        {
          "output_type": "execute_result",
          "data": {
            "text/html": [
              "<div>\n",
              "<style scoped>\n",
              "    .dataframe tbody tr th:only-of-type {\n",
              "        vertical-align: middle;\n",
              "    }\n",
              "\n",
              "    .dataframe tbody tr th {\n",
              "        vertical-align: top;\n",
              "    }\n",
              "\n",
              "    .dataframe thead th {\n",
              "        text-align: right;\n",
              "    }\n",
              "</style>\n",
              "<table border=\"1\" class=\"dataframe\">\n",
              "  <thead>\n",
              "    <tr style=\"text-align: right;\">\n",
              "      <th></th>\n",
              "      <th>a</th>\n",
              "      <th>b</th>\n",
              "      <th>c</th>\n",
              "    </tr>\n",
              "  </thead>\n",
              "  <tbody>\n",
              "    <tr>\n",
              "      <th>0</th>\n",
              "      <td>1</td>\n",
              "      <td>2</td>\n",
              "      <td>NaN</td>\n",
              "    </tr>\n",
              "    <tr>\n",
              "      <th>1</th>\n",
              "      <td>1</td>\n",
              "      <td>6</td>\n",
              "      <td>NaN</td>\n",
              "    </tr>\n",
              "    <tr>\n",
              "      <th>2</th>\n",
              "      <td>1</td>\n",
              "      <td>2</td>\n",
              "      <td>3.0</td>\n",
              "    </tr>\n",
              "  </tbody>\n",
              "</table>\n",
              "</div>"
            ],
            "text/plain": [
              "   a  b    c\n",
              "0  1  2  NaN\n",
              "1  1  6  NaN\n",
              "2  1  2  3.0"
            ]
          },
          "metadata": {
            "tags": []
          },
          "execution_count": 71
        }
      ]
    },
    {
      "cell_type": "code",
      "metadata": {
        "id": "myXVv4FrAQ5Q",
        "colab": {
          "base_uri": "https://localhost:8080/"
        },
        "outputId": "111c0348-2fda-4646-bc98-304f3a4ba0b6"
      },
      "source": [
        "data['c'].fillna(45)"
      ],
      "execution_count": null,
      "outputs": [
        {
          "output_type": "execute_result",
          "data": {
            "text/plain": [
              "0    45.0\n",
              "1    45.0\n",
              "2     3.0\n",
              "Name: c, dtype: float64"
            ]
          },
          "metadata": {
            "tags": []
          },
          "execution_count": 72
        }
      ]
    },
    {
      "cell_type": "markdown",
      "metadata": {
        "id": "bdDw77818DTn"
      },
      "source": [
        "### Особенность питона"
      ]
    },
    {
      "cell_type": "code",
      "metadata": {
        "id": "w1qBlnHO8IGH"
      },
      "source": [
        "a = [1,2,3]\n",
        "b = a.copy()"
      ],
      "execution_count": null,
      "outputs": []
    },
    {
      "cell_type": "code",
      "metadata": {
        "id": "NptjDSkX8LAJ"
      },
      "source": [
        "a.append(12)"
      ],
      "execution_count": null,
      "outputs": []
    },
    {
      "cell_type": "code",
      "metadata": {
        "id": "WPNWX4Zk8Ol-",
        "colab": {
          "base_uri": "https://localhost:8080/"
        },
        "outputId": "d31382fd-ab0a-4b6b-ddb5-415064c7a4b9"
      },
      "source": [
        "a"
      ],
      "execution_count": null,
      "outputs": [
        {
          "output_type": "execute_result",
          "data": {
            "text/plain": [
              "[1, 2, 3, 12]"
            ]
          },
          "metadata": {
            "tags": []
          },
          "execution_count": 100
        }
      ]
    },
    {
      "cell_type": "code",
      "metadata": {
        "id": "llUvQ4n_8SLu",
        "colab": {
          "base_uri": "https://localhost:8080/"
        },
        "outputId": "1d7e0bbb-90a7-4c81-f06d-738788faac1e"
      },
      "source": [
        "b"
      ],
      "execution_count": null,
      "outputs": [
        {
          "output_type": "execute_result",
          "data": {
            "text/plain": [
              "[1, 2, 3]"
            ]
          },
          "metadata": {
            "tags": []
          },
          "execution_count": 101
        }
      ]
    },
    {
      "cell_type": "markdown",
      "metadata": {
        "id": "2Dgo099HisY_"
      },
      "source": [
        "### Работа с датой"
      ]
    },
    {
      "cell_type": "code",
      "metadata": {
        "id": "bJWFdyQMBREw",
        "colab": {
          "base_uri": "https://localhost:8080/"
        },
        "outputId": "752b9c5a-2064-4446-f2c7-467d803ea3e8"
      },
      "source": [
        "kickstarter.info()"
      ],
      "execution_count": null,
      "outputs": [
        {
          "output_type": "stream",
          "text": [
            "<class 'pandas.core.frame.DataFrame'>\n",
            "Int64Index: 374673 entries, 0 to 378660\n",
            "Data columns (total 14 columns):\n",
            " #   Column            Non-Null Count   Dtype  \n",
            "---  ------            --------------   -----  \n",
            " 0   name              374673 non-null  object \n",
            " 1   category          374673 non-null  object \n",
            " 2   main_category     374673 non-null  object \n",
            " 3   currency          355911 non-null  object \n",
            " 4   deadline          374673 non-null  object \n",
            " 5   goal              374673 non-null  float64\n",
            " 6   launched          374673 non-null  object \n",
            " 7   pledged           374673 non-null  float64\n",
            " 8   state             374673 non-null  object \n",
            " 9   backers           374673 non-null  float64\n",
            " 10  country           374673 non-null  object \n",
            " 11  usd pledged       374673 non-null  float64\n",
            " 12  usd_pledged_real  374673 non-null  float64\n",
            " 13  usd_goal_real     374673 non-null  float64\n",
            "dtypes: float64(6), object(8)\n",
            "memory usage: 42.9+ MB\n"
          ],
          "name": "stdout"
        }
      ]
    },
    {
      "cell_type": "code",
      "metadata": {
        "id": "WRaRHRm-Bke3"
      },
      "source": [
        "kickstarter['launched'] = pd.to_datetime(kickstarter['launched'])\n",
        "kickstarter['deadline'] = pd.to_datetime(kickstarter['deadline'])"
      ],
      "execution_count": null,
      "outputs": []
    },
    {
      "cell_type": "markdown",
      "metadata": {
        "id": "YoArlC6LisZA"
      },
      "source": [
        "### Выделяем отдельно стобцы с днями, месяцами и т.д."
      ]
    },
    {
      "cell_type": "code",
      "metadata": {
        "id": "MDjjVhYUCAzl",
        "colab": {
          "base_uri": "https://localhost:8080/"
        },
        "outputId": "69ba83d3-c07f-4c08-9276-4a9d37c2e879"
      },
      "source": [
        "kickstarter.info()"
      ],
      "execution_count": null,
      "outputs": [
        {
          "output_type": "stream",
          "text": [
            "<class 'pandas.core.frame.DataFrame'>\n",
            "Int64Index: 374673 entries, 0 to 378660\n",
            "Data columns (total 14 columns):\n",
            " #   Column            Non-Null Count   Dtype         \n",
            "---  ------            --------------   -----         \n",
            " 0   name              374673 non-null  object        \n",
            " 1   category          374673 non-null  object        \n",
            " 2   main_category     374673 non-null  object        \n",
            " 3   currency          355911 non-null  object        \n",
            " 4   deadline          374673 non-null  datetime64[ns]\n",
            " 5   goal              374673 non-null  float64       \n",
            " 6   launched          374673 non-null  datetime64[ns]\n",
            " 7   pledged           374673 non-null  float64       \n",
            " 8   state             374673 non-null  object        \n",
            " 9   backers           374673 non-null  float64       \n",
            " 10  country           374673 non-null  object        \n",
            " 11  usd pledged       374673 non-null  float64       \n",
            " 12  usd_pledged_real  374673 non-null  float64       \n",
            " 13  usd_goal_real     374673 non-null  float64       \n",
            "dtypes: datetime64[ns](2), float64(6), object(6)\n",
            "memory usage: 42.9+ MB\n"
          ],
          "name": "stdout"
        }
      ]
    },
    {
      "cell_type": "code",
      "metadata": {
        "id": "kIBxo2lNCjCZ",
        "colab": {
          "base_uri": "https://localhost:8080/"
        },
        "outputId": "0cb812e1-ffc9-435d-ee5b-1d9b88eb8d88"
      },
      "source": [
        "kickstarter['launched'].describe()"
      ],
      "execution_count": null,
      "outputs": [
        {
          "output_type": "stream",
          "text": [
            "/usr/local/lib/python3.7/dist-packages/ipykernel_launcher.py:1: FutureWarning: Treating datetime data as categorical rather than numeric in `.describe` is deprecated and will be removed in a future version of pandas. Specify `datetime_is_numeric=True` to silence this warning and adopt the future behavior now.\n",
            "  \"\"\"Entry point for launching an IPython kernel.\n"
          ],
          "name": "stderr"
        },
        {
          "output_type": "execute_result",
          "data": {
            "text/plain": [
              "count                  374673\n",
              "unique                 374112\n",
              "top       1970-01-01 01:00:00\n",
              "freq                        7\n",
              "first     1970-01-01 01:00:00\n",
              "last      2018-01-02 15:02:31\n",
              "Name: launched, dtype: object"
            ]
          },
          "metadata": {
            "tags": []
          },
          "execution_count": 79
        }
      ]
    },
    {
      "cell_type": "code",
      "metadata": {
        "id": "aP7FKdcoCODe",
        "colab": {
          "base_uri": "https://localhost:8080/",
          "height": 480
        },
        "outputId": "b4bdd89f-3946-4f2d-b2a6-df91510749f4"
      },
      "source": [
        "kickstarter.head()"
      ],
      "execution_count": null,
      "outputs": [
        {
          "output_type": "execute_result",
          "data": {
            "text/html": [
              "<div>\n",
              "<style scoped>\n",
              "    .dataframe tbody tr th:only-of-type {\n",
              "        vertical-align: middle;\n",
              "    }\n",
              "\n",
              "    .dataframe tbody tr th {\n",
              "        vertical-align: top;\n",
              "    }\n",
              "\n",
              "    .dataframe thead th {\n",
              "        text-align: right;\n",
              "    }\n",
              "</style>\n",
              "<table border=\"1\" class=\"dataframe\">\n",
              "  <thead>\n",
              "    <tr style=\"text-align: right;\">\n",
              "      <th></th>\n",
              "      <th>name</th>\n",
              "      <th>category</th>\n",
              "      <th>main_category</th>\n",
              "      <th>currency</th>\n",
              "      <th>deadline</th>\n",
              "      <th>goal</th>\n",
              "      <th>launched</th>\n",
              "      <th>pledged</th>\n",
              "      <th>state</th>\n",
              "      <th>backers</th>\n",
              "      <th>country</th>\n",
              "      <th>usd pledged</th>\n",
              "      <th>usd_pledged_real</th>\n",
              "      <th>usd_goal_real</th>\n",
              "    </tr>\n",
              "  </thead>\n",
              "  <tbody>\n",
              "    <tr>\n",
              "      <th>0</th>\n",
              "      <td>The Songs of Adelaide &amp; Abullah</td>\n",
              "      <td>Poetry</td>\n",
              "      <td>Publishing</td>\n",
              "      <td>GBP</td>\n",
              "      <td>2015-10-09</td>\n",
              "      <td>1000.0</td>\n",
              "      <td>2015-08-11 12:12:28</td>\n",
              "      <td>0.0</td>\n",
              "      <td>failed</td>\n",
              "      <td>0.0</td>\n",
              "      <td>GB</td>\n",
              "      <td>0.0</td>\n",
              "      <td>0.0</td>\n",
              "      <td>1533.95</td>\n",
              "    </tr>\n",
              "    <tr>\n",
              "      <th>1</th>\n",
              "      <td>Greeting From Earth: ZGAC Arts Capsule For ET</td>\n",
              "      <td>Narrative Film</td>\n",
              "      <td>Film &amp; Video</td>\n",
              "      <td>USD</td>\n",
              "      <td>2017-11-01</td>\n",
              "      <td>30000.0</td>\n",
              "      <td>2017-09-02 04:43:57</td>\n",
              "      <td>2421.0</td>\n",
              "      <td>failed</td>\n",
              "      <td>15.0</td>\n",
              "      <td>US</td>\n",
              "      <td>100.0</td>\n",
              "      <td>2421.0</td>\n",
              "      <td>30000.00</td>\n",
              "    </tr>\n",
              "    <tr>\n",
              "      <th>2</th>\n",
              "      <td>Where is Hank?</td>\n",
              "      <td>Narrative Film</td>\n",
              "      <td>Film &amp; Video</td>\n",
              "      <td>NaN</td>\n",
              "      <td>2013-02-26</td>\n",
              "      <td>45000.0</td>\n",
              "      <td>2013-01-12 00:20:50</td>\n",
              "      <td>220.0</td>\n",
              "      <td>failed</td>\n",
              "      <td>3.0</td>\n",
              "      <td>US</td>\n",
              "      <td>220.0</td>\n",
              "      <td>220.0</td>\n",
              "      <td>45000.00</td>\n",
              "    </tr>\n",
              "    <tr>\n",
              "      <th>3</th>\n",
              "      <td>ToshiCapital Rekordz Needs Help to Complete Album</td>\n",
              "      <td>Music</td>\n",
              "      <td>Music</td>\n",
              "      <td>USD</td>\n",
              "      <td>2012-04-16</td>\n",
              "      <td>5000.0</td>\n",
              "      <td>2012-03-17 03:24:11</td>\n",
              "      <td>1.0</td>\n",
              "      <td>failed</td>\n",
              "      <td>1.0</td>\n",
              "      <td>US</td>\n",
              "      <td>1.0</td>\n",
              "      <td>1.0</td>\n",
              "      <td>5000.00</td>\n",
              "    </tr>\n",
              "    <tr>\n",
              "      <th>4</th>\n",
              "      <td>Community Film Project: The Art of Neighborhoo...</td>\n",
              "      <td>Film &amp; Video</td>\n",
              "      <td>Film &amp; Video</td>\n",
              "      <td>USD</td>\n",
              "      <td>2015-08-29</td>\n",
              "      <td>19500.0</td>\n",
              "      <td>2015-07-04 08:35:03</td>\n",
              "      <td>1283.0</td>\n",
              "      <td>canceled</td>\n",
              "      <td>14.0</td>\n",
              "      <td>US</td>\n",
              "      <td>1283.0</td>\n",
              "      <td>1283.0</td>\n",
              "      <td>19500.00</td>\n",
              "    </tr>\n",
              "  </tbody>\n",
              "</table>\n",
              "</div>"
            ],
            "text/plain": [
              "                                                name  ... usd_goal_real\n",
              "0                    The Songs of Adelaide & Abullah  ...       1533.95\n",
              "1      Greeting From Earth: ZGAC Arts Capsule For ET  ...      30000.00\n",
              "2                                     Where is Hank?  ...      45000.00\n",
              "3  ToshiCapital Rekordz Needs Help to Complete Album  ...       5000.00\n",
              "4  Community Film Project: The Art of Neighborhoo...  ...      19500.00\n",
              "\n",
              "[5 rows x 14 columns]"
            ]
          },
          "metadata": {
            "tags": []
          },
          "execution_count": 78
        }
      ]
    },
    {
      "cell_type": "code",
      "metadata": {
        "id": "F_5xGy6OCA5W"
      },
      "source": [
        "kickstarter['year'] = kickstarter['launched'].dt.year\n",
        "kickstarter['month'] = kickstarter['launched'].dt.month\n",
        "kickstarter['dayofweek'] = kickstarter['launched'].dt.dayofweek\n",
        "kickstarter['day'] = kickstarter['launched'].dt.day\n",
        "kickstarter['hour'] = kickstarter['launched'].dt.hour"
      ],
      "execution_count": null,
      "outputs": []
    },
    {
      "cell_type": "code",
      "metadata": {
        "id": "wTVF2VouDNfS",
        "colab": {
          "base_uri": "https://localhost:8080/",
          "height": 480
        },
        "outputId": "e95b656f-6d93-47cd-9522-8e207dc59a45"
      },
      "source": [
        "kickstarter.head()"
      ],
      "execution_count": null,
      "outputs": [
        {
          "output_type": "execute_result",
          "data": {
            "text/html": [
              "<div>\n",
              "<style scoped>\n",
              "    .dataframe tbody tr th:only-of-type {\n",
              "        vertical-align: middle;\n",
              "    }\n",
              "\n",
              "    .dataframe tbody tr th {\n",
              "        vertical-align: top;\n",
              "    }\n",
              "\n",
              "    .dataframe thead th {\n",
              "        text-align: right;\n",
              "    }\n",
              "</style>\n",
              "<table border=\"1\" class=\"dataframe\">\n",
              "  <thead>\n",
              "    <tr style=\"text-align: right;\">\n",
              "      <th></th>\n",
              "      <th>name</th>\n",
              "      <th>category</th>\n",
              "      <th>main_category</th>\n",
              "      <th>currency</th>\n",
              "      <th>deadline</th>\n",
              "      <th>goal</th>\n",
              "      <th>launched</th>\n",
              "      <th>pledged</th>\n",
              "      <th>state</th>\n",
              "      <th>backers</th>\n",
              "      <th>country</th>\n",
              "      <th>usd pledged</th>\n",
              "      <th>usd_pledged_real</th>\n",
              "      <th>usd_goal_real</th>\n",
              "      <th>year</th>\n",
              "      <th>month</th>\n",
              "      <th>dayofweek</th>\n",
              "      <th>day</th>\n",
              "      <th>hour</th>\n",
              "    </tr>\n",
              "  </thead>\n",
              "  <tbody>\n",
              "    <tr>\n",
              "      <th>0</th>\n",
              "      <td>The Songs of Adelaide &amp; Abullah</td>\n",
              "      <td>Poetry</td>\n",
              "      <td>Publishing</td>\n",
              "      <td>GBP</td>\n",
              "      <td>2015-10-09</td>\n",
              "      <td>1000.0</td>\n",
              "      <td>2015-08-11 12:12:28</td>\n",
              "      <td>0.0</td>\n",
              "      <td>failed</td>\n",
              "      <td>0.0</td>\n",
              "      <td>GB</td>\n",
              "      <td>0.0</td>\n",
              "      <td>0.0</td>\n",
              "      <td>1533.95</td>\n",
              "      <td>2015</td>\n",
              "      <td>8</td>\n",
              "      <td>1</td>\n",
              "      <td>11</td>\n",
              "      <td>12</td>\n",
              "    </tr>\n",
              "    <tr>\n",
              "      <th>1</th>\n",
              "      <td>Greeting From Earth: ZGAC Arts Capsule For ET</td>\n",
              "      <td>Narrative Film</td>\n",
              "      <td>Film &amp; Video</td>\n",
              "      <td>USD</td>\n",
              "      <td>2017-11-01</td>\n",
              "      <td>30000.0</td>\n",
              "      <td>2017-09-02 04:43:57</td>\n",
              "      <td>2421.0</td>\n",
              "      <td>failed</td>\n",
              "      <td>15.0</td>\n",
              "      <td>US</td>\n",
              "      <td>100.0</td>\n",
              "      <td>2421.0</td>\n",
              "      <td>30000.00</td>\n",
              "      <td>2017</td>\n",
              "      <td>9</td>\n",
              "      <td>5</td>\n",
              "      <td>2</td>\n",
              "      <td>4</td>\n",
              "    </tr>\n",
              "    <tr>\n",
              "      <th>2</th>\n",
              "      <td>Where is Hank?</td>\n",
              "      <td>Narrative Film</td>\n",
              "      <td>Film &amp; Video</td>\n",
              "      <td>NaN</td>\n",
              "      <td>2013-02-26</td>\n",
              "      <td>45000.0</td>\n",
              "      <td>2013-01-12 00:20:50</td>\n",
              "      <td>220.0</td>\n",
              "      <td>failed</td>\n",
              "      <td>3.0</td>\n",
              "      <td>US</td>\n",
              "      <td>220.0</td>\n",
              "      <td>220.0</td>\n",
              "      <td>45000.00</td>\n",
              "      <td>2013</td>\n",
              "      <td>1</td>\n",
              "      <td>5</td>\n",
              "      <td>12</td>\n",
              "      <td>0</td>\n",
              "    </tr>\n",
              "    <tr>\n",
              "      <th>3</th>\n",
              "      <td>ToshiCapital Rekordz Needs Help to Complete Album</td>\n",
              "      <td>Music</td>\n",
              "      <td>Music</td>\n",
              "      <td>USD</td>\n",
              "      <td>2012-04-16</td>\n",
              "      <td>5000.0</td>\n",
              "      <td>2012-03-17 03:24:11</td>\n",
              "      <td>1.0</td>\n",
              "      <td>failed</td>\n",
              "      <td>1.0</td>\n",
              "      <td>US</td>\n",
              "      <td>1.0</td>\n",
              "      <td>1.0</td>\n",
              "      <td>5000.00</td>\n",
              "      <td>2012</td>\n",
              "      <td>3</td>\n",
              "      <td>5</td>\n",
              "      <td>17</td>\n",
              "      <td>3</td>\n",
              "    </tr>\n",
              "    <tr>\n",
              "      <th>4</th>\n",
              "      <td>Community Film Project: The Art of Neighborhoo...</td>\n",
              "      <td>Film &amp; Video</td>\n",
              "      <td>Film &amp; Video</td>\n",
              "      <td>USD</td>\n",
              "      <td>2015-08-29</td>\n",
              "      <td>19500.0</td>\n",
              "      <td>2015-07-04 08:35:03</td>\n",
              "      <td>1283.0</td>\n",
              "      <td>canceled</td>\n",
              "      <td>14.0</td>\n",
              "      <td>US</td>\n",
              "      <td>1283.0</td>\n",
              "      <td>1283.0</td>\n",
              "      <td>19500.00</td>\n",
              "      <td>2015</td>\n",
              "      <td>7</td>\n",
              "      <td>5</td>\n",
              "      <td>4</td>\n",
              "      <td>8</td>\n",
              "    </tr>\n",
              "  </tbody>\n",
              "</table>\n",
              "</div>"
            ],
            "text/plain": [
              "                                                name        category  ... day hour\n",
              "0                    The Songs of Adelaide & Abullah          Poetry  ...  11   12\n",
              "1      Greeting From Earth: ZGAC Arts Capsule For ET  Narrative Film  ...   2    4\n",
              "2                                     Where is Hank?  Narrative Film  ...  12    0\n",
              "3  ToshiCapital Rekordz Needs Help to Complete Album           Music  ...  17    3\n",
              "4  Community Film Project: The Art of Neighborhoo...    Film & Video  ...   4    8\n",
              "\n",
              "[5 rows x 19 columns]"
            ]
          },
          "metadata": {
            "tags": []
          },
          "execution_count": 81
        }
      ]
    },
    {
      "cell_type": "markdown",
      "metadata": {
        "id": "EeUGEWAQisY_"
      },
      "source": [
        "## Работа с типами данных. Группировка и агрегация"
      ]
    },
    {
      "cell_type": "code",
      "metadata": {
        "id": "QRr6BFun8Rn-"
      },
      "source": [
        ""
      ],
      "execution_count": null,
      "outputs": []
    },
    {
      "cell_type": "code",
      "metadata": {
        "id": "J75-NpR8isY_"
      },
      "source": [
        ""
      ],
      "execution_count": null,
      "outputs": []
    },
    {
      "cell_type": "code",
      "metadata": {
        "id": "S6nkhmixisZA"
      },
      "source": [
        ""
      ],
      "execution_count": null,
      "outputs": []
    },
    {
      "cell_type": "code",
      "metadata": {
        "id": "ZSmZkTd5isZA"
      },
      "source": [
        ""
      ],
      "execution_count": null,
      "outputs": []
    },
    {
      "cell_type": "code",
      "metadata": {
        "id": "bnt3qVj0isZA"
      },
      "source": [
        ""
      ],
      "execution_count": null,
      "outputs": []
    },
    {
      "cell_type": "code",
      "metadata": {
        "id": "kQ-bSeofisZA"
      },
      "source": [
        ""
      ],
      "execution_count": null,
      "outputs": []
    },
    {
      "cell_type": "code",
      "metadata": {
        "id": "PfehFOHxisZA"
      },
      "source": [
        ""
      ],
      "execution_count": null,
      "outputs": []
    },
    {
      "cell_type": "code",
      "metadata": {
        "id": "bCZjxEVyisZA"
      },
      "source": [
        ""
      ],
      "execution_count": null,
      "outputs": []
    },
    {
      "cell_type": "code",
      "metadata": {
        "id": "XDNBgcOmisZA"
      },
      "source": [
        ""
      ],
      "execution_count": null,
      "outputs": []
    },
    {
      "cell_type": "code",
      "metadata": {
        "id": "_Q-tsgKdisZB"
      },
      "source": [
        ""
      ],
      "execution_count": null,
      "outputs": []
    },
    {
      "cell_type": "markdown",
      "metadata": {
        "id": "IA0C4JlmisZD"
      },
      "source": [
        "### Преобразование типов данных"
      ]
    },
    {
      "cell_type": "markdown",
      "metadata": {
        "id": "_CvsnMTOisZD"
      },
      "source": [
        "Используем метод `astype(тип_данных)`"
      ]
    },
    {
      "cell_type": "code",
      "metadata": {
        "id": "D37jwj6HisZD",
        "colab": {
          "base_uri": "https://localhost:8080/"
        },
        "outputId": "66cfc8da-2532-4390-f6fb-c6a352468b58"
      },
      "source": [
        "kickstarter.info()"
      ],
      "execution_count": null,
      "outputs": [
        {
          "output_type": "stream",
          "text": [
            "<class 'pandas.core.frame.DataFrame'>\n",
            "Int64Index: 374673 entries, 0 to 378660\n",
            "Data columns (total 19 columns):\n",
            " #   Column            Non-Null Count   Dtype         \n",
            "---  ------            --------------   -----         \n",
            " 0   name              374673 non-null  object        \n",
            " 1   category          374673 non-null  object        \n",
            " 2   main_category     374673 non-null  object        \n",
            " 3   currency          355911 non-null  object        \n",
            " 4   deadline          374673 non-null  datetime64[ns]\n",
            " 5   goal              374673 non-null  float64       \n",
            " 6   launched          374673 non-null  datetime64[ns]\n",
            " 7   pledged           374673 non-null  float64       \n",
            " 8   state             374673 non-null  object        \n",
            " 9   backers           374673 non-null  float64       \n",
            " 10  country           374673 non-null  object        \n",
            " 11  usd pledged       374673 non-null  float64       \n",
            " 12  usd_pledged_real  374673 non-null  float64       \n",
            " 13  usd_goal_real     374673 non-null  float64       \n",
            " 14  year              374673 non-null  int64         \n",
            " 15  month             374673 non-null  int64         \n",
            " 16  dayofweek         374673 non-null  int64         \n",
            " 17  day               374673 non-null  int64         \n",
            " 18  hour              374673 non-null  int64         \n",
            "dtypes: datetime64[ns](2), float64(6), int64(5), object(6)\n",
            "memory usage: 57.2+ MB\n"
          ],
          "name": "stdout"
        }
      ]
    },
    {
      "cell_type": "code",
      "metadata": {
        "id": "Akjiguz7EfVC"
      },
      "source": [
        "kickstarter = kickstarter.reset_index()"
      ],
      "execution_count": null,
      "outputs": []
    },
    {
      "cell_type": "code",
      "metadata": {
        "id": "IEHbLmOZEwHK",
        "colab": {
          "base_uri": "https://localhost:8080/"
        },
        "outputId": "c49ec0e5-0dc6-4495-b901-d406361389c1"
      },
      "source": [
        "%%time\n",
        "kickstarter['usd pledged'] = kickstarter['usd pledged'].apply(math.ceil)"
      ],
      "execution_count": null,
      "outputs": [
        {
          "output_type": "stream",
          "text": [
            "CPU times: user 125 ms, sys: 4 ms, total: 129 ms\n",
            "Wall time: 131 ms\n"
          ],
          "name": "stdout"
        }
      ]
    },
    {
      "cell_type": "code",
      "metadata": {
        "id": "kaWmwhiVFSvk",
        "colab": {
          "base_uri": "https://localhost:8080/"
        },
        "outputId": "4b559095-6fb2-4368-b516-f9bc71871c2f"
      },
      "source": [
        "%%time\n",
        "kickstarter['usd pledged'] = np.ceil(kickstarter['usd pledged'])"
      ],
      "execution_count": null,
      "outputs": [
        {
          "output_type": "stream",
          "text": [
            "CPU times: user 6.23 ms, sys: 5 µs, total: 6.23 ms\n",
            "Wall time: 5 ms\n"
          ],
          "name": "stdout"
        }
      ]
    },
    {
      "cell_type": "code",
      "metadata": {
        "id": "IjNH9X3iD2Jh",
        "colab": {
          "base_uri": "https://localhost:8080/"
        },
        "outputId": "ddfd5394-e6af-48c4-e1ae-319684a811e7"
      },
      "source": [
        "%%time\n",
        "for i in range(0,len(kickstarter)):\n",
        "  kickstarter['usd pledged'][i] = math.ceil(kickstarter['usd pledged'][i])"
      ],
      "execution_count": null,
      "outputs": [
        {
          "output_type": "stream",
          "text": [
            "/usr/local/lib/python3.7/dist-packages/ipykernel_launcher.py:2: SettingWithCopyWarning: \n",
            "A value is trying to be set on a copy of a slice from a DataFrame\n",
            "\n",
            "See the caveats in the documentation: https://pandas.pydata.org/pandas-docs/stable/user_guide/indexing.html#returning-a-view-versus-a-copy\n",
            "  \n"
          ],
          "name": "stderr"
        },
        {
          "output_type": "stream",
          "text": [
            "CPU times: user 30.4 s, sys: 138 ms, total: 30.6 s\n",
            "Wall time: 30.5 s\n"
          ],
          "name": "stdout"
        }
      ]
    },
    {
      "cell_type": "code",
      "metadata": {
        "id": "3GF_qArSisZD",
        "colab": {
          "base_uri": "https://localhost:8080/"
        },
        "outputId": "e8ddee23-1f59-4bed-cbde-fc49972ce60c"
      },
      "source": [
        "math.ceil(5.5)"
      ],
      "execution_count": null,
      "outputs": [
        {
          "output_type": "execute_result",
          "data": {
            "text/plain": [
              "6"
            ]
          },
          "metadata": {
            "tags": []
          },
          "execution_count": 83
        }
      ]
    },
    {
      "cell_type": "code",
      "metadata": {
        "id": "zygPjw73isZE"
      },
      "source": [
        "kickstarter['goal'] = kickstarter['goal'].astype('')"
      ],
      "execution_count": null,
      "outputs": []
    },
    {
      "cell_type": "code",
      "metadata": {
        "id": "8W59ZqGzisZE",
        "colab": {
          "base_uri": "https://localhost:8080/"
        },
        "outputId": "533db512-0977-4fc6-da32-993e246c864f"
      },
      "source": [
        "kickstarter.info()"
      ],
      "execution_count": null,
      "outputs": [
        {
          "output_type": "stream",
          "text": [
            "<class 'pandas.core.frame.DataFrame'>\n",
            "RangeIndex: 374673 entries, 0 to 374672\n",
            "Data columns (total 20 columns):\n",
            " #   Column            Non-Null Count   Dtype         \n",
            "---  ------            --------------   -----         \n",
            " 0   index             374673 non-null  int64         \n",
            " 1   name              374673 non-null  object        \n",
            " 2   category          374673 non-null  object        \n",
            " 3   main_category     374673 non-null  object        \n",
            " 4   currency          355911 non-null  object        \n",
            " 5   deadline          374673 non-null  datetime64[ns]\n",
            " 6   goal              374673 non-null  int64         \n",
            " 7   launched          374673 non-null  datetime64[ns]\n",
            " 8   pledged           374673 non-null  float64       \n",
            " 9   state             374673 non-null  object        \n",
            " 10  backers           374673 non-null  float64       \n",
            " 11  country           374673 non-null  object        \n",
            " 12  usd pledged       374673 non-null  float64       \n",
            " 13  usd_pledged_real  374673 non-null  float64       \n",
            " 14  usd_goal_real     374673 non-null  float64       \n",
            " 15  year              374673 non-null  int64         \n",
            " 16  month             374673 non-null  int64         \n",
            " 17  dayofweek         374673 non-null  int64         \n",
            " 18  day               374673 non-null  int64         \n",
            " 19  hour              374673 non-null  int64         \n",
            "dtypes: datetime64[ns](2), float64(5), int64(7), object(6)\n",
            "memory usage: 57.2+ MB\n"
          ],
          "name": "stdout"
        }
      ]
    },
    {
      "cell_type": "markdown",
      "metadata": {
        "id": "TFZ7YByGisZB"
      },
      "source": [
        "### Округляем данные"
      ]
    },
    {
      "cell_type": "markdown",
      "metadata": {
        "id": "-IpqbYRLisZB"
      },
      "source": [
        "Есть несколько стандартных методов (библиотека math) и не очень стандартных:)"
      ]
    },
    {
      "cell_type": "code",
      "metadata": {
        "id": "rUPfBsWGisZB"
      },
      "source": [
        ""
      ],
      "execution_count": null,
      "outputs": []
    },
    {
      "cell_type": "code",
      "metadata": {
        "id": "Jy7JkdUBisZB"
      },
      "source": [
        ""
      ],
      "execution_count": null,
      "outputs": []
    },
    {
      "cell_type": "code",
      "metadata": {
        "id": "En52fHuMisZB"
      },
      "source": [
        ""
      ],
      "execution_count": null,
      "outputs": []
    },
    {
      "cell_type": "code",
      "metadata": {
        "id": "I0xuLRdcisZB"
      },
      "source": [
        ""
      ],
      "execution_count": null,
      "outputs": []
    },
    {
      "cell_type": "code",
      "metadata": {
        "id": "M_s2NH92isZB"
      },
      "source": [
        ""
      ],
      "execution_count": null,
      "outputs": []
    },
    {
      "cell_type": "markdown",
      "metadata": {
        "id": "YGlLXfmmisZC"
      },
      "source": [
        "### Использование функции aplly"
      ]
    },
    {
      "cell_type": "markdown",
      "metadata": {
        "id": "rEC2ZLFgisZC"
      },
      "source": [
        "Как мы привыкли работать через циклы, делать не надо) Это зло!"
      ]
    },
    {
      "cell_type": "code",
      "metadata": {
        "id": "4YdwOkj6isZC"
      },
      "source": [
        ""
      ],
      "execution_count": null,
      "outputs": []
    },
    {
      "cell_type": "code",
      "metadata": {
        "id": "aB9s69NJisZD"
      },
      "source": [
        ""
      ],
      "execution_count": null,
      "outputs": []
    },
    {
      "cell_type": "code",
      "metadata": {
        "id": "6YF9vfY_isZD"
      },
      "source": [
        ""
      ],
      "execution_count": null,
      "outputs": []
    },
    {
      "cell_type": "code",
      "metadata": {
        "id": "AACnU_PBisZD"
      },
      "source": [
        ""
      ],
      "execution_count": null,
      "outputs": []
    },
    {
      "cell_type": "markdown",
      "metadata": {
        "id": "hTvSvMP4isZE"
      },
      "source": [
        "### Группировка данных"
      ]
    },
    {
      "cell_type": "markdown",
      "metadata": {
        "id": "2A2vnr0XisZE"
      },
      "source": [
        "<img src='https://pbpython.com/images/transform-example.png'>"
      ]
    },
    {
      "cell_type": "markdown",
      "metadata": {
        "id": "O5LrAZR3isZE"
      },
      "source": [
        "Группировка задается командной `groupbe(столбцы).[столбец_для агрегации].функция_агрегации`"
      ]
    },
    {
      "cell_type": "code",
      "metadata": {
        "id": "MOvwldaNisZE"
      },
      "source": [
        ""
      ],
      "execution_count": null,
      "outputs": []
    },
    {
      "cell_type": "code",
      "metadata": {
        "id": "UgE7AXELisZE"
      },
      "source": [
        ""
      ],
      "execution_count": null,
      "outputs": []
    },
    {
      "cell_type": "markdown",
      "metadata": {
        "id": "6b1C08DYisZE"
      },
      "source": [
        "##### Группировка и агрегация для опеределенного столбца"
      ]
    },
    {
      "cell_type": "code",
      "metadata": {
        "id": "7vZpwaIzisZF"
      },
      "source": [
        ""
      ],
      "execution_count": null,
      "outputs": []
    },
    {
      "cell_type": "markdown",
      "metadata": {
        "id": "OZCclrcWisZF"
      },
      "source": [
        "##### Сбросим индексы"
      ]
    },
    {
      "cell_type": "markdown",
      "metadata": {
        "id": "0meLsiK3isZF"
      },
      "source": [
        "Для этого используется метод `reset_index()`"
      ]
    },
    {
      "cell_type": "code",
      "metadata": {
        "id": "UBjkL3jnisZF"
      },
      "source": [
        ""
      ],
      "execution_count": null,
      "outputs": []
    },
    {
      "cell_type": "markdown",
      "metadata": {
        "id": "xPiHe6uXisZF"
      },
      "source": [
        "##### Попробуем сортировку"
      ]
    },
    {
      "cell_type": "markdown",
      "metadata": {
        "id": "dzNVkLkaisZF"
      },
      "source": [
        "Используется метод `sort_values(by=имя_столбца)`"
      ]
    },
    {
      "cell_type": "code",
      "metadata": {
        "id": "SRwJs1sNisZF"
      },
      "source": [
        ""
      ],
      "execution_count": null,
      "outputs": []
    },
    {
      "cell_type": "markdown",
      "metadata": {
        "id": "dqG7hyWRisZG"
      },
      "source": [
        "##### А что если мы хотим задать порядок сортировки?"
      ]
    },
    {
      "cell_type": "code",
      "metadata": {
        "id": "DG_AS-9kisZG"
      },
      "source": [
        ""
      ],
      "execution_count": null,
      "outputs": []
    },
    {
      "cell_type": "markdown",
      "metadata": {
        "id": "cAtfJfYWisZG"
      },
      "source": [
        "##### Поупражняемся)"
      ]
    },
    {
      "cell_type": "code",
      "metadata": {
        "id": "EF0dlszkisZG"
      },
      "source": [
        ""
      ],
      "execution_count": null,
      "outputs": []
    },
    {
      "cell_type": "code",
      "metadata": {
        "id": "CnouiF52isZG"
      },
      "source": [
        ""
      ],
      "execution_count": null,
      "outputs": []
    },
    {
      "cell_type": "code",
      "metadata": {
        "id": "StzJ4kYlisZG"
      },
      "source": [
        ""
      ],
      "execution_count": null,
      "outputs": []
    },
    {
      "cell_type": "code",
      "metadata": {
        "id": "WI7GPzNqisZG"
      },
      "source": [
        "# группировка по нескольким столбцам"
      ],
      "execution_count": null,
      "outputs": []
    },
    {
      "cell_type": "code",
      "metadata": {
        "id": "Pi1JrRVFisZG"
      },
      "source": [
        " # добавляем несколько функций агрегации"
      ],
      "execution_count": null,
      "outputs": []
    },
    {
      "cell_type": "markdown",
      "metadata": {
        "id": "d0fEaRSrisZH"
      },
      "source": [
        "##### Какие дни, часы популярны для оформления заявок)"
      ]
    },
    {
      "cell_type": "code",
      "metadata": {
        "id": "Yr19P73WisZH"
      },
      "source": [
        ""
      ],
      "execution_count": null,
      "outputs": []
    },
    {
      "cell_type": "code",
      "metadata": {
        "id": "wWRkDoYkisZH"
      },
      "source": [
        ""
      ],
      "execution_count": null,
      "outputs": []
    },
    {
      "cell_type": "markdown",
      "metadata": {
        "id": "DtLMK-UIisZH"
      },
      "source": [
        "##### Что там у нас с категориями? "
      ]
    },
    {
      "cell_type": "code",
      "metadata": {
        "id": "LGvy2s4yisZH"
      },
      "source": [
        ""
      ],
      "execution_count": null,
      "outputs": []
    },
    {
      "cell_type": "code",
      "metadata": {
        "id": "6K6g1517isZH"
      },
      "source": [
        ""
      ],
      "execution_count": null,
      "outputs": []
    },
    {
      "cell_type": "markdown",
      "metadata": {
        "id": "1bH-lnEGisZH"
      },
      "source": [
        "### Работа со сводными таблицами"
      ]
    },
    {
      "cell_type": "markdown",
      "metadata": {
        "id": "u6MO1nKaisZH"
      },
      "source": [
        "Для работы используется конструкция \n",
        "`pivot_table(index=имя_столбцы, columns=опционально, values=столбец_для_агрегирования, aggfunc=функция_агрегирования)`"
      ]
    },
    {
      "cell_type": "code",
      "metadata": {
        "scrolled": false,
        "id": "jSVPOGICisZI"
      },
      "source": [
        ""
      ],
      "execution_count": null,
      "outputs": []
    },
    {
      "cell_type": "markdown",
      "metadata": {
        "id": "Mgw1D_nQisZI"
      },
      "source": [
        "##### Потренируемся"
      ]
    },
    {
      "cell_type": "code",
      "metadata": {
        "id": "UYsZjAqXisZI"
      },
      "source": [
        "# индексация по нескольким столбцам"
      ],
      "execution_count": null,
      "outputs": []
    },
    {
      "cell_type": "code",
      "metadata": {
        "id": "dru2aO1eisZI"
      },
      "source": [
        "# добавление параметра columns"
      ],
      "execution_count": null,
      "outputs": []
    },
    {
      "cell_type": "code",
      "metadata": {
        "id": "ey3sV-h7isZI"
      },
      "source": [
        "# несколько функций агрегации"
      ],
      "execution_count": null,
      "outputs": []
    },
    {
      "cell_type": "code",
      "metadata": {
        "id": "KNuyffxSisZI"
      },
      "source": [
        ""
      ],
      "execution_count": null,
      "outputs": []
    }
  ]
}