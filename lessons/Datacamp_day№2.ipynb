{
  "nbformat": 4,
  "nbformat_minor": 0,
  "metadata": {
    "colab": {
      "name": "Datacamp_day№2.ipynb",
      "provenance": [],
      "collapsed_sections": []
    },
    "kernelspec": {
      "display_name": "Python 3",
      "language": "python",
      "name": "python3"
    },
    "language_info": {
      "codemirror_mode": {
        "name": "ipython",
        "version": 3
      },
      "file_extension": ".py",
      "mimetype": "text/x-python",
      "name": "python",
      "nbconvert_exporter": "python",
      "pygments_lexer": "ipython3",
      "version": "3.7.4"
    }
  },
  "cells": [
    {
      "cell_type": "markdown",
      "metadata": {
        "id": "IC73Rk4fJcF9"
      },
      "source": [
        "# Загрузка и предобработка данных"
      ]
    },
    {
      "cell_type": "code",
      "metadata": {
        "id": "hfvvNVgmIkXZ"
      },
      "source": [
        "import pandas as pd\n",
        "import numpy as np\n",
        "import math\n",
        "import matplotlib.pyplot as plt\n",
        "%matplotlib inline\n",
        "from scipy import stats as st"
      ],
      "execution_count": 1,
      "outputs": []
    },
    {
      "cell_type": "code",
      "metadata": {
        "id": "Wp6s3c7vJaKi"
      },
      "source": [
        "kickstarter = pd.read_csv('kickstarter.csv') "
      ],
      "execution_count": 2,
      "outputs": []
    },
    {
      "cell_type": "code",
      "metadata": {
        "id": "gak_j2OjJbf7",
        "outputId": "e0cbd467-07f3-4eb1-d015-8ab137448d3b",
        "colab": {
          "base_uri": "https://localhost:8080/"
        }
      },
      "source": [
        "kickstarter.info()"
      ],
      "execution_count": 3,
      "outputs": [
        {
          "output_type": "stream",
          "text": [
            "<class 'pandas.core.frame.DataFrame'>\n",
            "RangeIndex: 378661 entries, 0 to 378660\n",
            "Data columns (total 17 columns):\n",
            " #   Column            Non-Null Count   Dtype  \n",
            "---  ------            --------------   -----  \n",
            " 0   Unnamed: 0        378661 non-null  int64  \n",
            " 1   ID                378661 non-null  int64  \n",
            " 2   name              378657 non-null  object \n",
            " 3   category          378661 non-null  object \n",
            " 4   main_category     378661 non-null  object \n",
            " 5   currency          359728 non-null  object \n",
            " 6   deadline          378661 non-null  object \n",
            " 7   goal              378661 non-null  float64\n",
            " 8   launched          378661 non-null  object \n",
            " 9   pledged           378661 non-null  float64\n",
            " 10  state             378661 non-null  object \n",
            " 11  backers           378472 non-null  float64\n",
            " 12  country           378661 non-null  object \n",
            " 13  usd pledged       374864 non-null  float64\n",
            " 14  usd_pledged_real  378661 non-null  float64\n",
            " 15  usd_goal_real     378661 non-null  float64\n",
            " 16  Unnamed           378661 non-null  int64  \n",
            "dtypes: float64(6), int64(3), object(8)\n",
            "memory usage: 49.1+ MB\n"
          ],
          "name": "stdout"
        }
      ]
    },
    {
      "cell_type": "code",
      "metadata": {
        "id": "Y4BohE3JJxdT",
        "outputId": "64532aa9-0e5a-4627-8248-9128ab9293f6",
        "colab": {
          "base_uri": "https://localhost:8080/",
          "height": 467
        }
      },
      "source": [
        "kickstarter.head()"
      ],
      "execution_count": 4,
      "outputs": [
        {
          "output_type": "execute_result",
          "data": {
            "text/html": [
              "<div>\n",
              "<style scoped>\n",
              "    .dataframe tbody tr th:only-of-type {\n",
              "        vertical-align: middle;\n",
              "    }\n",
              "\n",
              "    .dataframe tbody tr th {\n",
              "        vertical-align: top;\n",
              "    }\n",
              "\n",
              "    .dataframe thead th {\n",
              "        text-align: right;\n",
              "    }\n",
              "</style>\n",
              "<table border=\"1\" class=\"dataframe\">\n",
              "  <thead>\n",
              "    <tr style=\"text-align: right;\">\n",
              "      <th></th>\n",
              "      <th>Unnamed: 0</th>\n",
              "      <th>ID</th>\n",
              "      <th>name</th>\n",
              "      <th>category</th>\n",
              "      <th>main_category</th>\n",
              "      <th>currency</th>\n",
              "      <th>deadline</th>\n",
              "      <th>goal</th>\n",
              "      <th>launched</th>\n",
              "      <th>pledged</th>\n",
              "      <th>state</th>\n",
              "      <th>backers</th>\n",
              "      <th>country</th>\n",
              "      <th>usd pledged</th>\n",
              "      <th>usd_pledged_real</th>\n",
              "      <th>usd_goal_real</th>\n",
              "      <th>Unnamed</th>\n",
              "    </tr>\n",
              "  </thead>\n",
              "  <tbody>\n",
              "    <tr>\n",
              "      <th>0</th>\n",
              "      <td>0</td>\n",
              "      <td>1000002330</td>\n",
              "      <td>The Songs of Adelaide &amp; Abullah</td>\n",
              "      <td>Poetry</td>\n",
              "      <td>Publishing</td>\n",
              "      <td>GBP</td>\n",
              "      <td>2015-10-09</td>\n",
              "      <td>1000.0</td>\n",
              "      <td>2015-08-11 12:12:28</td>\n",
              "      <td>0.0</td>\n",
              "      <td>failed</td>\n",
              "      <td>0.0</td>\n",
              "      <td>GB</td>\n",
              "      <td>0.0</td>\n",
              "      <td>0.0</td>\n",
              "      <td>1533.95</td>\n",
              "      <td>1000002330</td>\n",
              "    </tr>\n",
              "    <tr>\n",
              "      <th>1</th>\n",
              "      <td>1</td>\n",
              "      <td>1000003930</td>\n",
              "      <td>Greeting From Earth: ZGAC Arts Capsule For ET</td>\n",
              "      <td>Narrative Film</td>\n",
              "      <td>Film &amp; Video</td>\n",
              "      <td>USD</td>\n",
              "      <td>2017-11-01</td>\n",
              "      <td>30000.0</td>\n",
              "      <td>2017-09-02 04:43:57</td>\n",
              "      <td>2421.0</td>\n",
              "      <td>failed</td>\n",
              "      <td>15.0</td>\n",
              "      <td>US</td>\n",
              "      <td>100.0</td>\n",
              "      <td>2421.0</td>\n",
              "      <td>30000.00</td>\n",
              "      <td>1000003930</td>\n",
              "    </tr>\n",
              "    <tr>\n",
              "      <th>2</th>\n",
              "      <td>2</td>\n",
              "      <td>1000004038</td>\n",
              "      <td>Where is Hank?</td>\n",
              "      <td>Narrative Film</td>\n",
              "      <td>Film &amp; Video</td>\n",
              "      <td>NaN</td>\n",
              "      <td>2013-02-26</td>\n",
              "      <td>45000.0</td>\n",
              "      <td>2013-01-12 00:20:50</td>\n",
              "      <td>220.0</td>\n",
              "      <td>failed</td>\n",
              "      <td>3.0</td>\n",
              "      <td>US</td>\n",
              "      <td>220.0</td>\n",
              "      <td>220.0</td>\n",
              "      <td>45000.00</td>\n",
              "      <td>1000004038</td>\n",
              "    </tr>\n",
              "    <tr>\n",
              "      <th>3</th>\n",
              "      <td>3</td>\n",
              "      <td>1000007540</td>\n",
              "      <td>ToshiCapital Rekordz Needs Help to Complete Album</td>\n",
              "      <td>Music</td>\n",
              "      <td>Music</td>\n",
              "      <td>USD</td>\n",
              "      <td>2012-04-16</td>\n",
              "      <td>5000.0</td>\n",
              "      <td>2012-03-17 03:24:11</td>\n",
              "      <td>1.0</td>\n",
              "      <td>failed</td>\n",
              "      <td>1.0</td>\n",
              "      <td>US</td>\n",
              "      <td>1.0</td>\n",
              "      <td>1.0</td>\n",
              "      <td>5000.00</td>\n",
              "      <td>1000007540</td>\n",
              "    </tr>\n",
              "    <tr>\n",
              "      <th>4</th>\n",
              "      <td>4</td>\n",
              "      <td>1000011046</td>\n",
              "      <td>Community Film Project: The Art of Neighborhoo...</td>\n",
              "      <td>Film &amp; Video</td>\n",
              "      <td>Film &amp; Video</td>\n",
              "      <td>USD</td>\n",
              "      <td>2015-08-29</td>\n",
              "      <td>19500.0</td>\n",
              "      <td>2015-07-04 08:35:03</td>\n",
              "      <td>1283.0</td>\n",
              "      <td>canceled</td>\n",
              "      <td>14.0</td>\n",
              "      <td>US</td>\n",
              "      <td>1283.0</td>\n",
              "      <td>1283.0</td>\n",
              "      <td>19500.00</td>\n",
              "      <td>1000011046</td>\n",
              "    </tr>\n",
              "  </tbody>\n",
              "</table>\n",
              "</div>"
            ],
            "text/plain": [
              "   Unnamed: 0          ID  ... usd_goal_real     Unnamed\n",
              "0           0  1000002330  ...       1533.95  1000002330\n",
              "1           1  1000003930  ...      30000.00  1000003930\n",
              "2           2  1000004038  ...      45000.00  1000004038\n",
              "3           3  1000007540  ...       5000.00  1000007540\n",
              "4           4  1000011046  ...      19500.00  1000011046\n",
              "\n",
              "[5 rows x 17 columns]"
            ]
          },
          "metadata": {
            "tags": []
          },
          "execution_count": 4
        }
      ]
    },
    {
      "cell_type": "markdown",
      "metadata": {
        "id": "8OyX5VZLJp_U"
      },
      "source": [
        "- `Country` - страна проекта\n",
        "- `Currency` - валюта проекта\n",
        "- `ID` - идентификатор проекта\n",
        "- `Launched` - дата и время регистрации проекта\n",
        "- `Main Category` - основная категория проекта\n",
        "- `State` - статус проекта\n",
        "- `Backers` - количество спонсоров проекта\n",
        "- `Goal` - сколько нужно собрать проекту, финансовая цель\n",
        "- `Pledged` - собрано, в лоцальной валюте\n",
        "- `Usd Pledged` - собрано в доллара США"
      ]
    },
    {
      "cell_type": "code",
      "metadata": {
        "id": "A_nn-bbcJkqi"
      },
      "source": [
        " kickstarter = kickstarter.drop(columns=['ID','Unnamed: 0','Unnamed','usd_pledged_real','usd_goal_real'])"
      ],
      "execution_count": 5,
      "outputs": []
    },
    {
      "cell_type": "code",
      "metadata": {
        "id": "TgP0Rg6aJpjz",
        "outputId": "68990037-3656-40f7-c3df-c5f5a307bd90",
        "colab": {
          "base_uri": "https://localhost:8080/"
        }
      },
      "source": [
        " kickstarter.columns"
      ],
      "execution_count": 6,
      "outputs": [
        {
          "output_type": "execute_result",
          "data": {
            "text/plain": [
              "Index(['name', 'category', 'main_category', 'currency', 'deadline', 'goal',\n",
              "       'launched', 'pledged', 'state', 'backers', 'country', 'usd pledged'],\n",
              "      dtype='object')"
            ]
          },
          "metadata": {
            "tags": []
          },
          "execution_count": 6
        }
      ]
    },
    {
      "cell_type": "code",
      "metadata": {
        "id": "3lCFNixlKOOA",
        "outputId": "5e64a5d7-5488-44a4-c1e7-e3633690e0aa",
        "colab": {
          "base_uri": "https://localhost:8080/"
        }
      },
      "source": [
        "kickstarter.isna().sum()"
      ],
      "execution_count": 13,
      "outputs": [
        {
          "output_type": "execute_result",
          "data": {
            "text/plain": [
              "index                0\n",
              "name                 0\n",
              "category             0\n",
              "main_category        0\n",
              "currency         18762\n",
              "deadline             0\n",
              "goal                 0\n",
              "launched             0\n",
              "pledged              0\n",
              "state                0\n",
              "backers              0\n",
              "country              0\n",
              "usd pledged          0\n",
              "year                 0\n",
              "month                0\n",
              "dayofweek            0\n",
              "day                  0\n",
              "hour                 0\n",
              "duration             0\n",
              "dtype: int64"
            ]
          },
          "metadata": {
            "tags": []
          },
          "execution_count": 13
        }
      ]
    },
    {
      "cell_type": "code",
      "metadata": {
        "id": "7GiNtH_-KBl7"
      },
      "source": [
        "kickstarter.dropna(subset=['name'],inplace=True)\n",
        "kickstarter.dropna(subset=['backers'],inplace=True)\n",
        "kickstarter.dropna(subset=['usd pledged'],inplace=True)"
      ],
      "execution_count": 8,
      "outputs": []
    },
    {
      "cell_type": "code",
      "metadata": {
        "id": "Y_eJeeXMKKF3"
      },
      "source": [
        "kickstarter['launched'] = pd.to_datetime(kickstarter['launched'])\n",
        "kickstarter['deadline'] = pd.to_datetime(kickstarter['deadline'])"
      ],
      "execution_count": 9,
      "outputs": []
    },
    {
      "cell_type": "code",
      "metadata": {
        "id": "SmgA6U04KU0l"
      },
      "source": [
        "kickstarter['year'] = kickstarter['launched'].dt.year\n",
        "kickstarter['month'] = kickstarter['launched'].dt.month\n",
        "kickstarter['dayofweek'] = kickstarter['launched'].dt.dayofweek\n",
        "kickstarter['day'] = kickstarter['launched'].dt.day\n",
        "kickstarter['hour'] = kickstarter['launched'].dt.hour"
      ],
      "execution_count": 10,
      "outputs": []
    },
    {
      "cell_type": "code",
      "metadata": {
        "id": "0Z_Vy7tpKugx"
      },
      "source": [
        "kickstarter['duration'] = (kickstarter['deadline']-kickstarter['launched']).dt.days"
      ],
      "execution_count": 11,
      "outputs": []
    },
    {
      "cell_type": "code",
      "metadata": {
        "id": "qAlAbQBJNLSx"
      },
      "source": [
        "kickstarter.reset_index(inplace=True)"
      ],
      "execution_count": 12,
      "outputs": []
    },
    {
      "cell_type": "code",
      "metadata": {
        "id": "GqAyh6cKBcRz",
        "outputId": "58683b1a-cf8b-4bb5-cb2a-2f62071fb5c0",
        "colab": {
          "base_uri": "https://localhost:8080/"
        }
      },
      "source": [
        "for i,j in zip([1,2,3],[2,3,5]):\n",
        "  print(i,j)"
      ],
      "execution_count": 15,
      "outputs": [
        {
          "output_type": "stream",
          "text": [
            "1 2\n",
            "2 3\n",
            "3 5\n"
          ],
          "name": "stdout"
        }
      ]
    },
    {
      "cell_type": "code",
      "metadata": {
        "id": "BqEqqQW5BnDC",
        "outputId": "75791387-4517-4cc3-c045-199e3a44ff7f",
        "colab": {
          "base_uri": "https://localhost:8080/"
        }
      },
      "source": [
        "zip([1,2,3],[2,3,5])\n"
      ],
      "execution_count": 16,
      "outputs": [
        {
          "output_type": "execute_result",
          "data": {
            "text/plain": [
              "<zip at 0x7fee12a06aa0>"
            ]
          },
          "metadata": {
            "tags": []
          },
          "execution_count": 16
        }
      ]
    },
    {
      "cell_type": "code",
      "metadata": {
        "id": "jaPdtBf6MPlj"
      },
      "source": [
        "dct = dict(zip(kickstarter['country'],kickstarter['currency']))"
      ],
      "execution_count": 17,
      "outputs": []
    },
    {
      "cell_type": "code",
      "metadata": {
        "id": "v1PrMEtW-pnE",
        "outputId": "3f604303-b9a2-4d29-b023-d790e5ed3daf",
        "colab": {
          "base_uri": "https://localhost:8080/"
        }
      },
      "source": [
        "dct"
      ],
      "execution_count": 18,
      "outputs": [
        {
          "output_type": "execute_result",
          "data": {
            "text/plain": [
              "{'AT': 'EUR',\n",
              " 'AU': 'AUD',\n",
              " 'BE': 'EUR',\n",
              " 'CA': 'CAD',\n",
              " 'CH': 'CHF',\n",
              " 'DE': 'EUR',\n",
              " 'DK': 'DKK',\n",
              " 'ES': 'EUR',\n",
              " 'FR': 'EUR',\n",
              " 'GB': 'GBP',\n",
              " 'HK': 'HKD',\n",
              " 'IE': 'EUR',\n",
              " 'IT': 'EUR',\n",
              " 'JP': 'JPY',\n",
              " 'LU': 'EUR',\n",
              " 'MX': 'MXN',\n",
              " 'NL': 'EUR',\n",
              " 'NO': 'NOK',\n",
              " 'NZ': 'NZD',\n",
              " 'SE': 'SEK',\n",
              " 'SG': 'SGD',\n",
              " 'US': 'USD'}"
            ]
          },
          "metadata": {
            "tags": []
          },
          "execution_count": 18
        }
      ]
    },
    {
      "cell_type": "code",
      "metadata": {
        "id": "_AXvUWhMPHD1"
      },
      "source": [
        "list_of_index = kickstarter[kickstarter['currency'].isna()].index"
      ],
      "execution_count": 19,
      "outputs": []
    },
    {
      "cell_type": "code",
      "metadata": {
        "id": "M-lB7DzbB17f",
        "outputId": "f1f08f4f-c13a-4cf0-c9eb-a12065ec60fb",
        "colab": {
          "base_uri": "https://localhost:8080/"
        }
      },
      "source": [
        "list_of_index"
      ],
      "execution_count": 20,
      "outputs": [
        {
          "output_type": "execute_result",
          "data": {
            "text/plain": [
              "Int64Index([     2,     18,     40,     53,     69,     72,     88,     89,\n",
              "               111,    168,\n",
              "            ...\n",
              "            374486, 374489, 374493, 374542, 374543, 374572, 374635, 374643,\n",
              "            374659, 374670],\n",
              "           dtype='int64', length=18762)"
            ]
          },
          "metadata": {
            "tags": []
          },
          "execution_count": 20
        }
      ]
    },
    {
      "cell_type": "code",
      "metadata": {
        "id": "Y6SL2nyWPnMJ",
        "outputId": "b3d0eb5c-b9cc-4f6a-8778-afd86e356f38",
        "colab": {
          "base_uri": "https://localhost:8080/",
          "height": 791
        }
      },
      "source": [
        "kickstarter.iloc[list_of_index]"
      ],
      "execution_count": 21,
      "outputs": [
        {
          "output_type": "execute_result",
          "data": {
            "text/html": [
              "<div>\n",
              "<style scoped>\n",
              "    .dataframe tbody tr th:only-of-type {\n",
              "        vertical-align: middle;\n",
              "    }\n",
              "\n",
              "    .dataframe tbody tr th {\n",
              "        vertical-align: top;\n",
              "    }\n",
              "\n",
              "    .dataframe thead th {\n",
              "        text-align: right;\n",
              "    }\n",
              "</style>\n",
              "<table border=\"1\" class=\"dataframe\">\n",
              "  <thead>\n",
              "    <tr style=\"text-align: right;\">\n",
              "      <th></th>\n",
              "      <th>index</th>\n",
              "      <th>name</th>\n",
              "      <th>category</th>\n",
              "      <th>main_category</th>\n",
              "      <th>currency</th>\n",
              "      <th>deadline</th>\n",
              "      <th>goal</th>\n",
              "      <th>launched</th>\n",
              "      <th>pledged</th>\n",
              "      <th>state</th>\n",
              "      <th>backers</th>\n",
              "      <th>country</th>\n",
              "      <th>usd pledged</th>\n",
              "      <th>year</th>\n",
              "      <th>month</th>\n",
              "      <th>dayofweek</th>\n",
              "      <th>day</th>\n",
              "      <th>hour</th>\n",
              "      <th>duration</th>\n",
              "    </tr>\n",
              "  </thead>\n",
              "  <tbody>\n",
              "    <tr>\n",
              "      <th>2</th>\n",
              "      <td>2</td>\n",
              "      <td>Where is Hank?</td>\n",
              "      <td>Narrative Film</td>\n",
              "      <td>Film &amp; Video</td>\n",
              "      <td>NaN</td>\n",
              "      <td>2013-02-26</td>\n",
              "      <td>45000.0</td>\n",
              "      <td>2013-01-12 00:20:50</td>\n",
              "      <td>220.00</td>\n",
              "      <td>failed</td>\n",
              "      <td>3.0</td>\n",
              "      <td>US</td>\n",
              "      <td>220.00</td>\n",
              "      <td>2013</td>\n",
              "      <td>1</td>\n",
              "      <td>5</td>\n",
              "      <td>12</td>\n",
              "      <td>0</td>\n",
              "      <td>44</td>\n",
              "    </tr>\n",
              "    <tr>\n",
              "      <th>18</th>\n",
              "      <td>18</td>\n",
              "      <td>Mike Corey's Darkness &amp; Light Album</td>\n",
              "      <td>Music</td>\n",
              "      <td>Music</td>\n",
              "      <td>NaN</td>\n",
              "      <td>2012-08-17</td>\n",
              "      <td>250.0</td>\n",
              "      <td>2012-08-02 14:11:32</td>\n",
              "      <td>250.00</td>\n",
              "      <td>successful</td>\n",
              "      <td>7.0</td>\n",
              "      <td>US</td>\n",
              "      <td>250.00</td>\n",
              "      <td>2012</td>\n",
              "      <td>8</td>\n",
              "      <td>3</td>\n",
              "      <td>2</td>\n",
              "      <td>14</td>\n",
              "      <td>14</td>\n",
              "    </tr>\n",
              "    <tr>\n",
              "      <th>40</th>\n",
              "      <td>40</td>\n",
              "      <td>Unschooling To University Book Project</td>\n",
              "      <td>Nonfiction</td>\n",
              "      <td>Publishing</td>\n",
              "      <td>NaN</td>\n",
              "      <td>2018-01-19</td>\n",
              "      <td>3000.0</td>\n",
              "      <td>2017-11-20 18:15:14</td>\n",
              "      <td>592.00</td>\n",
              "      <td>live</td>\n",
              "      <td>24.0</td>\n",
              "      <td>CA</td>\n",
              "      <td>185.65</td>\n",
              "      <td>2017</td>\n",
              "      <td>11</td>\n",
              "      <td>0</td>\n",
              "      <td>20</td>\n",
              "      <td>18</td>\n",
              "      <td>59</td>\n",
              "    </tr>\n",
              "    <tr>\n",
              "      <th>53</th>\n",
              "      <td>53</td>\n",
              "      <td>A Teacher's Travels in China</td>\n",
              "      <td>Photography</td>\n",
              "      <td>Photography</td>\n",
              "      <td>NaN</td>\n",
              "      <td>2012-05-13</td>\n",
              "      <td>4000.0</td>\n",
              "      <td>2012-04-18 23:34:56</td>\n",
              "      <td>4866.17</td>\n",
              "      <td>successful</td>\n",
              "      <td>71.0</td>\n",
              "      <td>US</td>\n",
              "      <td>4866.17</td>\n",
              "      <td>2012</td>\n",
              "      <td>4</td>\n",
              "      <td>2</td>\n",
              "      <td>18</td>\n",
              "      <td>23</td>\n",
              "      <td>24</td>\n",
              "    </tr>\n",
              "    <tr>\n",
              "      <th>69</th>\n",
              "      <td>69</td>\n",
              "      <td>\"Flying\" Carpets from Azerbaijan, Iran and Tur...</td>\n",
              "      <td>Weaving</td>\n",
              "      <td>Crafts</td>\n",
              "      <td>NaN</td>\n",
              "      <td>2015-04-29</td>\n",
              "      <td>5000.0</td>\n",
              "      <td>2015-03-30 19:55:31</td>\n",
              "      <td>2.00</td>\n",
              "      <td>failed</td>\n",
              "      <td>1.0</td>\n",
              "      <td>GB</td>\n",
              "      <td>2.98</td>\n",
              "      <td>2015</td>\n",
              "      <td>3</td>\n",
              "      <td>0</td>\n",
              "      <td>30</td>\n",
              "      <td>19</td>\n",
              "      <td>29</td>\n",
              "    </tr>\n",
              "    <tr>\n",
              "      <th>...</th>\n",
              "      <td>...</td>\n",
              "      <td>...</td>\n",
              "      <td>...</td>\n",
              "      <td>...</td>\n",
              "      <td>...</td>\n",
              "      <td>...</td>\n",
              "      <td>...</td>\n",
              "      <td>...</td>\n",
              "      <td>...</td>\n",
              "      <td>...</td>\n",
              "      <td>...</td>\n",
              "      <td>...</td>\n",
              "      <td>...</td>\n",
              "      <td>...</td>\n",
              "      <td>...</td>\n",
              "      <td>...</td>\n",
              "      <td>...</td>\n",
              "      <td>...</td>\n",
              "      <td>...</td>\n",
              "    </tr>\n",
              "    <tr>\n",
              "      <th>374572</th>\n",
              "      <td>378558</td>\n",
              "      <td>A new venture, needs a new wheel.</td>\n",
              "      <td>Printing</td>\n",
              "      <td>Crafts</td>\n",
              "      <td>NaN</td>\n",
              "      <td>2017-08-13</td>\n",
              "      <td>2000.0</td>\n",
              "      <td>2017-07-13 07:49:29</td>\n",
              "      <td>2916.00</td>\n",
              "      <td>successful</td>\n",
              "      <td>60.0</td>\n",
              "      <td>GB</td>\n",
              "      <td>2237.56</td>\n",
              "      <td>2017</td>\n",
              "      <td>7</td>\n",
              "      <td>3</td>\n",
              "      <td>13</td>\n",
              "      <td>7</td>\n",
              "      <td>30</td>\n",
              "    </tr>\n",
              "    <tr>\n",
              "      <th>374635</th>\n",
              "      <td>378623</td>\n",
              "      <td>BETTER DESPERATE</td>\n",
              "      <td>Music Videos</td>\n",
              "      <td>Film &amp; Video</td>\n",
              "      <td>NaN</td>\n",
              "      <td>2016-05-07</td>\n",
              "      <td>300.0</td>\n",
              "      <td>2016-04-07 20:04:26</td>\n",
              "      <td>300.00</td>\n",
              "      <td>successful</td>\n",
              "      <td>5.0</td>\n",
              "      <td>US</td>\n",
              "      <td>300.00</td>\n",
              "      <td>2016</td>\n",
              "      <td>4</td>\n",
              "      <td>3</td>\n",
              "      <td>7</td>\n",
              "      <td>20</td>\n",
              "      <td>29</td>\n",
              "    </tr>\n",
              "    <tr>\n",
              "      <th>374643</th>\n",
              "      <td>378631</td>\n",
              "      <td>MONSTROCARDS- A Creative Drawing Game of Horri...</td>\n",
              "      <td>Playing Cards</td>\n",
              "      <td>Games</td>\n",
              "      <td>NaN</td>\n",
              "      <td>2014-10-03</td>\n",
              "      <td>10000.0</td>\n",
              "      <td>2014-09-03 19:53:50</td>\n",
              "      <td>13861.50</td>\n",
              "      <td>successful</td>\n",
              "      <td>413.0</td>\n",
              "      <td>US</td>\n",
              "      <td>13861.50</td>\n",
              "      <td>2014</td>\n",
              "      <td>9</td>\n",
              "      <td>2</td>\n",
              "      <td>3</td>\n",
              "      <td>19</td>\n",
              "      <td>29</td>\n",
              "    </tr>\n",
              "    <tr>\n",
              "      <th>374659</th>\n",
              "      <td>378647</td>\n",
              "      <td>The Cease is Increase</td>\n",
              "      <td>Nonfiction</td>\n",
              "      <td>Publishing</td>\n",
              "      <td>NaN</td>\n",
              "      <td>2012-09-14</td>\n",
              "      <td>4999.0</td>\n",
              "      <td>2012-08-15 17:11:00</td>\n",
              "      <td>980.00</td>\n",
              "      <td>failed</td>\n",
              "      <td>16.0</td>\n",
              "      <td>US</td>\n",
              "      <td>980.00</td>\n",
              "      <td>2012</td>\n",
              "      <td>8</td>\n",
              "      <td>2</td>\n",
              "      <td>15</td>\n",
              "      <td>17</td>\n",
              "      <td>29</td>\n",
              "    </tr>\n",
              "    <tr>\n",
              "      <th>374670</th>\n",
              "      <td>378658</td>\n",
              "      <td>Walls of Remedy- New lesbian Romantic Comedy f...</td>\n",
              "      <td>Narrative Film</td>\n",
              "      <td>Film &amp; Video</td>\n",
              "      <td>NaN</td>\n",
              "      <td>2010-08-16</td>\n",
              "      <td>15000.0</td>\n",
              "      <td>2010-07-01 19:40:30</td>\n",
              "      <td>20.00</td>\n",
              "      <td>failed</td>\n",
              "      <td>1.0</td>\n",
              "      <td>US</td>\n",
              "      <td>20.00</td>\n",
              "      <td>2010</td>\n",
              "      <td>7</td>\n",
              "      <td>3</td>\n",
              "      <td>1</td>\n",
              "      <td>19</td>\n",
              "      <td>45</td>\n",
              "    </tr>\n",
              "  </tbody>\n",
              "</table>\n",
              "<p>18762 rows × 19 columns</p>\n",
              "</div>"
            ],
            "text/plain": [
              "         index  ... duration\n",
              "2            2  ...       44\n",
              "18          18  ...       14\n",
              "40          40  ...       59\n",
              "53          53  ...       24\n",
              "69          69  ...       29\n",
              "...        ...  ...      ...\n",
              "374572  378558  ...       30\n",
              "374635  378623  ...       29\n",
              "374643  378631  ...       29\n",
              "374659  378647  ...       29\n",
              "374670  378658  ...       45\n",
              "\n",
              "[18762 rows x 19 columns]"
            ]
          },
          "metadata": {
            "tags": []
          },
          "execution_count": 21
        }
      ]
    },
    {
      "cell_type": "code",
      "metadata": {
        "id": "V_2NrkTQK4CT"
      },
      "source": [
        "kickstarter['currency'] = kickstarter.apply(lambda x: dct[x['country']] if pd.isna(x['currency']) else x['currency'],axis=1 )"
      ],
      "execution_count": 22,
      "outputs": []
    },
    {
      "cell_type": "code",
      "metadata": {
        "id": "d_b1pZZKLAqD",
        "outputId": "db43b452-4b2b-4129-fc75-d68ff2918235",
        "colab": {
          "base_uri": "https://localhost:8080/",
          "height": 791
        }
      },
      "source": [
        "kickstarter.iloc[list_of_index]"
      ],
      "execution_count": 23,
      "outputs": [
        {
          "output_type": "execute_result",
          "data": {
            "text/html": [
              "<div>\n",
              "<style scoped>\n",
              "    .dataframe tbody tr th:only-of-type {\n",
              "        vertical-align: middle;\n",
              "    }\n",
              "\n",
              "    .dataframe tbody tr th {\n",
              "        vertical-align: top;\n",
              "    }\n",
              "\n",
              "    .dataframe thead th {\n",
              "        text-align: right;\n",
              "    }\n",
              "</style>\n",
              "<table border=\"1\" class=\"dataframe\">\n",
              "  <thead>\n",
              "    <tr style=\"text-align: right;\">\n",
              "      <th></th>\n",
              "      <th>index</th>\n",
              "      <th>name</th>\n",
              "      <th>category</th>\n",
              "      <th>main_category</th>\n",
              "      <th>currency</th>\n",
              "      <th>deadline</th>\n",
              "      <th>goal</th>\n",
              "      <th>launched</th>\n",
              "      <th>pledged</th>\n",
              "      <th>state</th>\n",
              "      <th>backers</th>\n",
              "      <th>country</th>\n",
              "      <th>usd pledged</th>\n",
              "      <th>year</th>\n",
              "      <th>month</th>\n",
              "      <th>dayofweek</th>\n",
              "      <th>day</th>\n",
              "      <th>hour</th>\n",
              "      <th>duration</th>\n",
              "    </tr>\n",
              "  </thead>\n",
              "  <tbody>\n",
              "    <tr>\n",
              "      <th>2</th>\n",
              "      <td>2</td>\n",
              "      <td>Where is Hank?</td>\n",
              "      <td>Narrative Film</td>\n",
              "      <td>Film &amp; Video</td>\n",
              "      <td>USD</td>\n",
              "      <td>2013-02-26</td>\n",
              "      <td>45000.0</td>\n",
              "      <td>2013-01-12 00:20:50</td>\n",
              "      <td>220.00</td>\n",
              "      <td>failed</td>\n",
              "      <td>3.0</td>\n",
              "      <td>US</td>\n",
              "      <td>220.00</td>\n",
              "      <td>2013</td>\n",
              "      <td>1</td>\n",
              "      <td>5</td>\n",
              "      <td>12</td>\n",
              "      <td>0</td>\n",
              "      <td>44</td>\n",
              "    </tr>\n",
              "    <tr>\n",
              "      <th>18</th>\n",
              "      <td>18</td>\n",
              "      <td>Mike Corey's Darkness &amp; Light Album</td>\n",
              "      <td>Music</td>\n",
              "      <td>Music</td>\n",
              "      <td>USD</td>\n",
              "      <td>2012-08-17</td>\n",
              "      <td>250.0</td>\n",
              "      <td>2012-08-02 14:11:32</td>\n",
              "      <td>250.00</td>\n",
              "      <td>successful</td>\n",
              "      <td>7.0</td>\n",
              "      <td>US</td>\n",
              "      <td>250.00</td>\n",
              "      <td>2012</td>\n",
              "      <td>8</td>\n",
              "      <td>3</td>\n",
              "      <td>2</td>\n",
              "      <td>14</td>\n",
              "      <td>14</td>\n",
              "    </tr>\n",
              "    <tr>\n",
              "      <th>40</th>\n",
              "      <td>40</td>\n",
              "      <td>Unschooling To University Book Project</td>\n",
              "      <td>Nonfiction</td>\n",
              "      <td>Publishing</td>\n",
              "      <td>CAD</td>\n",
              "      <td>2018-01-19</td>\n",
              "      <td>3000.0</td>\n",
              "      <td>2017-11-20 18:15:14</td>\n",
              "      <td>592.00</td>\n",
              "      <td>live</td>\n",
              "      <td>24.0</td>\n",
              "      <td>CA</td>\n",
              "      <td>185.65</td>\n",
              "      <td>2017</td>\n",
              "      <td>11</td>\n",
              "      <td>0</td>\n",
              "      <td>20</td>\n",
              "      <td>18</td>\n",
              "      <td>59</td>\n",
              "    </tr>\n",
              "    <tr>\n",
              "      <th>53</th>\n",
              "      <td>53</td>\n",
              "      <td>A Teacher's Travels in China</td>\n",
              "      <td>Photography</td>\n",
              "      <td>Photography</td>\n",
              "      <td>USD</td>\n",
              "      <td>2012-05-13</td>\n",
              "      <td>4000.0</td>\n",
              "      <td>2012-04-18 23:34:56</td>\n",
              "      <td>4866.17</td>\n",
              "      <td>successful</td>\n",
              "      <td>71.0</td>\n",
              "      <td>US</td>\n",
              "      <td>4866.17</td>\n",
              "      <td>2012</td>\n",
              "      <td>4</td>\n",
              "      <td>2</td>\n",
              "      <td>18</td>\n",
              "      <td>23</td>\n",
              "      <td>24</td>\n",
              "    </tr>\n",
              "    <tr>\n",
              "      <th>69</th>\n",
              "      <td>69</td>\n",
              "      <td>\"Flying\" Carpets from Azerbaijan, Iran and Tur...</td>\n",
              "      <td>Weaving</td>\n",
              "      <td>Crafts</td>\n",
              "      <td>GBP</td>\n",
              "      <td>2015-04-29</td>\n",
              "      <td>5000.0</td>\n",
              "      <td>2015-03-30 19:55:31</td>\n",
              "      <td>2.00</td>\n",
              "      <td>failed</td>\n",
              "      <td>1.0</td>\n",
              "      <td>GB</td>\n",
              "      <td>2.98</td>\n",
              "      <td>2015</td>\n",
              "      <td>3</td>\n",
              "      <td>0</td>\n",
              "      <td>30</td>\n",
              "      <td>19</td>\n",
              "      <td>29</td>\n",
              "    </tr>\n",
              "    <tr>\n",
              "      <th>...</th>\n",
              "      <td>...</td>\n",
              "      <td>...</td>\n",
              "      <td>...</td>\n",
              "      <td>...</td>\n",
              "      <td>...</td>\n",
              "      <td>...</td>\n",
              "      <td>...</td>\n",
              "      <td>...</td>\n",
              "      <td>...</td>\n",
              "      <td>...</td>\n",
              "      <td>...</td>\n",
              "      <td>...</td>\n",
              "      <td>...</td>\n",
              "      <td>...</td>\n",
              "      <td>...</td>\n",
              "      <td>...</td>\n",
              "      <td>...</td>\n",
              "      <td>...</td>\n",
              "      <td>...</td>\n",
              "    </tr>\n",
              "    <tr>\n",
              "      <th>374572</th>\n",
              "      <td>378558</td>\n",
              "      <td>A new venture, needs a new wheel.</td>\n",
              "      <td>Printing</td>\n",
              "      <td>Crafts</td>\n",
              "      <td>GBP</td>\n",
              "      <td>2017-08-13</td>\n",
              "      <td>2000.0</td>\n",
              "      <td>2017-07-13 07:49:29</td>\n",
              "      <td>2916.00</td>\n",
              "      <td>successful</td>\n",
              "      <td>60.0</td>\n",
              "      <td>GB</td>\n",
              "      <td>2237.56</td>\n",
              "      <td>2017</td>\n",
              "      <td>7</td>\n",
              "      <td>3</td>\n",
              "      <td>13</td>\n",
              "      <td>7</td>\n",
              "      <td>30</td>\n",
              "    </tr>\n",
              "    <tr>\n",
              "      <th>374635</th>\n",
              "      <td>378623</td>\n",
              "      <td>BETTER DESPERATE</td>\n",
              "      <td>Music Videos</td>\n",
              "      <td>Film &amp; Video</td>\n",
              "      <td>USD</td>\n",
              "      <td>2016-05-07</td>\n",
              "      <td>300.0</td>\n",
              "      <td>2016-04-07 20:04:26</td>\n",
              "      <td>300.00</td>\n",
              "      <td>successful</td>\n",
              "      <td>5.0</td>\n",
              "      <td>US</td>\n",
              "      <td>300.00</td>\n",
              "      <td>2016</td>\n",
              "      <td>4</td>\n",
              "      <td>3</td>\n",
              "      <td>7</td>\n",
              "      <td>20</td>\n",
              "      <td>29</td>\n",
              "    </tr>\n",
              "    <tr>\n",
              "      <th>374643</th>\n",
              "      <td>378631</td>\n",
              "      <td>MONSTROCARDS- A Creative Drawing Game of Horri...</td>\n",
              "      <td>Playing Cards</td>\n",
              "      <td>Games</td>\n",
              "      <td>USD</td>\n",
              "      <td>2014-10-03</td>\n",
              "      <td>10000.0</td>\n",
              "      <td>2014-09-03 19:53:50</td>\n",
              "      <td>13861.50</td>\n",
              "      <td>successful</td>\n",
              "      <td>413.0</td>\n",
              "      <td>US</td>\n",
              "      <td>13861.50</td>\n",
              "      <td>2014</td>\n",
              "      <td>9</td>\n",
              "      <td>2</td>\n",
              "      <td>3</td>\n",
              "      <td>19</td>\n",
              "      <td>29</td>\n",
              "    </tr>\n",
              "    <tr>\n",
              "      <th>374659</th>\n",
              "      <td>378647</td>\n",
              "      <td>The Cease is Increase</td>\n",
              "      <td>Nonfiction</td>\n",
              "      <td>Publishing</td>\n",
              "      <td>USD</td>\n",
              "      <td>2012-09-14</td>\n",
              "      <td>4999.0</td>\n",
              "      <td>2012-08-15 17:11:00</td>\n",
              "      <td>980.00</td>\n",
              "      <td>failed</td>\n",
              "      <td>16.0</td>\n",
              "      <td>US</td>\n",
              "      <td>980.00</td>\n",
              "      <td>2012</td>\n",
              "      <td>8</td>\n",
              "      <td>2</td>\n",
              "      <td>15</td>\n",
              "      <td>17</td>\n",
              "      <td>29</td>\n",
              "    </tr>\n",
              "    <tr>\n",
              "      <th>374670</th>\n",
              "      <td>378658</td>\n",
              "      <td>Walls of Remedy- New lesbian Romantic Comedy f...</td>\n",
              "      <td>Narrative Film</td>\n",
              "      <td>Film &amp; Video</td>\n",
              "      <td>USD</td>\n",
              "      <td>2010-08-16</td>\n",
              "      <td>15000.0</td>\n",
              "      <td>2010-07-01 19:40:30</td>\n",
              "      <td>20.00</td>\n",
              "      <td>failed</td>\n",
              "      <td>1.0</td>\n",
              "      <td>US</td>\n",
              "      <td>20.00</td>\n",
              "      <td>2010</td>\n",
              "      <td>7</td>\n",
              "      <td>3</td>\n",
              "      <td>1</td>\n",
              "      <td>19</td>\n",
              "      <td>45</td>\n",
              "    </tr>\n",
              "  </tbody>\n",
              "</table>\n",
              "<p>18762 rows × 19 columns</p>\n",
              "</div>"
            ],
            "text/plain": [
              "         index  ... duration\n",
              "2            2  ...       44\n",
              "18          18  ...       14\n",
              "40          40  ...       59\n",
              "53          53  ...       24\n",
              "69          69  ...       29\n",
              "...        ...  ...      ...\n",
              "374572  378558  ...       30\n",
              "374635  378623  ...       29\n",
              "374643  378631  ...       29\n",
              "374659  378647  ...       29\n",
              "374670  378658  ...       45\n",
              "\n",
              "[18762 rows x 19 columns]"
            ]
          },
          "metadata": {
            "tags": []
          },
          "execution_count": 23
        }
      ]
    },
    {
      "cell_type": "code",
      "metadata": {
        "id": "tFq-OKVvQolO",
        "outputId": "088159a7-191b-47f0-f384-b43a10aacb50",
        "colab": {
          "base_uri": "https://localhost:8080/"
        }
      },
      "source": [
        "kickstarter.isna().sum()"
      ],
      "execution_count": 24,
      "outputs": [
        {
          "output_type": "execute_result",
          "data": {
            "text/plain": [
              "index            0\n",
              "name             0\n",
              "category         0\n",
              "main_category    0\n",
              "currency         0\n",
              "deadline         0\n",
              "goal             0\n",
              "launched         0\n",
              "pledged          0\n",
              "state            0\n",
              "backers          0\n",
              "country          0\n",
              "usd pledged      0\n",
              "year             0\n",
              "month            0\n",
              "dayofweek        0\n",
              "day              0\n",
              "hour             0\n",
              "duration         0\n",
              "dtype: int64"
            ]
          },
          "metadata": {
            "tags": []
          },
          "execution_count": 24
        }
      ]
    },
    {
      "cell_type": "markdown",
      "metadata": {
        "id": "9eVuLYIjUDI7"
      },
      "source": [
        "# Описательные статистики"
      ]
    },
    {
      "cell_type": "code",
      "metadata": {
        "colab": {
          "base_uri": "https://localhost:8080/"
        },
        "id": "HxWPSFscW9wb",
        "outputId": "9538698d-dcf3-443b-df70-ab7fd02e60ee"
      },
      "source": [
        "kickstarter['usd pledged'].describe()"
      ],
      "execution_count": 25,
      "outputs": [
        {
          "output_type": "execute_result",
          "data": {
            "text/plain": [
              "count    3.746730e+05\n",
              "mean     7.038690e+03\n",
              "std      7.865954e+04\n",
              "min      0.000000e+00\n",
              "25%      1.698000e+01\n",
              "50%      3.948700e+02\n",
              "75%      3.034740e+03\n",
              "max      2.033899e+07\n",
              "Name: usd pledged, dtype: float64"
            ]
          },
          "metadata": {
            "tags": []
          },
          "execution_count": 25
        }
      ]
    },
    {
      "cell_type": "code",
      "metadata": {
        "id": "IX0zBs1gXBL7"
      },
      "source": [
        ""
      ],
      "execution_count": null,
      "outputs": []
    },
    {
      "cell_type": "markdown",
      "metadata": {
        "id": "77Hi3FTVUGz9"
      },
      "source": [
        "## Среднее"
      ]
    },
    {
      "cell_type": "markdown",
      "metadata": {
        "id": "TP7YJXEvcGpw"
      },
      "source": [
        "<img src='https://img.my-excel.ru/formula-v-jeksel-srednee-arifmeticheskoe_5_1.png'>"
      ]
    },
    {
      "cell_type": "code",
      "metadata": {
        "colab": {
          "base_uri": "https://localhost:8080/"
        },
        "id": "CdRVuTdHW7nb",
        "outputId": "1539c974-92c9-410e-daca-9776356c7198"
      },
      "source": [
        "kickstarter['usd pledged'].mean()"
      ],
      "execution_count": 27,
      "outputs": [
        {
          "output_type": "execute_result",
          "data": {
            "text/plain": [
              "7038.69039367669"
            ]
          },
          "metadata": {
            "tags": []
          },
          "execution_count": 27
        }
      ]
    },
    {
      "cell_type": "markdown",
      "metadata": {
        "id": "nReXcj9qULZD"
      },
      "source": [
        "## Медиана"
      ]
    },
    {
      "cell_type": "markdown",
      "metadata": {
        "id": "qDPoNI-FlWif"
      },
      "source": [
        "<img src='https://m-learn.ru/wp-content/uploads/2018/06/fig_3-1024x511.png'>"
      ]
    },
    {
      "cell_type": "code",
      "metadata": {
        "colab": {
          "base_uri": "https://localhost:8080/"
        },
        "id": "P47zMD-NUOd7",
        "outputId": "8c6237b4-5e2f-4f0c-c359-e921819921eb"
      },
      "source": [
        "kickstarter['usd pledged'].median()\n"
      ],
      "execution_count": 28,
      "outputs": [
        {
          "output_type": "execute_result",
          "data": {
            "text/plain": [
              "394.87"
            ]
          },
          "metadata": {
            "tags": []
          },
          "execution_count": 28
        }
      ]
    },
    {
      "cell_type": "code",
      "metadata": {
        "id": "icTmyO6FlF0e"
      },
      "source": [
        ""
      ],
      "execution_count": null,
      "outputs": []
    },
    {
      "cell_type": "markdown",
      "metadata": {
        "id": "WPb7kvj6UPFF"
      },
      "source": [
        "## Мода"
      ]
    },
    {
      "cell_type": "markdown",
      "metadata": {
        "id": "7R-qXhM6ln5W"
      },
      "source": [
        "<img src='https://statanaliz.info/wp-content/uploads/2015/01/moda_04.png'>"
      ]
    },
    {
      "cell_type": "code",
      "metadata": {
        "colab": {
          "base_uri": "https://localhost:8080/"
        },
        "id": "CewQIlTvURSs",
        "outputId": "beb8d686-93fe-4544-eeb2-6332976b4a83"
      },
      "source": [
        "kickstarter['usd pledged'].mode()"
      ],
      "execution_count": 29,
      "outputs": [
        {
          "output_type": "execute_result",
          "data": {
            "text/plain": [
              "0    0.0\n",
              "dtype: float64"
            ]
          },
          "metadata": {
            "tags": []
          },
          "execution_count": 29
        }
      ]
    },
    {
      "cell_type": "code",
      "metadata": {
        "id": "WYeAvr32D-Xw",
        "outputId": "41c265f3-832a-48a1-896c-acce9b3c396a",
        "colab": {
          "base_uri": "https://localhost:8080/",
          "height": 825
        }
      },
      "source": [
        "kickstarter.query('state==\"successful\"')"
      ],
      "execution_count": 33,
      "outputs": [
        {
          "output_type": "execute_result",
          "data": {
            "text/html": [
              "<div>\n",
              "<style scoped>\n",
              "    .dataframe tbody tr th:only-of-type {\n",
              "        vertical-align: middle;\n",
              "    }\n",
              "\n",
              "    .dataframe tbody tr th {\n",
              "        vertical-align: top;\n",
              "    }\n",
              "\n",
              "    .dataframe thead th {\n",
              "        text-align: right;\n",
              "    }\n",
              "</style>\n",
              "<table border=\"1\" class=\"dataframe\">\n",
              "  <thead>\n",
              "    <tr style=\"text-align: right;\">\n",
              "      <th></th>\n",
              "      <th>index</th>\n",
              "      <th>name</th>\n",
              "      <th>category</th>\n",
              "      <th>main_category</th>\n",
              "      <th>currency</th>\n",
              "      <th>deadline</th>\n",
              "      <th>goal</th>\n",
              "      <th>launched</th>\n",
              "      <th>pledged</th>\n",
              "      <th>state</th>\n",
              "      <th>backers</th>\n",
              "      <th>country</th>\n",
              "      <th>usd pledged</th>\n",
              "      <th>year</th>\n",
              "      <th>month</th>\n",
              "      <th>dayofweek</th>\n",
              "      <th>day</th>\n",
              "      <th>hour</th>\n",
              "      <th>duration</th>\n",
              "    </tr>\n",
              "  </thead>\n",
              "  <tbody>\n",
              "    <tr>\n",
              "      <th>5</th>\n",
              "      <td>5</td>\n",
              "      <td>Monarch Espresso Bar</td>\n",
              "      <td>Restaurants</td>\n",
              "      <td>Food</td>\n",
              "      <td>USD</td>\n",
              "      <td>2016-04-01</td>\n",
              "      <td>50000.0</td>\n",
              "      <td>2016-02-26 13:38:27</td>\n",
              "      <td>52375.00</td>\n",
              "      <td>successful</td>\n",
              "      <td>224.0</td>\n",
              "      <td>US</td>\n",
              "      <td>52375.00</td>\n",
              "      <td>2016</td>\n",
              "      <td>2</td>\n",
              "      <td>4</td>\n",
              "      <td>26</td>\n",
              "      <td>13</td>\n",
              "      <td>34</td>\n",
              "    </tr>\n",
              "    <tr>\n",
              "      <th>6</th>\n",
              "      <td>6</td>\n",
              "      <td>Support Solar Roasted Coffee &amp; Green Energy!  ...</td>\n",
              "      <td>Food</td>\n",
              "      <td>Food</td>\n",
              "      <td>USD</td>\n",
              "      <td>2014-12-21</td>\n",
              "      <td>1000.0</td>\n",
              "      <td>2014-12-01 18:30:44</td>\n",
              "      <td>1205.00</td>\n",
              "      <td>successful</td>\n",
              "      <td>16.0</td>\n",
              "      <td>US</td>\n",
              "      <td>1205.00</td>\n",
              "      <td>2014</td>\n",
              "      <td>12</td>\n",
              "      <td>0</td>\n",
              "      <td>1</td>\n",
              "      <td>18</td>\n",
              "      <td>19</td>\n",
              "    </tr>\n",
              "    <tr>\n",
              "      <th>11</th>\n",
              "      <td>11</td>\n",
              "      <td>Lisa Lim New CD!</td>\n",
              "      <td>Indie Rock</td>\n",
              "      <td>Music</td>\n",
              "      <td>USD</td>\n",
              "      <td>2013-04-08</td>\n",
              "      <td>12500.0</td>\n",
              "      <td>2013-03-09 06:42:58</td>\n",
              "      <td>12700.00</td>\n",
              "      <td>successful</td>\n",
              "      <td>100.0</td>\n",
              "      <td>US</td>\n",
              "      <td>12700.00</td>\n",
              "      <td>2013</td>\n",
              "      <td>3</td>\n",
              "      <td>5</td>\n",
              "      <td>9</td>\n",
              "      <td>6</td>\n",
              "      <td>29</td>\n",
              "    </tr>\n",
              "    <tr>\n",
              "      <th>14</th>\n",
              "      <td>14</td>\n",
              "      <td>Tombstone: Old West tabletop game and miniatur...</td>\n",
              "      <td>Tabletop Games</td>\n",
              "      <td>Games</td>\n",
              "      <td>GBP</td>\n",
              "      <td>2017-05-03</td>\n",
              "      <td>5000.0</td>\n",
              "      <td>2017-04-05 19:44:18</td>\n",
              "      <td>94175.00</td>\n",
              "      <td>successful</td>\n",
              "      <td>761.0</td>\n",
              "      <td>GB</td>\n",
              "      <td>57763.78</td>\n",
              "      <td>2017</td>\n",
              "      <td>4</td>\n",
              "      <td>2</td>\n",
              "      <td>5</td>\n",
              "      <td>19</td>\n",
              "      <td>27</td>\n",
              "    </tr>\n",
              "    <tr>\n",
              "      <th>18</th>\n",
              "      <td>18</td>\n",
              "      <td>Mike Corey's Darkness &amp; Light Album</td>\n",
              "      <td>Music</td>\n",
              "      <td>Music</td>\n",
              "      <td>USD</td>\n",
              "      <td>2012-08-17</td>\n",
              "      <td>250.0</td>\n",
              "      <td>2012-08-02 14:11:32</td>\n",
              "      <td>250.00</td>\n",
              "      <td>successful</td>\n",
              "      <td>7.0</td>\n",
              "      <td>US</td>\n",
              "      <td>250.00</td>\n",
              "      <td>2012</td>\n",
              "      <td>8</td>\n",
              "      <td>3</td>\n",
              "      <td>2</td>\n",
              "      <td>14</td>\n",
              "      <td>14</td>\n",
              "    </tr>\n",
              "    <tr>\n",
              "      <th>...</th>\n",
              "      <td>...</td>\n",
              "      <td>...</td>\n",
              "      <td>...</td>\n",
              "      <td>...</td>\n",
              "      <td>...</td>\n",
              "      <td>...</td>\n",
              "      <td>...</td>\n",
              "      <td>...</td>\n",
              "      <td>...</td>\n",
              "      <td>...</td>\n",
              "      <td>...</td>\n",
              "      <td>...</td>\n",
              "      <td>...</td>\n",
              "      <td>...</td>\n",
              "      <td>...</td>\n",
              "      <td>...</td>\n",
              "      <td>...</td>\n",
              "      <td>...</td>\n",
              "      <td>...</td>\n",
              "    </tr>\n",
              "    <tr>\n",
              "      <th>374654</th>\n",
              "      <td>378642</td>\n",
              "      <td>ÉPOUVANTAILS : 28mm Figurines de jeux pour KIN...</td>\n",
              "      <td>Tabletop Games</td>\n",
              "      <td>Games</td>\n",
              "      <td>EUR</td>\n",
              "      <td>2017-10-31</td>\n",
              "      <td>1000.0</td>\n",
              "      <td>2017-10-04 11:26:44</td>\n",
              "      <td>1246.00</td>\n",
              "      <td>successful</td>\n",
              "      <td>35.0</td>\n",
              "      <td>FR</td>\n",
              "      <td>66.72</td>\n",
              "      <td>2017</td>\n",
              "      <td>10</td>\n",
              "      <td>2</td>\n",
              "      <td>4</td>\n",
              "      <td>11</td>\n",
              "      <td>26</td>\n",
              "    </tr>\n",
              "    <tr>\n",
              "      <th>374656</th>\n",
              "      <td>378644</td>\n",
              "      <td>The Manual Bar Blade</td>\n",
              "      <td>Product Design</td>\n",
              "      <td>Design</td>\n",
              "      <td>USD</td>\n",
              "      <td>2015-12-15</td>\n",
              "      <td>3500.0</td>\n",
              "      <td>2015-11-23 07:33:14</td>\n",
              "      <td>6169.00</td>\n",
              "      <td>successful</td>\n",
              "      <td>120.0</td>\n",
              "      <td>US</td>\n",
              "      <td>6169.00</td>\n",
              "      <td>2015</td>\n",
              "      <td>11</td>\n",
              "      <td>0</td>\n",
              "      <td>23</td>\n",
              "      <td>7</td>\n",
              "      <td>21</td>\n",
              "    </tr>\n",
              "    <tr>\n",
              "      <th>374658</th>\n",
              "      <td>378646</td>\n",
              "      <td>The Dog Coffee Book</td>\n",
              "      <td>Children's Books</td>\n",
              "      <td>Publishing</td>\n",
              "      <td>USD</td>\n",
              "      <td>2013-11-30</td>\n",
              "      <td>950.0</td>\n",
              "      <td>2013-10-18 21:35:04</td>\n",
              "      <td>1732.02</td>\n",
              "      <td>successful</td>\n",
              "      <td>31.0</td>\n",
              "      <td>US</td>\n",
              "      <td>1732.02</td>\n",
              "      <td>2013</td>\n",
              "      <td>10</td>\n",
              "      <td>4</td>\n",
              "      <td>18</td>\n",
              "      <td>21</td>\n",
              "      <td>42</td>\n",
              "    </tr>\n",
              "    <tr>\n",
              "      <th>374663</th>\n",
              "      <td>378651</td>\n",
              "      <td>AT THE BEACH</td>\n",
              "      <td>Classical Music</td>\n",
              "      <td>Music</td>\n",
              "      <td>CAD</td>\n",
              "      <td>2014-03-22</td>\n",
              "      <td>5000.0</td>\n",
              "      <td>2014-02-20 01:00:16</td>\n",
              "      <td>5501.00</td>\n",
              "      <td>successful</td>\n",
              "      <td>78.0</td>\n",
              "      <td>CA</td>\n",
              "      <td>5019.92</td>\n",
              "      <td>2014</td>\n",
              "      <td>2</td>\n",
              "      <td>3</td>\n",
              "      <td>20</td>\n",
              "      <td>1</td>\n",
              "      <td>29</td>\n",
              "    </tr>\n",
              "    <tr>\n",
              "      <th>374664</th>\n",
              "      <td>378652</td>\n",
              "      <td>Beach Wrestling Documentary</td>\n",
              "      <td>Documentary</td>\n",
              "      <td>Film &amp; Video</td>\n",
              "      <td>NOK</td>\n",
              "      <td>2015-04-28</td>\n",
              "      <td>20000.0</td>\n",
              "      <td>2015-03-29 21:30:33</td>\n",
              "      <td>21500.00</td>\n",
              "      <td>successful</td>\n",
              "      <td>36.0</td>\n",
              "      <td>NO</td>\n",
              "      <td>2698.97</td>\n",
              "      <td>2015</td>\n",
              "      <td>3</td>\n",
              "      <td>6</td>\n",
              "      <td>29</td>\n",
              "      <td>21</td>\n",
              "      <td>29</td>\n",
              "    </tr>\n",
              "  </tbody>\n",
              "</table>\n",
              "<p>133786 rows × 19 columns</p>\n",
              "</div>"
            ],
            "text/plain": [
              "         index  ... duration\n",
              "5            5  ...       34\n",
              "6            6  ...       19\n",
              "11          11  ...       29\n",
              "14          14  ...       27\n",
              "18          18  ...       14\n",
              "...        ...  ...      ...\n",
              "374654  378642  ...       26\n",
              "374656  378644  ...       21\n",
              "374658  378646  ...       42\n",
              "374663  378651  ...       29\n",
              "374664  378652  ...       29\n",
              "\n",
              "[133786 rows x 19 columns]"
            ]
          },
          "metadata": {
            "tags": []
          },
          "execution_count": 33
        }
      ]
    },
    {
      "cell_type": "code",
      "metadata": {
        "id": "u7rXvnN2ZAzo",
        "outputId": "f4b9dd9e-ef62-4b3c-8e9d-3ac16755d1c1",
        "colab": {
          "base_uri": "https://localhost:8080/"
        }
      },
      "source": [
        "kickstarter.query('state==\"successful\"')['usd pledged'].min()"
      ],
      "execution_count": 35,
      "outputs": [
        {
          "output_type": "execute_result",
          "data": {
            "text/plain": [
              "0.0"
            ]
          },
          "metadata": {
            "tags": []
          },
          "execution_count": 35
        }
      ]
    },
    {
      "cell_type": "markdown",
      "metadata": {
        "id": "Tde1luieURus"
      },
      "source": [
        "## Дисперсия и стандартное отклонение"
      ]
    },
    {
      "cell_type": "markdown",
      "metadata": {
        "id": "u-xofmq4mBRZ"
      },
      "source": [
        "<img src='https://smart-lab.ru/uploads/images/00/00/16/2012/09/16/4fe58b.png'>"
      ]
    },
    {
      "cell_type": "code",
      "metadata": {
        "colab": {
          "base_uri": "https://localhost:8080/"
        },
        "id": "558yTEmkZDCq",
        "outputId": "7091f2e1-7c31-4c2d-e3ab-8ea8d403b9fd"
      },
      "source": [
        "np.var(kickstarter['usd pledged'])"
      ],
      "execution_count": 36,
      "outputs": [
        {
          "output_type": "execute_result",
          "data": {
            "text/plain": [
              "6187307453.343897"
            ]
          },
          "metadata": {
            "tags": []
          },
          "execution_count": 36
        }
      ]
    },
    {
      "cell_type": "markdown",
      "metadata": {
        "id": "IoGUaBv8mEke"
      },
      "source": [
        "<img src='https://smart-lab.ru/uploads/images/00/00/16/2012/09/16/7273a8.png'>"
      ]
    },
    {
      "cell_type": "code",
      "metadata": {
        "colab": {
          "base_uri": "https://localhost:8080/"
        },
        "id": "wWg8zr9nkEDB",
        "outputId": "b6e84494-d01c-47e2-e5d2-74fd84f50dfc"
      },
      "source": [
        "np.var(kickstarter['usd pledged'], ddof=1)"
      ],
      "execution_count": 37,
      "outputs": [
        {
          "output_type": "execute_result",
          "data": {
            "text/plain": [
              "6187323967.274624"
            ]
          },
          "metadata": {
            "tags": []
          },
          "execution_count": 37
        }
      ]
    },
    {
      "cell_type": "markdown",
      "metadata": {
        "id": "EtWy0xG6mUgO"
      },
      "source": [
        "<img src='https://img.my-excel.ru/mod-funkcija-v-excel_8_1.png'>"
      ]
    },
    {
      "cell_type": "code",
      "metadata": {
        "colab": {
          "base_uri": "https://localhost:8080/"
        },
        "id": "RLVk64DiZEdz",
        "outputId": "3396f68e-b70e-48bb-ba5d-584fca2cdc0c"
      },
      "source": [
        "np.var(kickstarter['usd pledged'], ddof=1)**0.5"
      ],
      "execution_count": 38,
      "outputs": [
        {
          "output_type": "execute_result",
          "data": {
            "text/plain": [
              "78659.54466734869"
            ]
          },
          "metadata": {
            "tags": []
          },
          "execution_count": 38
        }
      ]
    },
    {
      "cell_type": "code",
      "metadata": {
        "colab": {
          "base_uri": "https://localhost:8080/"
        },
        "id": "TWagSuhcZFm_",
        "outputId": "3be976f0-648b-4978-ac04-687d7b84617c"
      },
      "source": [
        "kickstarter['usd pledged'].std()"
      ],
      "execution_count": 39,
      "outputs": [
        {
          "output_type": "execute_result",
          "data": {
            "text/plain": [
              "78659.54466734869"
            ]
          },
          "metadata": {
            "tags": []
          },
          "execution_count": 39
        }
      ]
    },
    {
      "cell_type": "markdown",
      "metadata": {
        "id": "1IO9rB95ZNh-"
      },
      "source": [
        "## Квантили"
      ]
    },
    {
      "cell_type": "code",
      "metadata": {
        "colab": {
          "base_uri": "https://localhost:8080/"
        },
        "id": "7dUD2isGZPr1",
        "outputId": "7a92933a-2ec1-40bf-b155-3e6fa69b33ca"
      },
      "source": [
        "kickstarter['goal'].describe()"
      ],
      "execution_count": 40,
      "outputs": [
        {
          "output_type": "execute_result",
          "data": {
            "text/plain": [
              "count    3.746730e+05\n",
              "mean     4.952767e+04\n",
              "std      1.189651e+06\n",
              "min      1.000000e-02\n",
              "25%      2.000000e+03\n",
              "50%      5.500000e+03\n",
              "75%      1.650000e+04\n",
              "max      1.000000e+08\n",
              "Name: goal, dtype: float64"
            ]
          },
          "metadata": {
            "tags": []
          },
          "execution_count": 40
        }
      ]
    },
    {
      "cell_type": "code",
      "metadata": {
        "id": "D1xJCPamFnEn",
        "outputId": "042ebb5e-831b-4071-c4cd-fa109312183b",
        "colab": {
          "base_uri": "https://localhost:8080/"
        }
      },
      "source": [
        "kickstarter['goal'].min()"
      ],
      "execution_count": 41,
      "outputs": [
        {
          "output_type": "execute_result",
          "data": {
            "text/plain": [
              "0.01"
            ]
          },
          "metadata": {
            "tags": []
          },
          "execution_count": 41
        }
      ]
    },
    {
      "cell_type": "code",
      "metadata": {
        "id": "KQZoZYsCF7Rm",
        "outputId": "a1e34f0d-9370-4c60-c997-2d3de37a603c",
        "colab": {
          "base_uri": "https://localhost:8080/"
        }
      },
      "source": [
        "kickstarter['goal'].quantile(0.75)"
      ],
      "execution_count": 43,
      "outputs": [
        {
          "output_type": "execute_result",
          "data": {
            "text/plain": [
              "16500.0"
            ]
          },
          "metadata": {
            "tags": []
          },
          "execution_count": 43
        }
      ]
    },
    {
      "cell_type": "markdown",
      "metadata": {
        "id": "PLLj2eI8Ura3"
      },
      "source": [
        "# Гистограммы. Распределения"
      ]
    },
    {
      "cell_type": "code",
      "metadata": {
        "id": "x18Op5KKGHSG"
      },
      "source": [
        "fig,ax = plt.subplots(figsize=(10,5))\n",
        "ax.hist(np.random.normal(0,1,10000),bins=100)\n",
        "plt.show()"
      ],
      "execution_count": null,
      "outputs": []
    },
    {
      "cell_type": "code",
      "metadata": {
        "id": "kZWJkTwZ-pnJ",
        "outputId": "c55a3d63-d526-4a50-da00-4f79f749e017",
        "colab": {
          "base_uri": "https://localhost:8080/",
          "height": 320
        }
      },
      "source": [
        "fig,ax = plt.subplots(figsize=(5,5))\n",
        "ax.hist(np.random.normal(0,1,10000),bins=100)\n",
        "plt.show()"
      ],
      "execution_count": 49,
      "outputs": [
        {
          "output_type": "display_data",
          "data": {
            "image/png": "[encoded data removed]",
            "text/plain": [
              "<Figure size 360x360 with 1 Axes>"
            ]
          },
          "metadata": {
            "tags": [],
            "needs_background": "light"
          }
        }
      ]
    },
    {
      "cell_type": "code",
      "metadata": {
        "colab": {
          "base_uri": "https://localhost:8080/",
          "height": 612
        },
        "id": "wo_6ilHSZWB3",
        "outputId": "24657c43-90fd-48d5-fa09-6edba72bdef5"
      },
      "source": [
        "fig,ax = plt.subplots(1,2)\n",
        "#ax = plt.gca()\n",
        "ax[0].hist(np.random.normal(0,1,10000),bins=100)\n",
        "ax[1].hist(np.random.normal(0,10,10000),bins=10000)\n",
        "plt.show()"
      ],
      "execution_count": 54,
      "outputs": [
        {
          "output_type": "error",
          "ename": "KeyboardInterrupt",
          "evalue": "ignored",
          "traceback": [
            "\u001b[0;31m---------------------------------------------------------------------------\u001b[0m",
            "\u001b[0;31mKeyboardInterrupt\u001b[0m                         Traceback (most recent call last)",
            "\u001b[0;32m<ipython-input-54-171ea772a298>\u001b[0m in \u001b[0;36m<module>\u001b[0;34m()\u001b[0m\n\u001b[1;32m      2\u001b[0m \u001b[0;31m#ax = plt.gca()\u001b[0m\u001b[0;34m\u001b[0m\u001b[0;34m\u001b[0m\u001b[0;34m\u001b[0m\u001b[0m\n\u001b[1;32m      3\u001b[0m \u001b[0max\u001b[0m\u001b[0;34m[\u001b[0m\u001b[0;36m0\u001b[0m\u001b[0;34m]\u001b[0m\u001b[0;34m.\u001b[0m\u001b[0mhist\u001b[0m\u001b[0;34m(\u001b[0m\u001b[0mnp\u001b[0m\u001b[0;34m.\u001b[0m\u001b[0mrandom\u001b[0m\u001b[0;34m.\u001b[0m\u001b[0mnormal\u001b[0m\u001b[0;34m(\u001b[0m\u001b[0;36m0\u001b[0m\u001b[0;34m,\u001b[0m\u001b[0;36m1\u001b[0m\u001b[0;34m,\u001b[0m\u001b[0;36m10000\u001b[0m\u001b[0;34m)\u001b[0m\u001b[0;34m,\u001b[0m\u001b[0mbins\u001b[0m\u001b[0;34m=\u001b[0m\u001b[0;36m100\u001b[0m\u001b[0;34m)\u001b[0m\u001b[0;34m\u001b[0m\u001b[0;34m\u001b[0m\u001b[0m\n\u001b[0;32m----> 4\u001b[0;31m \u001b[0max\u001b[0m\u001b[0;34m[\u001b[0m\u001b[0;36m1\u001b[0m\u001b[0;34m]\u001b[0m\u001b[0;34m.\u001b[0m\u001b[0mhist\u001b[0m\u001b[0;34m(\u001b[0m\u001b[0mnp\u001b[0m\u001b[0;34m.\u001b[0m\u001b[0mrandom\u001b[0m\u001b[0;34m.\u001b[0m\u001b[0mnormal\u001b[0m\u001b[0;34m(\u001b[0m\u001b[0;36m0\u001b[0m\u001b[0;34m,\u001b[0m\u001b[0;36m10\u001b[0m\u001b[0;34m,\u001b[0m\u001b[0;36m10000\u001b[0m\u001b[0;34m)\u001b[0m\u001b[0;34m,\u001b[0m\u001b[0mbins\u001b[0m\u001b[0;34m=\u001b[0m\u001b[0;36m10000\u001b[0m\u001b[0;34m)\u001b[0m\u001b[0;34m\u001b[0m\u001b[0;34m\u001b[0m\u001b[0m\n\u001b[0m\u001b[1;32m      5\u001b[0m \u001b[0mplt\u001b[0m\u001b[0;34m.\u001b[0m\u001b[0mshow\u001b[0m\u001b[0;34m(\u001b[0m\u001b[0;34m)\u001b[0m\u001b[0;34m\u001b[0m\u001b[0;34m\u001b[0m\u001b[0m\n",
            "\u001b[0;32m/usr/local/lib/python3.7/dist-packages/matplotlib/__init__.py\u001b[0m in \u001b[0;36minner\u001b[0;34m(ax, data, *args, **kwargs)\u001b[0m\n\u001b[1;32m   1563\u001b[0m     \u001b[0;32mdef\u001b[0m \u001b[0minner\u001b[0m\u001b[0;34m(\u001b[0m\u001b[0max\u001b[0m\u001b[0;34m,\u001b[0m \u001b[0;34m*\u001b[0m\u001b[0margs\u001b[0m\u001b[0;34m,\u001b[0m \u001b[0mdata\u001b[0m\u001b[0;34m=\u001b[0m\u001b[0;32mNone\u001b[0m\u001b[0;34m,\u001b[0m \u001b[0;34m**\u001b[0m\u001b[0mkwargs\u001b[0m\u001b[0;34m)\u001b[0m\u001b[0;34m:\u001b[0m\u001b[0;34m\u001b[0m\u001b[0;34m\u001b[0m\u001b[0m\n\u001b[1;32m   1564\u001b[0m         \u001b[0;32mif\u001b[0m \u001b[0mdata\u001b[0m \u001b[0;32mis\u001b[0m \u001b[0;32mNone\u001b[0m\u001b[0;34m:\u001b[0m\u001b[0;34m\u001b[0m\u001b[0;34m\u001b[0m\u001b[0m\n\u001b[0;32m-> 1565\u001b[0;31m             \u001b[0;32mreturn\u001b[0m \u001b[0mfunc\u001b[0m\u001b[0;34m(\u001b[0m\u001b[0max\u001b[0m\u001b[0;34m,\u001b[0m \u001b[0;34m*\u001b[0m\u001b[0mmap\u001b[0m\u001b[0;34m(\u001b[0m\u001b[0msanitize_sequence\u001b[0m\u001b[0;34m,\u001b[0m \u001b[0margs\u001b[0m\u001b[0;34m)\u001b[0m\u001b[0;34m,\u001b[0m \u001b[0;34m**\u001b[0m\u001b[0mkwargs\u001b[0m\u001b[0;34m)\u001b[0m\u001b[0;34m\u001b[0m\u001b[0;34m\u001b[0m\u001b[0m\n\u001b[0m\u001b[1;32m   1566\u001b[0m \u001b[0;34m\u001b[0m\u001b[0m\n\u001b[1;32m   1567\u001b[0m         \u001b[0mbound\u001b[0m \u001b[0;34m=\u001b[0m \u001b[0mnew_sig\u001b[0m\u001b[0;34m.\u001b[0m\u001b[0mbind\u001b[0m\u001b[0;34m(\u001b[0m\u001b[0max\u001b[0m\u001b[0;34m,\u001b[0m \u001b[0;34m*\u001b[0m\u001b[0margs\u001b[0m\u001b[0;34m,\u001b[0m \u001b[0;34m**\u001b[0m\u001b[0mkwargs\u001b[0m\u001b[0;34m)\u001b[0m\u001b[0;34m\u001b[0m\u001b[0;34m\u001b[0m\u001b[0m\n",
            "\u001b[0;32m/usr/local/lib/python3.7/dist-packages/matplotlib/axes/_axes.py\u001b[0m in \u001b[0;36mhist\u001b[0;34m(self, x, bins, range, density, weights, cumulative, bottom, histtype, align, orientation, rwidth, log, color, label, stacked, **kwargs)\u001b[0m\n\u001b[1;32m   6727\u001b[0m                 patch = _barfunc(bins[:-1]+boffset, height, width,\n\u001b[1;32m   6728\u001b[0m                                  \u001b[0malign\u001b[0m\u001b[0;34m=\u001b[0m\u001b[0;34m'center'\u001b[0m\u001b[0;34m,\u001b[0m \u001b[0mlog\u001b[0m\u001b[0;34m=\u001b[0m\u001b[0mlog\u001b[0m\u001b[0;34m,\u001b[0m\u001b[0;34m\u001b[0m\u001b[0;34m\u001b[0m\u001b[0m\n\u001b[0;32m-> 6729\u001b[0;31m                                  color=c, **{bottom_kwarg: bottom})\n\u001b[0m\u001b[1;32m   6730\u001b[0m                 \u001b[0mpatches\u001b[0m\u001b[0;34m.\u001b[0m\u001b[0mappend\u001b[0m\u001b[0;34m(\u001b[0m\u001b[0mpatch\u001b[0m\u001b[0;34m)\u001b[0m\u001b[0;34m\u001b[0m\u001b[0;34m\u001b[0m\u001b[0m\n\u001b[1;32m   6731\u001b[0m                 \u001b[0;32mif\u001b[0m \u001b[0mstacked\u001b[0m\u001b[0;34m:\u001b[0m\u001b[0;34m\u001b[0m\u001b[0;34m\u001b[0m\u001b[0m\n",
            "\u001b[0;32m/usr/local/lib/python3.7/dist-packages/matplotlib/__init__.py\u001b[0m in \u001b[0;36minner\u001b[0;34m(ax, data, *args, **kwargs)\u001b[0m\n\u001b[1;32m   1563\u001b[0m     \u001b[0;32mdef\u001b[0m \u001b[0minner\u001b[0m\u001b[0;34m(\u001b[0m\u001b[0max\u001b[0m\u001b[0;34m,\u001b[0m \u001b[0;34m*\u001b[0m\u001b[0margs\u001b[0m\u001b[0;34m,\u001b[0m \u001b[0mdata\u001b[0m\u001b[0;34m=\u001b[0m\u001b[0;32mNone\u001b[0m\u001b[0;34m,\u001b[0m \u001b[0;34m**\u001b[0m\u001b[0mkwargs\u001b[0m\u001b[0;34m)\u001b[0m\u001b[0;34m:\u001b[0m\u001b[0;34m\u001b[0m\u001b[0;34m\u001b[0m\u001b[0m\n\u001b[1;32m   1564\u001b[0m         \u001b[0;32mif\u001b[0m \u001b[0mdata\u001b[0m \u001b[0;32mis\u001b[0m \u001b[0;32mNone\u001b[0m\u001b[0;34m:\u001b[0m\u001b[0;34m\u001b[0m\u001b[0;34m\u001b[0m\u001b[0m\n\u001b[0;32m-> 1565\u001b[0;31m             \u001b[0;32mreturn\u001b[0m \u001b[0mfunc\u001b[0m\u001b[0;34m(\u001b[0m\u001b[0max\u001b[0m\u001b[0;34m,\u001b[0m \u001b[0;34m*\u001b[0m\u001b[0mmap\u001b[0m\u001b[0;34m(\u001b[0m\u001b[0msanitize_sequence\u001b[0m\u001b[0;34m,\u001b[0m \u001b[0margs\u001b[0m\u001b[0;34m)\u001b[0m\u001b[0;34m,\u001b[0m \u001b[0;34m**\u001b[0m\u001b[0mkwargs\u001b[0m\u001b[0;34m)\u001b[0m\u001b[0;34m\u001b[0m\u001b[0;34m\u001b[0m\u001b[0m\n\u001b[0m\u001b[1;32m   1566\u001b[0m \u001b[0;34m\u001b[0m\u001b[0m\n\u001b[1;32m   1567\u001b[0m         \u001b[0mbound\u001b[0m \u001b[0;34m=\u001b[0m \u001b[0mnew_sig\u001b[0m\u001b[0;34m.\u001b[0m\u001b[0mbind\u001b[0m\u001b[0;34m(\u001b[0m\u001b[0max\u001b[0m\u001b[0;34m,\u001b[0m \u001b[0;34m*\u001b[0m\u001b[0margs\u001b[0m\u001b[0;34m,\u001b[0m \u001b[0;34m**\u001b[0m\u001b[0mkwargs\u001b[0m\u001b[0;34m)\u001b[0m\u001b[0;34m\u001b[0m\u001b[0;34m\u001b[0m\u001b[0m\n",
            "\u001b[0;32m/usr/local/lib/python3.7/dist-packages/matplotlib/axes/_axes.py\u001b[0m in \u001b[0;36mbar\u001b[0;34m(self, x, height, width, bottom, align, **kwargs)\u001b[0m\n\u001b[1;32m   2402\u001b[0m             \u001b[0;32melif\u001b[0m \u001b[0morientation\u001b[0m \u001b[0;34m==\u001b[0m \u001b[0;34m'horizontal'\u001b[0m\u001b[0;34m:\u001b[0m\u001b[0;34m\u001b[0m\u001b[0;34m\u001b[0m\u001b[0m\n\u001b[1;32m   2403\u001b[0m                 \u001b[0mr\u001b[0m\u001b[0;34m.\u001b[0m\u001b[0msticky_edges\u001b[0m\u001b[0;34m.\u001b[0m\u001b[0mx\u001b[0m\u001b[0;34m.\u001b[0m\u001b[0mappend\u001b[0m\u001b[0;34m(\u001b[0m\u001b[0ml\u001b[0m\u001b[0;34m)\u001b[0m\u001b[0;34m\u001b[0m\u001b[0;34m\u001b[0m\u001b[0m\n\u001b[0;32m-> 2404\u001b[0;31m             \u001b[0mself\u001b[0m\u001b[0;34m.\u001b[0m\u001b[0madd_patch\u001b[0m\u001b[0;34m(\u001b[0m\u001b[0mr\u001b[0m\u001b[0;34m)\u001b[0m\u001b[0;34m\u001b[0m\u001b[0;34m\u001b[0m\u001b[0m\n\u001b[0m\u001b[1;32m   2405\u001b[0m             \u001b[0mpatches\u001b[0m\u001b[0;34m.\u001b[0m\u001b[0mappend\u001b[0m\u001b[0;34m(\u001b[0m\u001b[0mr\u001b[0m\u001b[0;34m)\u001b[0m\u001b[0;34m\u001b[0m\u001b[0;34m\u001b[0m\u001b[0m\n\u001b[1;32m   2406\u001b[0m \u001b[0;34m\u001b[0m\u001b[0m\n",
            "\u001b[0;32m/usr/local/lib/python3.7/dist-packages/matplotlib/axes/_base.py\u001b[0m in \u001b[0;36madd_patch\u001b[0;34m(self, p)\u001b[0m\n\u001b[1;32m   1917\u001b[0m         \u001b[0;32mif\u001b[0m \u001b[0mp\u001b[0m\u001b[0;34m.\u001b[0m\u001b[0mget_clip_path\u001b[0m\u001b[0;34m(\u001b[0m\u001b[0;34m)\u001b[0m \u001b[0;32mis\u001b[0m \u001b[0;32mNone\u001b[0m\u001b[0;34m:\u001b[0m\u001b[0;34m\u001b[0m\u001b[0;34m\u001b[0m\u001b[0m\n\u001b[1;32m   1918\u001b[0m             \u001b[0mp\u001b[0m\u001b[0;34m.\u001b[0m\u001b[0mset_clip_path\u001b[0m\u001b[0;34m(\u001b[0m\u001b[0mself\u001b[0m\u001b[0;34m.\u001b[0m\u001b[0mpatch\u001b[0m\u001b[0;34m)\u001b[0m\u001b[0;34m\u001b[0m\u001b[0;34m\u001b[0m\u001b[0m\n\u001b[0;32m-> 1919\u001b[0;31m         \u001b[0mself\u001b[0m\u001b[0;34m.\u001b[0m\u001b[0m_update_patch_limits\u001b[0m\u001b[0;34m(\u001b[0m\u001b[0mp\u001b[0m\u001b[0;34m)\u001b[0m\u001b[0;34m\u001b[0m\u001b[0;34m\u001b[0m\u001b[0m\n\u001b[0m\u001b[1;32m   1920\u001b[0m         \u001b[0mself\u001b[0m\u001b[0;34m.\u001b[0m\u001b[0mpatches\u001b[0m\u001b[0;34m.\u001b[0m\u001b[0mappend\u001b[0m\u001b[0;34m(\u001b[0m\u001b[0mp\u001b[0m\u001b[0;34m)\u001b[0m\u001b[0;34m\u001b[0m\u001b[0;34m\u001b[0m\u001b[0m\n\u001b[1;32m   1921\u001b[0m         \u001b[0mp\u001b[0m\u001b[0;34m.\u001b[0m\u001b[0m_remove_method\u001b[0m \u001b[0;34m=\u001b[0m \u001b[0mself\u001b[0m\u001b[0;34m.\u001b[0m\u001b[0mpatches\u001b[0m\u001b[0;34m.\u001b[0m\u001b[0mremove\u001b[0m\u001b[0;34m\u001b[0m\u001b[0;34m\u001b[0m\u001b[0m\n",
            "\u001b[0;32m/usr/local/lib/python3.7/dist-packages/matplotlib/axes/_base.py\u001b[0m in \u001b[0;36m_update_patch_limits\u001b[0;34m(self, patch)\u001b[0m\n\u001b[1;32m   1943\u001b[0m                 \u001b[0mxys\u001b[0m \u001b[0;34m=\u001b[0m \u001b[0mpatch_to_data\u001b[0m\u001b[0;34m.\u001b[0m\u001b[0mtransform\u001b[0m\u001b[0;34m(\u001b[0m\u001b[0mxys\u001b[0m\u001b[0;34m)\u001b[0m\u001b[0;34m\u001b[0m\u001b[0;34m\u001b[0m\u001b[0m\n\u001b[1;32m   1944\u001b[0m \u001b[0;34m\u001b[0m\u001b[0m\n\u001b[0;32m-> 1945\u001b[0;31m             \u001b[0mupdatex\u001b[0m\u001b[0;34m,\u001b[0m \u001b[0mupdatey\u001b[0m \u001b[0;34m=\u001b[0m \u001b[0mpatch\u001b[0m\u001b[0;34m.\u001b[0m\u001b[0mget_transform\u001b[0m\u001b[0;34m(\u001b[0m\u001b[0;34m)\u001b[0m\u001b[0;34m.\u001b[0m\u001b[0;31m\\\u001b[0m\u001b[0;34m\u001b[0m\u001b[0;34m\u001b[0m\u001b[0m\n\u001b[0m\u001b[1;32m   1946\u001b[0m                 \u001b[0mcontains_branch_seperately\u001b[0m\u001b[0;34m(\u001b[0m\u001b[0mself\u001b[0m\u001b[0;34m.\u001b[0m\u001b[0mtransData\u001b[0m\u001b[0;34m)\u001b[0m\u001b[0;34m\u001b[0m\u001b[0;34m\u001b[0m\u001b[0m\n\u001b[1;32m   1947\u001b[0m             self.update_datalim(xys, updatex=updatex,\n",
            "\u001b[0;32m/usr/local/lib/python3.7/dist-packages/matplotlib/patches.py\u001b[0m in \u001b[0;36mget_transform\u001b[0;34m(self)\u001b[0m\n\u001b[1;32m    260\u001b[0m     \u001b[0;32mdef\u001b[0m \u001b[0mget_transform\u001b[0m\u001b[0;34m(\u001b[0m\u001b[0mself\u001b[0m\u001b[0;34m)\u001b[0m\u001b[0;34m:\u001b[0m\u001b[0;34m\u001b[0m\u001b[0;34m\u001b[0m\u001b[0m\n\u001b[1;32m    261\u001b[0m         \u001b[0;34m\"\"\"Return the `~.transforms.Transform` applied to the `Patch`.\"\"\"\u001b[0m\u001b[0;34m\u001b[0m\u001b[0;34m\u001b[0m\u001b[0m\n\u001b[0;32m--> 262\u001b[0;31m         \u001b[0;32mreturn\u001b[0m \u001b[0mself\u001b[0m\u001b[0;34m.\u001b[0m\u001b[0mget_patch_transform\u001b[0m\u001b[0;34m(\u001b[0m\u001b[0;34m)\u001b[0m \u001b[0;34m+\u001b[0m \u001b[0martist\u001b[0m\u001b[0;34m.\u001b[0m\u001b[0mArtist\u001b[0m\u001b[0;34m.\u001b[0m\u001b[0mget_transform\u001b[0m\u001b[0;34m(\u001b[0m\u001b[0mself\u001b[0m\u001b[0;34m)\u001b[0m\u001b[0;34m\u001b[0m\u001b[0;34m\u001b[0m\u001b[0m\n\u001b[0m\u001b[1;32m    263\u001b[0m \u001b[0;34m\u001b[0m\u001b[0m\n\u001b[1;32m    264\u001b[0m     \u001b[0;32mdef\u001b[0m \u001b[0mget_data_transform\u001b[0m\u001b[0;34m(\u001b[0m\u001b[0mself\u001b[0m\u001b[0;34m)\u001b[0m\u001b[0;34m:\u001b[0m\u001b[0;34m\u001b[0m\u001b[0;34m\u001b[0m\u001b[0m\n",
            "\u001b[0;32m/usr/local/lib/python3.7/dist-packages/matplotlib/patches.py\u001b[0m in \u001b[0;36mget_patch_transform\u001b[0;34m(self)\u001b[0m\n\u001b[1;32m    775\u001b[0m \u001b[0;34m\u001b[0m\u001b[0m\n\u001b[1;32m    776\u001b[0m     \u001b[0;32mdef\u001b[0m \u001b[0mget_patch_transform\u001b[0m\u001b[0;34m(\u001b[0m\u001b[0mself\u001b[0m\u001b[0;34m)\u001b[0m\u001b[0;34m:\u001b[0m\u001b[0;34m\u001b[0m\u001b[0;34m\u001b[0m\u001b[0m\n\u001b[0;32m--> 777\u001b[0;31m         \u001b[0mself\u001b[0m\u001b[0;34m.\u001b[0m\u001b[0m_update_patch_transform\u001b[0m\u001b[0;34m(\u001b[0m\u001b[0;34m)\u001b[0m\u001b[0;34m\u001b[0m\u001b[0;34m\u001b[0m\u001b[0m\n\u001b[0m\u001b[1;32m    778\u001b[0m         \u001b[0;32mreturn\u001b[0m \u001b[0mself\u001b[0m\u001b[0;34m.\u001b[0m\u001b[0m_rect_transform\u001b[0m\u001b[0;34m\u001b[0m\u001b[0;34m\u001b[0m\u001b[0m\n\u001b[1;32m    779\u001b[0m \u001b[0;34m\u001b[0m\u001b[0m\n",
            "\u001b[0;32m/usr/local/lib/python3.7/dist-packages/matplotlib/patches.py\u001b[0m in \u001b[0;36m_update_patch_transform\u001b[0;34m(self)\u001b[0m\n\u001b[1;32m    756\u001b[0m         \u001b[0mbbox\u001b[0m \u001b[0;34m=\u001b[0m \u001b[0mtransforms\u001b[0m\u001b[0;34m.\u001b[0m\u001b[0mBbox\u001b[0m\u001b[0;34m.\u001b[0m\u001b[0mfrom_extents\u001b[0m\u001b[0;34m(\u001b[0m\u001b[0mx0\u001b[0m\u001b[0;34m,\u001b[0m \u001b[0my0\u001b[0m\u001b[0;34m,\u001b[0m \u001b[0mx1\u001b[0m\u001b[0;34m,\u001b[0m \u001b[0my1\u001b[0m\u001b[0;34m)\u001b[0m\u001b[0;34m\u001b[0m\u001b[0;34m\u001b[0m\u001b[0m\n\u001b[1;32m    757\u001b[0m         \u001b[0mrot_trans\u001b[0m \u001b[0;34m=\u001b[0m \u001b[0mtransforms\u001b[0m\u001b[0;34m.\u001b[0m\u001b[0mAffine2D\u001b[0m\u001b[0;34m(\u001b[0m\u001b[0;34m)\u001b[0m\u001b[0;34m\u001b[0m\u001b[0;34m\u001b[0m\u001b[0m\n\u001b[0;32m--> 758\u001b[0;31m         \u001b[0mrot_trans\u001b[0m\u001b[0;34m.\u001b[0m\u001b[0mrotate_deg_around\u001b[0m\u001b[0;34m(\u001b[0m\u001b[0mx0\u001b[0m\u001b[0;34m,\u001b[0m \u001b[0my0\u001b[0m\u001b[0;34m,\u001b[0m \u001b[0mself\u001b[0m\u001b[0;34m.\u001b[0m\u001b[0mangle\u001b[0m\u001b[0;34m)\u001b[0m\u001b[0;34m\u001b[0m\u001b[0;34m\u001b[0m\u001b[0m\n\u001b[0m\u001b[1;32m    759\u001b[0m         \u001b[0mself\u001b[0m\u001b[0;34m.\u001b[0m\u001b[0m_rect_transform\u001b[0m \u001b[0;34m=\u001b[0m \u001b[0mtransforms\u001b[0m\u001b[0;34m.\u001b[0m\u001b[0mBboxTransformTo\u001b[0m\u001b[0;34m(\u001b[0m\u001b[0mbbox\u001b[0m\u001b[0;34m)\u001b[0m\u001b[0;34m\u001b[0m\u001b[0;34m\u001b[0m\u001b[0m\n\u001b[1;32m    760\u001b[0m         \u001b[0mself\u001b[0m\u001b[0;34m.\u001b[0m\u001b[0m_rect_transform\u001b[0m \u001b[0;34m+=\u001b[0m \u001b[0mrot_trans\u001b[0m\u001b[0;34m\u001b[0m\u001b[0;34m\u001b[0m\u001b[0m\n",
            "\u001b[0;32m/usr/local/lib/python3.7/dist-packages/matplotlib/transforms.py\u001b[0m in \u001b[0;36mrotate_deg_around\u001b[0;34m(self, x, y, degrees)\u001b[0m\n\u001b[1;32m   1968\u001b[0m         \u001b[0;31m# Cast to float to avoid wraparound issues with uint8's\u001b[0m\u001b[0;34m\u001b[0m\u001b[0;34m\u001b[0m\u001b[0;34m\u001b[0m\u001b[0m\n\u001b[1;32m   1969\u001b[0m         \u001b[0mx\u001b[0m\u001b[0;34m,\u001b[0m \u001b[0my\u001b[0m \u001b[0;34m=\u001b[0m \u001b[0mfloat\u001b[0m\u001b[0;34m(\u001b[0m\u001b[0mx\u001b[0m\u001b[0;34m)\u001b[0m\u001b[0;34m,\u001b[0m \u001b[0mfloat\u001b[0m\u001b[0;34m(\u001b[0m\u001b[0my\u001b[0m\u001b[0;34m)\u001b[0m\u001b[0;34m\u001b[0m\u001b[0;34m\u001b[0m\u001b[0m\n\u001b[0;32m-> 1970\u001b[0;31m         \u001b[0;32mreturn\u001b[0m \u001b[0mself\u001b[0m\u001b[0;34m.\u001b[0m\u001b[0mtranslate\u001b[0m\u001b[0;34m(\u001b[0m\u001b[0;34m-\u001b[0m\u001b[0mx\u001b[0m\u001b[0;34m,\u001b[0m \u001b[0;34m-\u001b[0m\u001b[0my\u001b[0m\u001b[0;34m)\u001b[0m\u001b[0;34m.\u001b[0m\u001b[0mrotate_deg\u001b[0m\u001b[0;34m(\u001b[0m\u001b[0mdegrees\u001b[0m\u001b[0;34m)\u001b[0m\u001b[0;34m.\u001b[0m\u001b[0mtranslate\u001b[0m\u001b[0;34m(\u001b[0m\u001b[0mx\u001b[0m\u001b[0;34m,\u001b[0m \u001b[0my\u001b[0m\u001b[0;34m)\u001b[0m\u001b[0;34m\u001b[0m\u001b[0;34m\u001b[0m\u001b[0m\n\u001b[0m\u001b[1;32m   1971\u001b[0m \u001b[0;34m\u001b[0m\u001b[0m\n\u001b[1;32m   1972\u001b[0m     \u001b[0;32mdef\u001b[0m \u001b[0mtranslate\u001b[0m\u001b[0;34m(\u001b[0m\u001b[0mself\u001b[0m\u001b[0;34m,\u001b[0m \u001b[0mtx\u001b[0m\u001b[0;34m,\u001b[0m \u001b[0mty\u001b[0m\u001b[0;34m)\u001b[0m\u001b[0;34m:\u001b[0m\u001b[0;34m\u001b[0m\u001b[0;34m\u001b[0m\u001b[0m\n",
            "\u001b[0;32m/usr/local/lib/python3.7/dist-packages/matplotlib/transforms.py\u001b[0m in \u001b[0;36mtranslate\u001b[0;34m(self, tx, ty)\u001b[0m\n\u001b[1;32m   1979\u001b[0m         \"\"\"\n\u001b[1;32m   1980\u001b[0m         translate_mtx = np.array(\n\u001b[0;32m-> 1981\u001b[0;31m             [[1.0, 0.0, tx], [0.0, 1.0, ty], [0.0, 0.0, 1.0]], float)\n\u001b[0m\u001b[1;32m   1982\u001b[0m         \u001b[0mself\u001b[0m\u001b[0;34m.\u001b[0m\u001b[0m_mtx\u001b[0m \u001b[0;34m=\u001b[0m \u001b[0mnp\u001b[0m\u001b[0;34m.\u001b[0m\u001b[0mdot\u001b[0m\u001b[0;34m(\u001b[0m\u001b[0mtranslate_mtx\u001b[0m\u001b[0;34m,\u001b[0m \u001b[0mself\u001b[0m\u001b[0;34m.\u001b[0m\u001b[0m_mtx\u001b[0m\u001b[0;34m)\u001b[0m\u001b[0;34m\u001b[0m\u001b[0;34m\u001b[0m\u001b[0m\n\u001b[1;32m   1983\u001b[0m         \u001b[0mself\u001b[0m\u001b[0;34m.\u001b[0m\u001b[0minvalidate\u001b[0m\u001b[0;34m(\u001b[0m\u001b[0;34m)\u001b[0m\u001b[0;34m\u001b[0m\u001b[0;34m\u001b[0m\u001b[0m\n",
            "\u001b[0;31mKeyboardInterrupt\u001b[0m: "
          ]
        },
        {
          "output_type": "display_data",
          "data": {
            "image/png": "[encoded data removed]",
            "text/plain": [
              "<Figure size 432x288 with 2 Axes>"
            ]
          },
          "metadata": {
            "tags": [],
            "needs_background": "light"
          }
        }
      ]
    },
    {
      "cell_type": "code",
      "metadata": {
        "id": "tztge6XKHp3d",
        "outputId": "c6ad6712-609e-427d-8db0-a1c337d485d2",
        "colab": {
          "base_uri": "https://localhost:8080/",
          "height": 320
        }
      },
      "source": [
        "fig,ax = plt.subplots(figsize=(5,5))\n",
        "ax.hist(kickstarter.query('backers>1000')['backers'], bins=1000)\n",
        "plt.show()"
      ],
      "execution_count": 57,
      "outputs": [
        {
          "output_type": "display_data",
          "data": {
            "image/png": "[encoded data removed]",
            "text/plain": [
              "<Figure size 360x360 with 1 Axes>"
            ]
          },
          "metadata": {
            "tags": [],
            "needs_background": "light"
          }
        }
      ]
    },
    {
      "cell_type": "code",
      "metadata": {
        "id": "ICU_98zrIOCu",
        "outputId": "3da15c8a-dbf4-4a49-d0c6-59cca062930f",
        "colab": {
          "base_uri": "https://localhost:8080/",
          "height": 295
        }
      },
      "source": [
        "plt.hist( kickstarter.query('backers>1000')['backers'], bins=1000, color='r', )\n",
        "plt.title('Гистограмма')\n",
        "plt.xlabel('Спонсоры')\n",
        "plt.show()"
      ],
      "execution_count": 60,
      "outputs": [
        {
          "output_type": "display_data",
          "data": {
            "image/png": "[encoded data removed]",
            "text/plain": [
              "<Figure size 432x288 with 1 Axes>"
            ]
          },
          "metadata": {
            "tags": [],
            "needs_background": "light"
          }
        }
      ]
    },
    {
      "cell_type": "code",
      "metadata": {
        "id": "csUtbKeLIsSX",
        "outputId": "a2029218-728f-41e6-a5c0-1c012634f259",
        "colab": {
          "base_uri": "https://localhost:8080/",
          "height": 295
        }
      },
      "source": [
        "plt.hist( kickstarter.query('backers>1000')['backers'], bins=1000, color='r', )\n",
        "plt.title('Гистограмма')\n",
        "plt.xlabel('Спонсоры')\n",
        "plt.xlim((2000,30000))\n",
        "plt.show()"
      ],
      "execution_count": 61,
      "outputs": [
        {
          "output_type": "display_data",
          "data": {
            "image/png": "[encoded data removed]",
            "text/plain": [
              "<Figure size 432x288 with 1 Axes>"
            ]
          },
          "metadata": {
            "tags": [],
            "needs_background": "light"
          }
        }
      ]
    },
    {
      "cell_type": "markdown",
      "metadata": {
        "id": "NkGBIXJC-pnK"
      },
      "source": [
        "## Центральная предельная теорема"
      ]
    },
    {
      "cell_type": "code",
      "metadata": {
        "id": "kjcN5qHs-pnK",
        "outputId": "1f75647a-a61d-4c89-ce1e-bc0e701e2d0e",
        "colab": {
          "base_uri": "https://localhost:8080/"
        }
      },
      "source": [
        "# rate parameter for the exponentially distributed population\n",
        "rate = 0.25\n",
        "\n",
        "#Population mean\n",
        "mu = 1/rate\n",
        "\n",
        "# Population standard deviation\n",
        "sd = np.sqrt(1/(rate**2))\n",
        "\n",
        "print('Population mean:', mu)\n",
        "print('Population standard deviation:', sd)"
      ],
      "execution_count": 62,
      "outputs": [
        {
          "output_type": "stream",
          "text": [
            "Population mean: 4.0\n",
            "Population standard deviation: 4.0\n"
          ],
          "name": "stdout"
        }
      ]
    },
    {
      "cell_type": "code",
      "metadata": {
        "id": "5E79-XtG-pnK",
        "outputId": "29748678-6c08-4e3a-e880-7b9dba6188a5",
        "colab": {
          "base_uri": "https://localhost:8080/",
          "height": 147
        }
      },
      "source": [
        "sample_size = 2\n",
        "df2 = pd.DataFrame(index= ['x1', 'x2'] )\n",
        "\n",
        "for i in range(1, 51):\n",
        "    exponential_sample = np.random.exponential((1/rate), sample_size)\n",
        "    col = f'sample {i}'\n",
        "    df2[col] = exponential_sample\n",
        "\n",
        "# Taking a peek at the samples\n",
        "df2"
      ],
      "execution_count": 63,
      "outputs": [
        {
          "output_type": "execute_result",
          "data": {
            "text/html": [
              "<div>\n",
              "<style scoped>\n",
              "    .dataframe tbody tr th:only-of-type {\n",
              "        vertical-align: middle;\n",
              "    }\n",
              "\n",
              "    .dataframe tbody tr th {\n",
              "        vertical-align: top;\n",
              "    }\n",
              "\n",
              "    .dataframe thead th {\n",
              "        text-align: right;\n",
              "    }\n",
              "</style>\n",
              "<table border=\"1\" class=\"dataframe\">\n",
              "  <thead>\n",
              "    <tr style=\"text-align: right;\">\n",
              "      <th></th>\n",
              "      <th>sample 1</th>\n",
              "      <th>sample 2</th>\n",
              "      <th>sample 3</th>\n",
              "      <th>sample 4</th>\n",
              "      <th>sample 5</th>\n",
              "      <th>sample 6</th>\n",
              "      <th>sample 7</th>\n",
              "      <th>sample 8</th>\n",
              "      <th>sample 9</th>\n",
              "      <th>sample 10</th>\n",
              "      <th>sample 11</th>\n",
              "      <th>sample 12</th>\n",
              "      <th>sample 13</th>\n",
              "      <th>sample 14</th>\n",
              "      <th>sample 15</th>\n",
              "      <th>sample 16</th>\n",
              "      <th>sample 17</th>\n",
              "      <th>sample 18</th>\n",
              "      <th>sample 19</th>\n",
              "      <th>sample 20</th>\n",
              "      <th>sample 21</th>\n",
              "      <th>sample 22</th>\n",
              "      <th>sample 23</th>\n",
              "      <th>sample 24</th>\n",
              "      <th>sample 25</th>\n",
              "      <th>sample 26</th>\n",
              "      <th>sample 27</th>\n",
              "      <th>sample 28</th>\n",
              "      <th>sample 29</th>\n",
              "      <th>sample 30</th>\n",
              "      <th>sample 31</th>\n",
              "      <th>sample 32</th>\n",
              "      <th>sample 33</th>\n",
              "      <th>sample 34</th>\n",
              "      <th>sample 35</th>\n",
              "      <th>sample 36</th>\n",
              "      <th>sample 37</th>\n",
              "      <th>sample 38</th>\n",
              "      <th>sample 39</th>\n",
              "      <th>sample 40</th>\n",
              "      <th>sample 41</th>\n",
              "      <th>sample 42</th>\n",
              "      <th>sample 43</th>\n",
              "      <th>sample 44</th>\n",
              "      <th>sample 45</th>\n",
              "      <th>sample 46</th>\n",
              "      <th>sample 47</th>\n",
              "      <th>sample 48</th>\n",
              "      <th>sample 49</th>\n",
              "      <th>sample 50</th>\n",
              "    </tr>\n",
              "  </thead>\n",
              "  <tbody>\n",
              "    <tr>\n",
              "      <th>x1</th>\n",
              "      <td>0.973257</td>\n",
              "      <td>0.181986</td>\n",
              "      <td>2.460675</td>\n",
              "      <td>0.094230</td>\n",
              "      <td>2.394785</td>\n",
              "      <td>5.590509</td>\n",
              "      <td>0.696774</td>\n",
              "      <td>5.112720</td>\n",
              "      <td>8.797977</td>\n",
              "      <td>7.818450</td>\n",
              "      <td>4.564772</td>\n",
              "      <td>0.997269</td>\n",
              "      <td>2.925756</td>\n",
              "      <td>6.593479</td>\n",
              "      <td>9.457384</td>\n",
              "      <td>11.196687</td>\n",
              "      <td>2.590798</td>\n",
              "      <td>7.326232</td>\n",
              "      <td>0.618776</td>\n",
              "      <td>0.568230</td>\n",
              "      <td>8.369300</td>\n",
              "      <td>5.025081</td>\n",
              "      <td>1.604686</td>\n",
              "      <td>8.242536</td>\n",
              "      <td>0.109384</td>\n",
              "      <td>0.008688</td>\n",
              "      <td>4.746676</td>\n",
              "      <td>0.342041</td>\n",
              "      <td>3.994210</td>\n",
              "      <td>1.767879</td>\n",
              "      <td>8.105304</td>\n",
              "      <td>0.077643</td>\n",
              "      <td>2.103260</td>\n",
              "      <td>5.770923</td>\n",
              "      <td>5.134030</td>\n",
              "      <td>2.756942</td>\n",
              "      <td>1.440818</td>\n",
              "      <td>7.220787</td>\n",
              "      <td>0.478794</td>\n",
              "      <td>0.543675</td>\n",
              "      <td>2.281924</td>\n",
              "      <td>0.824650</td>\n",
              "      <td>0.981491</td>\n",
              "      <td>8.618743</td>\n",
              "      <td>0.141208</td>\n",
              "      <td>5.213173</td>\n",
              "      <td>0.651593</td>\n",
              "      <td>1.698299</td>\n",
              "      <td>2.973393</td>\n",
              "      <td>8.371903</td>\n",
              "    </tr>\n",
              "    <tr>\n",
              "      <th>x2</th>\n",
              "      <td>1.526427</td>\n",
              "      <td>1.873258</td>\n",
              "      <td>1.469108</td>\n",
              "      <td>3.238209</td>\n",
              "      <td>0.376048</td>\n",
              "      <td>1.534924</td>\n",
              "      <td>1.792780</td>\n",
              "      <td>14.338379</td>\n",
              "      <td>8.105491</td>\n",
              "      <td>0.465879</td>\n",
              "      <td>3.562598</td>\n",
              "      <td>5.220460</td>\n",
              "      <td>1.910072</td>\n",
              "      <td>3.650845</td>\n",
              "      <td>1.318059</td>\n",
              "      <td>2.450193</td>\n",
              "      <td>9.840616</td>\n",
              "      <td>0.412872</td>\n",
              "      <td>2.752626</td>\n",
              "      <td>0.565009</td>\n",
              "      <td>16.328983</td>\n",
              "      <td>3.969510</td>\n",
              "      <td>0.730081</td>\n",
              "      <td>1.114297</td>\n",
              "      <td>0.432076</td>\n",
              "      <td>3.383775</td>\n",
              "      <td>1.591034</td>\n",
              "      <td>13.209725</td>\n",
              "      <td>9.965877</td>\n",
              "      <td>0.665589</td>\n",
              "      <td>1.246381</td>\n",
              "      <td>8.180702</td>\n",
              "      <td>7.582481</td>\n",
              "      <td>0.031195</td>\n",
              "      <td>12.129827</td>\n",
              "      <td>1.925249</td>\n",
              "      <td>5.679058</td>\n",
              "      <td>1.871421</td>\n",
              "      <td>2.127668</td>\n",
              "      <td>1.736589</td>\n",
              "      <td>9.126415</td>\n",
              "      <td>12.698338</td>\n",
              "      <td>1.465381</td>\n",
              "      <td>9.231343</td>\n",
              "      <td>0.328290</td>\n",
              "      <td>8.226913</td>\n",
              "      <td>6.663588</td>\n",
              "      <td>0.148310</td>\n",
              "      <td>1.327345</td>\n",
              "      <td>3.413415</td>\n",
              "    </tr>\n",
              "  </tbody>\n",
              "</table>\n",
              "</div>"
            ],
            "text/plain": [
              "    sample 1  sample 2  sample 3  ...  sample 48  sample 49  sample 50\n",
              "x1  0.973257  0.181986  2.460675  ...   1.698299   2.973393   8.371903\n",
              "x2  1.526427  1.873258  1.469108  ...   0.148310   1.327345   3.413415\n",
              "\n",
              "[2 rows x 50 columns]"
            ]
          },
          "metadata": {
            "tags": []
          },
          "execution_count": 63
        }
      ]
    },
    {
      "cell_type": "code",
      "metadata": {
        "id": "t7QMFh7Y-pnK",
        "outputId": "5ab76451-a889-44dd-8823-007623e24193",
        "colab": {
          "base_uri": "https://localhost:8080/",
          "height": 265
        }
      },
      "source": [
        "df2_sample_means = df2.mean()\n",
        "plt.hist(df2_sample_means)\n",
        "plt.show()"
      ],
      "execution_count": 64,
      "outputs": [
        {
          "output_type": "display_data",
          "data": {
            "image/png": "[encoded data removed]",
            "text/plain": [
              "<Figure size 432x288 with 1 Axes>"
            ]
          },
          "metadata": {
            "tags": [],
            "needs_background": "light"
          }
        }
      ]
    },
    {
      "cell_type": "code",
      "metadata": {
        "id": "hFirfTE0-pnL",
        "outputId": "6db03482-857a-4dbb-cc10-999d9570e198",
        "colab": {
          "base_uri": "https://localhost:8080/",
          "height": 265
        }
      },
      "source": [
        "sample_size=500\n",
        "\n",
        "df500 = pd.DataFrame()\n",
        "\n",
        "for i in range(1, 51):\n",
        "    exponential_sample = np.random.exponential((1/rate), sample_size)\n",
        "    col = f'sample {i}'\n",
        "    df500[col] = exponential_sample\n",
        "\n",
        "\n",
        "df500_sample_means = pd.DataFrame(df500.mean(),columns=['Sample means'])\n",
        "plt.hist(df500_sample_means['Sample means'])\n",
        "plt.show()"
      ],
      "execution_count": 65,
      "outputs": [
        {
          "output_type": "display_data",
          "data": {
            "image/png": "[encoded data removed]",
            "text/plain": [
              "<Figure size 432x288 with 1 Axes>"
            ]
          },
          "metadata": {
            "tags": [],
            "needs_background": "light"
          }
        }
      ]
    },
    {
      "cell_type": "code",
      "metadata": {
        "id": "vOdi8lIu-pnL",
        "outputId": "07119144-b40d-44cb-e1ff-f1d894e61276"
      },
      "source": [
        "df500_sample_means"
      ],
      "execution_count": null,
      "outputs": [
        {
          "output_type": "execute_result",
          "data": {
            "text/html": [
              "<div>\n",
              "<style scoped>\n",
              "    .dataframe tbody tr th:only-of-type {\n",
              "        vertical-align: middle;\n",
              "    }\n",
              "\n",
              "    .dataframe tbody tr th {\n",
              "        vertical-align: top;\n",
              "    }\n",
              "\n",
              "    .dataframe thead th {\n",
              "        text-align: right;\n",
              "    }\n",
              "</style>\n",
              "<table border=\"1\" class=\"dataframe\">\n",
              "  <thead>\n",
              "    <tr style=\"text-align: right;\">\n",
              "      <th></th>\n",
              "      <th>Sample means</th>\n",
              "    </tr>\n",
              "  </thead>\n",
              "  <tbody>\n",
              "    <tr>\n",
              "      <td>sample 1</td>\n",
              "      <td>4.054453</td>\n",
              "    </tr>\n",
              "    <tr>\n",
              "      <td>sample 2</td>\n",
              "      <td>3.761132</td>\n",
              "    </tr>\n",
              "    <tr>\n",
              "      <td>sample 3</td>\n",
              "      <td>3.905274</td>\n",
              "    </tr>\n",
              "    <tr>\n",
              "      <td>sample 4</td>\n",
              "      <td>3.933050</td>\n",
              "    </tr>\n",
              "    <tr>\n",
              "      <td>sample 5</td>\n",
              "      <td>4.093267</td>\n",
              "    </tr>\n",
              "    <tr>\n",
              "      <td>sample 6</td>\n",
              "      <td>3.685376</td>\n",
              "    </tr>\n",
              "    <tr>\n",
              "      <td>sample 7</td>\n",
              "      <td>4.519135</td>\n",
              "    </tr>\n",
              "    <tr>\n",
              "      <td>sample 8</td>\n",
              "      <td>3.970240</td>\n",
              "    </tr>\n",
              "    <tr>\n",
              "      <td>sample 9</td>\n",
              "      <td>3.796047</td>\n",
              "    </tr>\n",
              "    <tr>\n",
              "      <td>sample 10</td>\n",
              "      <td>3.965066</td>\n",
              "    </tr>\n",
              "    <tr>\n",
              "      <td>sample 11</td>\n",
              "      <td>4.098849</td>\n",
              "    </tr>\n",
              "    <tr>\n",
              "      <td>sample 12</td>\n",
              "      <td>3.924860</td>\n",
              "    </tr>\n",
              "    <tr>\n",
              "      <td>sample 13</td>\n",
              "      <td>3.919181</td>\n",
              "    </tr>\n",
              "    <tr>\n",
              "      <td>sample 14</td>\n",
              "      <td>4.144991</td>\n",
              "    </tr>\n",
              "    <tr>\n",
              "      <td>sample 15</td>\n",
              "      <td>4.257060</td>\n",
              "    </tr>\n",
              "    <tr>\n",
              "      <td>sample 16</td>\n",
              "      <td>3.853613</td>\n",
              "    </tr>\n",
              "    <tr>\n",
              "      <td>sample 17</td>\n",
              "      <td>3.685794</td>\n",
              "    </tr>\n",
              "    <tr>\n",
              "      <td>sample 18</td>\n",
              "      <td>3.994531</td>\n",
              "    </tr>\n",
              "    <tr>\n",
              "      <td>sample 19</td>\n",
              "      <td>4.084828</td>\n",
              "    </tr>\n",
              "    <tr>\n",
              "      <td>sample 20</td>\n",
              "      <td>4.178939</td>\n",
              "    </tr>\n",
              "    <tr>\n",
              "      <td>sample 21</td>\n",
              "      <td>4.030809</td>\n",
              "    </tr>\n",
              "    <tr>\n",
              "      <td>sample 22</td>\n",
              "      <td>3.768002</td>\n",
              "    </tr>\n",
              "    <tr>\n",
              "      <td>sample 23</td>\n",
              "      <td>3.773046</td>\n",
              "    </tr>\n",
              "    <tr>\n",
              "      <td>sample 24</td>\n",
              "      <td>4.028806</td>\n",
              "    </tr>\n",
              "    <tr>\n",
              "      <td>sample 25</td>\n",
              "      <td>3.819220</td>\n",
              "    </tr>\n",
              "    <tr>\n",
              "      <td>sample 26</td>\n",
              "      <td>3.973346</td>\n",
              "    </tr>\n",
              "    <tr>\n",
              "      <td>sample 27</td>\n",
              "      <td>4.113092</td>\n",
              "    </tr>\n",
              "    <tr>\n",
              "      <td>sample 28</td>\n",
              "      <td>3.856406</td>\n",
              "    </tr>\n",
              "    <tr>\n",
              "      <td>sample 29</td>\n",
              "      <td>4.062254</td>\n",
              "    </tr>\n",
              "    <tr>\n",
              "      <td>sample 30</td>\n",
              "      <td>3.992954</td>\n",
              "    </tr>\n",
              "    <tr>\n",
              "      <td>sample 31</td>\n",
              "      <td>3.833506</td>\n",
              "    </tr>\n",
              "    <tr>\n",
              "      <td>sample 32</td>\n",
              "      <td>4.370565</td>\n",
              "    </tr>\n",
              "    <tr>\n",
              "      <td>sample 33</td>\n",
              "      <td>4.182290</td>\n",
              "    </tr>\n",
              "    <tr>\n",
              "      <td>sample 34</td>\n",
              "      <td>4.154115</td>\n",
              "    </tr>\n",
              "    <tr>\n",
              "      <td>sample 35</td>\n",
              "      <td>3.923575</td>\n",
              "    </tr>\n",
              "    <tr>\n",
              "      <td>sample 36</td>\n",
              "      <td>3.806427</td>\n",
              "    </tr>\n",
              "    <tr>\n",
              "      <td>sample 37</td>\n",
              "      <td>3.765697</td>\n",
              "    </tr>\n",
              "    <tr>\n",
              "      <td>sample 38</td>\n",
              "      <td>3.885575</td>\n",
              "    </tr>\n",
              "    <tr>\n",
              "      <td>sample 39</td>\n",
              "      <td>4.334463</td>\n",
              "    </tr>\n",
              "    <tr>\n",
              "      <td>sample 40</td>\n",
              "      <td>4.148348</td>\n",
              "    </tr>\n",
              "    <tr>\n",
              "      <td>sample 41</td>\n",
              "      <td>3.883909</td>\n",
              "    </tr>\n",
              "    <tr>\n",
              "      <td>sample 42</td>\n",
              "      <td>3.888207</td>\n",
              "    </tr>\n",
              "    <tr>\n",
              "      <td>sample 43</td>\n",
              "      <td>3.977819</td>\n",
              "    </tr>\n",
              "    <tr>\n",
              "      <td>sample 44</td>\n",
              "      <td>3.876414</td>\n",
              "    </tr>\n",
              "    <tr>\n",
              "      <td>sample 45</td>\n",
              "      <td>4.085720</td>\n",
              "    </tr>\n",
              "    <tr>\n",
              "      <td>sample 46</td>\n",
              "      <td>4.142406</td>\n",
              "    </tr>\n",
              "    <tr>\n",
              "      <td>sample 47</td>\n",
              "      <td>3.735243</td>\n",
              "    </tr>\n",
              "    <tr>\n",
              "      <td>sample 48</td>\n",
              "      <td>4.143828</td>\n",
              "    </tr>\n",
              "    <tr>\n",
              "      <td>sample 49</td>\n",
              "      <td>4.106361</td>\n",
              "    </tr>\n",
              "    <tr>\n",
              "      <td>sample 50</td>\n",
              "      <td>4.113198</td>\n",
              "    </tr>\n",
              "  </tbody>\n",
              "</table>\n",
              "</div>"
            ],
            "text/plain": [
              "           Sample means\n",
              "sample 1       4.054453\n",
              "sample 2       3.761132\n",
              "sample 3       3.905274\n",
              "sample 4       3.933050\n",
              "sample 5       4.093267\n",
              "sample 6       3.685376\n",
              "sample 7       4.519135\n",
              "sample 8       3.970240\n",
              "sample 9       3.796047\n",
              "sample 10      3.965066\n",
              "sample 11      4.098849\n",
              "sample 12      3.924860\n",
              "sample 13      3.919181\n",
              "sample 14      4.144991\n",
              "sample 15      4.257060\n",
              "sample 16      3.853613\n",
              "sample 17      3.685794\n",
              "sample 18      3.994531\n",
              "sample 19      4.084828\n",
              "sample 20      4.178939\n",
              "sample 21      4.030809\n",
              "sample 22      3.768002\n",
              "sample 23      3.773046\n",
              "sample 24      4.028806\n",
              "sample 25      3.819220\n",
              "sample 26      3.973346\n",
              "sample 27      4.113092\n",
              "sample 28      3.856406\n",
              "sample 29      4.062254\n",
              "sample 30      3.992954\n",
              "sample 31      3.833506\n",
              "sample 32      4.370565\n",
              "sample 33      4.182290\n",
              "sample 34      4.154115\n",
              "sample 35      3.923575\n",
              "sample 36      3.806427\n",
              "sample 37      3.765697\n",
              "sample 38      3.885575\n",
              "sample 39      4.334463\n",
              "sample 40      4.148348\n",
              "sample 41      3.883909\n",
              "sample 42      3.888207\n",
              "sample 43      3.977819\n",
              "sample 44      3.876414\n",
              "sample 45      4.085720\n",
              "sample 46      4.142406\n",
              "sample 47      3.735243\n",
              "sample 48      4.143828\n",
              "sample 49      4.106361\n",
              "sample 50      4.113198"
            ]
          },
          "metadata": {
            "tags": []
          },
          "execution_count": 139
        }
      ]
    },
    {
      "cell_type": "markdown",
      "metadata": {
        "id": "QoV8qzt9-pnL"
      },
      "source": [
        "## Доверительный интервал"
      ]
    },
    {
      "cell_type": "code",
      "metadata": {
        "id": "aeEO_MeC-pnL"
      },
      "source": [
        "confidence_interval = (st.t.interval(0.95,len(kickstarter.query('country==\"US\"')['backers'])-1,kickstarter.query('country==\"US\"')['backers'].mean(), \n",
        "                                    kickstarter.query('country==\"US\"')['backers'].sem())\n",
        "                      )"
      ],
      "execution_count": 67,
      "outputs": []
    },
    {
      "cell_type": "code",
      "metadata": {
        "id": "C944LiHy-pnM",
        "outputId": "eccd74c3-c749-4b89-d877-fba40b588055"
      },
      "source": [
        "kickstarter.query('country==\"JP\"')['backers'].mean()"
      ],
      "execution_count": null,
      "outputs": [
        {
          "output_type": "execute_result",
          "data": {
            "text/plain": [
              "48.55"
            ]
          },
          "metadata": {
            "tags": []
          },
          "execution_count": 108
        }
      ]
    },
    {
      "cell_type": "code",
      "metadata": {
        "id": "9Zeru48l-pnM",
        "outputId": "3d732148-7696-49dd-bf51-986d628daa79",
        "colab": {
          "base_uri": "https://localhost:8080/"
        }
      },
      "source": [
        "confidence_interval "
      ],
      "execution_count": 68,
      "outputs": [
        {
          "output_type": "execute_result",
          "data": {
            "text/plain": [
              "(109.53252973868729, 116.67895605706838)"
            ]
          },
          "metadata": {
            "tags": []
          },
          "execution_count": 68
        }
      ]
    },
    {
      "cell_type": "code",
      "metadata": {
        "id": "EcuHkDY1-pnM"
      },
      "source": [
        "confidence_interval = [kickstarter.query('country==\"JP\"')['backers'].quantile(0.025),kickstarter.query('country==\"JP\"')['backers'].quantile(0.975)]"
      ],
      "execution_count": null,
      "outputs": []
    },
    {
      "cell_type": "code",
      "metadata": {
        "id": "MBxoF_7i-pnM",
        "outputId": "dc8f90e1-3160-4c9b-8a90-92135c3084ba"
      },
      "source": [
        "confidence_interval"
      ],
      "execution_count": null,
      "outputs": [
        {
          "output_type": "execute_result",
          "data": {
            "text/plain": [
              "[0.0, 206.5749999999999]"
            ]
          },
          "metadata": {
            "tags": []
          },
          "execution_count": 115
        }
      ]
    },
    {
      "cell_type": "markdown",
      "metadata": {
        "id": "_Isk8SqtUlP_"
      },
      "source": [
        "# Анализ выбросов и аномалий. Боксплоты"
      ]
    },
    {
      "cell_type": "markdown",
      "metadata": {
        "id": "ycZWD6dXoCrC"
      },
      "source": [
        "<img src='https://agricolamz.github.io/2018_FE_R_statistics/Lab_9_files/figure-html/unnamed-chunk-1-1.png'>"
      ]
    },
    {
      "cell_type": "markdown",
      "metadata": {
        "id": "E4rq-eDmmoGy"
      },
      "source": [
        "<img src='https://upload.wikimedia.org/wikipedia/commons/thumb/1/1a/Boxplot_vs_PDF.svg/800px-Boxplot_vs_PDF.svg.png'>"
      ]
    },
    {
      "cell_type": "code",
      "metadata": {
        "colab": {
          "base_uri": "https://localhost:8080/",
          "height": 602
        },
        "id": "q0JoDqeuoSYF",
        "outputId": "705486ba-e829-4b79-c42d-52ce4d7d4620"
      },
      "source": [
        "plt.figure(figsize=(10,10))\n",
        "plt.boxplot(kickstarter['usd pledged'])\n",
        "plt.show()"
      ],
      "execution_count": 69,
      "outputs": [
        {
          "output_type": "display_data",
          "data": {
            "image/png": "[encoded data removed]",
            "text/plain": [
              "<Figure size 720x720 with 1 Axes>"
            ]
          },
          "metadata": {
            "tags": [],
            "needs_background": "light"
          }
        }
      ]
    },
    {
      "cell_type": "code",
      "metadata": {
        "id": "6sI3IcEDLTaf",
        "outputId": "118e4bfa-e35f-4a82-e7a0-142750044ffd",
        "colab": {
          "base_uri": "https://localhost:8080/",
          "height": 374
        }
      },
      "source": [
        "plt.figure(figsize=(10,6))\n",
        "plt.boxplot(kickstarter['usd pledged'],vert=False)\n",
        "plt.xlim((0,100000))\n",
        "plt.show()"
      ],
      "execution_count": 77,
      "outputs": [
        {
          "output_type": "display_data",
          "data": {
            "image/png": "[encoded data removed]",
            "text/plain": [
              "<Figure size 720x432 with 1 Axes>"
            ]
          },
          "metadata": {
            "tags": [],
            "needs_background": "light"
          }
        }
      ]
    },
    {
      "cell_type": "code",
      "metadata": {
        "id": "qJZ5zyE_pMe8"
      },
      "source": [
        "def  burst(data, column): # функция расчета границ усов ящика с усами\n",
        "    iqr = data[column].quantile(0.75) - data[column].quantile(0.25)\n",
        "    return data[column].quantile(0.25)- iqr*1.5, data[column].quantile(0.75)+ iqr*1.5"
      ],
      "execution_count": 78,
      "outputs": []
    },
    {
      "cell_type": "code",
      "metadata": {
        "id": "-R42Ze88MfL-"
      },
      "source": [
        "wl,wr = burst(kickstarter, 'usd pledged')"
      ],
      "execution_count": 79,
      "outputs": []
    },
    {
      "cell_type": "code",
      "metadata": {
        "id": "jvfCM2ZIMoV8",
        "outputId": "f343e1d0-32b8-4bb9-86f7-c40fe1d64045",
        "colab": {
          "base_uri": "https://localhost:8080/"
        }
      },
      "source": [
        "wl,wr"
      ],
      "execution_count": 80,
      "outputs": [
        {
          "output_type": "execute_result",
          "data": {
            "text/plain": [
              "(-4509.66, 7561.379999999999)"
            ]
          },
          "metadata": {
            "tags": []
          },
          "execution_count": 80
        }
      ]
    },
    {
      "cell_type": "code",
      "metadata": {
        "id": "ZccQZom8pUiV"
      },
      "source": [
        "kickstarter = kickstarter.loc[kickstarter['usd pledged']<=wr]"
      ],
      "execution_count": 83,
      "outputs": []
    },
    {
      "cell_type": "code",
      "metadata": {
        "id": "2B1sWPfZNH3e"
      },
      "source": [
        "kickstarter = kickstarter.loc[kickstarter['usd pledged']> 0]"
      ],
      "execution_count": 84,
      "outputs": []
    },
    {
      "cell_type": "code",
      "metadata": {
        "id": "uwvp92wBNLKs",
        "outputId": "4e296a6e-7d1e-4964-dee5-f2994e1d4727",
        "colab": {
          "base_uri": "https://localhost:8080/",
          "height": 374
        }
      },
      "source": [
        "plt.figure(figsize=(10,6))\n",
        "plt.boxplot(kickstarter['usd pledged'],vert=False)\n",
        "\n",
        "plt.show()"
      ],
      "execution_count": 85,
      "outputs": [
        {
          "output_type": "display_data",
          "data": {
            "image/png": "[encoded data removed]",
            "text/plain": [
              "<Figure size 720x432 with 1 Axes>"
            ]
          },
          "metadata": {
            "tags": [],
            "needs_background": "light"
          }
        }
      ]
    },
    {
      "cell_type": "code",
      "metadata": {
        "id": "rhbxrF-ONQpk",
        "outputId": "6723970d-217d-4986-f80c-fb3b935cf7df",
        "colab": {
          "base_uri": "https://localhost:8080/",
          "height": 374
        }
      },
      "source": [
        "plt.figure(figsize=(10,6))\n",
        "plt.hist(kickstarter['usd pledged'])\n",
        "\n",
        "plt.show()"
      ],
      "execution_count": 86,
      "outputs": [
        {
          "output_type": "display_data",
          "data": {
            "image/png": "[encoded data removed]",
            "text/plain": [
              "<Figure size 720x432 with 1 Axes>"
            ]
          },
          "metadata": {
            "tags": [],
            "needs_background": "light"
          }
        }
      ]
    },
    {
      "cell_type": "code",
      "metadata": {
        "id": "b1nZpuHZNYM1"
      },
      "source": [
        "wl,wr = burst(kickstarter, 'backers')"
      ],
      "execution_count": 87,
      "outputs": []
    },
    {
      "cell_type": "code",
      "metadata": {
        "id": "Tma-rpGSNbjI"
      },
      "source": [
        "kickstarter = kickstarter.loc[(kickstarter['backers']> 0) & (kickstarter['backers']<=wr)]"
      ],
      "execution_count": 88,
      "outputs": []
    },
    {
      "cell_type": "code",
      "metadata": {
        "id": "y6o6rLimNpzG"
      },
      "source": [
        ""
      ],
      "execution_count": null,
      "outputs": []
    },
    {
      "cell_type": "code",
      "metadata": {
        "id": "HnfXxJ6tNkB4",
        "outputId": "1b8010e7-cc10-41eb-ad3d-0aeceed387e4",
        "colab": {
          "base_uri": "https://localhost:8080/",
          "height": 378
        }
      },
      "source": [
        "plt.figure(figsize=(10,6))\n",
        "plt.hist(kickstarter['backers'])\n",
        "\n",
        "plt.show()"
      ],
      "execution_count": 89,
      "outputs": [
        {
          "output_type": "display_data",
          "data": {
            "image/png": "[encoded data removed]",
            "text/plain": [
              "<Figure size 720x432 with 1 Axes>"
            ]
          },
          "metadata": {
            "tags": [],
            "needs_background": "light"
          }
        }
      ]
    },
    {
      "cell_type": "code",
      "metadata": {
        "id": "lookTxfzNqaG",
        "outputId": "bdb4f283-66fd-4da8-de28-d512e7145bca",
        "colab": {
          "base_uri": "https://localhost:8080/"
        }
      },
      "source": [
        "kickstarter.shape\n"
      ],
      "execution_count": 90,
      "outputs": [
        {
          "output_type": "execute_result",
          "data": {
            "text/plain": [
              "(234788, 19)"
            ]
          },
          "metadata": {
            "tags": []
          },
          "execution_count": 90
        }
      ]
    },
    {
      "cell_type": "markdown",
      "metadata": {
        "id": "nPmWCpMaUxvs"
      },
      "source": [
        "# Линейные графики"
      ]
    },
    {
      "cell_type": "code",
      "metadata": {
        "id": "dEYGX3yIp9ae"
      },
      "source": [
        "data = kickstarter.groupby('year')['name'].count().reset_index()"
      ],
      "execution_count": 91,
      "outputs": []
    },
    {
      "cell_type": "code",
      "metadata": {
        "colab": {
          "base_uri": "https://localhost:8080/",
          "height": 343
        },
        "id": "RxYNK0F6qG_E",
        "outputId": "c2246e74-7575-4918-b9b1-630a840a2677"
      },
      "source": [
        "data "
      ],
      "execution_count": 92,
      "outputs": [
        {
          "output_type": "execute_result",
          "data": {
            "text/html": [
              "<div>\n",
              "<style scoped>\n",
              "    .dataframe tbody tr th:only-of-type {\n",
              "        vertical-align: middle;\n",
              "    }\n",
              "\n",
              "    .dataframe tbody tr th {\n",
              "        vertical-align: top;\n",
              "    }\n",
              "\n",
              "    .dataframe thead th {\n",
              "        text-align: right;\n",
              "    }\n",
              "</style>\n",
              "<table border=\"1\" class=\"dataframe\">\n",
              "  <thead>\n",
              "    <tr style=\"text-align: right;\">\n",
              "      <th></th>\n",
              "      <th>year</th>\n",
              "      <th>name</th>\n",
              "    </tr>\n",
              "  </thead>\n",
              "  <tbody>\n",
              "    <tr>\n",
              "      <th>0</th>\n",
              "      <td>2009</td>\n",
              "      <td>989</td>\n",
              "    </tr>\n",
              "    <tr>\n",
              "      <th>1</th>\n",
              "      <td>2010</td>\n",
              "      <td>7702</td>\n",
              "    </tr>\n",
              "    <tr>\n",
              "      <th>2</th>\n",
              "      <td>2011</td>\n",
              "      <td>19244</td>\n",
              "    </tr>\n",
              "    <tr>\n",
              "      <th>3</th>\n",
              "      <td>2012</td>\n",
              "      <td>29029</td>\n",
              "    </tr>\n",
              "    <tr>\n",
              "      <th>4</th>\n",
              "      <td>2013</td>\n",
              "      <td>30201</td>\n",
              "    </tr>\n",
              "    <tr>\n",
              "      <th>5</th>\n",
              "      <td>2014</td>\n",
              "      <td>43972</td>\n",
              "    </tr>\n",
              "    <tr>\n",
              "      <th>6</th>\n",
              "      <td>2015</td>\n",
              "      <td>46070</td>\n",
              "    </tr>\n",
              "    <tr>\n",
              "      <th>7</th>\n",
              "      <td>2016</td>\n",
              "      <td>31917</td>\n",
              "    </tr>\n",
              "    <tr>\n",
              "      <th>8</th>\n",
              "      <td>2017</td>\n",
              "      <td>25585</td>\n",
              "    </tr>\n",
              "    <tr>\n",
              "      <th>9</th>\n",
              "      <td>2018</td>\n",
              "      <td>79</td>\n",
              "    </tr>\n",
              "  </tbody>\n",
              "</table>\n",
              "</div>"
            ],
            "text/plain": [
              "   year   name\n",
              "0  2009    989\n",
              "1  2010   7702\n",
              "2  2011  19244\n",
              "3  2012  29029\n",
              "4  2013  30201\n",
              "5  2014  43972\n",
              "6  2015  46070\n",
              "7  2016  31917\n",
              "8  2017  25585\n",
              "9  2018     79"
            ]
          },
          "metadata": {
            "tags": []
          },
          "execution_count": 92
        }
      ]
    },
    {
      "cell_type": "code",
      "metadata": {
        "colab": {
          "base_uri": "https://localhost:8080/",
          "height": 282
        },
        "id": "reL4_-KQUzsA",
        "outputId": "fa0d38bd-0519-4733-c7b3-9a4710d02bb6"
      },
      "source": [
        "plt.plot(data['year'],data['name'])"
      ],
      "execution_count": 93,
      "outputs": [
        {
          "output_type": "execute_result",
          "data": {
            "text/plain": [
              "[<matplotlib.lines.Line2D at 0x7fee0be46890>]"
            ]
          },
          "metadata": {
            "tags": []
          },
          "execution_count": 93
        },
        {
          "output_type": "display_data",
          "data": {
            "image/png": "[encoded data removed]",
            "text/plain": [
              "<Figure size 432x288 with 1 Axes>"
            ]
          },
          "metadata": {
            "tags": [],
            "needs_background": "light"
          }
        }
      ]
    },
    {
      "cell_type": "markdown",
      "metadata": {
        "id": "lzQOs417U0JY"
      },
      "source": [
        "# Барплоты"
      ]
    },
    {
      "cell_type": "code",
      "metadata": {
        "id": "7BDPQKHU-pnO"
      },
      "source": [
        "data = kickstarter.groupby('state').agg({'goal':'mean','usd pledged':'mean','name':'count'}).reset_index()"
      ],
      "execution_count": 95,
      "outputs": []
    },
    {
      "cell_type": "code",
      "metadata": {
        "id": "BPySN7zJ-pnO",
        "outputId": "f8bd1541-a299-4c7a-fdab-ae5352fc1c82",
        "colab": {
          "base_uri": "https://localhost:8080/",
          "height": 195
        }
      },
      "source": [
        "data"
      ],
      "execution_count": 96,
      "outputs": [
        {
          "output_type": "execute_result",
          "data": {
            "text/html": [
              "<div>\n",
              "<style scoped>\n",
              "    .dataframe tbody tr th:only-of-type {\n",
              "        vertical-align: middle;\n",
              "    }\n",
              "\n",
              "    .dataframe tbody tr th {\n",
              "        vertical-align: top;\n",
              "    }\n",
              "\n",
              "    .dataframe thead th {\n",
              "        text-align: right;\n",
              "    }\n",
              "</style>\n",
              "<table border=\"1\" class=\"dataframe\">\n",
              "  <thead>\n",
              "    <tr style=\"text-align: right;\">\n",
              "      <th></th>\n",
              "      <th>state</th>\n",
              "      <th>goal</th>\n",
              "      <th>usd pledged</th>\n",
              "      <th>name</th>\n",
              "    </tr>\n",
              "  </thead>\n",
              "  <tbody>\n",
              "    <tr>\n",
              "      <th>0</th>\n",
              "      <td>canceled</td>\n",
              "      <td>64762.396216</td>\n",
              "      <td>795.426585</td>\n",
              "      <td>22710</td>\n",
              "    </tr>\n",
              "    <tr>\n",
              "      <th>1</th>\n",
              "      <td>failed</td>\n",
              "      <td>52087.144008</td>\n",
              "      <td>657.209083</td>\n",
              "      <td>138110</td>\n",
              "    </tr>\n",
              "    <tr>\n",
              "      <th>2</th>\n",
              "      <td>live</td>\n",
              "      <td>31440.270682</td>\n",
              "      <td>496.553230</td>\n",
              "      <td>1511</td>\n",
              "    </tr>\n",
              "    <tr>\n",
              "      <th>3</th>\n",
              "      <td>successful</td>\n",
              "      <td>2702.305197</td>\n",
              "      <td>2250.325565</td>\n",
              "      <td>71543</td>\n",
              "    </tr>\n",
              "    <tr>\n",
              "      <th>4</th>\n",
              "      <td>suspended</td>\n",
              "      <td>325006.719912</td>\n",
              "      <td>703.355810</td>\n",
              "      <td>914</td>\n",
              "    </tr>\n",
              "  </tbody>\n",
              "</table>\n",
              "</div>"
            ],
            "text/plain": [
              "        state           goal  usd pledged    name\n",
              "0    canceled   64762.396216   795.426585   22710\n",
              "1      failed   52087.144008   657.209083  138110\n",
              "2        live   31440.270682   496.553230    1511\n",
              "3  successful    2702.305197  2250.325565   71543\n",
              "4   suspended  325006.719912   703.355810     914"
            ]
          },
          "metadata": {
            "tags": []
          },
          "execution_count": 96
        }
      ]
    },
    {
      "cell_type": "code",
      "metadata": {
        "id": "vBKn7dDuOIY8",
        "outputId": "fb945109-fbb3-4fad-f417-8dc0a35c1a06",
        "colab": {
          "base_uri": "https://localhost:8080/",
          "height": 282
        }
      },
      "source": [
        "plt.barh(data['state'],data['goal'])"
      ],
      "execution_count": 102,
      "outputs": [
        {
          "output_type": "execute_result",
          "data": {
            "text/plain": [
              "<BarContainer object of 5 artists>"
            ]
          },
          "metadata": {
            "tags": []
          },
          "execution_count": 102
        },
        {
          "output_type": "display_data",
          "data": {
            "image/png": "[encoded data removed]",
            "text/plain": [
              "<Figure size 432x288 with 1 Axes>"
            ]
          },
          "metadata": {
            "tags": [],
            "needs_background": "light"
          }
        }
      ]
    },
    {
      "cell_type": "code",
      "metadata": {
        "id": "c-ILjjcBOl7u",
        "outputId": "ce5eaf7c-e85f-4759-d1fc-8cd27994437a",
        "colab": {
          "base_uri": "https://localhost:8080/",
          "height": 318
        }
      },
      "source": [
        "plt.bar(data['state'],data['goal'])\n",
        "plt.xticks(rotation=45)"
      ],
      "execution_count": 104,
      "outputs": [
        {
          "output_type": "execute_result",
          "data": {
            "text/plain": [
              "([0, 1, 2, 3, 4], <a list of 5 Text major ticklabel objects>)"
            ]
          },
          "metadata": {
            "tags": []
          },
          "execution_count": 104
        },
        {
          "output_type": "display_data",
          "data": {
            "image/png": "[encoded data removed]",
            "text/plain": [
              "<Figure size 432x288 with 1 Axes>"
            ]
          },
          "metadata": {
            "tags": [],
            "needs_background": "light"
          }
        }
      ]
    },
    {
      "cell_type": "code",
      "metadata": {
        "colab": {
          "base_uri": "https://localhost:8080/",
          "height": 282
        },
        "id": "z6bivfruqQVV",
        "outputId": "2aebc22f-fd86-47a9-85af-918078ccd70a"
      },
      "source": [
        "plt.bar(data['state'],data['goal'])\n",
        "plt.bar(data['state'],data['name'])"
      ],
      "execution_count": 107,
      "outputs": [
        {
          "output_type": "execute_result",
          "data": {
            "text/plain": [
              "<BarContainer object of 5 artists>"
            ]
          },
          "metadata": {
            "tags": []
          },
          "execution_count": 107
        },
        {
          "output_type": "display_data",
          "data": {
            "image/png": "[encoded data removed]",
            "text/plain": [
              "<Figure size 432x288 with 1 Axes>"
            ]
          },
          "metadata": {
            "tags": [],
            "needs_background": "light"
          }
        }
      ]
    },
    {
      "cell_type": "code",
      "metadata": {
        "id": "Blo_cvGYO4NO"
      },
      "source": [
        "data = kickstarter.groupby(['year','country'])['name'].count().reset_index()"
      ],
      "execution_count": 108,
      "outputs": []
    },
    {
      "cell_type": "code",
      "metadata": {
        "id": "ozYYmAcBO9yU",
        "outputId": "91b3303d-0d99-4b0d-9a2d-dfbafd033e50",
        "colab": {
          "base_uri": "https://localhost:8080/",
          "height": 282
        }
      },
      "source": [
        "plt.plot(data.query('country==\"JP\"')['year'],data.query('country==\"JP\"')['name'])\n",
        "plt.plot(data.query('country==\"CH\"')['year'],data.query('country==\"CH\"')['name'])\n",
        "plt.legend(labels=['Япония','Китай'])"
      ],
      "execution_count": 112,
      "outputs": [
        {
          "output_type": "execute_result",
          "data": {
            "text/plain": [
              "<matplotlib.legend.Legend at 0x7fee0c786350>"
            ]
          },
          "metadata": {
            "tags": []
          },
          "execution_count": 112
        },
        {
          "output_type": "display_data",
          "data": {
            "image/png": "[encoded data removed]",
            "text/plain": [
              "<Figure size 432x288 with 1 Axes>"
            ]
          },
          "metadata": {
            "tags": [],
            "needs_background": "light"
          }
        }
      ]
    },
    {
      "cell_type": "markdown",
      "metadata": {
        "id": "DvmaTY6bU5Uy"
      },
      "source": [
        "# Пайчарт"
      ]
    },
    {
      "cell_type": "code",
      "metadata": {
        "id": "TUVhTp-UPgMa"
      },
      "source": [
        "data = kickstarter.groupby('year')['name'].count().reset_index()"
      ],
      "execution_count": 114,
      "outputs": []
    },
    {
      "cell_type": "code",
      "metadata": {
        "colab": {
          "base_uri": "https://localhost:8080/",
          "height": 411
        },
        "id": "QLCmk1gdqemy",
        "outputId": "fd62e130-867a-4ecc-c381-6b9e52f4ca6b"
      },
      "source": [
        "plt.figure(figsize=(7,7))\n",
        "plt.pie(data['name'],labels=data['year'],autopct = '% 1.2f %% ')\n",
        "plt.show()"
      ],
      "execution_count": 115,
      "outputs": [
        {
          "output_type": "display_data",
          "data": {
            "image/png": "[encoded data removed]",
            "text/plain": [
              "<Figure size 504x504 with 1 Axes>"
            ]
          },
          "metadata": {
            "tags": []
          }
        }
      ]
    },
    {
      "cell_type": "markdown",
      "metadata": {
        "id": "kfJ1gWM-U74B"
      },
      "source": [
        "# Скаттерплоты. Корреляция"
      ]
    },
    {
      "cell_type": "code",
      "metadata": {
        "colab": {
          "base_uri": "https://localhost:8080/",
          "height": 428
        },
        "id": "iG26mvtJq_02",
        "outputId": "ccb2700c-cfed-4483-c2ab-a1080e1f05c2"
      },
      "source": [
        "plt.figure(figsize=(7,7))\n",
        "plt.scatter(kickstarter['backers'],kickstarter['usd pledged'], alpha=0.2)\n",
        "plt.show()"
      ],
      "execution_count": 120,
      "outputs": [
        {
          "output_type": "display_data",
          "data": {
            "image/png": "[encoded data removed]",
            "text/plain": [
              "<Figure size 504x504 with 1 Axes>"
            ]
          },
          "metadata": {
            "tags": [],
            "needs_background": "light"
          }
        }
      ]
    },
    {
      "cell_type": "code",
      "metadata": {
        "id": "1nbDM7USQAmV",
        "outputId": "8b4b4bee-eff5-4166-e397-0ba215f718bb",
        "colab": {
          "base_uri": "https://localhost:8080/",
          "height": 439
        }
      },
      "source": [
        "plt.figure(figsize=(7,7))\n",
        "plt.scatter(kickstarter['backers'],kickstarter['goal'])\n",
        "plt.show()"
      ],
      "execution_count": 121,
      "outputs": [
        {
          "output_type": "display_data",
          "data": {
            "image/png": "[encoded data removed]",
            "text/plain": [
              "<Figure size 504x504 with 1 Axes>"
            ]
          },
          "metadata": {
            "tags": [],
            "needs_background": "light"
          }
        }
      ]
    },
    {
      "cell_type": "markdown",
      "metadata": {
        "id": "d1fnrcA8-pnQ"
      },
      "source": [
        "<img src='https://gigabaza.ru/images/10/18849/589f89f0.gif'>"
      ]
    },
    {
      "cell_type": "markdown",
      "metadata": {
        "id": "avD6wXiQ-pnQ"
      },
      "source": [
        "<img src='https://statanaliz.info/wp-content/uploads/2019/04/corr1.png'>"
      ]
    },
    {
      "cell_type": "code",
      "metadata": {
        "colab": {
          "base_uri": "https://localhost:8080/",
          "height": 258
        },
        "id": "m5PNRzYNrN1w",
        "outputId": "abf2ab2d-a9a8-4369-b52b-0bf3b51deaa5"
      },
      "source": [
        "kickstarter.corr().style.background_gradient(\"RdBu_r\")"
      ],
      "execution_count": 122,
      "outputs": [
        {
          "output_type": "execute_result",
          "data": {
            "text/html": [
              "<style  type=\"text/css\" >\n",
              "#T_d4277014_dfee_11eb_883e_0242ac1c0002row0_col0,#T_d4277014_dfee_11eb_883e_0242ac1c0002row1_col1,#T_d4277014_dfee_11eb_883e_0242ac1c0002row2_col2,#T_d4277014_dfee_11eb_883e_0242ac1c0002row3_col3,#T_d4277014_dfee_11eb_883e_0242ac1c0002row4_col4,#T_d4277014_dfee_11eb_883e_0242ac1c0002row5_col5,#T_d4277014_dfee_11eb_883e_0242ac1c0002row6_col6,#T_d4277014_dfee_11eb_883e_0242ac1c0002row7_col7,#T_d4277014_dfee_11eb_883e_0242ac1c0002row8_col8,#T_d4277014_dfee_11eb_883e_0242ac1c0002row9_col9,#T_d4277014_dfee_11eb_883e_0242ac1c0002row10_col10{\n",
              "            background-color:  #67001f;\n",
              "            color:  #f1f1f1;\n",
              "        }#T_d4277014_dfee_11eb_883e_0242ac1c0002row0_col1,#T_d4277014_dfee_11eb_883e_0242ac1c0002row2_col1,#T_d4277014_dfee_11eb_883e_0242ac1c0002row5_col3,#T_d4277014_dfee_11eb_883e_0242ac1c0002row9_col1,#T_d4277014_dfee_11eb_883e_0242ac1c0002row10_col5{\n",
              "            background-color:  #0a3b70;\n",
              "            color:  #f1f1f1;\n",
              "        }#T_d4277014_dfee_11eb_883e_0242ac1c0002row0_col2,#T_d4277014_dfee_11eb_883e_0242ac1c0002row1_col0,#T_d4277014_dfee_11eb_883e_0242ac1c0002row2_col0,#T_d4277014_dfee_11eb_883e_0242ac1c0002row4_col1,#T_d4277014_dfee_11eb_883e_0242ac1c0002row5_col0,#T_d4277014_dfee_11eb_883e_0242ac1c0002row7_col0,#T_d4277014_dfee_11eb_883e_0242ac1c0002row9_col2{\n",
              "            background-color:  #063264;\n",
              "            color:  #f1f1f1;\n",
              "        }#T_d4277014_dfee_11eb_883e_0242ac1c0002row0_col3{\n",
              "            background-color:  #15508d;\n",
              "            color:  #f1f1f1;\n",
              "        }#T_d4277014_dfee_11eb_883e_0242ac1c0002row0_col4,#T_d4277014_dfee_11eb_883e_0242ac1c0002row7_col4,#T_d4277014_dfee_11eb_883e_0242ac1c0002row9_col4{\n",
              "            background-color:  #3783bb;\n",
              "            color:  #000000;\n",
              "        }#T_d4277014_dfee_11eb_883e_0242ac1c0002row0_col5,#T_d4277014_dfee_11eb_883e_0242ac1c0002row1_col10{\n",
              "            background-color:  #3885bc;\n",
              "            color:  #000000;\n",
              "        }#T_d4277014_dfee_11eb_883e_0242ac1c0002row0_col6,#T_d4277014_dfee_11eb_883e_0242ac1c0002row1_col6{\n",
              "            background-color:  #1c5c9f;\n",
              "            color:  #f1f1f1;\n",
              "        }#T_d4277014_dfee_11eb_883e_0242ac1c0002row0_col7,#T_d4277014_dfee_11eb_883e_0242ac1c0002row0_col9,#T_d4277014_dfee_11eb_883e_0242ac1c0002row1_col9,#T_d4277014_dfee_11eb_883e_0242ac1c0002row2_col9,#T_d4277014_dfee_11eb_883e_0242ac1c0002row4_col9,#T_d4277014_dfee_11eb_883e_0242ac1c0002row8_col9{\n",
              "            background-color:  #246aae;\n",
              "            color:  #f1f1f1;\n",
              "        }#T_d4277014_dfee_11eb_883e_0242ac1c0002row0_col8,#T_d4277014_dfee_11eb_883e_0242ac1c0002row1_col8,#T_d4277014_dfee_11eb_883e_0242ac1c0002row2_col8,#T_d4277014_dfee_11eb_883e_0242ac1c0002row6_col2,#T_d4277014_dfee_11eb_883e_0242ac1c0002row10_col8{\n",
              "            background-color:  #0d3f76;\n",
              "            color:  #f1f1f1;\n",
              "        }#T_d4277014_dfee_11eb_883e_0242ac1c0002row0_col10,#T_d4277014_dfee_11eb_883e_0242ac1c0002row8_col10{\n",
              "            background-color:  #307ab6;\n",
              "            color:  #000000;\n",
              "        }#T_d4277014_dfee_11eb_883e_0242ac1c0002row1_col2{\n",
              "            background-color:  #073467;\n",
              "            color:  #f1f1f1;\n",
              "        }#T_d4277014_dfee_11eb_883e_0242ac1c0002row1_col3{\n",
              "            background-color:  #114781;\n",
              "            color:  #f1f1f1;\n",
              "        }#T_d4277014_dfee_11eb_883e_0242ac1c0002row1_col4,#T_d4277014_dfee_11eb_883e_0242ac1c0002row6_col4{\n",
              "            background-color:  #3480b9;\n",
              "            color:  #000000;\n",
              "        }#T_d4277014_dfee_11eb_883e_0242ac1c0002row1_col5{\n",
              "            background-color:  #3b88be;\n",
              "            color:  #000000;\n",
              "        }#T_d4277014_dfee_11eb_883e_0242ac1c0002row1_col7,#T_d4277014_dfee_11eb_883e_0242ac1c0002row2_col6,#T_d4277014_dfee_11eb_883e_0242ac1c0002row2_col7,#T_d4277014_dfee_11eb_883e_0242ac1c0002row4_col7{\n",
              "            background-color:  #2369ad;\n",
              "            color:  #f1f1f1;\n",
              "        }#T_d4277014_dfee_11eb_883e_0242ac1c0002row2_col3{\n",
              "            background-color:  #a9d1e5;\n",
              "            color:  #000000;\n",
              "        }#T_d4277014_dfee_11eb_883e_0242ac1c0002row2_col4{\n",
              "            background-color:  #cce2ef;\n",
              "            color:  #000000;\n",
              "        }#T_d4277014_dfee_11eb_883e_0242ac1c0002row2_col5{\n",
              "            background-color:  #4f9bc7;\n",
              "            color:  #000000;\n",
              "        }#T_d4277014_dfee_11eb_883e_0242ac1c0002row2_col10{\n",
              "            background-color:  #2f79b5;\n",
              "            color:  #000000;\n",
              "        }#T_d4277014_dfee_11eb_883e_0242ac1c0002row3_col0,#T_d4277014_dfee_11eb_883e_0242ac1c0002row3_col1,#T_d4277014_dfee_11eb_883e_0242ac1c0002row4_col0,#T_d4277014_dfee_11eb_883e_0242ac1c0002row4_col5,#T_d4277014_dfee_11eb_883e_0242ac1c0002row5_col4,#T_d4277014_dfee_11eb_883e_0242ac1c0002row5_col6,#T_d4277014_dfee_11eb_883e_0242ac1c0002row5_col10,#T_d4277014_dfee_11eb_883e_0242ac1c0002row6_col0,#T_d4277014_dfee_11eb_883e_0242ac1c0002row6_col8,#T_d4277014_dfee_11eb_883e_0242ac1c0002row7_col2,#T_d4277014_dfee_11eb_883e_0242ac1c0002row7_col9,#T_d4277014_dfee_11eb_883e_0242ac1c0002row8_col0,#T_d4277014_dfee_11eb_883e_0242ac1c0002row8_col2,#T_d4277014_dfee_11eb_883e_0242ac1c0002row9_col0,#T_d4277014_dfee_11eb_883e_0242ac1c0002row9_col7,#T_d4277014_dfee_11eb_883e_0242ac1c0002row10_col0,#T_d4277014_dfee_11eb_883e_0242ac1c0002row10_col2,#T_d4277014_dfee_11eb_883e_0242ac1c0002row10_col3{\n",
              "            background-color:  #053061;\n",
              "            color:  #f1f1f1;\n",
              "        }#T_d4277014_dfee_11eb_883e_0242ac1c0002row3_col2{\n",
              "            background-color:  #8dc2dc;\n",
              "            color:  #000000;\n",
              "        }#T_d4277014_dfee_11eb_883e_0242ac1c0002row3_col4{\n",
              "            background-color:  #e37e64;\n",
              "            color:  #000000;\n",
              "        }#T_d4277014_dfee_11eb_883e_0242ac1c0002row3_col5{\n",
              "            background-color:  #2b73b3;\n",
              "            color:  #000000;\n",
              "        }#T_d4277014_dfee_11eb_883e_0242ac1c0002row3_col6,#T_d4277014_dfee_11eb_883e_0242ac1c0002row3_col7{\n",
              "            background-color:  #2065ab;\n",
              "            color:  #f1f1f1;\n",
              "        }#T_d4277014_dfee_11eb_883e_0242ac1c0002row3_col8,#T_d4277014_dfee_11eb_883e_0242ac1c0002row4_col8,#T_d4277014_dfee_11eb_883e_0242ac1c0002row6_col1,#T_d4277014_dfee_11eb_883e_0242ac1c0002row7_col1,#T_d4277014_dfee_11eb_883e_0242ac1c0002row8_col1{\n",
              "            background-color:  #09386d;\n",
              "            color:  #f1f1f1;\n",
              "        }#T_d4277014_dfee_11eb_883e_0242ac1c0002row3_col9,#T_d4277014_dfee_11eb_883e_0242ac1c0002row6_col9,#T_d4277014_dfee_11eb_883e_0242ac1c0002row8_col7{\n",
              "            background-color:  #266caf;\n",
              "            color:  #f1f1f1;\n",
              "        }#T_d4277014_dfee_11eb_883e_0242ac1c0002row3_col10,#T_d4277014_dfee_11eb_883e_0242ac1c0002row6_col5{\n",
              "            background-color:  #1e61a5;\n",
              "            color:  #f1f1f1;\n",
              "        }#T_d4277014_dfee_11eb_883e_0242ac1c0002row4_col2{\n",
              "            background-color:  #7eb8d7;\n",
              "            color:  #000000;\n",
              "        }#T_d4277014_dfee_11eb_883e_0242ac1c0002row4_col3{\n",
              "            background-color:  #ec9374;\n",
              "            color:  #000000;\n",
              "        }#T_d4277014_dfee_11eb_883e_0242ac1c0002row4_col6{\n",
              "            background-color:  #1a5899;\n",
              "            color:  #f1f1f1;\n",
              "        }#T_d4277014_dfee_11eb_883e_0242ac1c0002row4_col10,#T_d4277014_dfee_11eb_883e_0242ac1c0002row6_col10,#T_d4277014_dfee_11eb_883e_0242ac1c0002row9_col10{\n",
              "            background-color:  #2c75b4;\n",
              "            color:  #000000;\n",
              "        }#T_d4277014_dfee_11eb_883e_0242ac1c0002row5_col1,#T_d4277014_dfee_11eb_883e_0242ac1c0002row9_col8{\n",
              "            background-color:  #0e4179;\n",
              "            color:  #f1f1f1;\n",
              "        }#T_d4277014_dfee_11eb_883e_0242ac1c0002row5_col2{\n",
              "            background-color:  #175290;\n",
              "            color:  #f1f1f1;\n",
              "        }#T_d4277014_dfee_11eb_883e_0242ac1c0002row5_col7,#T_d4277014_dfee_11eb_883e_0242ac1c0002row6_col7,#T_d4277014_dfee_11eb_883e_0242ac1c0002row10_col9{\n",
              "            background-color:  #1f63a8;\n",
              "            color:  #f1f1f1;\n",
              "        }#T_d4277014_dfee_11eb_883e_0242ac1c0002row5_col8{\n",
              "            background-color:  #0c3d73;\n",
              "            color:  #f1f1f1;\n",
              "        }#T_d4277014_dfee_11eb_883e_0242ac1c0002row5_col9,#T_d4277014_dfee_11eb_883e_0242ac1c0002row8_col4,#T_d4277014_dfee_11eb_883e_0242ac1c0002row10_col4{\n",
              "            background-color:  #337eb8;\n",
              "            color:  #000000;\n",
              "        }#T_d4277014_dfee_11eb_883e_0242ac1c0002row6_col3{\n",
              "            background-color:  #1b5a9c;\n",
              "            color:  #f1f1f1;\n",
              "        }#T_d4277014_dfee_11eb_883e_0242ac1c0002row7_col3,#T_d4277014_dfee_11eb_883e_0242ac1c0002row8_col6{\n",
              "            background-color:  #134c87;\n",
              "            color:  #f1f1f1;\n",
              "        }#T_d4277014_dfee_11eb_883e_0242ac1c0002row7_col5{\n",
              "            background-color:  #327cb7;\n",
              "            color:  #000000;\n",
              "        }#T_d4277014_dfee_11eb_883e_0242ac1c0002row7_col6,#T_d4277014_dfee_11eb_883e_0242ac1c0002row10_col6{\n",
              "            background-color:  #195696;\n",
              "            color:  #f1f1f1;\n",
              "        }#T_d4277014_dfee_11eb_883e_0242ac1c0002row7_col8{\n",
              "            background-color:  #0f437b;\n",
              "            color:  #f1f1f1;\n",
              "        }#T_d4277014_dfee_11eb_883e_0242ac1c0002row7_col10,#T_d4277014_dfee_11eb_883e_0242ac1c0002row8_col5{\n",
              "            background-color:  #3681ba;\n",
              "            color:  #000000;\n",
              "        }#T_d4277014_dfee_11eb_883e_0242ac1c0002row8_col3{\n",
              "            background-color:  #124984;\n",
              "            color:  #f1f1f1;\n",
              "        }#T_d4277014_dfee_11eb_883e_0242ac1c0002row9_col3{\n",
              "            background-color:  #185493;\n",
              "            color:  #f1f1f1;\n",
              "        }#T_d4277014_dfee_11eb_883e_0242ac1c0002row9_col5{\n",
              "            background-color:  #4997c5;\n",
              "            color:  #000000;\n",
              "        }#T_d4277014_dfee_11eb_883e_0242ac1c0002row9_col6{\n",
              "            background-color:  #1d5fa2;\n",
              "            color:  #f1f1f1;\n",
              "        }#T_d4277014_dfee_11eb_883e_0242ac1c0002row10_col1{\n",
              "            background-color:  #10457e;\n",
              "            color:  #f1f1f1;\n",
              "        }#T_d4277014_dfee_11eb_883e_0242ac1c0002row10_col7{\n",
              "            background-color:  #2a71b2;\n",
              "            color:  #f1f1f1;\n",
              "        }</style><table id=\"T_d4277014_dfee_11eb_883e_0242ac1c0002\" ><thead>    <tr>        <th class=\"blank level0\" ></th>        <th class=\"col_heading level0 col0\" >index</th>        <th class=\"col_heading level0 col1\" >goal</th>        <th class=\"col_heading level0 col2\" >pledged</th>        <th class=\"col_heading level0 col3\" >backers</th>        <th class=\"col_heading level0 col4\" >usd pledged</th>        <th class=\"col_heading level0 col5\" >year</th>        <th class=\"col_heading level0 col6\" >month</th>        <th class=\"col_heading level0 col7\" >dayofweek</th>        <th class=\"col_heading level0 col8\" >day</th>        <th class=\"col_heading level0 col9\" >hour</th>        <th class=\"col_heading level0 col10\" >duration</th>    </tr></thead><tbody>\n",
              "                <tr>\n",
              "                        <th id=\"T_d4277014_dfee_11eb_883e_0242ac1c0002level0_row0\" class=\"row_heading level0 row0\" >index</th>\n",
              "                        <td id=\"T_d4277014_dfee_11eb_883e_0242ac1c0002row0_col0\" class=\"data row0 col0\" >1.000000</td>\n",
              "                        <td id=\"T_d4277014_dfee_11eb_883e_0242ac1c0002row0_col1\" class=\"data row0 col1\" >0.004214</td>\n",
              "                        <td id=\"T_d4277014_dfee_11eb_883e_0242ac1c0002row0_col2\" class=\"data row0 col2\" >0.001886</td>\n",
              "                        <td id=\"T_d4277014_dfee_11eb_883e_0242ac1c0002row0_col3\" class=\"data row0 col3\" >-0.000374</td>\n",
              "                        <td id=\"T_d4277014_dfee_11eb_883e_0242ac1c0002row0_col4\" class=\"data row0 col4\" >-0.001079</td>\n",
              "                        <td id=\"T_d4277014_dfee_11eb_883e_0242ac1c0002row0_col5\" class=\"data row0 col5\" >0.001893</td>\n",
              "                        <td id=\"T_d4277014_dfee_11eb_883e_0242ac1c0002row0_col6\" class=\"data row0 col6\" >-0.000220</td>\n",
              "                        <td id=\"T_d4277014_dfee_11eb_883e_0242ac1c0002row0_col7\" class=\"data row0 col7\" >0.002814</td>\n",
              "                        <td id=\"T_d4277014_dfee_11eb_883e_0242ac1c0002row0_col8\" class=\"data row0 col8\" >-0.001133</td>\n",
              "                        <td id=\"T_d4277014_dfee_11eb_883e_0242ac1c0002row0_col9\" class=\"data row0 col9\" >-0.001098</td>\n",
              "                        <td id=\"T_d4277014_dfee_11eb_883e_0242ac1c0002row0_col10\" class=\"data row0 col10\" >-0.003305</td>\n",
              "            </tr>\n",
              "            <tr>\n",
              "                        <th id=\"T_d4277014_dfee_11eb_883e_0242ac1c0002level0_row1\" class=\"row_heading level0 row1\" >goal</th>\n",
              "                        <td id=\"T_d4277014_dfee_11eb_883e_0242ac1c0002row1_col0\" class=\"data row1 col0\" >0.004214</td>\n",
              "                        <td id=\"T_d4277014_dfee_11eb_883e_0242ac1c0002row1_col1\" class=\"data row1 col1\" >1.000000</td>\n",
              "                        <td id=\"T_d4277014_dfee_11eb_883e_0242ac1c0002row1_col2\" class=\"data row1 col2\" >0.004357</td>\n",
              "                        <td id=\"T_d4277014_dfee_11eb_883e_0242ac1c0002row1_col3\" class=\"data row1 col3\" >-0.019142</td>\n",
              "                        <td id=\"T_d4277014_dfee_11eb_883e_0242ac1c0002row1_col4\" class=\"data row1 col4\" >-0.012499</td>\n",
              "                        <td id=\"T_d4277014_dfee_11eb_883e_0242ac1c0002row1_col5\" class=\"data row1 col5\" >0.014728</td>\n",
              "                        <td id=\"T_d4277014_dfee_11eb_883e_0242ac1c0002row1_col6\" class=\"data row1 col6\" >-0.000310</td>\n",
              "                        <td id=\"T_d4277014_dfee_11eb_883e_0242ac1c0002row1_col7\" class=\"data row1 col7\" >-0.001395</td>\n",
              "                        <td id=\"T_d4277014_dfee_11eb_883e_0242ac1c0002row1_col8\" class=\"data row1 col8\" >-0.003111</td>\n",
              "                        <td id=\"T_d4277014_dfee_11eb_883e_0242ac1c0002row1_col9\" class=\"data row1 col9\" >0.002269</td>\n",
              "                        <td id=\"T_d4277014_dfee_11eb_883e_0242ac1c0002row1_col10\" class=\"data row1 col10\" >0.024479</td>\n",
              "            </tr>\n",
              "            <tr>\n",
              "                        <th id=\"T_d4277014_dfee_11eb_883e_0242ac1c0002level0_row2\" class=\"row_heading level0 row2\" >pledged</th>\n",
              "                        <td id=\"T_d4277014_dfee_11eb_883e_0242ac1c0002row2_col0\" class=\"data row2 col0\" >0.001886</td>\n",
              "                        <td id=\"T_d4277014_dfee_11eb_883e_0242ac1c0002row2_col1\" class=\"data row2 col1\" >0.004357</td>\n",
              "                        <td id=\"T_d4277014_dfee_11eb_883e_0242ac1c0002row2_col2\" class=\"data row2 col2\" >1.000000</td>\n",
              "                        <td id=\"T_d4277014_dfee_11eb_883e_0242ac1c0002row2_col3\" class=\"data row2 col3\" >0.293486</td>\n",
              "                        <td id=\"T_d4277014_dfee_11eb_883e_0242ac1c0002row2_col4\" class=\"data row2 col4\" >0.272531</td>\n",
              "                        <td id=\"T_d4277014_dfee_11eb_883e_0242ac1c0002row2_col5\" class=\"data row2 col5\" >0.059162</td>\n",
              "                        <td id=\"T_d4277014_dfee_11eb_883e_0242ac1c0002row2_col6\" class=\"data row2 col6\" >0.023819</td>\n",
              "                        <td id=\"T_d4277014_dfee_11eb_883e_0242ac1c0002row2_col7\" class=\"data row2 col7\" >-0.004521</td>\n",
              "                        <td id=\"T_d4277014_dfee_11eb_883e_0242ac1c0002row2_col8\" class=\"data row2 col8\" >-0.001685</td>\n",
              "                        <td id=\"T_d4277014_dfee_11eb_883e_0242ac1c0002row2_col9\" class=\"data row2 col9\" >0.000489</td>\n",
              "                        <td id=\"T_d4277014_dfee_11eb_883e_0242ac1c0002row2_col10\" class=\"data row2 col10\" >-0.003877</td>\n",
              "            </tr>\n",
              "            <tr>\n",
              "                        <th id=\"T_d4277014_dfee_11eb_883e_0242ac1c0002level0_row3\" class=\"row_heading level0 row3\" >backers</th>\n",
              "                        <td id=\"T_d4277014_dfee_11eb_883e_0242ac1c0002row3_col0\" class=\"data row3 col0\" >-0.000374</td>\n",
              "                        <td id=\"T_d4277014_dfee_11eb_883e_0242ac1c0002row3_col1\" class=\"data row3 col1\" >-0.019142</td>\n",
              "                        <td id=\"T_d4277014_dfee_11eb_883e_0242ac1c0002row3_col2\" class=\"data row3 col2\" >0.293486</td>\n",
              "                        <td id=\"T_d4277014_dfee_11eb_883e_0242ac1c0002row3_col3\" class=\"data row3 col3\" >1.000000</td>\n",
              "                        <td id=\"T_d4277014_dfee_11eb_883e_0242ac1c0002row3_col4\" class=\"data row3 col4\" >0.706747</td>\n",
              "                        <td id=\"T_d4277014_dfee_11eb_883e_0242ac1c0002row3_col5\" class=\"data row3 col5\" >-0.044783</td>\n",
              "                        <td id=\"T_d4277014_dfee_11eb_883e_0242ac1c0002row3_col6\" class=\"data row3 col6\" >0.016472</td>\n",
              "                        <td id=\"T_d4277014_dfee_11eb_883e_0242ac1c0002row3_col7\" class=\"data row3 col7\" >-0.010434</td>\n",
              "                        <td id=\"T_d4277014_dfee_11eb_883e_0242ac1c0002row3_col8\" class=\"data row3 col8\" >-0.015268</td>\n",
              "                        <td id=\"T_d4277014_dfee_11eb_883e_0242ac1c0002row3_col9\" class=\"data row3 col9\" >0.005604</td>\n",
              "                        <td id=\"T_d4277014_dfee_11eb_883e_0242ac1c0002row3_col10\" class=\"data row3 col10\" >-0.066906</td>\n",
              "            </tr>\n",
              "            <tr>\n",
              "                        <th id=\"T_d4277014_dfee_11eb_883e_0242ac1c0002level0_row4\" class=\"row_heading level0 row4\" >usd pledged</th>\n",
              "                        <td id=\"T_d4277014_dfee_11eb_883e_0242ac1c0002row4_col0\" class=\"data row4 col0\" >-0.001079</td>\n",
              "                        <td id=\"T_d4277014_dfee_11eb_883e_0242ac1c0002row4_col1\" class=\"data row4 col1\" >-0.012499</td>\n",
              "                        <td id=\"T_d4277014_dfee_11eb_883e_0242ac1c0002row4_col2\" class=\"data row4 col2\" >0.272531</td>\n",
              "                        <td id=\"T_d4277014_dfee_11eb_883e_0242ac1c0002row4_col3\" class=\"data row4 col3\" >0.706747</td>\n",
              "                        <td id=\"T_d4277014_dfee_11eb_883e_0242ac1c0002row4_col4\" class=\"data row4 col4\" >1.000000</td>\n",
              "                        <td id=\"T_d4277014_dfee_11eb_883e_0242ac1c0002row4_col5\" class=\"data row4 col5\" >-0.200821</td>\n",
              "                        <td id=\"T_d4277014_dfee_11eb_883e_0242ac1c0002row4_col6\" class=\"data row4 col6\" >-0.009729</td>\n",
              "                        <td id=\"T_d4277014_dfee_11eb_883e_0242ac1c0002row4_col7\" class=\"data row4 col7\" >-0.002332</td>\n",
              "                        <td id=\"T_d4277014_dfee_11eb_883e_0242ac1c0002row4_col8\" class=\"data row4 col8\" >-0.014473</td>\n",
              "                        <td id=\"T_d4277014_dfee_11eb_883e_0242ac1c0002row4_col9\" class=\"data row4 col9\" >0.000059</td>\n",
              "                        <td id=\"T_d4277014_dfee_11eb_883e_0242ac1c0002row4_col10\" class=\"data row4 col10\" >-0.013399</td>\n",
              "            </tr>\n",
              "            <tr>\n",
              "                        <th id=\"T_d4277014_dfee_11eb_883e_0242ac1c0002level0_row5\" class=\"row_heading level0 row5\" >year</th>\n",
              "                        <td id=\"T_d4277014_dfee_11eb_883e_0242ac1c0002row5_col0\" class=\"data row5 col0\" >0.001893</td>\n",
              "                        <td id=\"T_d4277014_dfee_11eb_883e_0242ac1c0002row5_col1\" class=\"data row5 col1\" >0.014728</td>\n",
              "                        <td id=\"T_d4277014_dfee_11eb_883e_0242ac1c0002row5_col2\" class=\"data row5 col2\" >0.059162</td>\n",
              "                        <td id=\"T_d4277014_dfee_11eb_883e_0242ac1c0002row5_col3\" class=\"data row5 col3\" >-0.044783</td>\n",
              "                        <td id=\"T_d4277014_dfee_11eb_883e_0242ac1c0002row5_col4\" class=\"data row5 col4\" >-0.200821</td>\n",
              "                        <td id=\"T_d4277014_dfee_11eb_883e_0242ac1c0002row5_col5\" class=\"data row5 col5\" >1.000000</td>\n",
              "                        <td id=\"T_d4277014_dfee_11eb_883e_0242ac1c0002row5_col6\" class=\"data row5 col6\" >-0.091849</td>\n",
              "                        <td id=\"T_d4277014_dfee_11eb_883e_0242ac1c0002row5_col7\" class=\"data row5 col7\" >-0.018560</td>\n",
              "                        <td id=\"T_d4277014_dfee_11eb_883e_0242ac1c0002row5_col8\" class=\"data row5 col8\" >-0.006501</td>\n",
              "                        <td id=\"T_d4277014_dfee_11eb_883e_0242ac1c0002row5_col9\" class=\"data row5 col9\" >0.050797</td>\n",
              "                        <td id=\"T_d4277014_dfee_11eb_883e_0242ac1c0002row5_col10\" class=\"data row5 col10\" >-0.173436</td>\n",
              "            </tr>\n",
              "            <tr>\n",
              "                        <th id=\"T_d4277014_dfee_11eb_883e_0242ac1c0002level0_row6\" class=\"row_heading level0 row6\" >month</th>\n",
              "                        <td id=\"T_d4277014_dfee_11eb_883e_0242ac1c0002row6_col0\" class=\"data row6 col0\" >-0.000220</td>\n",
              "                        <td id=\"T_d4277014_dfee_11eb_883e_0242ac1c0002row6_col1\" class=\"data row6 col1\" >-0.000310</td>\n",
              "                        <td id=\"T_d4277014_dfee_11eb_883e_0242ac1c0002row6_col2\" class=\"data row6 col2\" >0.023819</td>\n",
              "                        <td id=\"T_d4277014_dfee_11eb_883e_0242ac1c0002row6_col3\" class=\"data row6 col3\" >0.016472</td>\n",
              "                        <td id=\"T_d4277014_dfee_11eb_883e_0242ac1c0002row6_col4\" class=\"data row6 col4\" >-0.009729</td>\n",
              "                        <td id=\"T_d4277014_dfee_11eb_883e_0242ac1c0002row6_col5\" class=\"data row6 col5\" >-0.091849</td>\n",
              "                        <td id=\"T_d4277014_dfee_11eb_883e_0242ac1c0002row6_col6\" class=\"data row6 col6\" >1.000000</td>\n",
              "                        <td id=\"T_d4277014_dfee_11eb_883e_0242ac1c0002row6_col7\" class=\"data row6 col7\" >-0.014793</td>\n",
              "                        <td id=\"T_d4277014_dfee_11eb_883e_0242ac1c0002row6_col8\" class=\"data row6 col8\" >-0.033247</td>\n",
              "                        <td id=\"T_d4277014_dfee_11eb_883e_0242ac1c0002row6_col9\" class=\"data row6 col9\" >0.006033</td>\n",
              "                        <td id=\"T_d4277014_dfee_11eb_883e_0242ac1c0002row6_col10\" class=\"data row6 col10\" >-0.013169</td>\n",
              "            </tr>\n",
              "            <tr>\n",
              "                        <th id=\"T_d4277014_dfee_11eb_883e_0242ac1c0002level0_row7\" class=\"row_heading level0 row7\" >dayofweek</th>\n",
              "                        <td id=\"T_d4277014_dfee_11eb_883e_0242ac1c0002row7_col0\" class=\"data row7 col0\" >0.002814</td>\n",
              "                        <td id=\"T_d4277014_dfee_11eb_883e_0242ac1c0002row7_col1\" class=\"data row7 col1\" >-0.001395</td>\n",
              "                        <td id=\"T_d4277014_dfee_11eb_883e_0242ac1c0002row7_col2\" class=\"data row7 col2\" >-0.004521</td>\n",
              "                        <td id=\"T_d4277014_dfee_11eb_883e_0242ac1c0002row7_col3\" class=\"data row7 col3\" >-0.010434</td>\n",
              "                        <td id=\"T_d4277014_dfee_11eb_883e_0242ac1c0002row7_col4\" class=\"data row7 col4\" >-0.002332</td>\n",
              "                        <td id=\"T_d4277014_dfee_11eb_883e_0242ac1c0002row7_col5\" class=\"data row7 col5\" >-0.018560</td>\n",
              "                        <td id=\"T_d4277014_dfee_11eb_883e_0242ac1c0002row7_col6\" class=\"data row7 col6\" >-0.014793</td>\n",
              "                        <td id=\"T_d4277014_dfee_11eb_883e_0242ac1c0002row7_col7\" class=\"data row7 col7\" >1.000000</td>\n",
              "                        <td id=\"T_d4277014_dfee_11eb_883e_0242ac1c0002row7_col8\" class=\"data row7 col8\" >0.004448</td>\n",
              "                        <td id=\"T_d4277014_dfee_11eb_883e_0242ac1c0002row7_col9\" class=\"data row7 col9\" >-0.124140</td>\n",
              "                        <td id=\"T_d4277014_dfee_11eb_883e_0242ac1c0002row7_col10\" class=\"data row7 col10\" >0.016539</td>\n",
              "            </tr>\n",
              "            <tr>\n",
              "                        <th id=\"T_d4277014_dfee_11eb_883e_0242ac1c0002level0_row8\" class=\"row_heading level0 row8\" >day</th>\n",
              "                        <td id=\"T_d4277014_dfee_11eb_883e_0242ac1c0002row8_col0\" class=\"data row8 col0\" >-0.001133</td>\n",
              "                        <td id=\"T_d4277014_dfee_11eb_883e_0242ac1c0002row8_col1\" class=\"data row8 col1\" >-0.003111</td>\n",
              "                        <td id=\"T_d4277014_dfee_11eb_883e_0242ac1c0002row8_col2\" class=\"data row8 col2\" >-0.001685</td>\n",
              "                        <td id=\"T_d4277014_dfee_11eb_883e_0242ac1c0002row8_col3\" class=\"data row8 col3\" >-0.015268</td>\n",
              "                        <td id=\"T_d4277014_dfee_11eb_883e_0242ac1c0002row8_col4\" class=\"data row8 col4\" >-0.014473</td>\n",
              "                        <td id=\"T_d4277014_dfee_11eb_883e_0242ac1c0002row8_col5\" class=\"data row8 col5\" >-0.006501</td>\n",
              "                        <td id=\"T_d4277014_dfee_11eb_883e_0242ac1c0002row8_col6\" class=\"data row8 col6\" >-0.033247</td>\n",
              "                        <td id=\"T_d4277014_dfee_11eb_883e_0242ac1c0002row8_col7\" class=\"data row8 col7\" >0.004448</td>\n",
              "                        <td id=\"T_d4277014_dfee_11eb_883e_0242ac1c0002row8_col8\" class=\"data row8 col8\" >1.000000</td>\n",
              "                        <td id=\"T_d4277014_dfee_11eb_883e_0242ac1c0002row8_col9\" class=\"data row8 col9\" >0.002800</td>\n",
              "                        <td id=\"T_d4277014_dfee_11eb_883e_0242ac1c0002row8_col10\" class=\"data row8 col10\" >-0.003529</td>\n",
              "            </tr>\n",
              "            <tr>\n",
              "                        <th id=\"T_d4277014_dfee_11eb_883e_0242ac1c0002level0_row9\" class=\"row_heading level0 row9\" >hour</th>\n",
              "                        <td id=\"T_d4277014_dfee_11eb_883e_0242ac1c0002row9_col0\" class=\"data row9 col0\" >-0.001098</td>\n",
              "                        <td id=\"T_d4277014_dfee_11eb_883e_0242ac1c0002row9_col1\" class=\"data row9 col1\" >0.002269</td>\n",
              "                        <td id=\"T_d4277014_dfee_11eb_883e_0242ac1c0002row9_col2\" class=\"data row9 col2\" >0.000489</td>\n",
              "                        <td id=\"T_d4277014_dfee_11eb_883e_0242ac1c0002row9_col3\" class=\"data row9 col3\" >0.005604</td>\n",
              "                        <td id=\"T_d4277014_dfee_11eb_883e_0242ac1c0002row9_col4\" class=\"data row9 col4\" >0.000059</td>\n",
              "                        <td id=\"T_d4277014_dfee_11eb_883e_0242ac1c0002row9_col5\" class=\"data row9 col5\" >0.050797</td>\n",
              "                        <td id=\"T_d4277014_dfee_11eb_883e_0242ac1c0002row9_col6\" class=\"data row9 col6\" >0.006033</td>\n",
              "                        <td id=\"T_d4277014_dfee_11eb_883e_0242ac1c0002row9_col7\" class=\"data row9 col7\" >-0.124140</td>\n",
              "                        <td id=\"T_d4277014_dfee_11eb_883e_0242ac1c0002row9_col8\" class=\"data row9 col8\" >0.002800</td>\n",
              "                        <td id=\"T_d4277014_dfee_11eb_883e_0242ac1c0002row9_col9\" class=\"data row9 col9\" >1.000000</td>\n",
              "                        <td id=\"T_d4277014_dfee_11eb_883e_0242ac1c0002row9_col10\" class=\"data row9 col10\" >-0.017036</td>\n",
              "            </tr>\n",
              "            <tr>\n",
              "                        <th id=\"T_d4277014_dfee_11eb_883e_0242ac1c0002level0_row10\" class=\"row_heading level0 row10\" >duration</th>\n",
              "                        <td id=\"T_d4277014_dfee_11eb_883e_0242ac1c0002row10_col0\" class=\"data row10 col0\" >-0.003305</td>\n",
              "                        <td id=\"T_d4277014_dfee_11eb_883e_0242ac1c0002row10_col1\" class=\"data row10 col1\" >0.024479</td>\n",
              "                        <td id=\"T_d4277014_dfee_11eb_883e_0242ac1c0002row10_col2\" class=\"data row10 col2\" >-0.003877</td>\n",
              "                        <td id=\"T_d4277014_dfee_11eb_883e_0242ac1c0002row10_col3\" class=\"data row10 col3\" >-0.066906</td>\n",
              "                        <td id=\"T_d4277014_dfee_11eb_883e_0242ac1c0002row10_col4\" class=\"data row10 col4\" >-0.013399</td>\n",
              "                        <td id=\"T_d4277014_dfee_11eb_883e_0242ac1c0002row10_col5\" class=\"data row10 col5\" >-0.173436</td>\n",
              "                        <td id=\"T_d4277014_dfee_11eb_883e_0242ac1c0002row10_col6\" class=\"data row10 col6\" >-0.013169</td>\n",
              "                        <td id=\"T_d4277014_dfee_11eb_883e_0242ac1c0002row10_col7\" class=\"data row10 col7\" >0.016539</td>\n",
              "                        <td id=\"T_d4277014_dfee_11eb_883e_0242ac1c0002row10_col8\" class=\"data row10 col8\" >-0.003529</td>\n",
              "                        <td id=\"T_d4277014_dfee_11eb_883e_0242ac1c0002row10_col9\" class=\"data row10 col9\" >-0.017036</td>\n",
              "                        <td id=\"T_d4277014_dfee_11eb_883e_0242ac1c0002row10_col10\" class=\"data row10 col10\" >1.000000</td>\n",
              "            </tr>\n",
              "    </tbody></table>"
            ],
            "text/plain": [
              "<pandas.io.formats.style.Styler at 0x7fee0d829f50>"
            ]
          },
          "metadata": {
            "tags": []
          },
          "execution_count": 122
        }
      ]
    },
    {
      "cell_type": "markdown",
      "metadata": {
        "id": "7SotHZsqVE7F"
      },
      "source": [
        "# Проверка гипотез. p-value"
      ]
    },
    {
      "cell_type": "code",
      "metadata": {
        "id": "zbdoWSZI-pnQ",
        "outputId": "b29d53bc-8710-46f0-964d-93bd661b862c"
      },
      "source": [
        "kickstarter['state'].unique()"
      ],
      "execution_count": null,
      "outputs": [
        {
          "output_type": "execute_result",
          "data": {
            "text/plain": [
              "array(['failed', 'canceled', 'successful', 'live', 'suspended'],\n",
              "      dtype=object)"
            ]
          },
          "metadata": {
            "tags": []
          },
          "execution_count": 160
        }
      ]
    },
    {
      "cell_type": "markdown",
      "metadata": {
        "id": "9KkiZsae-pnR"
      },
      "source": [
        "## Классика"
      ]
    },
    {
      "cell_type": "markdown",
      "metadata": {
        "id": "pxcLWH0T-pnR"
      },
      "source": [
        "<img src='https://be5.biz/ekonomika/e008/image/pic_186.jpg'>"
      ]
    },
    {
      "cell_type": "code",
      "metadata": {
        "id": "gxZfIerdSxDP",
        "outputId": "35cfedc9-7041-4c7b-b7cf-397fcca2178f",
        "colab": {
          "base_uri": "https://localhost:8080/",
          "height": 316
        }
      },
      "source": [
        "plt.hist(kickstarter.query('country==\"CH\"')['backers'])"
      ],
      "execution_count": 124,
      "outputs": [
        {
          "output_type": "execute_result",
          "data": {
            "text/plain": [
              "(array([228.,  51.,  38.,  39.,  15.,  13.,   4.,  11.,   8.,   3.]),\n",
              " array([ 1. , 10.7, 20.4, 30.1, 39.8, 49.5, 59.2, 68.9, 78.6, 88.3, 98. ]),\n",
              " <a list of 10 Patch objects>)"
            ]
          },
          "metadata": {
            "tags": []
          },
          "execution_count": 124
        },
        {
          "output_type": "display_data",
          "data": {
            "image/png": "[encoded data removed]",
            "text/plain": [
              "<Figure size 432x288 with 1 Axes>"
            ]
          },
          "metadata": {
            "tags": [],
            "needs_background": "light"
          }
        }
      ]
    },
    {
      "cell_type": "code",
      "metadata": {
        "id": "eJAafLlAVEEU",
        "outputId": "4ec7b579-9312-414a-a58e-f53b9530d352",
        "colab": {
          "base_uri": "https://localhost:8080/"
        }
      },
      "source": [
        "st.shapiro(kickstarter.query('country==\"CH\"')['backers'])\n"
      ],
      "execution_count": 126,
      "outputs": [
        {
          "output_type": "execute_result",
          "data": {
            "text/plain": [
              "(0.7773314714431763, 3.1897780029228865e-23)"
            ]
          },
          "metadata": {
            "tags": []
          },
          "execution_count": 126
        }
      ]
    },
    {
      "cell_type": "code",
      "metadata": {
        "id": "Dc6xdtE1U4f5",
        "outputId": "859460db-01e0-4213-81c4-8ffa20beb570",
        "colab": {
          "base_uri": "https://localhost:8080/"
        }
      },
      "source": [
        "st.kstest(kickstarter.query('country==\"CH\"')['backers'], 'norm')"
      ],
      "execution_count": 127,
      "outputs": [
        {
          "output_type": "execute_result",
          "data": {
            "text/plain": [
              "KstestResult(statistic=0.8413447460685429, pvalue=0.0)"
            ]
          },
          "metadata": {
            "tags": []
          },
          "execution_count": 127
        }
      ]
    },
    {
      "cell_type": "code",
      "metadata": {
        "id": "kw4tqORqUN9N",
        "outputId": "4023fc28-1a84-41de-eed9-40d28ea162f4"
      },
      "source": [
        "p_value"
      ],
      "execution_count": null,
      "outputs": [
        {
          "output_type": "execute_result",
          "data": {
            "text/plain": [
              "2.884308735963735e-28"
            ]
          },
          "metadata": {
            "tags": []
          },
          "execution_count": 105
        }
      ]
    },
    {
      "cell_type": "markdown",
      "metadata": {
        "id": "Ut8YYC6D-pnR"
      },
      "source": [
        "<img src='https://avatars.mds.yandex.net/get-zen_doc/4756594/pub_6053204155586b230c35ff53_60533a299b23db779bb57d6f/scale_2400'>"
      ]
    },
    {
      "cell_type": "code",
      "metadata": {
        "id": "XEoLwDx-UkaW"
      },
      "source": [
        "results = st.mannwhitneyu(kickstarter.query('state==\"live\"')['backers'],kickstarter.query('state==\"failed\"')['backers'])"
      ],
      "execution_count": 129,
      "outputs": []
    },
    {
      "cell_type": "code",
      "metadata": {
        "id": "RLOovuGx-pnS",
        "outputId": "c962924e-d567-4c98-ad2a-7fbceed3714d",
        "colab": {
          "base_uri": "https://localhost:8080/"
        }
      },
      "source": [
        "results\n"
      ],
      "execution_count": 130,
      "outputs": [
        {
          "output_type": "execute_result",
          "data": {
            "text/plain": [
              "MannwhitneyuResult(statistic=79339895.0, pvalue=9.981100538991824e-59)"
            ]
          },
          "metadata": {
            "tags": []
          },
          "execution_count": 130
        }
      ]
    },
    {
      "cell_type": "code",
      "metadata": {
        "id": "PAjlyH13-pnS"
      },
      "source": [
        "results = st.ttest_ind(kickstarter.query('country==\"US\"')['backers'],kickstarter.query('country==\"CH\"')['backers'])"
      ],
      "execution_count": 131,
      "outputs": []
    },
    {
      "cell_type": "code",
      "metadata": {
        "id": "8HEPnLLmU5p1"
      },
      "source": [
        "results = st.ttest_ind(kickstarter.query('country==\"JP\"')['usd pledged'],kickstarter.query('country==\"CH\"')['usd pledged'])"
      ],
      "execution_count": 135,
      "outputs": []
    },
    {
      "cell_type": "code",
      "metadata": {
        "id": "RHa4OP69-pnS",
        "outputId": "be81f4b4-3d85-4c3d-923a-b67b8aff6993",
        "colab": {
          "base_uri": "https://localhost:8080/"
        }
      },
      "source": [
        "results"
      ],
      "execution_count": 136,
      "outputs": [
        {
          "output_type": "execute_result",
          "data": {
            "text/plain": [
              "Ttest_indResult(statistic=-1.5887434794470783, pvalue=0.11285499828264174)"
            ]
          },
          "metadata": {
            "tags": []
          },
          "execution_count": 136
        }
      ]
    },
    {
      "cell_type": "markdown",
      "metadata": {
        "id": "OTzQKzxN-pnS"
      },
      "source": [
        "## Бутстреп"
      ]
    },
    {
      "cell_type": "code",
      "metadata": {
        "id": "-L32bzB3-pnT"
      },
      "source": [
        "A = kickstarter.query('country==\"JP\"')['usd pledged']\n",
        "B = kickstarter.query('country==\"CH\"')['usd pledged']"
      ],
      "execution_count": 137,
      "outputs": []
    },
    {
      "cell_type": "code",
      "metadata": {
        "id": "M6x1_KaH-pnT",
        "outputId": "15cd4b53-6c15-4740-8a0a-89f915a97d33",
        "colab": {
          "base_uri": "https://localhost:8080/"
        }
      },
      "source": [
        "AB_difference = A.mean() - B.mean() \n",
        "\n",
        "\n",
        "alpha = 0.05\n",
        "    \n",
        "state = np.random.RandomState(12345)\n",
        "\n",
        "bootstrap_samples = 1000\n",
        "count = 0\n",
        "for i in range(bootstrap_samples):\n",
        "     \n",
        "    united_samples = pd.concat([A, B]) \n",
        "\n",
        "    # создайте подвыборку\n",
        "    #subsample = united_samples.sample(frac=1, replace=True,random_state=state)\n",
        "    # разбейте подвыборку пополам\n",
        "    subsample_A = A.sample(frac=0.1, replace=True,random_state=state)\n",
        "    subsample_B = B.sample(frac=0.1, replace=True,random_state=state)\n",
        "\n",
        "    # найдите разницу средних\n",
        "    bootstrap_difference = subsample_B.mean() - subsample_A.mean()\n",
        "    \n",
        "    # если разница не меньше фактической, увеличиваем счётчик\n",
        "    if bootstrap_difference >= AB_difference:\n",
        "        count += 1\n",
        "\n",
        "# p-value равно доле превышений значений\n",
        "pvalue = 1. * count / bootstrap_samples\n",
        "print('p-value =', pvalue)\n"
      ],
      "execution_count": 138,
      "outputs": [
        {
          "output_type": "stream",
          "text": [
            "p-value = 0.999\n"
          ],
          "name": "stdout"
        }
      ]
    },
    {
      "cell_type": "code",
      "metadata": {
        "id": "eZLFMj8j-pnT"
      },
      "source": [
        ""
      ],
      "execution_count": 138,
      "outputs": []
    }
  ]
}