{
 "cells": [
  {
   "cell_type": "markdown",
   "metadata": {
    "id": "IC73Rk4fJcF9"
   },
   "source": [
    "# Загрузка и предобработка данных"
   ]
  },
  {
   "cell_type": "code",
   "execution_count": 46,
   "metadata": {
    "id": "hfvvNVgmIkXZ"
   },
   "outputs": [],
   "source": [
    "import pandas as pd\n",
    "import numpy as np\n",
    "import math\n",
    "import matplotlib.pyplot as plt\n",
    "%matplotlib inline\n",
    "from scipy import stats as st"
   ]
  },
  {
   "cell_type": "code",
   "execution_count": 2,
   "metadata": {
    "colab": {
     "base_uri": "https://localhost:8080/",
     "height": 395
    },
    "id": "Wp6s3c7vJaKi",
    "outputId": "6ae29b8a-3a0b-4fd3-8f38-43f35a58b0d5"
   },
   "outputs": [],
   "source": [
    "kickstarter = pd.read_csv('kickstarter.csv') "
   ]
  },
  {
   "cell_type": "code",
   "execution_count": 3,
   "metadata": {
    "id": "gak_j2OjJbf7"
   },
   "outputs": [
    {
     "name": "stdout",
     "output_type": "stream",
     "text": [
      "<class 'pandas.core.frame.DataFrame'>\n",
      "RangeIndex: 378661 entries, 0 to 378660\n",
      "Data columns (total 17 columns):\n",
      "Unnamed: 0          378661 non-null int64\n",
      "ID                  378661 non-null int64\n",
      "name                378657 non-null object\n",
      "category            378661 non-null object\n",
      "main_category       378661 non-null object\n",
      "currency            359728 non-null object\n",
      "deadline            378661 non-null object\n",
      "goal                378661 non-null float64\n",
      "launched            378661 non-null object\n",
      "pledged             378661 non-null float64\n",
      "state               378661 non-null object\n",
      "backers             378472 non-null float64\n",
      "country             378661 non-null object\n",
      "usd pledged         374864 non-null float64\n",
      "usd_pledged_real    378661 non-null float64\n",
      "usd_goal_real       378661 non-null float64\n",
      "Unnamed             378661 non-null int64\n",
      "dtypes: float64(6), int64(3), object(8)\n",
      "memory usage: 49.1+ MB\n"
     ]
    }
   ],
   "source": [
    " kickstarter.info()"
   ]
  },
  {
   "cell_type": "code",
   "execution_count": 4,
   "metadata": {
    "id": "Y4BohE3JJxdT"
   },
   "outputs": [
    {
     "data": {
      "text/html": [
       "<div>\n",
       "<style scoped>\n",
       "    .dataframe tbody tr th:only-of-type {\n",
       "        vertical-align: middle;\n",
       "    }\n",
       "\n",
       "    .dataframe tbody tr th {\n",
       "        vertical-align: top;\n",
       "    }\n",
       "\n",
       "    .dataframe thead th {\n",
       "        text-align: right;\n",
       "    }\n",
       "</style>\n",
       "<table border=\"1\" class=\"dataframe\">\n",
       "  <thead>\n",
       "    <tr style=\"text-align: right;\">\n",
       "      <th></th>\n",
       "      <th>Unnamed: 0</th>\n",
       "      <th>ID</th>\n",
       "      <th>name</th>\n",
       "      <th>category</th>\n",
       "      <th>main_category</th>\n",
       "      <th>currency</th>\n",
       "      <th>deadline</th>\n",
       "      <th>goal</th>\n",
       "      <th>launched</th>\n",
       "      <th>pledged</th>\n",
       "      <th>state</th>\n",
       "      <th>backers</th>\n",
       "      <th>country</th>\n",
       "      <th>usd pledged</th>\n",
       "      <th>usd_pledged_real</th>\n",
       "      <th>usd_goal_real</th>\n",
       "      <th>Unnamed</th>\n",
       "    </tr>\n",
       "  </thead>\n",
       "  <tbody>\n",
       "    <tr>\n",
       "      <td>0</td>\n",
       "      <td>0</td>\n",
       "      <td>1000002330</td>\n",
       "      <td>The Songs of Adelaide &amp; Abullah</td>\n",
       "      <td>Poetry</td>\n",
       "      <td>Publishing</td>\n",
       "      <td>GBP</td>\n",
       "      <td>2015-10-09</td>\n",
       "      <td>1000.0</td>\n",
       "      <td>2015-08-11 12:12:28</td>\n",
       "      <td>0.0</td>\n",
       "      <td>failed</td>\n",
       "      <td>0.0</td>\n",
       "      <td>GB</td>\n",
       "      <td>0.0</td>\n",
       "      <td>0.0</td>\n",
       "      <td>1533.95</td>\n",
       "      <td>1000002330</td>\n",
       "    </tr>\n",
       "    <tr>\n",
       "      <td>1</td>\n",
       "      <td>1</td>\n",
       "      <td>1000003930</td>\n",
       "      <td>Greeting From Earth: ZGAC Arts Capsule For ET</td>\n",
       "      <td>Narrative Film</td>\n",
       "      <td>Film &amp; Video</td>\n",
       "      <td>USD</td>\n",
       "      <td>2017-11-01</td>\n",
       "      <td>30000.0</td>\n",
       "      <td>2017-09-02 04:43:57</td>\n",
       "      <td>2421.0</td>\n",
       "      <td>failed</td>\n",
       "      <td>15.0</td>\n",
       "      <td>US</td>\n",
       "      <td>100.0</td>\n",
       "      <td>2421.0</td>\n",
       "      <td>30000.00</td>\n",
       "      <td>1000003930</td>\n",
       "    </tr>\n",
       "    <tr>\n",
       "      <td>2</td>\n",
       "      <td>2</td>\n",
       "      <td>1000004038</td>\n",
       "      <td>Where is Hank?</td>\n",
       "      <td>Narrative Film</td>\n",
       "      <td>Film &amp; Video</td>\n",
       "      <td>NaN</td>\n",
       "      <td>2013-02-26</td>\n",
       "      <td>45000.0</td>\n",
       "      <td>2013-01-12 00:20:50</td>\n",
       "      <td>220.0</td>\n",
       "      <td>failed</td>\n",
       "      <td>3.0</td>\n",
       "      <td>US</td>\n",
       "      <td>220.0</td>\n",
       "      <td>220.0</td>\n",
       "      <td>45000.00</td>\n",
       "      <td>1000004038</td>\n",
       "    </tr>\n",
       "    <tr>\n",
       "      <td>3</td>\n",
       "      <td>3</td>\n",
       "      <td>1000007540</td>\n",
       "      <td>ToshiCapital Rekordz Needs Help to Complete Album</td>\n",
       "      <td>Music</td>\n",
       "      <td>Music</td>\n",
       "      <td>USD</td>\n",
       "      <td>2012-04-16</td>\n",
       "      <td>5000.0</td>\n",
       "      <td>2012-03-17 03:24:11</td>\n",
       "      <td>1.0</td>\n",
       "      <td>failed</td>\n",
       "      <td>1.0</td>\n",
       "      <td>US</td>\n",
       "      <td>1.0</td>\n",
       "      <td>1.0</td>\n",
       "      <td>5000.00</td>\n",
       "      <td>1000007540</td>\n",
       "    </tr>\n",
       "    <tr>\n",
       "      <td>4</td>\n",
       "      <td>4</td>\n",
       "      <td>1000011046</td>\n",
       "      <td>Community Film Project: The Art of Neighborhoo...</td>\n",
       "      <td>Film &amp; Video</td>\n",
       "      <td>Film &amp; Video</td>\n",
       "      <td>USD</td>\n",
       "      <td>2015-08-29</td>\n",
       "      <td>19500.0</td>\n",
       "      <td>2015-07-04 08:35:03</td>\n",
       "      <td>1283.0</td>\n",
       "      <td>canceled</td>\n",
       "      <td>14.0</td>\n",
       "      <td>US</td>\n",
       "      <td>1283.0</td>\n",
       "      <td>1283.0</td>\n",
       "      <td>19500.00</td>\n",
       "      <td>1000011046</td>\n",
       "    </tr>\n",
       "  </tbody>\n",
       "</table>\n",
       "</div>"
      ],
      "text/plain": [
       "   Unnamed: 0          ID                                               name  \\\n",
       "0           0  1000002330                    The Songs of Adelaide & Abullah   \n",
       "1           1  1000003930      Greeting From Earth: ZGAC Arts Capsule For ET   \n",
       "2           2  1000004038                                     Where is Hank?   \n",
       "3           3  1000007540  ToshiCapital Rekordz Needs Help to Complete Album   \n",
       "4           4  1000011046  Community Film Project: The Art of Neighborhoo...   \n",
       "\n",
       "         category main_category currency    deadline     goal  \\\n",
       "0          Poetry    Publishing      GBP  2015-10-09   1000.0   \n",
       "1  Narrative Film  Film & Video      USD  2017-11-01  30000.0   \n",
       "2  Narrative Film  Film & Video      NaN  2013-02-26  45000.0   \n",
       "3           Music         Music      USD  2012-04-16   5000.0   \n",
       "4    Film & Video  Film & Video      USD  2015-08-29  19500.0   \n",
       "\n",
       "              launched  pledged     state  backers country  usd pledged  \\\n",
       "0  2015-08-11 12:12:28      0.0    failed      0.0      GB          0.0   \n",
       "1  2017-09-02 04:43:57   2421.0    failed     15.0      US        100.0   \n",
       "2  2013-01-12 00:20:50    220.0    failed      3.0      US        220.0   \n",
       "3  2012-03-17 03:24:11      1.0    failed      1.0      US          1.0   \n",
       "4  2015-07-04 08:35:03   1283.0  canceled     14.0      US       1283.0   \n",
       "\n",
       "   usd_pledged_real  usd_goal_real     Unnamed  \n",
       "0               0.0        1533.95  1000002330  \n",
       "1            2421.0       30000.00  1000003930  \n",
       "2             220.0       45000.00  1000004038  \n",
       "3               1.0        5000.00  1000007540  \n",
       "4            1283.0       19500.00  1000011046  "
      ]
     },
     "execution_count": 4,
     "metadata": {},
     "output_type": "execute_result"
    }
   ],
   "source": [
    "kickstarter.head()"
   ]
  },
  {
   "cell_type": "markdown",
   "metadata": {
    "id": "8OyX5VZLJp_U"
   },
   "source": [
    "- `Country` - страна проекта\n",
    "- `Currency` - валюта проекта\n",
    "- `ID` - идентификатор проекта\n",
    "- `Launched` - дата и время регистрации проекта\n",
    "- `Main Category` - основная категория проекта\n",
    "- `State` - статус проекта\n",
    "- `Backers` - количество спонсоров проекта\n",
    "- `Goal` - сколько нужно собрать проекту, финансовая цель\n",
    "- `Pledged` - собрано, в лоцальной валюте\n",
    "- `Usd Pledged` - собрано в доллара США"
   ]
  },
  {
   "cell_type": "code",
   "execution_count": 5,
   "metadata": {
    "id": "A_nn-bbcJkqi"
   },
   "outputs": [],
   "source": [
    " kickstarter = kickstarter.drop(columns=['ID','Unnamed: 0','Unnamed','usd_pledged_real','usd_goal_real'])"
   ]
  },
  {
   "cell_type": "code",
   "execution_count": 6,
   "metadata": {
    "id": "TgP0Rg6aJpjz"
   },
   "outputs": [
    {
     "data": {
      "text/plain": [
       "Index(['name', 'category', 'main_category', 'currency', 'deadline', 'goal',\n",
       "       'launched', 'pledged', 'state', 'backers', 'country', 'usd pledged'],\n",
       "      dtype='object')"
      ]
     },
     "execution_count": 6,
     "metadata": {},
     "output_type": "execute_result"
    }
   ],
   "source": [
    " kickstarter.columns"
   ]
  },
  {
   "cell_type": "code",
   "execution_count": 13,
   "metadata": {
    "id": "3lCFNixlKOOA"
   },
   "outputs": [
    {
     "data": {
      "text/plain": [
       "index                0\n",
       "name                 0\n",
       "category             0\n",
       "main_category        0\n",
       "currency         18762\n",
       "deadline             0\n",
       "goal                 0\n",
       "launched             0\n",
       "pledged              0\n",
       "state                0\n",
       "backers              0\n",
       "country              0\n",
       "usd pledged          0\n",
       "year                 0\n",
       "month                0\n",
       "dayofweek            0\n",
       "day                  0\n",
       "hour                 0\n",
       "duration             0\n",
       "dtype: int64"
      ]
     },
     "execution_count": 13,
     "metadata": {},
     "output_type": "execute_result"
    }
   ],
   "source": [
    "kickstarter.isna().sum()"
   ]
  },
  {
   "cell_type": "code",
   "execution_count": 8,
   "metadata": {
    "id": "7GiNtH_-KBl7"
   },
   "outputs": [],
   "source": [
    "kickstarter.dropna(subset=['name'],inplace=True)\n",
    "kickstarter.dropna(subset=['backers'],inplace=True)\n",
    "kickstarter.dropna(subset=['usd pledged'],inplace=True)"
   ]
  },
  {
   "cell_type": "code",
   "execution_count": 9,
   "metadata": {
    "id": "Y_eJeeXMKKF3"
   },
   "outputs": [],
   "source": [
    "kickstarter['launched'] = pd.to_datetime(kickstarter['launched'])\n",
    "kickstarter['deadline'] = pd.to_datetime(kickstarter['deadline'])"
   ]
  },
  {
   "cell_type": "code",
   "execution_count": 10,
   "metadata": {
    "id": "SmgA6U04KU0l"
   },
   "outputs": [],
   "source": [
    "kickstarter['year'] = kickstarter['launched'].dt.year\n",
    "kickstarter['month'] = kickstarter['launched'].dt.month\n",
    "kickstarter['dayofweek'] = kickstarter['launched'].dt.dayofweek\n",
    "kickstarter['day'] = kickstarter['launched'].dt.day\n",
    "kickstarter['hour'] = kickstarter['launched'].dt.hour"
   ]
  },
  {
   "cell_type": "code",
   "execution_count": 11,
   "metadata": {
    "id": "0Z_Vy7tpKugx"
   },
   "outputs": [],
   "source": [
    "kickstarter['duration'] = (kickstarter['deadline']-kickstarter['launched']).dt.days"
   ]
  },
  {
   "cell_type": "code",
   "execution_count": 12,
   "metadata": {
    "id": "qAlAbQBJNLSx"
   },
   "outputs": [],
   "source": [
    "kickstarter.reset_index(inplace=True)"
   ]
  },
  {
   "cell_type": "code",
   "execution_count": 14,
   "metadata": {
    "id": "jaPdtBf6MPlj"
   },
   "outputs": [],
   "source": [
    "dct = dict(zip(kickstarter['country'],kickstarter['currency']))"
   ]
  },
  {
   "cell_type": "code",
   "execution_count": 15,
   "metadata": {},
   "outputs": [
    {
     "data": {
      "text/plain": [
       "{'GB': 'GBP',\n",
       " 'US': 'USD',\n",
       " 'CA': 'CAD',\n",
       " 'AU': 'AUD',\n",
       " 'NO': 'NOK',\n",
       " 'IT': 'EUR',\n",
       " 'DE': 'EUR',\n",
       " 'IE': 'EUR',\n",
       " 'MX': 'MXN',\n",
       " 'ES': 'EUR',\n",
       " 'SE': 'SEK',\n",
       " 'FR': 'EUR',\n",
       " 'NL': 'EUR',\n",
       " 'NZ': 'NZD',\n",
       " 'CH': 'CHF',\n",
       " 'AT': 'EUR',\n",
       " 'DK': 'DKK',\n",
       " 'BE': 'EUR',\n",
       " 'HK': 'HKD',\n",
       " 'LU': 'EUR',\n",
       " 'SG': 'SGD',\n",
       " 'JP': 'JPY'}"
      ]
     },
     "execution_count": 15,
     "metadata": {},
     "output_type": "execute_result"
    }
   ],
   "source": [
    "dct"
   ]
  },
  {
   "cell_type": "code",
   "execution_count": 16,
   "metadata": {
    "id": "_AXvUWhMPHD1"
   },
   "outputs": [],
   "source": [
    "list_of_index = kickstarter[kickstarter['currency'].isna()].index"
   ]
  },
  {
   "cell_type": "code",
   "execution_count": 17,
   "metadata": {
    "id": "Y6SL2nyWPnMJ"
   },
   "outputs": [
    {
     "data": {
      "text/html": [
       "<div>\n",
       "<style scoped>\n",
       "    .dataframe tbody tr th:only-of-type {\n",
       "        vertical-align: middle;\n",
       "    }\n",
       "\n",
       "    .dataframe tbody tr th {\n",
       "        vertical-align: top;\n",
       "    }\n",
       "\n",
       "    .dataframe thead th {\n",
       "        text-align: right;\n",
       "    }\n",
       "</style>\n",
       "<table border=\"1\" class=\"dataframe\">\n",
       "  <thead>\n",
       "    <tr style=\"text-align: right;\">\n",
       "      <th></th>\n",
       "      <th>index</th>\n",
       "      <th>name</th>\n",
       "      <th>category</th>\n",
       "      <th>main_category</th>\n",
       "      <th>currency</th>\n",
       "      <th>deadline</th>\n",
       "      <th>goal</th>\n",
       "      <th>launched</th>\n",
       "      <th>pledged</th>\n",
       "      <th>state</th>\n",
       "      <th>backers</th>\n",
       "      <th>country</th>\n",
       "      <th>usd pledged</th>\n",
       "      <th>year</th>\n",
       "      <th>month</th>\n",
       "      <th>dayofweek</th>\n",
       "      <th>day</th>\n",
       "      <th>hour</th>\n",
       "      <th>duration</th>\n",
       "    </tr>\n",
       "  </thead>\n",
       "  <tbody>\n",
       "    <tr>\n",
       "      <td>2</td>\n",
       "      <td>2</td>\n",
       "      <td>Where is Hank?</td>\n",
       "      <td>Narrative Film</td>\n",
       "      <td>Film &amp; Video</td>\n",
       "      <td>NaN</td>\n",
       "      <td>2013-02-26</td>\n",
       "      <td>45000.0</td>\n",
       "      <td>2013-01-12 00:20:50</td>\n",
       "      <td>220.00</td>\n",
       "      <td>failed</td>\n",
       "      <td>3.0</td>\n",
       "      <td>US</td>\n",
       "      <td>220.00</td>\n",
       "      <td>2013</td>\n",
       "      <td>1</td>\n",
       "      <td>5</td>\n",
       "      <td>12</td>\n",
       "      <td>0</td>\n",
       "      <td>44</td>\n",
       "    </tr>\n",
       "    <tr>\n",
       "      <td>18</td>\n",
       "      <td>18</td>\n",
       "      <td>Mike Corey's Darkness &amp; Light Album</td>\n",
       "      <td>Music</td>\n",
       "      <td>Music</td>\n",
       "      <td>NaN</td>\n",
       "      <td>2012-08-17</td>\n",
       "      <td>250.0</td>\n",
       "      <td>2012-08-02 14:11:32</td>\n",
       "      <td>250.00</td>\n",
       "      <td>successful</td>\n",
       "      <td>7.0</td>\n",
       "      <td>US</td>\n",
       "      <td>250.00</td>\n",
       "      <td>2012</td>\n",
       "      <td>8</td>\n",
       "      <td>3</td>\n",
       "      <td>2</td>\n",
       "      <td>14</td>\n",
       "      <td>14</td>\n",
       "    </tr>\n",
       "    <tr>\n",
       "      <td>40</td>\n",
       "      <td>40</td>\n",
       "      <td>Unschooling To University Book Project</td>\n",
       "      <td>Nonfiction</td>\n",
       "      <td>Publishing</td>\n",
       "      <td>NaN</td>\n",
       "      <td>2018-01-19</td>\n",
       "      <td>3000.0</td>\n",
       "      <td>2017-11-20 18:15:14</td>\n",
       "      <td>592.00</td>\n",
       "      <td>live</td>\n",
       "      <td>24.0</td>\n",
       "      <td>CA</td>\n",
       "      <td>185.65</td>\n",
       "      <td>2017</td>\n",
       "      <td>11</td>\n",
       "      <td>0</td>\n",
       "      <td>20</td>\n",
       "      <td>18</td>\n",
       "      <td>59</td>\n",
       "    </tr>\n",
       "    <tr>\n",
       "      <td>53</td>\n",
       "      <td>53</td>\n",
       "      <td>A Teacher's Travels in China</td>\n",
       "      <td>Photography</td>\n",
       "      <td>Photography</td>\n",
       "      <td>NaN</td>\n",
       "      <td>2012-05-13</td>\n",
       "      <td>4000.0</td>\n",
       "      <td>2012-04-18 23:34:56</td>\n",
       "      <td>4866.17</td>\n",
       "      <td>successful</td>\n",
       "      <td>71.0</td>\n",
       "      <td>US</td>\n",
       "      <td>4866.17</td>\n",
       "      <td>2012</td>\n",
       "      <td>4</td>\n",
       "      <td>2</td>\n",
       "      <td>18</td>\n",
       "      <td>23</td>\n",
       "      <td>24</td>\n",
       "    </tr>\n",
       "    <tr>\n",
       "      <td>69</td>\n",
       "      <td>69</td>\n",
       "      <td>\"Flying\" Carpets from Azerbaijan, Iran and Tur...</td>\n",
       "      <td>Weaving</td>\n",
       "      <td>Crafts</td>\n",
       "      <td>NaN</td>\n",
       "      <td>2015-04-29</td>\n",
       "      <td>5000.0</td>\n",
       "      <td>2015-03-30 19:55:31</td>\n",
       "      <td>2.00</td>\n",
       "      <td>failed</td>\n",
       "      <td>1.0</td>\n",
       "      <td>GB</td>\n",
       "      <td>2.98</td>\n",
       "      <td>2015</td>\n",
       "      <td>3</td>\n",
       "      <td>0</td>\n",
       "      <td>30</td>\n",
       "      <td>19</td>\n",
       "      <td>29</td>\n",
       "    </tr>\n",
       "    <tr>\n",
       "      <td>...</td>\n",
       "      <td>...</td>\n",
       "      <td>...</td>\n",
       "      <td>...</td>\n",
       "      <td>...</td>\n",
       "      <td>...</td>\n",
       "      <td>...</td>\n",
       "      <td>...</td>\n",
       "      <td>...</td>\n",
       "      <td>...</td>\n",
       "      <td>...</td>\n",
       "      <td>...</td>\n",
       "      <td>...</td>\n",
       "      <td>...</td>\n",
       "      <td>...</td>\n",
       "      <td>...</td>\n",
       "      <td>...</td>\n",
       "      <td>...</td>\n",
       "      <td>...</td>\n",
       "      <td>...</td>\n",
       "    </tr>\n",
       "    <tr>\n",
       "      <td>374572</td>\n",
       "      <td>378558</td>\n",
       "      <td>A new venture, needs a new wheel.</td>\n",
       "      <td>Printing</td>\n",
       "      <td>Crafts</td>\n",
       "      <td>NaN</td>\n",
       "      <td>2017-08-13</td>\n",
       "      <td>2000.0</td>\n",
       "      <td>2017-07-13 07:49:29</td>\n",
       "      <td>2916.00</td>\n",
       "      <td>successful</td>\n",
       "      <td>60.0</td>\n",
       "      <td>GB</td>\n",
       "      <td>2237.56</td>\n",
       "      <td>2017</td>\n",
       "      <td>7</td>\n",
       "      <td>3</td>\n",
       "      <td>13</td>\n",
       "      <td>7</td>\n",
       "      <td>30</td>\n",
       "    </tr>\n",
       "    <tr>\n",
       "      <td>374635</td>\n",
       "      <td>378623</td>\n",
       "      <td>BETTER DESPERATE</td>\n",
       "      <td>Music Videos</td>\n",
       "      <td>Film &amp; Video</td>\n",
       "      <td>NaN</td>\n",
       "      <td>2016-05-07</td>\n",
       "      <td>300.0</td>\n",
       "      <td>2016-04-07 20:04:26</td>\n",
       "      <td>300.00</td>\n",
       "      <td>successful</td>\n",
       "      <td>5.0</td>\n",
       "      <td>US</td>\n",
       "      <td>300.00</td>\n",
       "      <td>2016</td>\n",
       "      <td>4</td>\n",
       "      <td>3</td>\n",
       "      <td>7</td>\n",
       "      <td>20</td>\n",
       "      <td>29</td>\n",
       "    </tr>\n",
       "    <tr>\n",
       "      <td>374643</td>\n",
       "      <td>378631</td>\n",
       "      <td>MONSTROCARDS- A Creative Drawing Game of Horri...</td>\n",
       "      <td>Playing Cards</td>\n",
       "      <td>Games</td>\n",
       "      <td>NaN</td>\n",
       "      <td>2014-10-03</td>\n",
       "      <td>10000.0</td>\n",
       "      <td>2014-09-03 19:53:50</td>\n",
       "      <td>13861.50</td>\n",
       "      <td>successful</td>\n",
       "      <td>413.0</td>\n",
       "      <td>US</td>\n",
       "      <td>13861.50</td>\n",
       "      <td>2014</td>\n",
       "      <td>9</td>\n",
       "      <td>2</td>\n",
       "      <td>3</td>\n",
       "      <td>19</td>\n",
       "      <td>29</td>\n",
       "    </tr>\n",
       "    <tr>\n",
       "      <td>374659</td>\n",
       "      <td>378647</td>\n",
       "      <td>The Cease is Increase</td>\n",
       "      <td>Nonfiction</td>\n",
       "      <td>Publishing</td>\n",
       "      <td>NaN</td>\n",
       "      <td>2012-09-14</td>\n",
       "      <td>4999.0</td>\n",
       "      <td>2012-08-15 17:11:00</td>\n",
       "      <td>980.00</td>\n",
       "      <td>failed</td>\n",
       "      <td>16.0</td>\n",
       "      <td>US</td>\n",
       "      <td>980.00</td>\n",
       "      <td>2012</td>\n",
       "      <td>8</td>\n",
       "      <td>2</td>\n",
       "      <td>15</td>\n",
       "      <td>17</td>\n",
       "      <td>29</td>\n",
       "    </tr>\n",
       "    <tr>\n",
       "      <td>374670</td>\n",
       "      <td>378658</td>\n",
       "      <td>Walls of Remedy- New lesbian Romantic Comedy f...</td>\n",
       "      <td>Narrative Film</td>\n",
       "      <td>Film &amp; Video</td>\n",
       "      <td>NaN</td>\n",
       "      <td>2010-08-16</td>\n",
       "      <td>15000.0</td>\n",
       "      <td>2010-07-01 19:40:30</td>\n",
       "      <td>20.00</td>\n",
       "      <td>failed</td>\n",
       "      <td>1.0</td>\n",
       "      <td>US</td>\n",
       "      <td>20.00</td>\n",
       "      <td>2010</td>\n",
       "      <td>7</td>\n",
       "      <td>3</td>\n",
       "      <td>1</td>\n",
       "      <td>19</td>\n",
       "      <td>45</td>\n",
       "    </tr>\n",
       "  </tbody>\n",
       "</table>\n",
       "<p>18762 rows × 19 columns</p>\n",
       "</div>"
      ],
      "text/plain": [
       "         index                                               name  \\\n",
       "2            2                                     Where is Hank?   \n",
       "18          18                Mike Corey's Darkness & Light Album   \n",
       "40          40             Unschooling To University Book Project   \n",
       "53          53                       A Teacher's Travels in China   \n",
       "69          69  \"Flying\" Carpets from Azerbaijan, Iran and Tur...   \n",
       "...        ...                                                ...   \n",
       "374572  378558                  A new venture, needs a new wheel.   \n",
       "374635  378623                                   BETTER DESPERATE   \n",
       "374643  378631  MONSTROCARDS- A Creative Drawing Game of Horri...   \n",
       "374659  378647                              The Cease is Increase   \n",
       "374670  378658  Walls of Remedy- New lesbian Romantic Comedy f...   \n",
       "\n",
       "              category main_category currency   deadline     goal  \\\n",
       "2       Narrative Film  Film & Video      NaN 2013-02-26  45000.0   \n",
       "18               Music         Music      NaN 2012-08-17    250.0   \n",
       "40          Nonfiction    Publishing      NaN 2018-01-19   3000.0   \n",
       "53         Photography   Photography      NaN 2012-05-13   4000.0   \n",
       "69             Weaving        Crafts      NaN 2015-04-29   5000.0   \n",
       "...                ...           ...      ...        ...      ...   \n",
       "374572        Printing        Crafts      NaN 2017-08-13   2000.0   \n",
       "374635    Music Videos  Film & Video      NaN 2016-05-07    300.0   \n",
       "374643   Playing Cards         Games      NaN 2014-10-03  10000.0   \n",
       "374659      Nonfiction    Publishing      NaN 2012-09-14   4999.0   \n",
       "374670  Narrative Film  Film & Video      NaN 2010-08-16  15000.0   \n",
       "\n",
       "                  launched   pledged       state  backers country  \\\n",
       "2      2013-01-12 00:20:50    220.00      failed      3.0      US   \n",
       "18     2012-08-02 14:11:32    250.00  successful      7.0      US   \n",
       "40     2017-11-20 18:15:14    592.00        live     24.0      CA   \n",
       "53     2012-04-18 23:34:56   4866.17  successful     71.0      US   \n",
       "69     2015-03-30 19:55:31      2.00      failed      1.0      GB   \n",
       "...                    ...       ...         ...      ...     ...   \n",
       "374572 2017-07-13 07:49:29   2916.00  successful     60.0      GB   \n",
       "374635 2016-04-07 20:04:26    300.00  successful      5.0      US   \n",
       "374643 2014-09-03 19:53:50  13861.50  successful    413.0      US   \n",
       "374659 2012-08-15 17:11:00    980.00      failed     16.0      US   \n",
       "374670 2010-07-01 19:40:30     20.00      failed      1.0      US   \n",
       "\n",
       "        usd pledged  year  month  dayofweek  day  hour  duration  \n",
       "2            220.00  2013      1          5   12     0        44  \n",
       "18           250.00  2012      8          3    2    14        14  \n",
       "40           185.65  2017     11          0   20    18        59  \n",
       "53          4866.17  2012      4          2   18    23        24  \n",
       "69             2.98  2015      3          0   30    19        29  \n",
       "...             ...   ...    ...        ...  ...   ...       ...  \n",
       "374572      2237.56  2017      7          3   13     7        30  \n",
       "374635       300.00  2016      4          3    7    20        29  \n",
       "374643     13861.50  2014      9          2    3    19        29  \n",
       "374659       980.00  2012      8          2   15    17        29  \n",
       "374670        20.00  2010      7          3    1    19        45  \n",
       "\n",
       "[18762 rows x 19 columns]"
      ]
     },
     "execution_count": 17,
     "metadata": {},
     "output_type": "execute_result"
    }
   ],
   "source": [
    "kickstarter.iloc[list_of_index]"
   ]
  },
  {
   "cell_type": "code",
   "execution_count": 18,
   "metadata": {
    "id": "V_2NrkTQK4CT"
   },
   "outputs": [],
   "source": [
    "kickstarter['currency'] = kickstarter.apply(lambda x: dct[x['country']] if pd.isna(x['currency']) else x['currency'],axis=1 )"
   ]
  },
  {
   "cell_type": "code",
   "execution_count": 19,
   "metadata": {
    "id": "d_b1pZZKLAqD"
   },
   "outputs": [
    {
     "data": {
      "text/html": [
       "<div>\n",
       "<style scoped>\n",
       "    .dataframe tbody tr th:only-of-type {\n",
       "        vertical-align: middle;\n",
       "    }\n",
       "\n",
       "    .dataframe tbody tr th {\n",
       "        vertical-align: top;\n",
       "    }\n",
       "\n",
       "    .dataframe thead th {\n",
       "        text-align: right;\n",
       "    }\n",
       "</style>\n",
       "<table border=\"1\" class=\"dataframe\">\n",
       "  <thead>\n",
       "    <tr style=\"text-align: right;\">\n",
       "      <th></th>\n",
       "      <th>index</th>\n",
       "      <th>name</th>\n",
       "      <th>category</th>\n",
       "      <th>main_category</th>\n",
       "      <th>currency</th>\n",
       "      <th>deadline</th>\n",
       "      <th>goal</th>\n",
       "      <th>launched</th>\n",
       "      <th>pledged</th>\n",
       "      <th>state</th>\n",
       "      <th>backers</th>\n",
       "      <th>country</th>\n",
       "      <th>usd pledged</th>\n",
       "      <th>year</th>\n",
       "      <th>month</th>\n",
       "      <th>dayofweek</th>\n",
       "      <th>day</th>\n",
       "      <th>hour</th>\n",
       "      <th>duration</th>\n",
       "    </tr>\n",
       "  </thead>\n",
       "  <tbody>\n",
       "    <tr>\n",
       "      <td>2</td>\n",
       "      <td>2</td>\n",
       "      <td>Where is Hank?</td>\n",
       "      <td>Narrative Film</td>\n",
       "      <td>Film &amp; Video</td>\n",
       "      <td>USD</td>\n",
       "      <td>2013-02-26</td>\n",
       "      <td>45000.0</td>\n",
       "      <td>2013-01-12 00:20:50</td>\n",
       "      <td>220.00</td>\n",
       "      <td>failed</td>\n",
       "      <td>3.0</td>\n",
       "      <td>US</td>\n",
       "      <td>220.00</td>\n",
       "      <td>2013</td>\n",
       "      <td>1</td>\n",
       "      <td>5</td>\n",
       "      <td>12</td>\n",
       "      <td>0</td>\n",
       "      <td>44</td>\n",
       "    </tr>\n",
       "    <tr>\n",
       "      <td>18</td>\n",
       "      <td>18</td>\n",
       "      <td>Mike Corey's Darkness &amp; Light Album</td>\n",
       "      <td>Music</td>\n",
       "      <td>Music</td>\n",
       "      <td>USD</td>\n",
       "      <td>2012-08-17</td>\n",
       "      <td>250.0</td>\n",
       "      <td>2012-08-02 14:11:32</td>\n",
       "      <td>250.00</td>\n",
       "      <td>successful</td>\n",
       "      <td>7.0</td>\n",
       "      <td>US</td>\n",
       "      <td>250.00</td>\n",
       "      <td>2012</td>\n",
       "      <td>8</td>\n",
       "      <td>3</td>\n",
       "      <td>2</td>\n",
       "      <td>14</td>\n",
       "      <td>14</td>\n",
       "    </tr>\n",
       "    <tr>\n",
       "      <td>40</td>\n",
       "      <td>40</td>\n",
       "      <td>Unschooling To University Book Project</td>\n",
       "      <td>Nonfiction</td>\n",
       "      <td>Publishing</td>\n",
       "      <td>CAD</td>\n",
       "      <td>2018-01-19</td>\n",
       "      <td>3000.0</td>\n",
       "      <td>2017-11-20 18:15:14</td>\n",
       "      <td>592.00</td>\n",
       "      <td>live</td>\n",
       "      <td>24.0</td>\n",
       "      <td>CA</td>\n",
       "      <td>185.65</td>\n",
       "      <td>2017</td>\n",
       "      <td>11</td>\n",
       "      <td>0</td>\n",
       "      <td>20</td>\n",
       "      <td>18</td>\n",
       "      <td>59</td>\n",
       "    </tr>\n",
       "    <tr>\n",
       "      <td>53</td>\n",
       "      <td>53</td>\n",
       "      <td>A Teacher's Travels in China</td>\n",
       "      <td>Photography</td>\n",
       "      <td>Photography</td>\n",
       "      <td>USD</td>\n",
       "      <td>2012-05-13</td>\n",
       "      <td>4000.0</td>\n",
       "      <td>2012-04-18 23:34:56</td>\n",
       "      <td>4866.17</td>\n",
       "      <td>successful</td>\n",
       "      <td>71.0</td>\n",
       "      <td>US</td>\n",
       "      <td>4866.17</td>\n",
       "      <td>2012</td>\n",
       "      <td>4</td>\n",
       "      <td>2</td>\n",
       "      <td>18</td>\n",
       "      <td>23</td>\n",
       "      <td>24</td>\n",
       "    </tr>\n",
       "    <tr>\n",
       "      <td>69</td>\n",
       "      <td>69</td>\n",
       "      <td>\"Flying\" Carpets from Azerbaijan, Iran and Tur...</td>\n",
       "      <td>Weaving</td>\n",
       "      <td>Crafts</td>\n",
       "      <td>GBP</td>\n",
       "      <td>2015-04-29</td>\n",
       "      <td>5000.0</td>\n",
       "      <td>2015-03-30 19:55:31</td>\n",
       "      <td>2.00</td>\n",
       "      <td>failed</td>\n",
       "      <td>1.0</td>\n",
       "      <td>GB</td>\n",
       "      <td>2.98</td>\n",
       "      <td>2015</td>\n",
       "      <td>3</td>\n",
       "      <td>0</td>\n",
       "      <td>30</td>\n",
       "      <td>19</td>\n",
       "      <td>29</td>\n",
       "    </tr>\n",
       "    <tr>\n",
       "      <td>...</td>\n",
       "      <td>...</td>\n",
       "      <td>...</td>\n",
       "      <td>...</td>\n",
       "      <td>...</td>\n",
       "      <td>...</td>\n",
       "      <td>...</td>\n",
       "      <td>...</td>\n",
       "      <td>...</td>\n",
       "      <td>...</td>\n",
       "      <td>...</td>\n",
       "      <td>...</td>\n",
       "      <td>...</td>\n",
       "      <td>...</td>\n",
       "      <td>...</td>\n",
       "      <td>...</td>\n",
       "      <td>...</td>\n",
       "      <td>...</td>\n",
       "      <td>...</td>\n",
       "      <td>...</td>\n",
       "    </tr>\n",
       "    <tr>\n",
       "      <td>374572</td>\n",
       "      <td>378558</td>\n",
       "      <td>A new venture, needs a new wheel.</td>\n",
       "      <td>Printing</td>\n",
       "      <td>Crafts</td>\n",
       "      <td>GBP</td>\n",
       "      <td>2017-08-13</td>\n",
       "      <td>2000.0</td>\n",
       "      <td>2017-07-13 07:49:29</td>\n",
       "      <td>2916.00</td>\n",
       "      <td>successful</td>\n",
       "      <td>60.0</td>\n",
       "      <td>GB</td>\n",
       "      <td>2237.56</td>\n",
       "      <td>2017</td>\n",
       "      <td>7</td>\n",
       "      <td>3</td>\n",
       "      <td>13</td>\n",
       "      <td>7</td>\n",
       "      <td>30</td>\n",
       "    </tr>\n",
       "    <tr>\n",
       "      <td>374635</td>\n",
       "      <td>378623</td>\n",
       "      <td>BETTER DESPERATE</td>\n",
       "      <td>Music Videos</td>\n",
       "      <td>Film &amp; Video</td>\n",
       "      <td>USD</td>\n",
       "      <td>2016-05-07</td>\n",
       "      <td>300.0</td>\n",
       "      <td>2016-04-07 20:04:26</td>\n",
       "      <td>300.00</td>\n",
       "      <td>successful</td>\n",
       "      <td>5.0</td>\n",
       "      <td>US</td>\n",
       "      <td>300.00</td>\n",
       "      <td>2016</td>\n",
       "      <td>4</td>\n",
       "      <td>3</td>\n",
       "      <td>7</td>\n",
       "      <td>20</td>\n",
       "      <td>29</td>\n",
       "    </tr>\n",
       "    <tr>\n",
       "      <td>374643</td>\n",
       "      <td>378631</td>\n",
       "      <td>MONSTROCARDS- A Creative Drawing Game of Horri...</td>\n",
       "      <td>Playing Cards</td>\n",
       "      <td>Games</td>\n",
       "      <td>USD</td>\n",
       "      <td>2014-10-03</td>\n",
       "      <td>10000.0</td>\n",
       "      <td>2014-09-03 19:53:50</td>\n",
       "      <td>13861.50</td>\n",
       "      <td>successful</td>\n",
       "      <td>413.0</td>\n",
       "      <td>US</td>\n",
       "      <td>13861.50</td>\n",
       "      <td>2014</td>\n",
       "      <td>9</td>\n",
       "      <td>2</td>\n",
       "      <td>3</td>\n",
       "      <td>19</td>\n",
       "      <td>29</td>\n",
       "    </tr>\n",
       "    <tr>\n",
       "      <td>374659</td>\n",
       "      <td>378647</td>\n",
       "      <td>The Cease is Increase</td>\n",
       "      <td>Nonfiction</td>\n",
       "      <td>Publishing</td>\n",
       "      <td>USD</td>\n",
       "      <td>2012-09-14</td>\n",
       "      <td>4999.0</td>\n",
       "      <td>2012-08-15 17:11:00</td>\n",
       "      <td>980.00</td>\n",
       "      <td>failed</td>\n",
       "      <td>16.0</td>\n",
       "      <td>US</td>\n",
       "      <td>980.00</td>\n",
       "      <td>2012</td>\n",
       "      <td>8</td>\n",
       "      <td>2</td>\n",
       "      <td>15</td>\n",
       "      <td>17</td>\n",
       "      <td>29</td>\n",
       "    </tr>\n",
       "    <tr>\n",
       "      <td>374670</td>\n",
       "      <td>378658</td>\n",
       "      <td>Walls of Remedy- New lesbian Romantic Comedy f...</td>\n",
       "      <td>Narrative Film</td>\n",
       "      <td>Film &amp; Video</td>\n",
       "      <td>USD</td>\n",
       "      <td>2010-08-16</td>\n",
       "      <td>15000.0</td>\n",
       "      <td>2010-07-01 19:40:30</td>\n",
       "      <td>20.00</td>\n",
       "      <td>failed</td>\n",
       "      <td>1.0</td>\n",
       "      <td>US</td>\n",
       "      <td>20.00</td>\n",
       "      <td>2010</td>\n",
       "      <td>7</td>\n",
       "      <td>3</td>\n",
       "      <td>1</td>\n",
       "      <td>19</td>\n",
       "      <td>45</td>\n",
       "    </tr>\n",
       "  </tbody>\n",
       "</table>\n",
       "<p>18762 rows × 19 columns</p>\n",
       "</div>"
      ],
      "text/plain": [
       "         index                                               name  \\\n",
       "2            2                                     Where is Hank?   \n",
       "18          18                Mike Corey's Darkness & Light Album   \n",
       "40          40             Unschooling To University Book Project   \n",
       "53          53                       A Teacher's Travels in China   \n",
       "69          69  \"Flying\" Carpets from Azerbaijan, Iran and Tur...   \n",
       "...        ...                                                ...   \n",
       "374572  378558                  A new venture, needs a new wheel.   \n",
       "374635  378623                                   BETTER DESPERATE   \n",
       "374643  378631  MONSTROCARDS- A Creative Drawing Game of Horri...   \n",
       "374659  378647                              The Cease is Increase   \n",
       "374670  378658  Walls of Remedy- New lesbian Romantic Comedy f...   \n",
       "\n",
       "              category main_category currency   deadline     goal  \\\n",
       "2       Narrative Film  Film & Video      USD 2013-02-26  45000.0   \n",
       "18               Music         Music      USD 2012-08-17    250.0   \n",
       "40          Nonfiction    Publishing      CAD 2018-01-19   3000.0   \n",
       "53         Photography   Photography      USD 2012-05-13   4000.0   \n",
       "69             Weaving        Crafts      GBP 2015-04-29   5000.0   \n",
       "...                ...           ...      ...        ...      ...   \n",
       "374572        Printing        Crafts      GBP 2017-08-13   2000.0   \n",
       "374635    Music Videos  Film & Video      USD 2016-05-07    300.0   \n",
       "374643   Playing Cards         Games      USD 2014-10-03  10000.0   \n",
       "374659      Nonfiction    Publishing      USD 2012-09-14   4999.0   \n",
       "374670  Narrative Film  Film & Video      USD 2010-08-16  15000.0   \n",
       "\n",
       "                  launched   pledged       state  backers country  \\\n",
       "2      2013-01-12 00:20:50    220.00      failed      3.0      US   \n",
       "18     2012-08-02 14:11:32    250.00  successful      7.0      US   \n",
       "40     2017-11-20 18:15:14    592.00        live     24.0      CA   \n",
       "53     2012-04-18 23:34:56   4866.17  successful     71.0      US   \n",
       "69     2015-03-30 19:55:31      2.00      failed      1.0      GB   \n",
       "...                    ...       ...         ...      ...     ...   \n",
       "374572 2017-07-13 07:49:29   2916.00  successful     60.0      GB   \n",
       "374635 2016-04-07 20:04:26    300.00  successful      5.0      US   \n",
       "374643 2014-09-03 19:53:50  13861.50  successful    413.0      US   \n",
       "374659 2012-08-15 17:11:00    980.00      failed     16.0      US   \n",
       "374670 2010-07-01 19:40:30     20.00      failed      1.0      US   \n",
       "\n",
       "        usd pledged  year  month  dayofweek  day  hour  duration  \n",
       "2            220.00  2013      1          5   12     0        44  \n",
       "18           250.00  2012      8          3    2    14        14  \n",
       "40           185.65  2017     11          0   20    18        59  \n",
       "53          4866.17  2012      4          2   18    23        24  \n",
       "69             2.98  2015      3          0   30    19        29  \n",
       "...             ...   ...    ...        ...  ...   ...       ...  \n",
       "374572      2237.56  2017      7          3   13     7        30  \n",
       "374635       300.00  2016      4          3    7    20        29  \n",
       "374643     13861.50  2014      9          2    3    19        29  \n",
       "374659       980.00  2012      8          2   15    17        29  \n",
       "374670        20.00  2010      7          3    1    19        45  \n",
       "\n",
       "[18762 rows x 19 columns]"
      ]
     },
     "execution_count": 19,
     "metadata": {},
     "output_type": "execute_result"
    }
   ],
   "source": [
    "kickstarter.iloc[list_of_index]"
   ]
  },
  {
   "cell_type": "code",
   "execution_count": 20,
   "metadata": {
    "id": "tFq-OKVvQolO"
   },
   "outputs": [
    {
     "data": {
      "text/plain": [
       "index            0\n",
       "name             0\n",
       "category         0\n",
       "main_category    0\n",
       "currency         0\n",
       "deadline         0\n",
       "goal             0\n",
       "launched         0\n",
       "pledged          0\n",
       "state            0\n",
       "backers          0\n",
       "country          0\n",
       "usd pledged      0\n",
       "year             0\n",
       "month            0\n",
       "dayofweek        0\n",
       "day              0\n",
       "hour             0\n",
       "duration         0\n",
       "dtype: int64"
      ]
     },
     "execution_count": 20,
     "metadata": {},
     "output_type": "execute_result"
    }
   ],
   "source": [
    "kickstarter.isna().sum()"
   ]
  },
  {
   "cell_type": "markdown",
   "metadata": {
    "id": "9eVuLYIjUDI7"
   },
   "source": [
    "# Описательные статистики"
   ]
  },
  {
   "cell_type": "code",
   "execution_count": null,
   "metadata": {
    "colab": {
     "base_uri": "https://localhost:8080/"
    },
    "id": "HxWPSFscW9wb",
    "outputId": "74c024e3-f039-4bc1-ae6a-cc0e3d2436d1"
   },
   "outputs": [
    {
     "data": {
      "text/plain": [
       "count    2.093260e+05\n",
       "mean     6.933186e+03\n",
       "std      7.603268e+04\n",
       "min      0.000000e+00\n",
       "25%      1.700000e+01\n",
       "50%      3.940000e+02\n",
       "75%      3.035000e+03\n",
       "max      2.033899e+07\n",
       "Name: usd pledged, dtype: float64"
      ]
     },
     "execution_count": 98,
     "metadata": {
      "tags": []
     },
     "output_type": "execute_result"
    }
   ],
   "source": []
  },
  {
   "cell_type": "code",
   "execution_count": null,
   "metadata": {
    "id": "IX0zBs1gXBL7"
   },
   "outputs": [],
   "source": []
  },
  {
   "cell_type": "markdown",
   "metadata": {
    "id": "77Hi3FTVUGz9"
   },
   "source": [
    "## Среднее"
   ]
  },
  {
   "cell_type": "markdown",
   "metadata": {
    "id": "TP7YJXEvcGpw"
   },
   "source": [
    "<img src='https://img.my-excel.ru/formula-v-jeksel-srednee-arifmeticheskoe_5_1.png'>"
   ]
  },
  {
   "cell_type": "code",
   "execution_count": null,
   "metadata": {
    "colab": {
     "base_uri": "https://localhost:8080/"
    },
    "id": "CdRVuTdHW7nb",
    "outputId": "c0bfb9be-9cfe-4ef7-aae8-a449252c01a7"
   },
   "outputs": [
    {
     "data": {
      "text/plain": [
       "6933.186360175007"
      ]
     },
     "execution_count": 99,
     "metadata": {
      "tags": []
     },
     "output_type": "execute_result"
    }
   ],
   "source": []
  },
  {
   "cell_type": "markdown",
   "metadata": {
    "id": "nReXcj9qULZD"
   },
   "source": [
    "## Медиана"
   ]
  },
  {
   "cell_type": "markdown",
   "metadata": {
    "id": "qDPoNI-FlWif"
   },
   "source": [
    "<img src='https://m-learn.ru/wp-content/uploads/2018/06/fig_3-1024x511.png'>"
   ]
  },
  {
   "cell_type": "code",
   "execution_count": null,
   "metadata": {
    "colab": {
     "base_uri": "https://localhost:8080/"
    },
    "id": "P47zMD-NUOd7",
    "outputId": "2d4e531d-c007-4edf-cdb9-91416c196606"
   },
   "outputs": [
    {
     "data": {
      "text/plain": [
       "394.0"
      ]
     },
     "execution_count": 100,
     "metadata": {
      "tags": []
     },
     "output_type": "execute_result"
    }
   ],
   "source": []
  },
  {
   "cell_type": "code",
   "execution_count": null,
   "metadata": {
    "id": "icTmyO6FlF0e"
   },
   "outputs": [],
   "source": []
  },
  {
   "cell_type": "markdown",
   "metadata": {
    "id": "WPb7kvj6UPFF"
   },
   "source": [
    "## Мода"
   ]
  },
  {
   "cell_type": "markdown",
   "metadata": {
    "id": "7R-qXhM6ln5W"
   },
   "source": [
    "<img src='https://statanaliz.info/wp-content/uploads/2015/01/moda_04.png'>"
   ]
  },
  {
   "cell_type": "code",
   "execution_count": null,
   "metadata": {
    "colab": {
     "base_uri": "https://localhost:8080/"
    },
    "id": "CewQIlTvURSs",
    "outputId": "6199aec4-13ec-490a-b3bc-05cd548eebf1"
   },
   "outputs": [
    {
     "data": {
      "text/plain": [
       "0    0.0\n",
       "dtype: float64"
      ]
     },
     "execution_count": 103,
     "metadata": {
      "tags": []
     },
     "output_type": "execute_result"
    }
   ],
   "source": []
  },
  {
   "cell_type": "code",
   "execution_count": null,
   "metadata": {
    "id": "u7rXvnN2ZAzo"
   },
   "outputs": [],
   "source": []
  },
  {
   "cell_type": "markdown",
   "metadata": {
    "id": "Tde1luieURus"
   },
   "source": [
    "## Дисперсия и стандартное отклонение"
   ]
  },
  {
   "cell_type": "markdown",
   "metadata": {
    "id": "u-xofmq4mBRZ"
   },
   "source": [
    "<img src='https://smart-lab.ru/uploads/images/00/00/16/2012/09/16/4fe58b.png'>"
   ]
  },
  {
   "cell_type": "code",
   "execution_count": null,
   "metadata": {
    "colab": {
     "base_uri": "https://localhost:8080/"
    },
    "id": "558yTEmkZDCq",
    "outputId": "78f0d0e9-cf03-4f79-ac82-688c5625543b"
   },
   "outputs": [
    {
     "data": {
      "text/plain": [
       "5780940770.329786"
      ]
     },
     "execution_count": 131,
     "metadata": {
      "tags": []
     },
     "output_type": "execute_result"
    }
   ],
   "source": []
  },
  {
   "cell_type": "markdown",
   "metadata": {
    "id": "IoGUaBv8mEke"
   },
   "source": [
    "<img src='https://smart-lab.ru/uploads/images/00/00/16/2012/09/16/7273a8.png'>"
   ]
  },
  {
   "cell_type": "code",
   "execution_count": null,
   "metadata": {
    "colab": {
     "base_uri": "https://localhost:8080/"
    },
    "id": "wWg8zr9nkEDB",
    "outputId": "03474d29-d52e-49a4-fd8c-dbe264d95523"
   },
   "outputs": [
    {
     "data": {
      "text/plain": [
       "5780968387.388285"
      ]
     },
     "execution_count": 132,
     "metadata": {
      "tags": []
     },
     "output_type": "execute_result"
    }
   ],
   "source": []
  },
  {
   "cell_type": "markdown",
   "metadata": {
    "id": "EtWy0xG6mUgO"
   },
   "source": [
    "<img src='https://img.my-excel.ru/mod-funkcija-v-excel_8_1.png'>"
   ]
  },
  {
   "cell_type": "code",
   "execution_count": null,
   "metadata": {
    "colab": {
     "base_uri": "https://localhost:8080/"
    },
    "id": "RLVk64DiZEdz",
    "outputId": "92353da3-0bb8-4ca9-e7ba-040d22bc601d"
   },
   "outputs": [
    {
     "data": {
      "text/plain": [
       "76032.67973304824"
      ]
     },
     "execution_count": 130,
     "metadata": {
      "tags": []
     },
     "output_type": "execute_result"
    }
   ],
   "source": []
  },
  {
   "cell_type": "code",
   "execution_count": null,
   "metadata": {
    "colab": {
     "base_uri": "https://localhost:8080/"
    },
    "id": "TWagSuhcZFm_",
    "outputId": "14dfa3e4-9ece-4f3e-b086-219f181d8791"
   },
   "outputs": [
    {
     "data": {
      "text/plain": [
       "76032.67973304824"
      ]
     },
     "execution_count": 107,
     "metadata": {
      "tags": []
     },
     "output_type": "execute_result"
    }
   ],
   "source": []
  },
  {
   "cell_type": "markdown",
   "metadata": {
    "id": "1IO9rB95ZNh-"
   },
   "source": [
    "## Квантили"
   ]
  },
  {
   "cell_type": "code",
   "execution_count": null,
   "metadata": {
    "colab": {
     "base_uri": "https://localhost:8080/"
    },
    "id": "7dUD2isGZPr1",
    "outputId": "6eae6397-7c72-416a-b981-84afc0a3081c"
   },
   "outputs": [
    {
     "data": {
      "text/plain": [
       "3035.0"
      ]
     },
     "execution_count": 133,
     "metadata": {
      "tags": []
     },
     "output_type": "execute_result"
    }
   ],
   "source": []
  },
  {
   "cell_type": "markdown",
   "metadata": {
    "id": "PLLj2eI8Ura3"
   },
   "source": [
    "# Гистограммы. Распределения"
   ]
  },
  {
   "cell_type": "code",
   "execution_count": 45,
   "metadata": {},
   "outputs": [
    {
     "data": {
      "image/png": "[encoded data removed]",
      "text/plain": [
       "<Figure size 720x360 with 1 Axes>"
      ]
     },
     "metadata": {
      "needs_background": "light"
     },
     "output_type": "display_data"
    }
   ],
   "source": [
    "fig,ax = plt.subplots(figsize=(10,5))\n",
    "ax.hist(np.random.normal(0,1,10000),bins=100)\n",
    "plt.show()"
   ]
  },
  {
   "cell_type": "code",
   "execution_count": 42,
   "metadata": {
    "colab": {
     "base_uri": "https://localhost:8080/",
     "height": 265
    },
    "id": "wo_6ilHSZWB3",
    "outputId": "7b433c5e-0a15-4fca-a704-2cee2fc69a33"
   },
   "outputs": [
    {
     "data": {
      "image/png": "[encoded data removed]",
      "text/plain": [
       "<Figure size 432x288 with 2 Axes>"
      ]
     },
     "metadata": {
      "needs_background": "light"
     },
     "output_type": "display_data"
    }
   ],
   "source": [
    "fig,ax = plt.subplots(1,2)\n",
    "#ax = plt.gca()\n",
    "ax[0].hist(np.random.normal(0,1,10000),bins=100)\n",
    "ax[1].hist(np.random.normal(0,10,10000),bins=100)\n",
    "plt.show()"
   ]
  },
  {
   "cell_type": "markdown",
   "metadata": {},
   "source": [
    "## Центральная предельная теорема"
   ]
  },
  {
   "cell_type": "code",
   "execution_count": 133,
   "metadata": {},
   "outputs": [
    {
     "name": "stdout",
     "output_type": "stream",
     "text": [
      "Population mean: 4.0\n",
      "Population standard deviation: 4.0\n"
     ]
    }
   ],
   "source": [
    "# rate parameter for the exponentially distributed population\n",
    "rate = 0.25\n",
    "\n",
    "#Population mean\n",
    "mu = 1/rate\n",
    "\n",
    "# Population standard deviation\n",
    "sd = np.sqrt(1/(rate**2))\n",
    "\n",
    "print('Population mean:', mu)\n",
    "print('Population standard deviation:', sd)"
   ]
  },
  {
   "cell_type": "code",
   "execution_count": 134,
   "metadata": {},
   "outputs": [
    {
     "data": {
      "text/html": [
       "<div>\n",
       "<style scoped>\n",
       "    .dataframe tbody tr th:only-of-type {\n",
       "        vertical-align: middle;\n",
       "    }\n",
       "\n",
       "    .dataframe tbody tr th {\n",
       "        vertical-align: top;\n",
       "    }\n",
       "\n",
       "    .dataframe thead th {\n",
       "        text-align: right;\n",
       "    }\n",
       "</style>\n",
       "<table border=\"1\" class=\"dataframe\">\n",
       "  <thead>\n",
       "    <tr style=\"text-align: right;\">\n",
       "      <th></th>\n",
       "      <th>sample 1</th>\n",
       "      <th>sample 2</th>\n",
       "      <th>sample 3</th>\n",
       "      <th>sample 4</th>\n",
       "      <th>sample 5</th>\n",
       "      <th>sample 6</th>\n",
       "      <th>sample 7</th>\n",
       "      <th>sample 8</th>\n",
       "      <th>sample 9</th>\n",
       "      <th>sample 10</th>\n",
       "      <th>...</th>\n",
       "      <th>sample 41</th>\n",
       "      <th>sample 42</th>\n",
       "      <th>sample 43</th>\n",
       "      <th>sample 44</th>\n",
       "      <th>sample 45</th>\n",
       "      <th>sample 46</th>\n",
       "      <th>sample 47</th>\n",
       "      <th>sample 48</th>\n",
       "      <th>sample 49</th>\n",
       "      <th>sample 50</th>\n",
       "    </tr>\n",
       "  </thead>\n",
       "  <tbody>\n",
       "    <tr>\n",
       "      <td>x1</td>\n",
       "      <td>17.454786</td>\n",
       "      <td>1.411694</td>\n",
       "      <td>0.474705</td>\n",
       "      <td>4.815775</td>\n",
       "      <td>7.189984</td>\n",
       "      <td>0.419896</td>\n",
       "      <td>6.112806</td>\n",
       "      <td>5.032526</td>\n",
       "      <td>11.711334</td>\n",
       "      <td>3.885833</td>\n",
       "      <td>...</td>\n",
       "      <td>2.449177</td>\n",
       "      <td>1.305618</td>\n",
       "      <td>2.988602</td>\n",
       "      <td>0.373152</td>\n",
       "      <td>1.160852</td>\n",
       "      <td>1.637291</td>\n",
       "      <td>0.143865</td>\n",
       "      <td>1.631892</td>\n",
       "      <td>0.759214</td>\n",
       "      <td>8.276706</td>\n",
       "    </tr>\n",
       "    <tr>\n",
       "      <td>x2</td>\n",
       "      <td>2.077692</td>\n",
       "      <td>0.970776</td>\n",
       "      <td>1.316873</td>\n",
       "      <td>5.426263</td>\n",
       "      <td>0.817777</td>\n",
       "      <td>6.406242</td>\n",
       "      <td>2.083182</td>\n",
       "      <td>0.084919</td>\n",
       "      <td>0.339659</td>\n",
       "      <td>4.399864</td>\n",
       "      <td>...</td>\n",
       "      <td>1.678204</td>\n",
       "      <td>2.986934</td>\n",
       "      <td>1.565147</td>\n",
       "      <td>2.154093</td>\n",
       "      <td>2.574439</td>\n",
       "      <td>6.145790</td>\n",
       "      <td>3.616480</td>\n",
       "      <td>1.959128</td>\n",
       "      <td>5.327275</td>\n",
       "      <td>6.381467</td>\n",
       "    </tr>\n",
       "  </tbody>\n",
       "</table>\n",
       "<p>2 rows × 50 columns</p>\n",
       "</div>"
      ],
      "text/plain": [
       "     sample 1  sample 2  sample 3  sample 4  sample 5  sample 6  sample 7  \\\n",
       "x1  17.454786  1.411694  0.474705  4.815775  7.189984  0.419896  6.112806   \n",
       "x2   2.077692  0.970776  1.316873  5.426263  0.817777  6.406242  2.083182   \n",
       "\n",
       "    sample 8   sample 9  sample 10  ...  sample 41  sample 42  sample 43  \\\n",
       "x1  5.032526  11.711334   3.885833  ...   2.449177   1.305618   2.988602   \n",
       "x2  0.084919   0.339659   4.399864  ...   1.678204   2.986934   1.565147   \n",
       "\n",
       "    sample 44  sample 45  sample 46  sample 47  sample 48  sample 49  \\\n",
       "x1   0.373152   1.160852   1.637291   0.143865   1.631892   0.759214   \n",
       "x2   2.154093   2.574439   6.145790   3.616480   1.959128   5.327275   \n",
       "\n",
       "    sample 50  \n",
       "x1   8.276706  \n",
       "x2   6.381467  \n",
       "\n",
       "[2 rows x 50 columns]"
      ]
     },
     "execution_count": 134,
     "metadata": {},
     "output_type": "execute_result"
    }
   ],
   "source": [
    "sample_size = 2\n",
    "df2 = pd.DataFrame(index= ['x1', 'x2'] )\n",
    "\n",
    "for i in range(1, 51):\n",
    "    exponential_sample = np.random.exponential((1/rate), sample_size)\n",
    "    col = f'sample {i}'\n",
    "    df2[col] = exponential_sample\n",
    "\n",
    "# Taking a peek at the samples\n",
    "df2"
   ]
  },
  {
   "cell_type": "code",
   "execution_count": 137,
   "metadata": {},
   "outputs": [
    {
     "data": {
      "image/png": "[encoded data removed]",
      "text/plain": [
       "<Figure size 432x288 with 1 Axes>"
      ]
     },
     "metadata": {
      "needs_background": "light"
     },
     "output_type": "display_data"
    }
   ],
   "source": [
    "df2_sample_means = df2.mean()\n",
    "plt.hist(df2_sample_means)\n",
    "plt.show()"
   ]
  },
  {
   "cell_type": "code",
   "execution_count": 140,
   "metadata": {},
   "outputs": [
    {
     "data": {
      "image/png": "[encoded data removed]",
      "text/plain": [
       "<Figure size 432x288 with 1 Axes>"
      ]
     },
     "metadata": {
      "needs_background": "light"
     },
     "output_type": "display_data"
    }
   ],
   "source": [
    "sample_size=500\n",
    "\n",
    "df500 = pd.DataFrame()\n",
    "\n",
    "for i in range(1, 51):\n",
    "    exponential_sample = np.random.exponential((1/rate), sample_size)\n",
    "    col = f'sample {i}'\n",
    "    df500[col] = exponential_sample\n",
    "\n",
    "\n",
    "df500_sample_means = pd.DataFrame(df500.mean(),columns=['Sample means'])\n",
    "plt.hist(df500_sample_means['Sample means'])\n",
    "plt.show()"
   ]
  },
  {
   "cell_type": "code",
   "execution_count": 139,
   "metadata": {},
   "outputs": [
    {
     "data": {
      "text/html": [
       "<div>\n",
       "<style scoped>\n",
       "    .dataframe tbody tr th:only-of-type {\n",
       "        vertical-align: middle;\n",
       "    }\n",
       "\n",
       "    .dataframe tbody tr th {\n",
       "        vertical-align: top;\n",
       "    }\n",
       "\n",
       "    .dataframe thead th {\n",
       "        text-align: right;\n",
       "    }\n",
       "</style>\n",
       "<table border=\"1\" class=\"dataframe\">\n",
       "  <thead>\n",
       "    <tr style=\"text-align: right;\">\n",
       "      <th></th>\n",
       "      <th>Sample means</th>\n",
       "    </tr>\n",
       "  </thead>\n",
       "  <tbody>\n",
       "    <tr>\n",
       "      <td>sample 1</td>\n",
       "      <td>4.054453</td>\n",
       "    </tr>\n",
       "    <tr>\n",
       "      <td>sample 2</td>\n",
       "      <td>3.761132</td>\n",
       "    </tr>\n",
       "    <tr>\n",
       "      <td>sample 3</td>\n",
       "      <td>3.905274</td>\n",
       "    </tr>\n",
       "    <tr>\n",
       "      <td>sample 4</td>\n",
       "      <td>3.933050</td>\n",
       "    </tr>\n",
       "    <tr>\n",
       "      <td>sample 5</td>\n",
       "      <td>4.093267</td>\n",
       "    </tr>\n",
       "    <tr>\n",
       "      <td>sample 6</td>\n",
       "      <td>3.685376</td>\n",
       "    </tr>\n",
       "    <tr>\n",
       "      <td>sample 7</td>\n",
       "      <td>4.519135</td>\n",
       "    </tr>\n",
       "    <tr>\n",
       "      <td>sample 8</td>\n",
       "      <td>3.970240</td>\n",
       "    </tr>\n",
       "    <tr>\n",
       "      <td>sample 9</td>\n",
       "      <td>3.796047</td>\n",
       "    </tr>\n",
       "    <tr>\n",
       "      <td>sample 10</td>\n",
       "      <td>3.965066</td>\n",
       "    </tr>\n",
       "    <tr>\n",
       "      <td>sample 11</td>\n",
       "      <td>4.098849</td>\n",
       "    </tr>\n",
       "    <tr>\n",
       "      <td>sample 12</td>\n",
       "      <td>3.924860</td>\n",
       "    </tr>\n",
       "    <tr>\n",
       "      <td>sample 13</td>\n",
       "      <td>3.919181</td>\n",
       "    </tr>\n",
       "    <tr>\n",
       "      <td>sample 14</td>\n",
       "      <td>4.144991</td>\n",
       "    </tr>\n",
       "    <tr>\n",
       "      <td>sample 15</td>\n",
       "      <td>4.257060</td>\n",
       "    </tr>\n",
       "    <tr>\n",
       "      <td>sample 16</td>\n",
       "      <td>3.853613</td>\n",
       "    </tr>\n",
       "    <tr>\n",
       "      <td>sample 17</td>\n",
       "      <td>3.685794</td>\n",
       "    </tr>\n",
       "    <tr>\n",
       "      <td>sample 18</td>\n",
       "      <td>3.994531</td>\n",
       "    </tr>\n",
       "    <tr>\n",
       "      <td>sample 19</td>\n",
       "      <td>4.084828</td>\n",
       "    </tr>\n",
       "    <tr>\n",
       "      <td>sample 20</td>\n",
       "      <td>4.178939</td>\n",
       "    </tr>\n",
       "    <tr>\n",
       "      <td>sample 21</td>\n",
       "      <td>4.030809</td>\n",
       "    </tr>\n",
       "    <tr>\n",
       "      <td>sample 22</td>\n",
       "      <td>3.768002</td>\n",
       "    </tr>\n",
       "    <tr>\n",
       "      <td>sample 23</td>\n",
       "      <td>3.773046</td>\n",
       "    </tr>\n",
       "    <tr>\n",
       "      <td>sample 24</td>\n",
       "      <td>4.028806</td>\n",
       "    </tr>\n",
       "    <tr>\n",
       "      <td>sample 25</td>\n",
       "      <td>3.819220</td>\n",
       "    </tr>\n",
       "    <tr>\n",
       "      <td>sample 26</td>\n",
       "      <td>3.973346</td>\n",
       "    </tr>\n",
       "    <tr>\n",
       "      <td>sample 27</td>\n",
       "      <td>4.113092</td>\n",
       "    </tr>\n",
       "    <tr>\n",
       "      <td>sample 28</td>\n",
       "      <td>3.856406</td>\n",
       "    </tr>\n",
       "    <tr>\n",
       "      <td>sample 29</td>\n",
       "      <td>4.062254</td>\n",
       "    </tr>\n",
       "    <tr>\n",
       "      <td>sample 30</td>\n",
       "      <td>3.992954</td>\n",
       "    </tr>\n",
       "    <tr>\n",
       "      <td>sample 31</td>\n",
       "      <td>3.833506</td>\n",
       "    </tr>\n",
       "    <tr>\n",
       "      <td>sample 32</td>\n",
       "      <td>4.370565</td>\n",
       "    </tr>\n",
       "    <tr>\n",
       "      <td>sample 33</td>\n",
       "      <td>4.182290</td>\n",
       "    </tr>\n",
       "    <tr>\n",
       "      <td>sample 34</td>\n",
       "      <td>4.154115</td>\n",
       "    </tr>\n",
       "    <tr>\n",
       "      <td>sample 35</td>\n",
       "      <td>3.923575</td>\n",
       "    </tr>\n",
       "    <tr>\n",
       "      <td>sample 36</td>\n",
       "      <td>3.806427</td>\n",
       "    </tr>\n",
       "    <tr>\n",
       "      <td>sample 37</td>\n",
       "      <td>3.765697</td>\n",
       "    </tr>\n",
       "    <tr>\n",
       "      <td>sample 38</td>\n",
       "      <td>3.885575</td>\n",
       "    </tr>\n",
       "    <tr>\n",
       "      <td>sample 39</td>\n",
       "      <td>4.334463</td>\n",
       "    </tr>\n",
       "    <tr>\n",
       "      <td>sample 40</td>\n",
       "      <td>4.148348</td>\n",
       "    </tr>\n",
       "    <tr>\n",
       "      <td>sample 41</td>\n",
       "      <td>3.883909</td>\n",
       "    </tr>\n",
       "    <tr>\n",
       "      <td>sample 42</td>\n",
       "      <td>3.888207</td>\n",
       "    </tr>\n",
       "    <tr>\n",
       "      <td>sample 43</td>\n",
       "      <td>3.977819</td>\n",
       "    </tr>\n",
       "    <tr>\n",
       "      <td>sample 44</td>\n",
       "      <td>3.876414</td>\n",
       "    </tr>\n",
       "    <tr>\n",
       "      <td>sample 45</td>\n",
       "      <td>4.085720</td>\n",
       "    </tr>\n",
       "    <tr>\n",
       "      <td>sample 46</td>\n",
       "      <td>4.142406</td>\n",
       "    </tr>\n",
       "    <tr>\n",
       "      <td>sample 47</td>\n",
       "      <td>3.735243</td>\n",
       "    </tr>\n",
       "    <tr>\n",
       "      <td>sample 48</td>\n",
       "      <td>4.143828</td>\n",
       "    </tr>\n",
       "    <tr>\n",
       "      <td>sample 49</td>\n",
       "      <td>4.106361</td>\n",
       "    </tr>\n",
       "    <tr>\n",
       "      <td>sample 50</td>\n",
       "      <td>4.113198</td>\n",
       "    </tr>\n",
       "  </tbody>\n",
       "</table>\n",
       "</div>"
      ],
      "text/plain": [
       "           Sample means\n",
       "sample 1       4.054453\n",
       "sample 2       3.761132\n",
       "sample 3       3.905274\n",
       "sample 4       3.933050\n",
       "sample 5       4.093267\n",
       "sample 6       3.685376\n",
       "sample 7       4.519135\n",
       "sample 8       3.970240\n",
       "sample 9       3.796047\n",
       "sample 10      3.965066\n",
       "sample 11      4.098849\n",
       "sample 12      3.924860\n",
       "sample 13      3.919181\n",
       "sample 14      4.144991\n",
       "sample 15      4.257060\n",
       "sample 16      3.853613\n",
       "sample 17      3.685794\n",
       "sample 18      3.994531\n",
       "sample 19      4.084828\n",
       "sample 20      4.178939\n",
       "sample 21      4.030809\n",
       "sample 22      3.768002\n",
       "sample 23      3.773046\n",
       "sample 24      4.028806\n",
       "sample 25      3.819220\n",
       "sample 26      3.973346\n",
       "sample 27      4.113092\n",
       "sample 28      3.856406\n",
       "sample 29      4.062254\n",
       "sample 30      3.992954\n",
       "sample 31      3.833506\n",
       "sample 32      4.370565\n",
       "sample 33      4.182290\n",
       "sample 34      4.154115\n",
       "sample 35      3.923575\n",
       "sample 36      3.806427\n",
       "sample 37      3.765697\n",
       "sample 38      3.885575\n",
       "sample 39      4.334463\n",
       "sample 40      4.148348\n",
       "sample 41      3.883909\n",
       "sample 42      3.888207\n",
       "sample 43      3.977819\n",
       "sample 44      3.876414\n",
       "sample 45      4.085720\n",
       "sample 46      4.142406\n",
       "sample 47      3.735243\n",
       "sample 48      4.143828\n",
       "sample 49      4.106361\n",
       "sample 50      4.113198"
      ]
     },
     "execution_count": 139,
     "metadata": {},
     "output_type": "execute_result"
    }
   ],
   "source": [
    "df500_sample_means"
   ]
  },
  {
   "cell_type": "markdown",
   "metadata": {},
   "source": [
    "## Доверительный интервал"
   ]
  },
  {
   "cell_type": "code",
   "execution_count": 106,
   "metadata": {},
   "outputs": [],
   "source": [
    "confidence_interval = (st.t.interval(0.95,len(kickstarter.query('country==\"JP\"')['backers'])-1,kickstarter.query('country==\"JP\"')['backers'].mean(), \n",
    "                                    kickstarter.query('country==\"JP\"')['backers'].sem())\n",
    "                      )"
   ]
  },
  {
   "cell_type": "code",
   "execution_count": 108,
   "metadata": {},
   "outputs": [
    {
     "data": {
      "text/plain": [
       "48.55"
      ]
     },
     "execution_count": 108,
     "metadata": {},
     "output_type": "execute_result"
    }
   ],
   "source": [
    "kickstarter.query('country==\"JP\"')['backers'].mean()"
   ]
  },
  {
   "cell_type": "code",
   "execution_count": 107,
   "metadata": {},
   "outputs": [
    {
     "data": {
      "text/plain": [
       "(25.853328195036845, 71.24667180496314)"
      ]
     },
     "execution_count": 107,
     "metadata": {},
     "output_type": "execute_result"
    }
   ],
   "source": [
    "confidence_interval "
   ]
  },
  {
   "cell_type": "code",
   "execution_count": 114,
   "metadata": {},
   "outputs": [],
   "source": [
    "confidence_interval = [kickstarter.query('country==\"JP\"')['backers'].quantile(0.025),kickstarter.query('country==\"JP\"')['backers'].quantile(0.975)]"
   ]
  },
  {
   "cell_type": "code",
   "execution_count": 115,
   "metadata": {},
   "outputs": [
    {
     "data": {
      "text/plain": [
       "[0.0, 206.5749999999999]"
      ]
     },
     "execution_count": 115,
     "metadata": {},
     "output_type": "execute_result"
    }
   ],
   "source": [
    "confidence_interval"
   ]
  },
  {
   "cell_type": "markdown",
   "metadata": {
    "id": "_Isk8SqtUlP_"
   },
   "source": [
    "# Анализ выбросов и аномалий. Боксплоты"
   ]
  },
  {
   "cell_type": "markdown",
   "metadata": {
    "id": "ycZWD6dXoCrC"
   },
   "source": [
    "<img src='https://agricolamz.github.io/2018_FE_R_statistics/Lab_9_files/figure-html/unnamed-chunk-1-1.png'>"
   ]
  },
  {
   "cell_type": "markdown",
   "metadata": {
    "id": "E4rq-eDmmoGy"
   },
   "source": [
    "<img src='https://upload.wikimedia.org/wikipedia/commons/thumb/1/1a/Boxplot_vs_PDF.svg/800px-Boxplot_vs_PDF.svg.png'>"
   ]
  },
  {
   "cell_type": "code",
   "execution_count": null,
   "metadata": {
    "colab": {
     "base_uri": "https://localhost:8080/",
     "height": 269
    },
    "id": "q0JoDqeuoSYF",
    "outputId": "32a6cbb1-2b9b-48dd-9e88-a802b5193281"
   },
   "outputs": [
    {
     "data": {
      "image/png": "[encoded data removed]",
      "text/plain": [
       "<Figure size 432x288 with 1 Axes>"
      ]
     },
     "metadata": {
      "needs_background": "light",
      "tags": []
     },
     "output_type": "display_data"
    }
   ],
   "source": [
    "plt.boxplot(kickstarter['usd pledged'])\n",
    "plt.ylim((0,10000))\n",
    "plt.show()"
   ]
  },
  {
   "cell_type": "code",
   "execution_count": null,
   "metadata": {
    "id": "qJZ5zyE_pMe8"
   },
   "outputs": [],
   "source": [
    "def  burst(data, column): # функция расчета границ усов ящика с усами\n",
    "    iqr = data[column].quantile(0.75) - data[column].quantile(0.25)\n",
    "    return data[column].quantile(0.25)- iqr*1.5, data[column].quantile(0.75)+ iqr*1.5"
   ]
  },
  {
   "cell_type": "code",
   "execution_count": null,
   "metadata": {
    "colab": {
     "base_uri": "https://localhost:8080/",
     "height": 356
    },
    "id": "ZccQZom8pUiV",
    "outputId": "a081610e-1487-4cd7-899d-11ec2614ed68"
   },
   "outputs": [
    {
     "data": {
      "text/plain": [
       "(array([120174.,  17680.,  11109.,   7863.,   6634.,   4612.,   4299.,\n",
       "          3521.,   2850.,   2129.]),\n",
       " array([   0. ,  756.2, 1512.4, 2268.6, 3024.8, 3781. , 4537.2, 5293.4,\n",
       "        6049.6, 6805.8, 7562. ]),\n",
       " <a list of 10 Patch objects>)"
      ]
     },
     "execution_count": 157,
     "metadata": {
      "tags": []
     },
     "output_type": "execute_result"
    },
    {
     "data": {
      "image/png": "[encoded data removed]",
      "text/plain": [
       "<Figure size 432x288 with 1 Axes>"
      ]
     },
     "metadata": {
      "needs_background": "light",
      "tags": []
     },
     "output_type": "display_data"
    }
   ],
   "source": []
  },
  {
   "cell_type": "markdown",
   "metadata": {
    "id": "nPmWCpMaUxvs"
   },
   "source": [
    "# Линейные графики"
   ]
  },
  {
   "cell_type": "code",
   "execution_count": 51,
   "metadata": {
    "id": "dEYGX3yIp9ae"
   },
   "outputs": [],
   "source": [
    "data = kickstarter.query('year!=1970').groupby('year')['name'].count().reset_index()"
   ]
  },
  {
   "cell_type": "code",
   "execution_count": 52,
   "metadata": {
    "colab": {
     "base_uri": "https://localhost:8080/",
     "height": 394
    },
    "id": "RxYNK0F6qG_E",
    "outputId": "f475ec70-e832-41c3-fcf6-205cd4b7837e"
   },
   "outputs": [
    {
     "data": {
      "text/html": [
       "<div>\n",
       "<style scoped>\n",
       "    .dataframe tbody tr th:only-of-type {\n",
       "        vertical-align: middle;\n",
       "    }\n",
       "\n",
       "    .dataframe tbody tr th {\n",
       "        vertical-align: top;\n",
       "    }\n",
       "\n",
       "    .dataframe thead th {\n",
       "        text-align: right;\n",
       "    }\n",
       "</style>\n",
       "<table border=\"1\" class=\"dataframe\">\n",
       "  <thead>\n",
       "    <tr style=\"text-align: right;\">\n",
       "      <th></th>\n",
       "      <th>year</th>\n",
       "      <th>name</th>\n",
       "    </tr>\n",
       "  </thead>\n",
       "  <tbody>\n",
       "    <tr>\n",
       "      <td>0</td>\n",
       "      <td>2009</td>\n",
       "      <td>1328</td>\n",
       "    </tr>\n",
       "    <tr>\n",
       "      <td>1</td>\n",
       "      <td>2010</td>\n",
       "      <td>10514</td>\n",
       "    </tr>\n",
       "    <tr>\n",
       "      <td>2</td>\n",
       "      <td>2011</td>\n",
       "      <td>26221</td>\n",
       "    </tr>\n",
       "    <tr>\n",
       "      <td>3</td>\n",
       "      <td>2012</td>\n",
       "      <td>41147</td>\n",
       "    </tr>\n",
       "    <tr>\n",
       "      <td>4</td>\n",
       "      <td>2013</td>\n",
       "      <td>44816</td>\n",
       "    </tr>\n",
       "    <tr>\n",
       "      <td>5</td>\n",
       "      <td>2014</td>\n",
       "      <td>66954</td>\n",
       "    </tr>\n",
       "    <tr>\n",
       "      <td>6</td>\n",
       "      <td>2015</td>\n",
       "      <td>74881</td>\n",
       "    </tr>\n",
       "    <tr>\n",
       "      <td>7</td>\n",
       "      <td>2016</td>\n",
       "      <td>56507</td>\n",
       "    </tr>\n",
       "    <tr>\n",
       "      <td>8</td>\n",
       "      <td>2017</td>\n",
       "      <td>52174</td>\n",
       "    </tr>\n",
       "    <tr>\n",
       "      <td>9</td>\n",
       "      <td>2018</td>\n",
       "      <td>124</td>\n",
       "    </tr>\n",
       "  </tbody>\n",
       "</table>\n",
       "</div>"
      ],
      "text/plain": [
       "   year   name\n",
       "0  2009   1328\n",
       "1  2010  10514\n",
       "2  2011  26221\n",
       "3  2012  41147\n",
       "4  2013  44816\n",
       "5  2014  66954\n",
       "6  2015  74881\n",
       "7  2016  56507\n",
       "8  2017  52174\n",
       "9  2018    124"
      ]
     },
     "execution_count": 52,
     "metadata": {},
     "output_type": "execute_result"
    }
   ],
   "source": [
    "data "
   ]
  },
  {
   "cell_type": "code",
   "execution_count": 53,
   "metadata": {
    "colab": {
     "base_uri": "https://localhost:8080/",
     "height": 574
    },
    "id": "reL4_-KQUzsA",
    "outputId": "b2d11d0d-4c13-4b10-d459-d7bd937b2805"
   },
   "outputs": [
    {
     "data": {
      "text/plain": [
       "[<matplotlib.lines.Line2D at 0x1ec0d70ab88>]"
      ]
     },
     "execution_count": 53,
     "metadata": {},
     "output_type": "execute_result"
    },
    {
     "data": {
      "image/png": "[encoded data removed]",
      "text/plain": [
       "<Figure size 432x288 with 1 Axes>"
      ]
     },
     "metadata": {
      "needs_background": "light"
     },
     "output_type": "display_data"
    }
   ],
   "source": [
    "plt.plot(data['year'],data['name'])"
   ]
  },
  {
   "cell_type": "markdown",
   "metadata": {
    "id": "lzQOs417U0JY"
   },
   "source": [
    "# Барплоты"
   ]
  },
  {
   "cell_type": "code",
   "execution_count": 74,
   "metadata": {},
   "outputs": [],
   "source": [
    "data = kickstarter.groupby('state').agg({'goal':'mean','usd pledged':'mean'}).reset_index()"
   ]
  },
  {
   "cell_type": "code",
   "execution_count": 71,
   "metadata": {},
   "outputs": [
    {
     "data": {
      "text/html": [
       "<div>\n",
       "<style scoped>\n",
       "    .dataframe tbody tr th:only-of-type {\n",
       "        vertical-align: middle;\n",
       "    }\n",
       "\n",
       "    .dataframe tbody tr th {\n",
       "        vertical-align: top;\n",
       "    }\n",
       "\n",
       "    .dataframe thead th {\n",
       "        text-align: right;\n",
       "    }\n",
       "</style>\n",
       "<table border=\"1\" class=\"dataframe\">\n",
       "  <thead>\n",
       "    <tr style=\"text-align: right;\">\n",
       "      <th></th>\n",
       "      <th>state</th>\n",
       "      <th>name</th>\n",
       "      <th>backers</th>\n",
       "    </tr>\n",
       "  </thead>\n",
       "  <tbody>\n",
       "    <tr>\n",
       "      <td>0</td>\n",
       "      <td>canceled</td>\n",
       "      <td>38735</td>\n",
       "      <td>25.999948</td>\n",
       "    </tr>\n",
       "    <tr>\n",
       "      <td>1</td>\n",
       "      <td>failed</td>\n",
       "      <td>197511</td>\n",
       "      <td>16.428766</td>\n",
       "    </tr>\n",
       "    <tr>\n",
       "      <td>2</td>\n",
       "      <td>live</td>\n",
       "      <td>2798</td>\n",
       "      <td>68.124017</td>\n",
       "    </tr>\n",
       "    <tr>\n",
       "      <td>3</td>\n",
       "      <td>successful</td>\n",
       "      <td>133786</td>\n",
       "      <td>264.188368</td>\n",
       "    </tr>\n",
       "    <tr>\n",
       "      <td>4</td>\n",
       "      <td>suspended</td>\n",
       "      <td>1843</td>\n",
       "      <td>105.253391</td>\n",
       "    </tr>\n",
       "  </tbody>\n",
       "</table>\n",
       "</div>"
      ],
      "text/plain": [
       "        state    name     backers\n",
       "0    canceled   38735   25.999948\n",
       "1      failed  197511   16.428766\n",
       "2        live    2798   68.124017\n",
       "3  successful  133786  264.188368\n",
       "4   suspended    1843  105.253391"
      ]
     },
     "execution_count": 71,
     "metadata": {},
     "output_type": "execute_result"
    }
   ],
   "source": [
    "data"
   ]
  },
  {
   "cell_type": "code",
   "execution_count": 75,
   "metadata": {
    "colab": {
     "base_uri": "https://localhost:8080/",
     "height": 283
    },
    "id": "z6bivfruqQVV",
    "outputId": "38a08edd-78d4-4d30-de27-d8a798cc944a"
   },
   "outputs": [
    {
     "data": {
      "image/png": "[encoded data removed]",
      "text/plain": [
       "<Figure size 432x288 with 1 Axes>"
      ]
     },
     "metadata": {
      "needs_background": "light"
     },
     "output_type": "display_data"
    }
   ],
   "source": [
    "plt.barh(data['state'],data['goal'])\n",
    "plt.barh(data['state'],data['usd pledged'])\n",
    "plt.show()"
   ]
  },
  {
   "cell_type": "markdown",
   "metadata": {
    "id": "DvmaTY6bU5Uy"
   },
   "source": [
    "# Пайчарт"
   ]
  },
  {
   "cell_type": "code",
   "execution_count": null,
   "metadata": {
    "colab": {
     "base_uri": "https://localhost:8080/",
     "height": 411
    },
    "id": "QLCmk1gdqemy",
    "outputId": "2834c10c-5fad-447f-da19-7fc6e54684f6"
   },
   "outputs": [
    {
     "data": {
      "image/png": "[encoded data removed]",
      "text/plain": [
       "<Figure size 504x504 with 1 Axes>"
      ]
     },
     "metadata": {
      "tags": []
     },
     "output_type": "display_data"
    }
   ],
   "source": [
    "plt.figure(figsize=(7,7))\n",
    "plt.pie(data['name'],labels=data['year'],autopct = '% 1.2f %% ')\n",
    "plt.show()"
   ]
  },
  {
   "cell_type": "markdown",
   "metadata": {
    "id": "kfJ1gWM-U74B"
   },
   "source": [
    "# Скаттерплоты. Корреляция"
   ]
  },
  {
   "cell_type": "code",
   "execution_count": 78,
   "metadata": {
    "colab": {
     "base_uri": "https://localhost:8080/",
     "height": 439
    },
    "id": "iG26mvtJq_02",
    "outputId": "5732be60-00b6-4398-fbc7-56c2c3d34e4b"
   },
   "outputs": [
    {
     "data": {
      "image/png": "[encoded data removed]",
      "text/plain": [
       "<Figure size 504x504 with 1 Axes>"
      ]
     },
     "metadata": {
      "needs_background": "light"
     },
     "output_type": "display_data"
    }
   ],
   "source": [
    "plt.figure(figsize=(7,7))\n",
    "plt.scatter(kickstarter['backers'],kickstarter['usd pledged'])\n",
    "plt.show()"
   ]
  },
  {
   "attachments": {},
   "cell_type": "markdown",
   "metadata": {},
   "source": [
    "<img src='https://gigabaza.ru/images/10/18849/589f89f0.gif'>"
   ]
  },
  {
   "cell_type": "markdown",
   "metadata": {},
   "source": [
    "<img src='https://statanaliz.info/wp-content/uploads/2019/04/corr1.png'>"
   ]
  },
  {
   "cell_type": "code",
   "execution_count": 79,
   "metadata": {
    "colab": {
     "base_uri": "https://localhost:8080/",
     "height": 275
    },
    "id": "m5PNRzYNrN1w",
    "outputId": "1d5c8404-30ba-4c95-a0bc-a6a325ad297e"
   },
   "outputs": [
    {
     "data": {
      "text/html": [
       "<style  type=\"text/css\" >\n",
       "    #T_39c8853a_df53_11eb_828c_04d4c4e051f8row0_col0 {\n",
       "            background-color:  #67001f;\n",
       "            color:  #f1f1f1;\n",
       "        }    #T_39c8853a_df53_11eb_828c_04d4c4e051f8row0_col1 {\n",
       "            background-color:  #063264;\n",
       "            color:  #f1f1f1;\n",
       "        }    #T_39c8853a_df53_11eb_828c_04d4c4e051f8row0_col2 {\n",
       "            background-color:  #0c3d73;\n",
       "            color:  #f1f1f1;\n",
       "        }    #T_39c8853a_df53_11eb_828c_04d4c4e051f8row0_col3 {\n",
       "            background-color:  #0d3f76;\n",
       "            color:  #f1f1f1;\n",
       "        }    #T_39c8853a_df53_11eb_828c_04d4c4e051f8row0_col4 {\n",
       "            background-color:  #0a3b70;\n",
       "            color:  #f1f1f1;\n",
       "        }    #T_39c8853a_df53_11eb_828c_04d4c4e051f8row0_col5 {\n",
       "            background-color:  #266caf;\n",
       "            color:  #f1f1f1;\n",
       "        }    #T_39c8853a_df53_11eb_828c_04d4c4e051f8row0_col6 {\n",
       "            background-color:  #185493;\n",
       "            color:  #f1f1f1;\n",
       "        }    #T_39c8853a_df53_11eb_828c_04d4c4e051f8row0_col7 {\n",
       "            background-color:  #246aae;\n",
       "            color:  #f1f1f1;\n",
       "        }    #T_39c8853a_df53_11eb_828c_04d4c4e051f8row0_col8 {\n",
       "            background-color:  #0e4179;\n",
       "            color:  #f1f1f1;\n",
       "        }    #T_39c8853a_df53_11eb_828c_04d4c4e051f8row0_col9 {\n",
       "            background-color:  #246aae;\n",
       "            color:  #f1f1f1;\n",
       "        }    #T_39c8853a_df53_11eb_828c_04d4c4e051f8row0_col10 {\n",
       "            background-color:  #246aae;\n",
       "            color:  #f1f1f1;\n",
       "        }    #T_39c8853a_df53_11eb_828c_04d4c4e051f8row1_col0 {\n",
       "            background-color:  #063264;\n",
       "            color:  #f1f1f1;\n",
       "        }    #T_39c8853a_df53_11eb_828c_04d4c4e051f8row1_col1 {\n",
       "            background-color:  #67001f;\n",
       "            color:  #f1f1f1;\n",
       "        }    #T_39c8853a_df53_11eb_828c_04d4c4e051f8row1_col2 {\n",
       "            background-color:  #0e4179;\n",
       "            color:  #f1f1f1;\n",
       "        }    #T_39c8853a_df53_11eb_828c_04d4c4e051f8row1_col3 {\n",
       "            background-color:  #0e4179;\n",
       "            color:  #f1f1f1;\n",
       "        }    #T_39c8853a_df53_11eb_828c_04d4c4e051f8row1_col4 {\n",
       "            background-color:  #0c3d73;\n",
       "            color:  #f1f1f1;\n",
       "        }    #T_39c8853a_df53_11eb_828c_04d4c4e051f8row1_col5 {\n",
       "            background-color:  #2a71b2;\n",
       "            color:  #f1f1f1;\n",
       "        }    #T_39c8853a_df53_11eb_828c_04d4c4e051f8row1_col6 {\n",
       "            background-color:  #185493;\n",
       "            color:  #f1f1f1;\n",
       "        }    #T_39c8853a_df53_11eb_828c_04d4c4e051f8row1_col7 {\n",
       "            background-color:  #246aae;\n",
       "            color:  #f1f1f1;\n",
       "        }    #T_39c8853a_df53_11eb_828c_04d4c4e051f8row1_col8 {\n",
       "            background-color:  #0d3f76;\n",
       "            color:  #f1f1f1;\n",
       "        }    #T_39c8853a_df53_11eb_828c_04d4c4e051f8row1_col9 {\n",
       "            background-color:  #246aae;\n",
       "            color:  #f1f1f1;\n",
       "        }    #T_39c8853a_df53_11eb_828c_04d4c4e051f8row1_col10 {\n",
       "            background-color:  #266caf;\n",
       "            color:  #f1f1f1;\n",
       "        }    #T_39c8853a_df53_11eb_828c_04d4c4e051f8row2_col0 {\n",
       "            background-color:  #053061;\n",
       "            color:  #f1f1f1;\n",
       "        }    #T_39c8853a_df53_11eb_828c_04d4c4e051f8row2_col1 {\n",
       "            background-color:  #073467;\n",
       "            color:  #f1f1f1;\n",
       "        }    #T_39c8853a_df53_11eb_828c_04d4c4e051f8row2_col2 {\n",
       "            background-color:  #67001f;\n",
       "            color:  #f1f1f1;\n",
       "        }    #T_39c8853a_df53_11eb_828c_04d4c4e051f8row2_col3 {\n",
       "            background-color:  #ec9374;\n",
       "            color:  #000000;\n",
       "        }    #T_39c8853a_df53_11eb_828c_04d4c4e051f8row2_col4 {\n",
       "            background-color:  #bf3338;\n",
       "            color:  #f1f1f1;\n",
       "        }    #T_39c8853a_df53_11eb_828c_04d4c4e051f8row2_col5 {\n",
       "            background-color:  #2e77b5;\n",
       "            color:  #000000;\n",
       "        }    #T_39c8853a_df53_11eb_828c_04d4c4e051f8row2_col6 {\n",
       "            background-color:  #185493;\n",
       "            color:  #f1f1f1;\n",
       "        }    #T_39c8853a_df53_11eb_828c_04d4c4e051f8row2_col7 {\n",
       "            background-color:  #1d5fa2;\n",
       "            color:  #f1f1f1;\n",
       "        }    #T_39c8853a_df53_11eb_828c_04d4c4e051f8row2_col8 {\n",
       "            background-color:  #0e4179;\n",
       "            color:  #f1f1f1;\n",
       "        }    #T_39c8853a_df53_11eb_828c_04d4c4e051f8row2_col9 {\n",
       "            background-color:  #276eb0;\n",
       "            color:  #f1f1f1;\n",
       "        }    #T_39c8853a_df53_11eb_828c_04d4c4e051f8row2_col10 {\n",
       "            background-color:  #266caf;\n",
       "            color:  #f1f1f1;\n",
       "        }    #T_39c8853a_df53_11eb_828c_04d4c4e051f8row3_col0 {\n",
       "            background-color:  #053061;\n",
       "            color:  #f1f1f1;\n",
       "        }    #T_39c8853a_df53_11eb_828c_04d4c4e051f8row3_col1 {\n",
       "            background-color:  #063264;\n",
       "            color:  #f1f1f1;\n",
       "        }    #T_39c8853a_df53_11eb_828c_04d4c4e051f8row3_col2 {\n",
       "            background-color:  #ec9374;\n",
       "            color:  #000000;\n",
       "        }    #T_39c8853a_df53_11eb_828c_04d4c4e051f8row3_col3 {\n",
       "            background-color:  #67001f;\n",
       "            color:  #f1f1f1;\n",
       "        }    #T_39c8853a_df53_11eb_828c_04d4c4e051f8row3_col4 {\n",
       "            background-color:  #f2a17f;\n",
       "            color:  #000000;\n",
       "        }    #T_39c8853a_df53_11eb_828c_04d4c4e051f8row3_col5 {\n",
       "            background-color:  #2a71b2;\n",
       "            color:  #f1f1f1;\n",
       "        }    #T_39c8853a_df53_11eb_828c_04d4c4e051f8row3_col6 {\n",
       "            background-color:  #175290;\n",
       "            color:  #f1f1f1;\n",
       "        }    #T_39c8853a_df53_11eb_828c_04d4c4e051f8row3_col7 {\n",
       "            background-color:  #1d5fa2;\n",
       "            color:  #f1f1f1;\n",
       "        }    #T_39c8853a_df53_11eb_828c_04d4c4e051f8row3_col8 {\n",
       "            background-color:  #0d3f76;\n",
       "            color:  #f1f1f1;\n",
       "        }    #T_39c8853a_df53_11eb_828c_04d4c4e051f8row3_col9 {\n",
       "            background-color:  #2870b1;\n",
       "            color:  #f1f1f1;\n",
       "        }    #T_39c8853a_df53_11eb_828c_04d4c4e051f8row3_col10 {\n",
       "            background-color:  #246aae;\n",
       "            color:  #f1f1f1;\n",
       "        }    #T_39c8853a_df53_11eb_828c_04d4c4e051f8row4_col0 {\n",
       "            background-color:  #053061;\n",
       "            color:  #f1f1f1;\n",
       "        }    #T_39c8853a_df53_11eb_828c_04d4c4e051f8row4_col1 {\n",
       "            background-color:  #073467;\n",
       "            color:  #f1f1f1;\n",
       "        }    #T_39c8853a_df53_11eb_828c_04d4c4e051f8row4_col2 {\n",
       "            background-color:  #bf3338;\n",
       "            color:  #f1f1f1;\n",
       "        }    #T_39c8853a_df53_11eb_828c_04d4c4e051f8row4_col3 {\n",
       "            background-color:  #f2a17f;\n",
       "            color:  #000000;\n",
       "        }    #T_39c8853a_df53_11eb_828c_04d4c4e051f8row4_col4 {\n",
       "            background-color:  #67001f;\n",
       "            color:  #f1f1f1;\n",
       "        }    #T_39c8853a_df53_11eb_828c_04d4c4e051f8row4_col5 {\n",
       "            background-color:  #2369ad;\n",
       "            color:  #f1f1f1;\n",
       "        }    #T_39c8853a_df53_11eb_828c_04d4c4e051f8row4_col6 {\n",
       "            background-color:  #15508d;\n",
       "            color:  #f1f1f1;\n",
       "        }    #T_39c8853a_df53_11eb_828c_04d4c4e051f8row4_col7 {\n",
       "            background-color:  #1f63a8;\n",
       "            color:  #f1f1f1;\n",
       "        }    #T_39c8853a_df53_11eb_828c_04d4c4e051f8row4_col8 {\n",
       "            background-color:  #0d3f76;\n",
       "            color:  #f1f1f1;\n",
       "        }    #T_39c8853a_df53_11eb_828c_04d4c4e051f8row4_col9 {\n",
       "            background-color:  #276eb0;\n",
       "            color:  #f1f1f1;\n",
       "        }    #T_39c8853a_df53_11eb_828c_04d4c4e051f8row4_col10 {\n",
       "            background-color:  #266caf;\n",
       "            color:  #f1f1f1;\n",
       "        }    #T_39c8853a_df53_11eb_828c_04d4c4e051f8row5_col0 {\n",
       "            background-color:  #053061;\n",
       "            color:  #f1f1f1;\n",
       "        }    #T_39c8853a_df53_11eb_828c_04d4c4e051f8row5_col1 {\n",
       "            background-color:  #09386d;\n",
       "            color:  #f1f1f1;\n",
       "        }    #T_39c8853a_df53_11eb_828c_04d4c4e051f8row5_col2 {\n",
       "            background-color:  #134c87;\n",
       "            color:  #f1f1f1;\n",
       "        }    #T_39c8853a_df53_11eb_828c_04d4c4e051f8row5_col3 {\n",
       "            background-color:  #114781;\n",
       "            color:  #f1f1f1;\n",
       "        }    #T_39c8853a_df53_11eb_828c_04d4c4e051f8row5_col4 {\n",
       "            background-color:  #08366a;\n",
       "            color:  #f1f1f1;\n",
       "        }    #T_39c8853a_df53_11eb_828c_04d4c4e051f8row5_col5 {\n",
       "            background-color:  #67001f;\n",
       "            color:  #f1f1f1;\n",
       "        }    #T_39c8853a_df53_11eb_828c_04d4c4e051f8row5_col6 {\n",
       "            background-color:  #053061;\n",
       "            color:  #f1f1f1;\n",
       "        }    #T_39c8853a_df53_11eb_828c_04d4c4e051f8row5_col7 {\n",
       "            background-color:  #1b5a9c;\n",
       "            color:  #f1f1f1;\n",
       "        }    #T_39c8853a_df53_11eb_828c_04d4c4e051f8row5_col8 {\n",
       "            background-color:  #0d3f76;\n",
       "            color:  #f1f1f1;\n",
       "        }    #T_39c8853a_df53_11eb_828c_04d4c4e051f8row5_col9 {\n",
       "            background-color:  #337eb8;\n",
       "            color:  #000000;\n",
       "        }    #T_39c8853a_df53_11eb_828c_04d4c4e051f8row5_col10 {\n",
       "            background-color:  #053061;\n",
       "            color:  #f1f1f1;\n",
       "        }    #T_39c8853a_df53_11eb_828c_04d4c4e051f8row6_col0 {\n",
       "            background-color:  #053061;\n",
       "            color:  #f1f1f1;\n",
       "        }    #T_39c8853a_df53_11eb_828c_04d4c4e051f8row6_col1 {\n",
       "            background-color:  #053061;\n",
       "            color:  #f1f1f1;\n",
       "        }    #T_39c8853a_df53_11eb_828c_04d4c4e051f8row6_col2 {\n",
       "            background-color:  #0d3f76;\n",
       "            color:  #f1f1f1;\n",
       "        }    #T_39c8853a_df53_11eb_828c_04d4c4e051f8row6_col3 {\n",
       "            background-color:  #0c3d73;\n",
       "            color:  #f1f1f1;\n",
       "        }    #T_39c8853a_df53_11eb_828c_04d4c4e051f8row6_col4 {\n",
       "            background-color:  #08366a;\n",
       "            color:  #f1f1f1;\n",
       "        }    #T_39c8853a_df53_11eb_828c_04d4c4e051f8row6_col5 {\n",
       "            background-color:  #124984;\n",
       "            color:  #f1f1f1;\n",
       "        }    #T_39c8853a_df53_11eb_828c_04d4c4e051f8row6_col6 {\n",
       "            background-color:  #67001f;\n",
       "            color:  #f1f1f1;\n",
       "        }    #T_39c8853a_df53_11eb_828c_04d4c4e051f8row6_col7 {\n",
       "            background-color:  #1f63a8;\n",
       "            color:  #f1f1f1;\n",
       "        }    #T_39c8853a_df53_11eb_828c_04d4c4e051f8row6_col8 {\n",
       "            background-color:  #053061;\n",
       "            color:  #f1f1f1;\n",
       "        }    #T_39c8853a_df53_11eb_828c_04d4c4e051f8row6_col9 {\n",
       "            background-color:  #266caf;\n",
       "            color:  #f1f1f1;\n",
       "        }    #T_39c8853a_df53_11eb_828c_04d4c4e051f8row6_col10 {\n",
       "            background-color:  #2267ac;\n",
       "            color:  #f1f1f1;\n",
       "        }    #T_39c8853a_df53_11eb_828c_04d4c4e051f8row7_col0 {\n",
       "            background-color:  #053061;\n",
       "            color:  #f1f1f1;\n",
       "        }    #T_39c8853a_df53_11eb_828c_04d4c4e051f8row7_col1 {\n",
       "            background-color:  #053061;\n",
       "            color:  #f1f1f1;\n",
       "        }    #T_39c8853a_df53_11eb_828c_04d4c4e051f8row7_col2 {\n",
       "            background-color:  #053061;\n",
       "            color:  #f1f1f1;\n",
       "        }    #T_39c8853a_df53_11eb_828c_04d4c4e051f8row7_col3 {\n",
       "            background-color:  #053061;\n",
       "            color:  #f1f1f1;\n",
       "        }    #T_39c8853a_df53_11eb_828c_04d4c4e051f8row7_col4 {\n",
       "            background-color:  #053061;\n",
       "            color:  #f1f1f1;\n",
       "        }    #T_39c8853a_df53_11eb_828c_04d4c4e051f8row7_col5 {\n",
       "            background-color:  #1c5c9f;\n",
       "            color:  #f1f1f1;\n",
       "        }    #T_39c8853a_df53_11eb_828c_04d4c4e051f8row7_col6 {\n",
       "            background-color:  #134c87;\n",
       "            color:  #f1f1f1;\n",
       "        }    #T_39c8853a_df53_11eb_828c_04d4c4e051f8row7_col7 {\n",
       "            background-color:  #67001f;\n",
       "            color:  #f1f1f1;\n",
       "        }    #T_39c8853a_df53_11eb_828c_04d4c4e051f8row7_col8 {\n",
       "            background-color:  #0e4179;\n",
       "            color:  #f1f1f1;\n",
       "        }    #T_39c8853a_df53_11eb_828c_04d4c4e051f8row7_col9 {\n",
       "            background-color:  #053061;\n",
       "            color:  #f1f1f1;\n",
       "        }    #T_39c8853a_df53_11eb_828c_04d4c4e051f8row7_col10 {\n",
       "            background-color:  #276eb0;\n",
       "            color:  #f1f1f1;\n",
       "        }    #T_39c8853a_df53_11eb_828c_04d4c4e051f8row8_col0 {\n",
       "            background-color:  #053061;\n",
       "            color:  #f1f1f1;\n",
       "        }    #T_39c8853a_df53_11eb_828c_04d4c4e051f8row8_col1 {\n",
       "            background-color:  #053061;\n",
       "            color:  #f1f1f1;\n",
       "        }    #T_39c8853a_df53_11eb_828c_04d4c4e051f8row8_col2 {\n",
       "            background-color:  #0c3d73;\n",
       "            color:  #f1f1f1;\n",
       "        }    #T_39c8853a_df53_11eb_828c_04d4c4e051f8row8_col3 {\n",
       "            background-color:  #0c3d73;\n",
       "            color:  #f1f1f1;\n",
       "        }    #T_39c8853a_df53_11eb_828c_04d4c4e051f8row8_col4 {\n",
       "            background-color:  #09386d;\n",
       "            color:  #f1f1f1;\n",
       "        }    #T_39c8853a_df53_11eb_828c_04d4c4e051f8row8_col5 {\n",
       "            background-color:  #246aae;\n",
       "            color:  #f1f1f1;\n",
       "        }    #T_39c8853a_df53_11eb_828c_04d4c4e051f8row8_col6 {\n",
       "            background-color:  #0f437b;\n",
       "            color:  #f1f1f1;\n",
       "        }    #T_39c8853a_df53_11eb_828c_04d4c4e051f8row8_col7 {\n",
       "            background-color:  #266caf;\n",
       "            color:  #f1f1f1;\n",
       "        }    #T_39c8853a_df53_11eb_828c_04d4c4e051f8row8_col8 {\n",
       "            background-color:  #67001f;\n",
       "            color:  #f1f1f1;\n",
       "        }    #T_39c8853a_df53_11eb_828c_04d4c4e051f8row8_col9 {\n",
       "            background-color:  #266caf;\n",
       "            color:  #f1f1f1;\n",
       "        }    #T_39c8853a_df53_11eb_828c_04d4c4e051f8row8_col10 {\n",
       "            background-color:  #2369ad;\n",
       "            color:  #f1f1f1;\n",
       "        }    #T_39c8853a_df53_11eb_828c_04d4c4e051f8row9_col0 {\n",
       "            background-color:  #053061;\n",
       "            color:  #f1f1f1;\n",
       "        }    #T_39c8853a_df53_11eb_828c_04d4c4e051f8row9_col1 {\n",
       "            background-color:  #053061;\n",
       "            color:  #f1f1f1;\n",
       "        }    #T_39c8853a_df53_11eb_828c_04d4c4e051f8row9_col2 {\n",
       "            background-color:  #0e4179;\n",
       "            color:  #f1f1f1;\n",
       "        }    #T_39c8853a_df53_11eb_828c_04d4c4e051f8row9_col3 {\n",
       "            background-color:  #10457e;\n",
       "            color:  #f1f1f1;\n",
       "        }    #T_39c8853a_df53_11eb_828c_04d4c4e051f8row9_col4 {\n",
       "            background-color:  #0c3d73;\n",
       "            color:  #f1f1f1;\n",
       "        }    #T_39c8853a_df53_11eb_828c_04d4c4e051f8row9_col5 {\n",
       "            background-color:  #337eb8;\n",
       "            color:  #000000;\n",
       "        }    #T_39c8853a_df53_11eb_828c_04d4c4e051f8row9_col6 {\n",
       "            background-color:  #195696;\n",
       "            color:  #f1f1f1;\n",
       "        }    #T_39c8853a_df53_11eb_828c_04d4c4e051f8row9_col7 {\n",
       "            background-color:  #053061;\n",
       "            color:  #f1f1f1;\n",
       "        }    #T_39c8853a_df53_11eb_828c_04d4c4e051f8row9_col8 {\n",
       "            background-color:  #0e4179;\n",
       "            color:  #f1f1f1;\n",
       "        }    #T_39c8853a_df53_11eb_828c_04d4c4e051f8row9_col9 {\n",
       "            background-color:  #67001f;\n",
       "            color:  #f1f1f1;\n",
       "        }    #T_39c8853a_df53_11eb_828c_04d4c4e051f8row9_col10 {\n",
       "            background-color:  #2267ac;\n",
       "            color:  #f1f1f1;\n",
       "        }    #T_39c8853a_df53_11eb_828c_04d4c4e051f8row10_col0 {\n",
       "            background-color:  #053061;\n",
       "            color:  #f1f1f1;\n",
       "        }    #T_39c8853a_df53_11eb_828c_04d4c4e051f8row10_col1 {\n",
       "            background-color:  #063264;\n",
       "            color:  #f1f1f1;\n",
       "        }    #T_39c8853a_df53_11eb_828c_04d4c4e051f8row10_col2 {\n",
       "            background-color:  #0c3d73;\n",
       "            color:  #f1f1f1;\n",
       "        }    #T_39c8853a_df53_11eb_828c_04d4c4e051f8row10_col3 {\n",
       "            background-color:  #0c3d73;\n",
       "            color:  #f1f1f1;\n",
       "        }    #T_39c8853a_df53_11eb_828c_04d4c4e051f8row10_col4 {\n",
       "            background-color:  #0a3b70;\n",
       "            color:  #f1f1f1;\n",
       "        }    #T_39c8853a_df53_11eb_828c_04d4c4e051f8row10_col5 {\n",
       "            background-color:  #053061;\n",
       "            color:  #f1f1f1;\n",
       "        }    #T_39c8853a_df53_11eb_828c_04d4c4e051f8row10_col6 {\n",
       "            background-color:  #15508d;\n",
       "            color:  #f1f1f1;\n",
       "        }    #T_39c8853a_df53_11eb_828c_04d4c4e051f8row10_col7 {\n",
       "            background-color:  #266caf;\n",
       "            color:  #f1f1f1;\n",
       "        }    #T_39c8853a_df53_11eb_828c_04d4c4e051f8row10_col8 {\n",
       "            background-color:  #0c3d73;\n",
       "            color:  #f1f1f1;\n",
       "        }    #T_39c8853a_df53_11eb_828c_04d4c4e051f8row10_col9 {\n",
       "            background-color:  #2267ac;\n",
       "            color:  #f1f1f1;\n",
       "        }    #T_39c8853a_df53_11eb_828c_04d4c4e051f8row10_col10 {\n",
       "            background-color:  #67001f;\n",
       "            color:  #f1f1f1;\n",
       "        }</style><table id=\"T_39c8853a_df53_11eb_828c_04d4c4e051f8\" ><thead>    <tr>        <th class=\"blank level0\" ></th>        <th class=\"col_heading level0 col0\" >index</th>        <th class=\"col_heading level0 col1\" >goal</th>        <th class=\"col_heading level0 col2\" >pledged</th>        <th class=\"col_heading level0 col3\" >backers</th>        <th class=\"col_heading level0 col4\" >usd pledged</th>        <th class=\"col_heading level0 col5\" >year</th>        <th class=\"col_heading level0 col6\" >month</th>        <th class=\"col_heading level0 col7\" >dayofweek</th>        <th class=\"col_heading level0 col8\" >day</th>        <th class=\"col_heading level0 col9\" >hour</th>        <th class=\"col_heading level0 col10\" >duration</th>    </tr></thead><tbody>\n",
       "                <tr>\n",
       "                        <th id=\"T_39c8853a_df53_11eb_828c_04d4c4e051f8level0_row0\" class=\"row_heading level0 row0\" >index</th>\n",
       "                        <td id=\"T_39c8853a_df53_11eb_828c_04d4c4e051f8row0_col0\" class=\"data row0 col0\" >1</td>\n",
       "                        <td id=\"T_39c8853a_df53_11eb_828c_04d4c4e051f8row0_col1\" class=\"data row0 col1\" >0.00260162</td>\n",
       "                        <td id=\"T_39c8853a_df53_11eb_828c_04d4c4e051f8row0_col2\" class=\"data row0 col2\" >0.000581187</td>\n",
       "                        <td id=\"T_39c8853a_df53_11eb_828c_04d4c4e051f8row0_col3\" class=\"data row0 col3\" >0.000110553</td>\n",
       "                        <td id=\"T_39c8853a_df53_11eb_828c_04d4c4e051f8row0_col4\" class=\"data row0 col4\" >0.000703632</td>\n",
       "                        <td id=\"T_39c8853a_df53_11eb_828c_04d4c4e051f8row0_col5\" class=\"data row0 col5\" >0.000663011</td>\n",
       "                        <td id=\"T_39c8853a_df53_11eb_828c_04d4c4e051f8row0_col6\" class=\"data row0 col6\" >0.000364717</td>\n",
       "                        <td id=\"T_39c8853a_df53_11eb_828c_04d4c4e051f8row0_col7\" class=\"data row0 col7\" >0.00152814</td>\n",
       "                        <td id=\"T_39c8853a_df53_11eb_828c_04d4c4e051f8row0_col8\" class=\"data row0 col8\" >0.000314263</td>\n",
       "                        <td id=\"T_39c8853a_df53_11eb_828c_04d4c4e051f8row0_col9\" class=\"data row0 col9\" >-0.00095795</td>\n",
       "                        <td id=\"T_39c8853a_df53_11eb_828c_04d4c4e051f8row0_col10\" class=\"data row0 col10\" >-0.00183839</td>\n",
       "            </tr>\n",
       "            <tr>\n",
       "                        <th id=\"T_39c8853a_df53_11eb_828c_04d4c4e051f8level0_row1\" class=\"row_heading level0 row1\" >goal</th>\n",
       "                        <td id=\"T_39c8853a_df53_11eb_828c_04d4c4e051f8row1_col0\" class=\"data row1 col0\" >0.00260162</td>\n",
       "                        <td id=\"T_39c8853a_df53_11eb_828c_04d4c4e051f8row1_col1\" class=\"data row1 col1\" >1</td>\n",
       "                        <td id=\"T_39c8853a_df53_11eb_828c_04d4c4e051f8row1_col2\" class=\"data row1 col2\" >0.00732719</td>\n",
       "                        <td id=\"T_39c8853a_df53_11eb_828c_04d4c4e051f8row1_col3\" class=\"data row1 col3\" >0.00396856</td>\n",
       "                        <td id=\"T_39c8853a_df53_11eb_828c_04d4c4e051f8row1_col4\" class=\"data row1 col4\" >0.0055332</td>\n",
       "                        <td id=\"T_39c8853a_df53_11eb_828c_04d4c4e051f8row1_col5\" class=\"data row1 col5\" >0.0158656</td>\n",
       "                        <td id=\"T_39c8853a_df53_11eb_828c_04d4c4e051f8row1_col6\" class=\"data row1 col6\" >0.00116358</td>\n",
       "                        <td id=\"T_39c8853a_df53_11eb_828c_04d4c4e051f8row1_col7\" class=\"data row1 col7\" >-0.00201266</td>\n",
       "                        <td id=\"T_39c8853a_df53_11eb_828c_04d4c4e051f8row1_col8\" class=\"data row1 col8\" >-0.00260344</td>\n",
       "                        <td id=\"T_39c8853a_df53_11eb_828c_04d4c4e051f8row1_col9\" class=\"data row1 col9\" >0.00123555</td>\n",
       "                        <td id=\"T_39c8853a_df53_11eb_828c_04d4c4e051f8row1_col10\" class=\"data row1 col10\" >0.00431077</td>\n",
       "            </tr>\n",
       "            <tr>\n",
       "                        <th id=\"T_39c8853a_df53_11eb_828c_04d4c4e051f8level0_row2\" class=\"row_heading level0 row2\" >pledged</th>\n",
       "                        <td id=\"T_39c8853a_df53_11eb_828c_04d4c4e051f8row2_col0\" class=\"data row2 col0\" >0.000581187</td>\n",
       "                        <td id=\"T_39c8853a_df53_11eb_828c_04d4c4e051f8row2_col1\" class=\"data row2 col1\" >0.00732719</td>\n",
       "                        <td id=\"T_39c8853a_df53_11eb_828c_04d4c4e051f8row2_col2\" class=\"data row2 col2\" >1</td>\n",
       "                        <td id=\"T_39c8853a_df53_11eb_828c_04d4c4e051f8row2_col3\" class=\"data row2 col3\" >0.717858</td>\n",
       "                        <td id=\"T_39c8853a_df53_11eb_828c_04d4c4e051f8row2_col4\" class=\"data row2 col4\" >0.857372</td>\n",
       "                        <td id=\"T_39c8853a_df53_11eb_828c_04d4c4e051f8row2_col5\" class=\"data row2 col5\" >0.0298071</td>\n",
       "                        <td id=\"T_39c8853a_df53_11eb_828c_04d4c4e051f8row2_col6\" class=\"data row2 col6\" >0.00242799</td>\n",
       "                        <td id=\"T_39c8853a_df53_11eb_828c_04d4c4e051f8row2_col7\" class=\"data row2 col7\" >-0.0257185</td>\n",
       "                        <td id=\"T_39c8853a_df53_11eb_828c_04d4c4e051f8row2_col8\" class=\"data row2 col8\" >-8.61636e-06</td>\n",
       "                        <td id=\"T_39c8853a_df53_11eb_828c_04d4c4e051f8row2_col9\" class=\"data row2 col9\" >0.00929347</td>\n",
       "                        <td id=\"T_39c8853a_df53_11eb_828c_04d4c4e051f8row2_col10\" class=\"data row2 col10\" >0.000817043</td>\n",
       "            </tr>\n",
       "            <tr>\n",
       "                        <th id=\"T_39c8853a_df53_11eb_828c_04d4c4e051f8level0_row3\" class=\"row_heading level0 row3\" >backers</th>\n",
       "                        <td id=\"T_39c8853a_df53_11eb_828c_04d4c4e051f8row3_col0\" class=\"data row3 col0\" >0.000110553</td>\n",
       "                        <td id=\"T_39c8853a_df53_11eb_828c_04d4c4e051f8row3_col1\" class=\"data row3 col1\" >0.00396856</td>\n",
       "                        <td id=\"T_39c8853a_df53_11eb_828c_04d4c4e051f8row3_col2\" class=\"data row3 col2\" >0.717858</td>\n",
       "                        <td id=\"T_39c8853a_df53_11eb_828c_04d4c4e051f8row3_col3\" class=\"data row3 col3\" >1</td>\n",
       "                        <td id=\"T_39c8853a_df53_11eb_828c_04d4c4e051f8row3_col4\" class=\"data row3 col4\" >0.697425</td>\n",
       "                        <td id=\"T_39c8853a_df53_11eb_828c_04d4c4e051f8row3_col5\" class=\"data row3 col5\" >0.0167964</td>\n",
       "                        <td id=\"T_39c8853a_df53_11eb_828c_04d4c4e051f8row3_col6\" class=\"data row3 col6\" >-0.00279825</td>\n",
       "                        <td id=\"T_39c8853a_df53_11eb_828c_04d4c4e051f8row3_col7\" class=\"data row3 col7\" >-0.0282091</td>\n",
       "                        <td id=\"T_39c8853a_df53_11eb_828c_04d4c4e051f8row3_col8\" class=\"data row3 col8\" >-0.00139595</td>\n",
       "                        <td id=\"T_39c8853a_df53_11eb_828c_04d4c4e051f8row3_col9\" class=\"data row3 col9\" >0.0122486</td>\n",
       "                        <td id=\"T_39c8853a_df53_11eb_828c_04d4c4e051f8row3_col10\" class=\"data row3 col10\" >-0.000822102</td>\n",
       "            </tr>\n",
       "            <tr>\n",
       "                        <th id=\"T_39c8853a_df53_11eb_828c_04d4c4e051f8level0_row4\" class=\"row_heading level0 row4\" >usd pledged</th>\n",
       "                        <td id=\"T_39c8853a_df53_11eb_828c_04d4c4e051f8row4_col0\" class=\"data row4 col0\" >0.000703632</td>\n",
       "                        <td id=\"T_39c8853a_df53_11eb_828c_04d4c4e051f8row4_col1\" class=\"data row4 col1\" >0.0055332</td>\n",
       "                        <td id=\"T_39c8853a_df53_11eb_828c_04d4c4e051f8row4_col2\" class=\"data row4 col2\" >0.857372</td>\n",
       "                        <td id=\"T_39c8853a_df53_11eb_828c_04d4c4e051f8row4_col3\" class=\"data row4 col3\" >0.697425</td>\n",
       "                        <td id=\"T_39c8853a_df53_11eb_828c_04d4c4e051f8row4_col4\" class=\"data row4 col4\" >1</td>\n",
       "                        <td id=\"T_39c8853a_df53_11eb_828c_04d4c4e051f8row4_col5\" class=\"data row4 col5\" >-0.00695863</td>\n",
       "                        <td id=\"T_39c8853a_df53_11eb_828c_04d4c4e051f8row4_col6\" class=\"data row4 col6\" >-0.00664774</td>\n",
       "                        <td id=\"T_39c8853a_df53_11eb_828c_04d4c4e051f8row4_col7\" class=\"data row4 col7\" >-0.0201693</td>\n",
       "                        <td id=\"T_39c8853a_df53_11eb_828c_04d4c4e051f8row4_col8\" class=\"data row4 col8\" >-0.00177868</td>\n",
       "                        <td id=\"T_39c8853a_df53_11eb_828c_04d4c4e051f8row4_col9\" class=\"data row4 col9\" >0.00726162</td>\n",
       "                        <td id=\"T_39c8853a_df53_11eb_828c_04d4c4e051f8row4_col10\" class=\"data row4 col10\" >0.000769486</td>\n",
       "            </tr>\n",
       "            <tr>\n",
       "                        <th id=\"T_39c8853a_df53_11eb_828c_04d4c4e051f8level0_row5\" class=\"row_heading level0 row5\" >year</th>\n",
       "                        <td id=\"T_39c8853a_df53_11eb_828c_04d4c4e051f8row5_col0\" class=\"data row5 col0\" >0.000663011</td>\n",
       "                        <td id=\"T_39c8853a_df53_11eb_828c_04d4c4e051f8row5_col1\" class=\"data row5 col1\" >0.0158656</td>\n",
       "                        <td id=\"T_39c8853a_df53_11eb_828c_04d4c4e051f8row5_col2\" class=\"data row5 col2\" >0.0298071</td>\n",
       "                        <td id=\"T_39c8853a_df53_11eb_828c_04d4c4e051f8row5_col3\" class=\"data row5 col3\" >0.0167964</td>\n",
       "                        <td id=\"T_39c8853a_df53_11eb_828c_04d4c4e051f8row5_col4\" class=\"data row5 col4\" >-0.00695863</td>\n",
       "                        <td id=\"T_39c8853a_df53_11eb_828c_04d4c4e051f8row5_col5\" class=\"data row5 col5\" >1</td>\n",
       "                        <td id=\"T_39c8853a_df53_11eb_828c_04d4c4e051f8row5_col6\" class=\"data row5 col6\" >-0.0720069</td>\n",
       "                        <td id=\"T_39c8853a_df53_11eb_828c_04d4c4e051f8row5_col7\" class=\"data row5 col7\" >-0.0344962</td>\n",
       "                        <td id=\"T_39c8853a_df53_11eb_828c_04d4c4e051f8row5_col8\" class=\"data row5 col8\" >-0.00359643</td>\n",
       "                        <td id=\"T_39c8853a_df53_11eb_828c_04d4c4e051f8row5_col9\" class=\"data row5 col9\" >0.0481044</td>\n",
       "                        <td id=\"T_39c8853a_df53_11eb_828c_04d4c4e051f8row5_col10\" class=\"data row5 col10\" >-0.127821</td>\n",
       "            </tr>\n",
       "            <tr>\n",
       "                        <th id=\"T_39c8853a_df53_11eb_828c_04d4c4e051f8level0_row6\" class=\"row_heading level0 row6\" >month</th>\n",
       "                        <td id=\"T_39c8853a_df53_11eb_828c_04d4c4e051f8row6_col0\" class=\"data row6 col0\" >0.000364717</td>\n",
       "                        <td id=\"T_39c8853a_df53_11eb_828c_04d4c4e051f8row6_col1\" class=\"data row6 col1\" >0.00116358</td>\n",
       "                        <td id=\"T_39c8853a_df53_11eb_828c_04d4c4e051f8row6_col2\" class=\"data row6 col2\" >0.00242799</td>\n",
       "                        <td id=\"T_39c8853a_df53_11eb_828c_04d4c4e051f8row6_col3\" class=\"data row6 col3\" >-0.00279825</td>\n",
       "                        <td id=\"T_39c8853a_df53_11eb_828c_04d4c4e051f8row6_col4\" class=\"data row6 col4\" >-0.00664774</td>\n",
       "                        <td id=\"T_39c8853a_df53_11eb_828c_04d4c4e051f8row6_col5\" class=\"data row6 col5\" >-0.0720069</td>\n",
       "                        <td id=\"T_39c8853a_df53_11eb_828c_04d4c4e051f8row6_col6\" class=\"data row6 col6\" >1</td>\n",
       "                        <td id=\"T_39c8853a_df53_11eb_828c_04d4c4e051f8row6_col7\" class=\"data row6 col7\" >-0.0166372</td>\n",
       "                        <td id=\"T_39c8853a_df53_11eb_828c_04d4c4e051f8row6_col8\" class=\"data row6 col8\" >-0.0325984</td>\n",
       "                        <td id=\"T_39c8853a_df53_11eb_828c_04d4c4e051f8row6_col9\" class=\"data row6 col9\" >0.00587928</td>\n",
       "                        <td id=\"T_39c8853a_df53_11eb_828c_04d4c4e051f8row6_col10\" class=\"data row6 col10\" >-0.00906115</td>\n",
       "            </tr>\n",
       "            <tr>\n",
       "                        <th id=\"T_39c8853a_df53_11eb_828c_04d4c4e051f8level0_row7\" class=\"row_heading level0 row7\" >dayofweek</th>\n",
       "                        <td id=\"T_39c8853a_df53_11eb_828c_04d4c4e051f8row7_col0\" class=\"data row7 col0\" >0.00152814</td>\n",
       "                        <td id=\"T_39c8853a_df53_11eb_828c_04d4c4e051f8row7_col1\" class=\"data row7 col1\" >-0.00201266</td>\n",
       "                        <td id=\"T_39c8853a_df53_11eb_828c_04d4c4e051f8row7_col2\" class=\"data row7 col2\" >-0.0257185</td>\n",
       "                        <td id=\"T_39c8853a_df53_11eb_828c_04d4c4e051f8row7_col3\" class=\"data row7 col3\" >-0.0282091</td>\n",
       "                        <td id=\"T_39c8853a_df53_11eb_828c_04d4c4e051f8row7_col4\" class=\"data row7 col4\" >-0.0201693</td>\n",
       "                        <td id=\"T_39c8853a_df53_11eb_828c_04d4c4e051f8row7_col5\" class=\"data row7 col5\" >-0.0344962</td>\n",
       "                        <td id=\"T_39c8853a_df53_11eb_828c_04d4c4e051f8row7_col6\" class=\"data row7 col6\" >-0.0166372</td>\n",
       "                        <td id=\"T_39c8853a_df53_11eb_828c_04d4c4e051f8row7_col7\" class=\"data row7 col7\" >1</td>\n",
       "                        <td id=\"T_39c8853a_df53_11eb_828c_04d4c4e051f8row7_col8\" class=\"data row7 col8\" >0.00162044</td>\n",
       "                        <td id=\"T_39c8853a_df53_11eb_828c_04d4c4e051f8row7_col9\" class=\"data row7 col9\" >-0.126019</td>\n",
       "                        <td id=\"T_39c8853a_df53_11eb_828c_04d4c4e051f8row7_col10\" class=\"data row7 col10\" >0.00529942</td>\n",
       "            </tr>\n",
       "            <tr>\n",
       "                        <th id=\"T_39c8853a_df53_11eb_828c_04d4c4e051f8level0_row8\" class=\"row_heading level0 row8\" >day</th>\n",
       "                        <td id=\"T_39c8853a_df53_11eb_828c_04d4c4e051f8row8_col0\" class=\"data row8 col0\" >0.000314263</td>\n",
       "                        <td id=\"T_39c8853a_df53_11eb_828c_04d4c4e051f8row8_col1\" class=\"data row8 col1\" >-0.00260344</td>\n",
       "                        <td id=\"T_39c8853a_df53_11eb_828c_04d4c4e051f8row8_col2\" class=\"data row8 col2\" >-8.61636e-06</td>\n",
       "                        <td id=\"T_39c8853a_df53_11eb_828c_04d4c4e051f8row8_col3\" class=\"data row8 col3\" >-0.00139595</td>\n",
       "                        <td id=\"T_39c8853a_df53_11eb_828c_04d4c4e051f8row8_col4\" class=\"data row8 col4\" >-0.00177868</td>\n",
       "                        <td id=\"T_39c8853a_df53_11eb_828c_04d4c4e051f8row8_col5\" class=\"data row8 col5\" >-0.00359643</td>\n",
       "                        <td id=\"T_39c8853a_df53_11eb_828c_04d4c4e051f8row8_col6\" class=\"data row8 col6\" >-0.0325984</td>\n",
       "                        <td id=\"T_39c8853a_df53_11eb_828c_04d4c4e051f8row8_col7\" class=\"data row8 col7\" >0.00162044</td>\n",
       "                        <td id=\"T_39c8853a_df53_11eb_828c_04d4c4e051f8row8_col8\" class=\"data row8 col8\" >1</td>\n",
       "                        <td id=\"T_39c8853a_df53_11eb_828c_04d4c4e051f8row8_col9\" class=\"data row8 col9\" >0.00363099</td>\n",
       "                        <td id=\"T_39c8853a_df53_11eb_828c_04d4c4e051f8row8_col10\" class=\"data row8 col10\" >-0.007247</td>\n",
       "            </tr>\n",
       "            <tr>\n",
       "                        <th id=\"T_39c8853a_df53_11eb_828c_04d4c4e051f8level0_row9\" class=\"row_heading level0 row9\" >hour</th>\n",
       "                        <td id=\"T_39c8853a_df53_11eb_828c_04d4c4e051f8row9_col0\" class=\"data row9 col0\" >-0.00095795</td>\n",
       "                        <td id=\"T_39c8853a_df53_11eb_828c_04d4c4e051f8row9_col1\" class=\"data row9 col1\" >0.00123555</td>\n",
       "                        <td id=\"T_39c8853a_df53_11eb_828c_04d4c4e051f8row9_col2\" class=\"data row9 col2\" >0.00929347</td>\n",
       "                        <td id=\"T_39c8853a_df53_11eb_828c_04d4c4e051f8row9_col3\" class=\"data row9 col3\" >0.0122486</td>\n",
       "                        <td id=\"T_39c8853a_df53_11eb_828c_04d4c4e051f8row9_col4\" class=\"data row9 col4\" >0.00726162</td>\n",
       "                        <td id=\"T_39c8853a_df53_11eb_828c_04d4c4e051f8row9_col5\" class=\"data row9 col5\" >0.0481044</td>\n",
       "                        <td id=\"T_39c8853a_df53_11eb_828c_04d4c4e051f8row9_col6\" class=\"data row9 col6\" >0.00587928</td>\n",
       "                        <td id=\"T_39c8853a_df53_11eb_828c_04d4c4e051f8row9_col7\" class=\"data row9 col7\" >-0.126019</td>\n",
       "                        <td id=\"T_39c8853a_df53_11eb_828c_04d4c4e051f8row9_col8\" class=\"data row9 col8\" >0.00363099</td>\n",
       "                        <td id=\"T_39c8853a_df53_11eb_828c_04d4c4e051f8row9_col9\" class=\"data row9 col9\" >1</td>\n",
       "                        <td id=\"T_39c8853a_df53_11eb_828c_04d4c4e051f8row9_col10\" class=\"data row9 col10\" >-0.010228</td>\n",
       "            </tr>\n",
       "            <tr>\n",
       "                        <th id=\"T_39c8853a_df53_11eb_828c_04d4c4e051f8level0_row10\" class=\"row_heading level0 row10\" >duration</th>\n",
       "                        <td id=\"T_39c8853a_df53_11eb_828c_04d4c4e051f8row10_col0\" class=\"data row10 col0\" >-0.00183839</td>\n",
       "                        <td id=\"T_39c8853a_df53_11eb_828c_04d4c4e051f8row10_col1\" class=\"data row10 col1\" >0.00431077</td>\n",
       "                        <td id=\"T_39c8853a_df53_11eb_828c_04d4c4e051f8row10_col2\" class=\"data row10 col2\" >0.000817043</td>\n",
       "                        <td id=\"T_39c8853a_df53_11eb_828c_04d4c4e051f8row10_col3\" class=\"data row10 col3\" >-0.000822102</td>\n",
       "                        <td id=\"T_39c8853a_df53_11eb_828c_04d4c4e051f8row10_col4\" class=\"data row10 col4\" >0.000769486</td>\n",
       "                        <td id=\"T_39c8853a_df53_11eb_828c_04d4c4e051f8row10_col5\" class=\"data row10 col5\" >-0.127821</td>\n",
       "                        <td id=\"T_39c8853a_df53_11eb_828c_04d4c4e051f8row10_col6\" class=\"data row10 col6\" >-0.00906115</td>\n",
       "                        <td id=\"T_39c8853a_df53_11eb_828c_04d4c4e051f8row10_col7\" class=\"data row10 col7\" >0.00529942</td>\n",
       "                        <td id=\"T_39c8853a_df53_11eb_828c_04d4c4e051f8row10_col8\" class=\"data row10 col8\" >-0.007247</td>\n",
       "                        <td id=\"T_39c8853a_df53_11eb_828c_04d4c4e051f8row10_col9\" class=\"data row10 col9\" >-0.010228</td>\n",
       "                        <td id=\"T_39c8853a_df53_11eb_828c_04d4c4e051f8row10_col10\" class=\"data row10 col10\" >1</td>\n",
       "            </tr>\n",
       "    </tbody></table>"
      ],
      "text/plain": [
       "<pandas.io.formats.style.Styler at 0x1ec157a6a48>"
      ]
     },
     "execution_count": 79,
     "metadata": {},
     "output_type": "execute_result"
    }
   ],
   "source": [
    "kickstarter.corr().style.background_gradient(\"RdBu_r\")"
   ]
  },
  {
   "cell_type": "markdown",
   "metadata": {
    "id": "7SotHZsqVE7F"
   },
   "source": [
    "# Проверка гипотез. p-value"
   ]
  },
  {
   "cell_type": "code",
   "execution_count": 160,
   "metadata": {},
   "outputs": [
    {
     "data": {
      "text/plain": [
       "array(['failed', 'canceled', 'successful', 'live', 'suspended'],\n",
       "      dtype=object)"
      ]
     },
     "execution_count": 160,
     "metadata": {},
     "output_type": "execute_result"
    }
   ],
   "source": [
    "kickstarter['state'].unique()"
   ]
  },
  {
   "cell_type": "markdown",
   "metadata": {},
   "source": [
    "## Классика"
   ]
  },
  {
   "cell_type": "markdown",
   "metadata": {},
   "source": [
    "<img src='https://be5.biz/ekonomika/e008/image/pic_186.jpg'>"
   ]
  },
  {
   "cell_type": "code",
   "execution_count": 80,
   "metadata": {
    "id": "eJAafLlAVEEU"
   },
   "outputs": [
    {
     "name": "stderr",
     "output_type": "stream",
     "text": [
      "C:\\Anaconda\\lib\\site-packages\\scipy\\stats\\morestats.py:1660: UserWarning: p-value may not be accurate for N > 5000.\n",
      "  warnings.warn(\"p-value may not be accurate for N > 5000.\")\n"
     ]
    }
   ],
   "source": [
    "stat,p_value = st.shapiro(kickstarter['backers'])\n"
   ]
  },
  {
   "cell_type": "code",
   "execution_count": 104,
   "metadata": {
    "id": "Dc6xdtE1U4f5"
   },
   "outputs": [],
   "source": [
    "ks_statistic, p_value = st.kstest(kickstarter.query('country==\"JP\"')['backers'], 'norm')"
   ]
  },
  {
   "cell_type": "code",
   "execution_count": 105,
   "metadata": {
    "id": "kw4tqORqUN9N"
   },
   "outputs": [
    {
     "data": {
      "text/plain": [
       "2.884308735963735e-28"
      ]
     },
     "execution_count": 105,
     "metadata": {},
     "output_type": "execute_result"
    }
   ],
   "source": [
    "p_value"
   ]
  },
  {
   "cell_type": "markdown",
   "metadata": {},
   "source": [
    "<img src='https://avatars.mds.yandex.net/get-zen_doc/4756594/pub_6053204155586b230c35ff53_60533a299b23db779bb57d6f/scale_2400'>"
   ]
  },
  {
   "cell_type": "code",
   "execution_count": 167,
   "metadata": {
    "id": "XEoLwDx-UkaW"
   },
   "outputs": [],
   "source": [
    "results = st.mannwhitneyu(kickstarter.query('state==\"live\"')['backers'],kickstarter.query('state==\"failed\"')['backers'])"
   ]
  },
  {
   "cell_type": "code",
   "execution_count": 168,
   "metadata": {},
   "outputs": [
    {
     "data": {
      "text/plain": [
       "MannwhitneyuResult(statistic=243001121.0, pvalue=1.256180608804107e-28)"
      ]
     },
     "execution_count": 168,
     "metadata": {},
     "output_type": "execute_result"
    }
   ],
   "source": [
    "results"
   ]
  },
  {
   "cell_type": "code",
   "execution_count": 193,
   "metadata": {},
   "outputs": [],
   "source": [
    "results = st.ttest_ind(kickstarter.query('country==\"US\"')['backers'],kickstarter.query('country==\"CH\"')['backers'])"
   ]
  },
  {
   "cell_type": "code",
   "execution_count": 194,
   "metadata": {},
   "outputs": [
    {
     "data": {
      "text/plain": [
       "Ttest_indResult(statistic=0.6919255960085714, pvalue=0.48898460335125526)"
      ]
     },
     "execution_count": 194,
     "metadata": {},
     "output_type": "execute_result"
    }
   ],
   "source": [
    "results"
   ]
  },
  {
   "cell_type": "markdown",
   "metadata": {},
   "source": [
    "## Бутстреп"
   ]
  },
  {
   "cell_type": "code",
   "execution_count": 191,
   "metadata": {},
   "outputs": [],
   "source": [
    "A = kickstarter.query('country==\"US\"')['backers']\n",
    "B = kickstarter.query('country==\"CH\"')['backers']"
   ]
  },
  {
   "cell_type": "code",
   "execution_count": 192,
   "metadata": {},
   "outputs": [
    {
     "name": "stdout",
     "output_type": "stream",
     "text": [
      "p-value = 0.145\n"
     ]
    }
   ],
   "source": [
    "AB_difference = A.mean() - B.mean() \n",
    "\n",
    "\n",
    "alpha = 0.05\n",
    "    \n",
    "state = np.random.RandomState(12345)\n",
    "\n",
    "bootstrap_samples = 1000\n",
    "count = 0\n",
    "for i in range(bootstrap_samples):\n",
    "     \n",
    "    united_samples = pd.concat([A, B]) \n",
    "\n",
    "    # создайте подвыборку\n",
    "    #subsample = united_samples.sample(frac=1, replace=True,random_state=state)\n",
    "    # разбейте подвыборку пополам\n",
    "    subsample_A = A.sample(frac=0.1, replace=True,random_state=state)\n",
    "    subsample_B = B.sample(frac=0.1, replace=True,random_state=state)\n",
    "\n",
    "    # найдите разницу средних\n",
    "    bootstrap_difference = subsample_B.mean() - subsample_A.mean()\n",
    "    \n",
    "    # если разница не меньше фактической, увеличиваем счётчик\n",
    "    if bootstrap_difference >= AB_difference:\n",
    "        count += 1\n",
    "\n",
    "# p-value равно доле превышений значений\n",
    "pvalue = 1. * count / bootstrap_samples\n",
    "print('p-value =', pvalue)\n"
   ]
  },
  {
   "cell_type": "code",
   "execution_count": null,
   "metadata": {},
   "outputs": [],
   "source": []
  }
 ],
 "metadata": {
  "colab": {
   "collapsed_sections": [],
   "name": "Datacamp_day№2.ipynb",
   "provenance": []
  },
  "kernelspec": {
   "display_name": "Python 3",
   "language": "python",
   "name": "python3"
  },
  "language_info": {
   "codemirror_mode": {
    "name": "ipython",
    "version": 3
   },
   "file_extension": ".py",
   "mimetype": "text/x-python",
   "name": "python",
   "nbconvert_exporter": "python",
   "pygments_lexer": "ipython3",
   "version": "3.7.4"
  }
 },
 "nbformat": 4,
 "nbformat_minor": 1
}
